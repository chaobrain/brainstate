{
 "cells": [
  {
   "cell_type": "markdown",
   "id": "ccb44b69f014661a",
   "metadata": {
    "collapsed": false
   },
   "source": [
    "# 随机数生成"
   ]
  },
  {
   "cell_type": "markdown",
   "id": "0c8711bb",
   "metadata": {},
   "source": [
    "``brainstate.random`` 模块实现了伪随机数生成器（PRNGs 或 RNGs），能够从多种概率分布中抽取样本。通常，``brainstate.random`` 的随机数生成语法与 ``numpy.random`` 模块相同。"
   ]
  },
  {
   "cell_type": "code",
   "execution_count": 11,
   "id": "291be32f",
   "metadata": {},
   "outputs": [],
   "source": [
    "import brainstate.random as br\n",
    "import jax.numpy as jnp"
   ]
  },
  {
   "cell_type": "markdown",
   "id": "83abfbd5",
   "metadata": {},
   "source": [
    "## API 概览\n",
    "\n",
    "``brainstate.random`` 模块提供了广泛的函数，用于随机数生成和从概率分布中采样。以下是模块中可用函数的主要类别概览：\n",
    "\n",
    "| 类别              | API 函数                                                                 |\n",
    "|-------------------|-------------------------------------------------------------------------|\n",
    "| 随机采样          | `rand`, `randn`, `randint`, `choice`                                    |\n",
    "| 分布              | `normal`, `uniform`, `binomial`, `poisson`, `beta`, `gamma`, `exponential` |\n",
    "| 随机函数          | `shuffle`, `permutation`                                                |\n",
    "| 随机生成器        | `RandomState`                                                           |\n",
    "\n",
    "本质上，``brainstate.random`` 模块中所有可用的随机函数都来自 ``RandomState`` 类的内置函数。``RandomState`` 是一种 ``brainstate.State``，用于生成随机数。所有随机函数都利用了 ``RandomState`` 的 ``DEFAULT`` 实例。"
   ]
  },
  {
   "cell_type": "code",
   "execution_count": 12,
   "id": "13439631",
   "metadata": {},
   "outputs": [
    {
     "data": {
      "text/plain": [
       "RandomState([2748743916 3653501975])"
      ]
     },
     "execution_count": 12,
     "metadata": {},
     "output_type": "execute_result"
    }
   ],
   "source": [
    "br.DEFAULT"
   ]
  },
  {
   "cell_type": "markdown",
   "id": "16f9c69c",
   "metadata": {},
   "source": [
    "## 随机采样\n",
    "\n",
    "``brainstate.random`` 模块提供了多个函数，用于从不同分布生成随机样本。一些关键函数包括：\n",
    "\n",
    "- **rand**: 从均匀分布 [0, 1) 生成随机样本。\n",
    "- **randn**: 从标准正态分布生成随机样本。\n",
    "- **randint**: 从指定范围内生成随机整数。\n",
    "- **choice**: 从给定的 1-D 数组生成随机样本。\n",
    "- **shuffle**: 就地打乱给定数组的内容。"
   ]
  },
  {
   "cell_type": "code",
   "execution_count": 13,
   "id": "5a057763",
   "metadata": {},
   "outputs": [
    {
     "name": "stdout",
     "output_type": "stream",
     "text": [
      "均匀分布[0, 1)抽样: [0.23806441 0.37631273 0.03012788 0.2106266  0.44865394]\n"
     ]
    }
   ],
   "source": [
    "# 从均匀分布[0, 1)中生成5个随机样本\n",
    "samples = br.rand(5)\n",
    "print(\"均匀分布[0, 1)抽样:\", samples)"
   ]
  },
  {
   "cell_type": "code",
   "execution_count": 14,
   "id": "d1683ccd",
   "metadata": {},
   "outputs": [
    {
     "name": "stdout",
     "output_type": "stream",
     "text": [
      "标准正态分布抽样: [ 0.21461797  2.1674454   2.4225318  -0.2845977  -0.2065504 ]\n"
     ]
    }
   ],
   "source": [
    "# 从标准正态分布生成5个随机样本\n",
    "normal_samples = br.randn(5)\n",
    "print(\"标准正态分布抽样:\", normal_samples)"
   ]
  },
  {
   "cell_type": "code",
   "execution_count": 15,
   "id": "4d079f81",
   "metadata": {},
   "outputs": [
    {
     "name": "stdout",
     "output_type": "stream",
     "text": [
      "随机整数抽样: [7 5 5 1 9]\n"
     ]
    }
   ],
   "source": [
    "# 从指定的均值和标准差生成5个随机样本\n",
    "int_samples = br.randint(0, 10, 5)\n",
    "print(\"随机整数抽样:\", int_samples)"
   ]
  },
  {
   "cell_type": "code",
   "execution_count": 16,
   "id": "f5a198b5",
   "metadata": {},
   "outputs": [
    {
     "name": "stdout",
     "output_type": "stream",
     "text": [
      "给定数组抽样: [1 3 1]\n"
     ]
    }
   ],
   "source": [
    "# 从指定的均值和标准差生成5个随机样本\n",
    "array = [1, 2, 3, 4, 5]\n",
    "choice_sample = br.choice(array, 3)\n",
    "print(\"给定数组抽样:\", choice_sample)"
   ]
  },
  {
   "cell_type": "code",
   "execution_count": 17,
   "id": "e61f72bd",
   "metadata": {},
   "outputs": [
    {
     "name": "stdout",
     "output_type": "stream",
     "text": [
      "打乱数组: [4 5 3 2 1]\n"
     ]
    }
   ],
   "source": [
    "# 从指定的均值和标准差生成5个随机样本\n",
    "array = br.shuffle(jnp.asarray(array))\n",
    "print(\"打乱数组:\", array)"
   ]
  },
  {
   "cell_type": "markdown",
   "id": "c95c954b",
   "metadata": {},
   "source": [
    "## 分布\n",
    "\n",
    "``brainstate.random`` 模块提供了从多种概率分布生成随机样本的函数。一些关键函数包括：\n",
    "\n",
    "- **normal**: 从正态（高斯）分布中抽取样本。\n",
    "- **uniform**: 从均匀分布中抽取样本。\n",
    "- **binomial**: 从二项分布中抽取样本。\n",
    "- **poisson**: 从泊松分布中抽取样本。\n",
    "- **beta**: 从贝塔分布中抽取样本。\n",
    "- **gamma**: 从伽马分布中抽取样本。\n",
    "- **exponential**: 从指数分布中抽取样本。"
   ]
  },
  {
   "cell_type": "code",
   "execution_count": 18,
   "id": "48d12a4d",
   "metadata": {},
   "outputs": [
    {
     "name": "stdout",
     "output_type": "stream",
     "text": [
      "正态分布中抽样: [-0.5899179 -0.7348611 -2.2252216  1.5445366  1.4951557]\n"
     ]
    }
   ],
   "source": [
    "# 从指定的均值0和标准差1的正态分布生成5个随机样本\n",
    "normal_dist_samples = br.normal(0, 1, 5)\n",
    "print(\"正态分布中抽样:\", normal_dist_samples)"
   ]
  },
  {
   "cell_type": "code",
   "execution_count": 19,
   "id": "5f7d7cc2",
   "metadata": {},
   "outputs": [
    {
     "name": "stdout",
     "output_type": "stream",
     "text": [
      "均匀分布抽样: [0.23617887 0.91203773 0.23866749 0.3976258  0.82755375]\n"
     ]
    }
   ],
   "source": [
    "# 从0到1的均匀分布中生成5个随机样本\n",
    "uniform_dist_samples = br.uniform(0, 1, 5)\n",
    "print(\"均匀分布抽样:\", uniform_dist_samples)"
   ]
  },
  {
   "cell_type": "code",
   "execution_count": 20,
   "id": "bab82842",
   "metadata": {},
   "outputs": [
    {
     "name": "stdout",
     "output_type": "stream",
     "text": [
      "二项分布抽样: [4 6 4 6 8]\n"
     ]
    }
   ],
   "source": [
    "# 从指定的n=10和p=0.5的二项分布中生成5个样本\n",
    "# Generate 5 samples from a binomial distribution with n=10 and p=0.5\n",
    "binomial_dist_samples = br.binomial(10, 0.5, 5)\n",
    "print(\"二项分布抽样:\", binomial_dist_samples)"
   ]
  },
  {
   "cell_type": "code",
   "execution_count": 21,
   "id": "dc6ea3eb",
   "metadata": {},
   "outputs": [
    {
     "name": "stdout",
     "output_type": "stream",
     "text": [
      "泊松分布抽样: [4 5 2 2 3]\n"
     ]
    }
   ],
   "source": [
    "# 从指定的lambda=3的泊松分布中生成5个样本\n",
    "poisson_dist_samples = br.poisson(3, 5)\n",
    "print(\"泊松分布抽样:\", poisson_dist_samples)"
   ]
  },
  {
   "cell_type": "markdown",
   "id": "756b93ca",
   "metadata": {},
   "source": [
    "## 随机种子控制\n",
    "\n",
    "``brainstate.random`` 模块提供了控制随机数生成器的种子和内部随机键的函数。一些关键函数包括：\n",
    "\n",
    "- **seed**: 设置随机数生成器的种子。\n",
    "- **set_key**: 设置随机数生成器的内部随机键。"
   ]
  },
  {
   "cell_type": "code",
   "execution_count": 22,
   "id": "33ba4f6d",
   "metadata": {},
   "outputs": [],
   "source": [
    "# 为随机数生成器设置种子\n",
    "br.seed(42)"
   ]
  },
  {
   "cell_type": "code",
   "execution_count": 23,
   "id": "e6280781",
   "metadata": {},
   "outputs": [
    {
     "name": "stdout",
     "output_type": "stream",
     "text": [
      "随机数生成器的状态: [ 0 42]\n"
     ]
    }
   ],
   "source": [
    "# 获取随机数生成器的内部状态\n",
    "state = br.get_key()\n",
    "print(\"随机数生成器的状态:\", state)"
   ]
  },
  {
   "cell_type": "code",
   "execution_count": 24,
   "id": "3d5f0ad0",
   "metadata": {},
   "outputs": [],
   "source": [
    "# 为随机数生成器设置内部状态\n",
    "br.set_key(state)"
   ]
  },
  {
   "cell_type": "markdown",
   "id": "5070cc11",
   "metadata": {},
   "source": [
    "## 随机生成器\n",
    "\n",
    "``brainstate.random`` 模块提供了一个 `RandomState` 类，可用于创建具有自己内部状态的自定义随机数生成器。当你需要在程序的不同运行中以可重复的方式生成随机数时，这非常有用。\n",
    "\n",
    "我们的随机数生成器是确定性序列，可以通过指定种子整数来推导其初始状态。种子可以是任何整数值，相同的种子将始终生成相同的随机数序列。\n",
    "\n",
    "以下是如何使用 `RandomState` 类创建自定义随机数生成器的示例："
   ]
  },
  {
   "cell_type": "code",
   "execution_count": 25,
   "id": "d6498959",
   "metadata": {},
   "outputs": [],
   "source": [
    "# 创建一个自定义的随机数生成器\n",
    "custom_rng = br.RandomState(42)"
   ]
  },
  {
   "cell_type": "code",
   "execution_count": 26,
   "id": "e048816f",
   "metadata": {},
   "outputs": [
    {
     "name": "stdout",
     "output_type": "stream",
     "text": [
      "自定义随机抽样: [-0.55338794  0.944283   -0.74176395 -0.5769758   1.1251862 ]\n"
     ]
    }
   ],
   "source": [
    "# 从自定义的随机数生成器中生成随机样本\n",
    "samples = custom_rng.randn(5)\n",
    "print(\"自定义随机抽样:\", samples)"
   ]
  },
  {
   "cell_type": "code",
   "execution_count": 27,
   "id": "0fb0a1d8",
   "metadata": {},
   "outputs": [],
   "source": [
    "# 为自定义的随机数生成器设置种子\n",
    "custom_rng.seed(123)"
   ]
  },
  {
   "cell_type": "code",
   "execution_count": 28,
   "id": "9541884e",
   "metadata": {},
   "outputs": [
    {
     "name": "stdout",
     "output_type": "stream",
     "text": [
      "设置好种子后的自定义随机抽样: [-1.8925847  -0.8754525   0.12132935  0.40289825  1.0136441 ]\n"
     ]
    }
   ],
   "source": [
    "# 从设定好种子的随机数生成器中生成随机样本\n",
    "samples = custom_rng.randn(5)\n",
    "print(\"设置好种子后的自定义随机抽样:\", samples)"
   ]
  }
 ],
 "metadata": {
  "kernelspec": {
   "display_name": "brainpy-dev",
   "language": "python",
   "name": "python3"
  },
  "language_info": {
   "codemirror_mode": {
    "name": "ipython",
    "version": 3
   },
   "file_extension": ".py",
   "mimetype": "text/x-python",
   "name": "python",
   "nbconvert_exporter": "python",
   "pygments_lexer": "ipython3",
   "version": "3.10.13"
  }
 },
 "nbformat": 4,
 "nbformat_minor": 5
}
