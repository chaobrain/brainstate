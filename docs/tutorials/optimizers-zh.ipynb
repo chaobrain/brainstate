{
 "cells": [
  {
   "cell_type": "markdown",
   "source": [
    "# 随机梯度下降优化器"
   ],
   "metadata": {
    "collapsed": false
   },
   "id": "9bc62c8fdeed7fac"
  },
  {
   "metadata": {},
   "cell_type": "markdown",
   "source": [
    "梯度下降法是机器学习中主流的优化方法。`BrainState`支持常见的梯度下降优化器，包括`SGD`、`Adagrad`、`RMSProp`、`Adam`等。\n",
    "\n",
    "本章节将介绍如何在`BrainState`中调用优化器，以及如何使用`optax`库中提供的优化器。"
   ],
   "id": "da34bb53fc62ab96"
  },
  {
   "metadata": {
    "ExecuteTime": {
     "end_time": "2024-11-07T04:37:29.801005Z",
     "start_time": "2024-11-07T04:37:28.971924Z"
    }
   },
   "cell_type": "code",
   "source": [
    "import jax\n",
    "import jax.numpy as jnp\n",
    "import optax\n",
    "import matplotlib.pyplot as plt\n",
    "import brainstate as bst "
   ],
   "id": "33bc2fd3e3cf2689",
   "outputs": [],
   "execution_count": 1
  },
  {
   "metadata": {},
   "cell_type": "markdown",
   "source": "构建一个简单的神经网络和损失函数。",
   "id": "499a56d87388823c"
  },
  {
   "metadata": {
    "ExecuteTime": {
     "end_time": "2024-11-07T04:37:30.276284Z",
     "start_time": "2024-11-07T04:37:29.802924Z"
    }
   },
   "cell_type": "code",
   "source": [
    "class Model(bst.nn.Module):\n",
    "  def __init__(self):\n",
    "    super().__init__()\n",
    "    self.linear1 = bst.nn.Linear(2, 3)\n",
    "    self.linear2 = bst.nn.Linear(3, 4)\n",
    "  def __call__(self, x):\n",
    "    return self.linear2(self.linear1(x))\n",
    "model = Model()\n",
    "x = bst.random.randn(1, 2)\n",
    "y = jnp.ones((1, 4))"
   ],
   "id": "4fa6cdd7654ee903",
   "outputs": [],
   "execution_count": 2
  },
  {
   "metadata": {},
   "cell_type": "markdown",
   "source": "### 梯度下降优化器",
   "id": "99e8d1ca441ceb23"
  },
  {
   "metadata": {},
   "cell_type": "markdown",
   "source": [
    "通常情况下，优化器接受学习率参数`lr`、可训练权重`weights`和特定优化器的其他超参数。\n",
    "\n",
    "我们以`SGD`优化器作为一个示例："
   ],
   "id": "95312c54739fe1a1"
  },
  {
   "metadata": {
    "ExecuteTime": {
     "end_time": "2024-11-07T04:37:30.374415Z",
     "start_time": "2024-11-07T04:37:30.364381Z"
    }
   },
   "cell_type": "code",
   "source": [
    "opt0 = bst.optim.SGD(lr=0.01) # SGD 初始化 lr\n",
    "opt0.register_trainable_weights(model.states(bst.ParamState)) # SGD 注册可训练权重"
   ],
   "id": "b557862d29c86743",
   "outputs": [],
   "execution_count": 3
  },
  {
   "metadata": {
    "ExecuteTime": {
     "end_time": "2024-11-07T04:37:30.385258Z",
     "start_time": "2024-11-07T04:37:30.380778Z"
    }
   },
   "cell_type": "code",
   "source": [
    "def train(opt,loss_fn):\n",
    "  grads = bst.augment.grad(loss_fn, model.states(bst.ParamState))()\n",
    "  opt.update(grads)"
   ],
   "id": "b38ae1c103e06110",
   "outputs": [],
   "execution_count": 4
  },
  {
   "metadata": {
    "ExecuteTime": {
     "end_time": "2024-11-07T04:37:30.467623Z",
     "start_time": "2024-11-07T04:37:30.393545Z"
    }
   },
   "cell_type": "code",
   "source": [
    "#初始损失\n",
    "loss_fn = lambda: ((model(x) - y) ** 2).mean()\n",
    "loss_fn()"
   ],
   "id": "bc0c0391d68d0b6f",
   "outputs": [
    {
     "data": {
      "text/plain": [
       "Array(2.258918, dtype=float32)"
      ]
     },
     "execution_count": 5,
     "metadata": {},
     "output_type": "execute_result"
    }
   ],
   "execution_count": 5
  },
  {
   "metadata": {
    "ExecuteTime": {
     "end_time": "2024-11-07T04:37:30.700903Z",
     "start_time": "2024-11-07T04:37:30.485910Z"
    }
   },
   "cell_type": "code",
   "source": [
    "#单次反向传播\n",
    "train(opt0,loss_fn)\n",
    "loss_fn()"
   ],
   "id": "a0f47ddf733bd12f",
   "outputs": [
    {
     "data": {
      "text/plain": [
       "Array(2.127218, dtype=float32)"
      ]
     },
     "execution_count": 6,
     "metadata": {},
     "output_type": "execute_result"
    }
   ],
   "execution_count": 6
  },
  {
   "metadata": {},
   "cell_type": "markdown",
   "source": [
    "\n",
    "\n",
    "`lr`接受 `float`、`state`和 `LearningRateScheduler` 三种类型的实例。 当接受 `float`和 `state`的实例时，它将被转成`ConstantLR`的实例，`ConstantLR`是一种输出为常值的调度器。实际上,`lr`的类型是调度器。\n",
    "\n",
    "调度器会根据时间调整返回的学习率值, 常见的调整方法包括指数衰减`ExponentialLR`、阶跃衰减`StepLR`、余弦退火衰减`CosineAnnealingLR`等.\n",
    "\n",
    "下面给出一个调度器的示例："
   ],
   "id": "3e919ea505937528"
  },
  {
   "metadata": {
    "ExecuteTime": {
     "end_time": "2024-11-07T04:37:30.720901Z",
     "start_time": "2024-11-07T04:37:30.717368Z"
    }
   },
   "cell_type": "code",
   "source": "lr = bst.optim.ExponentialDecayLR(lr=0.1, decay_steps=2, decay_rate=0.99) # 调度器接受初始学习率lr和其他超参数",
   "id": "18c7c7460576d2fb",
   "outputs": [],
   "execution_count": 7
  },
  {
   "metadata": {
    "ExecuteTime": {
     "end_time": "2024-11-07T04:37:30.736313Z",
     "start_time": "2024-11-07T04:37:30.726503Z"
    }
   },
   "cell_type": "code",
   "source": [
    "def show(steps, rates):\n",
    "    plt.plot(steps, rates)\n",
    "    plt.xlabel('Train Step')\n",
    "    plt.ylabel('Learning Rate')\n",
    "    plt.show()"
   ],
   "id": "d8c3609346a577b0",
   "outputs": [],
   "execution_count": 8
  },
  {
   "metadata": {
    "ExecuteTime": {
     "end_time": "2024-11-07T04:37:30.845628Z",
     "start_time": "2024-11-07T04:37:30.741884Z"
    }
   },
   "cell_type": "code",
   "source": [
    "steps = jnp.arange(1000)\n",
    "rates = lr(steps)\n",
    "\n",
    "show(steps, rates)"
   ],
   "id": "3ffa5adda2c7d052",
   "outputs": [
    {
     "data": {
      "text/plain": [
       "<Figure size 640x480 with 1 Axes>"
      ],
      "image/png": "[encoded data removed]"
     },
     "metadata": {},
     "output_type": "display_data"
    }
   ],
   "execution_count": 9
  },
  {
   "metadata": {
    "ExecuteTime": {
     "end_time": "2024-11-07T04:37:30.857187Z",
     "start_time": "2024-11-07T04:37:30.853396Z"
    }
   },
   "cell_type": "code",
   "source": [
    "#输出lr类型\n",
    "lr"
   ],
   "id": "29b366ebdd970ee9",
   "outputs": [
    {
     "data": {
      "text/plain": [
       "ExponentialDecayLR(\n",
       "  last_epoch=LongTermState(\n",
       "    value=Array(-1, dtype=int32)\n",
       "  ),\n",
       "  last_call=LongTermState(\n",
       "    value=Array(-1, dtype=int32)\n",
       "  ),\n",
       "  decay_steps=2,\n",
       "  decay_rate=0.99\n",
       ")"
      ]
     },
     "execution_count": 10,
     "metadata": {},
     "output_type": "execute_result"
    }
   ],
   "execution_count": 10
  },
  {
   "metadata": {},
   "cell_type": "markdown",
   "source": "`Scheduler.__call__(i=None)`可以计算当前学习率，若不提供`i`,则输出初始学习率，否则计算第`i`时刻的学习率。",
   "id": "4dc6287e5e1fd40"
  },
  {
   "metadata": {
    "ExecuteTime": {
     "end_time": "2024-11-07T04:37:30.914125Z",
     "start_time": "2024-11-07T04:37:30.876744Z"
    }
   },
   "cell_type": "code",
   "source": [
    "#输出lr的初始学习率\n",
    "lr()"
   ],
   "id": "cc103899b1eda04d",
   "outputs": [
    {
     "data": {
      "text/plain": [
       "Array(0.1, dtype=float32)"
      ]
     },
     "execution_count": 11,
     "metadata": {},
     "output_type": "execute_result"
    }
   ],
   "execution_count": 11
  },
  {
   "metadata": {},
   "cell_type": "markdown",
   "source": "### 如何使用`optax`库\n",
   "id": "81c950ba8278acb8"
  },
  {
   "metadata": {},
   "cell_type": "markdown",
   "source": [
    "`optax`库是一个由`DeepMind`开发、基于`JAX`框架构建的`python`库，为深度学习和大规模机器学习提供高效的梯度优化算法。`optax`提供一系列预定义的优化器、调度器和损失函数，允许用户自定义复杂的优化规则，可以轻松组合和实验不同的优化策略。\n",
    "\n",
    "`BrainState`提供`brainstate.optim.optaxoptimizer`函数，能够将`optax`的优化器实例转化成基于`state`的实例。\n"
   ],
   "id": "dbf5a52569a1d071"
  },
  {
   "metadata": {
    "ExecuteTime": {
     "end_time": "2024-11-07T04:37:31.224271Z",
     "start_time": "2024-11-07T04:37:30.923779Z"
    }
   },
   "cell_type": "code",
   "source": [
    "optax1 = optax.adam(0.001)\n",
    "opt1 = bst.optim.OptaxOptimizer(optax1)\n",
    "opt1.register_trainable_weights(model.states(bst.ParamState))\n",
    "train(opt1,loss_fn)\n",
    "loss_fn()"
   ],
   "id": "13cab76c469dbbcf",
   "outputs": [
    {
     "data": {
      "text/plain": [
       "Array(2.1127987, dtype=float32)"
      ]
     },
     "execution_count": 12,
     "metadata": {},
     "output_type": "execute_result"
    }
   ],
   "execution_count": 12
  },
  {
   "metadata": {},
   "cell_type": "markdown",
   "source": "我们还可以自由定义优化器，并调用`optax`提供的损失函数。",
   "id": "1ed453a4f185e23a"
  },
  {
   "metadata": {
    "ExecuteTime": {
     "end_time": "2024-11-07T04:37:31.341241Z",
     "start_time": "2024-11-07T04:37:31.302238Z"
    }
   },
   "cell_type": "code",
   "source": [
    "optax2 = optax.chain(\n",
    "    optax.scale(-0.1),\n",
    "    optax.scale_by_adam()\n",
    ")\n",
    "opt2 = bst.optim.OptaxOptimizer(optax2)\n",
    "opt2.register_trainable_weights(model.states(bst.ParamState))\n",
    "\n",
    "loss_fn = lambda: optax.losses.l2_loss(model(x),y).mean()\n",
    "train(opt2,loss_fn)\n",
    "loss_fn()"
   ],
   "id": "bc1eefc3e03ed6a8",
   "outputs": [
    {
     "data": {
      "text/plain": [
       "Array(6.7668295, dtype=float32)"
      ]
     },
     "execution_count": 13,
     "metadata": {},
     "output_type": "execute_result"
    }
   ],
   "execution_count": 13
  }
 ],
 "metadata": {
  "kernelspec": {
   "display_name": "Python 3",
   "language": "python",
   "name": "python3"
  },
  "language_info": {
   "codemirror_mode": {
    "name": "ipython",
    "version": 2
   },
   "file_extension": ".py",
   "mimetype": "text/x-python",
   "name": "python",
   "nbconvert_exporter": "python",
   "pygments_lexer": "ipython2",
   "version": "2.7.6"
  }
 },
 "nbformat": 4,
 "nbformat_minor": 5
}
