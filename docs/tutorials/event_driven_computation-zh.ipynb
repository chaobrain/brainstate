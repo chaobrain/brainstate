{
 "cells": [
  {
   "cell_type": "markdown",
   "id": "275795ad",
   "metadata": {},
   "source": "# 事件驱动计算"
  },
  {
   "cell_type": "markdown",
   "id": "1e929cb9",
   "metadata": {},
   "source": [
    "事件驱动是类脑仿真计算模型有别于其他传统计算模型的重要特征，大脑的神经元只有在接收脉冲事件后才会被激活并计算，每个时刻需要计算的神经元集合可以被看做一个稀疏向量，这意味着传统矩阵乘法的方式已不适用于计算神经元的发放过程。\n",
    "\n",
    "![](../_static/dense-mv-vs-event-spmv.png)\n",
    "\n",
    "BrainState对事件驱动这一特性提供了专门的算子优化，使得模型在处理稀疏数据的情况下，能够大幅度减少计算资源的使用并提高速度。同时BrainState为神经元之间的突触连接提供几种连接方式，以下是相关的示例。"
   ]
  },
  {
   "cell_type": "code",
   "id": "initial_id",
   "metadata": {
    "collapsed": true,
    "ExecuteTime": {
     "end_time": "2024-11-06T03:57:04.343983Z",
     "start_time": "2024-11-06T03:57:04.340799Z"
    }
   },
   "source": [
    "import jax\n",
    "import jax.numpy as jnp\n",
    "\n",
    "import brainstate"
   ],
   "outputs": [],
   "execution_count": 5
  },
  {
   "cell_type": "markdown",
   "id": "7543a2e0",
   "metadata": {},
   "source": [
    "### 1.固定概率连接"
   ]
  },
  {
   "cell_type": "markdown",
   "id": "c980dc77",
   "metadata": {},
   "source": [
    "有些时候我们并不知道神经元之间的具体连接，但我们知道对于每个突触前神经元，它连接突触后神经元群体有一个固定的概率。\n",
    "\n",
    "`BrainState`提供类`brainstate.event.FixedProb`来定义这种连接过程。\n",
    "\n",
    "类`brainstate.event.FixedProb`接受以下参数：\n",
    "- `n_pre`: 突触前神经元的数量\n",
    "- `n_post`: 突触后神经元的数量\n",
    "- `prob`: 每个突触前神经元与突触后神经元连接的固定概率\n",
    "- `weight`: 最大突触电导，接受单个浮点数、数组或者函数，支持标量和物理量\n",
    "- `allow_multi_conn`: 突触前神经元能否与同一个突触后神经元有多个链接，默认值`True`\n",
    "- `seed`:  随机生成种子，默认值`None`\n",
    "- `name`: 模块名称，默认值`None`\n",
    "- `grad_mode`: 自动微分方法，默认值`vjp`\n"
   ]
  },
  {
   "cell_type": "code",
   "id": "4d51c68b",
   "metadata": {
    "ExecuteTime": {
     "end_time": "2024-11-06T03:57:06.685321Z",
     "start_time": "2024-11-06T03:57:06.532544Z"
    }
   },
   "source": [
    "# pre-synaptic spikes, 10000 neurons, 1% sparsity\n",
    "pre_spikes = brainstate.random.rand(10000) < 0.01"
   ],
   "outputs": [],
   "execution_count": 6
  },
  {
   "cell_type": "code",
   "id": "e737195d",
   "metadata": {
    "ExecuteTime": {
     "end_time": "2024-11-06T03:57:09.075940Z",
     "start_time": "2024-11-06T03:57:08.921320Z"
    }
   },
   "source": [
    "# dense weight matrix, 10000x1000, 1% sparsity\n",
    "dense_w = (brainstate.random.rand(10000, 1000) < 0.01).astype(float)\n",
    "\n",
    "# event-driven weight matrix, 10000x1000, 1% sparsity\n",
    "fp = jax.jit(brainstate.event.FixedProb(10000, 1000, 0.01, 1.))"
   ],
   "outputs": [],
   "execution_count": 7
  },
  {
   "cell_type": "code",
   "id": "7a2ef275",
   "metadata": {
    "ExecuteTime": {
     "end_time": "2024-11-06T03:57:12.243969Z",
     "start_time": "2024-11-06T03:57:10.456137Z"
    }
   },
   "source": [
    "# 先编译运行一次，随后测平均运行时间\n",
    "jnp.dot(pre_spikes, dense_w)\n",
    "%timeit -n 100 -r 10 jnp.dot(pre_spikes, dense_w)\n",
    "\n",
    "fp(pre_spikes)\n",
    "%timeit -n 100 -r 10 fp(pre_spikes)"
   ],
   "outputs": [
    {
     "name": "stdout",
     "output_type": "stream",
     "text": [
      "1.28 ms ± 228 μs per loop (mean ± std. dev. of 10 runs, 100 loops each)\n",
      "409 μs ± 4.73 μs per loop (mean ± std. dev. of 10 runs, 100 loops each)\n"
     ]
    }
   ],
   "execution_count": 8
  },
  {
   "cell_type": "markdown",
   "id": "e57d5fe4",
   "metadata": {},
   "source": [
    "### 2.全连接"
   ]
  },
  {
   "cell_type": "markdown",
   "id": "abe5d60d",
   "metadata": {},
   "source": [
    "神经元之间的突触连接是一个密集矩阵。\n",
    "\n",
    "`BrainState`提供类`brainstate.event.Linear`来定义这种连接过程。\n",
    "\n",
    "类`brainstate.event.Linear`接受以下参数：\n",
    "- `n_pre`: 突触前神经元的数量\n",
    "- `n_post`: 突触后神经元的数量\n",
    "- `weight`: 最大突触电导，接受单个浮点数、数组或者函数，支持标量和物理量\n",
    "- `name`: 模块名称，默认值`None`\n",
    "- `grad_mode`: 自动微分方法，默认值`vjp`"
   ]
  },
  {
   "cell_type": "code",
   "id": "26038c83",
   "metadata": {
    "ExecuteTime": {
     "end_time": "2024-11-06T03:57:14.083476Z",
     "start_time": "2024-11-06T03:57:14.068891Z"
    }
   },
   "source": [
    "# dense weight matrix, 10000x1000 \n",
    "dense_w = brainstate.random.rand(10000, 1000).astype(float)\n",
    "\n",
    "# event-driven weight matrix, 10000x1000\n",
    "fp = jax.jit(brainstate.event.Linear(10000, 1000, dense_w))"
   ],
   "outputs": [],
   "execution_count": 9
  },
  {
   "cell_type": "code",
   "id": "681cad35",
   "metadata": {
    "ExecuteTime": {
     "end_time": "2024-11-06T03:57:17.353418Z",
     "start_time": "2024-11-06T03:57:15.328233Z"
    }
   },
   "source": [
    "# 先编译运行一次，随后测平均运行时间\n",
    "jnp.dot(pre_spikes, dense_w)\n",
    "%timeit -n 100 -r 10 jnp.dot(pre_spikes, dense_w)\n",
    "\n",
    "fp(pre_spikes)\n",
    "%timeit -n 100 -r 10 fp(pre_spikes)"
   ],
   "outputs": [
    {
     "name": "stdout",
     "output_type": "stream",
     "text": [
      "1.33 ms ± 335 μs per loop (mean ± std. dev. of 10 runs, 100 loops each)\n",
      "390 μs ± 38.5 μs per loop (mean ± std. dev. of 10 runs, 100 loops each)\n"
     ]
    }
   ],
   "execution_count": 10
  },
  {
   "cell_type": "markdown",
   "id": "e4672017",
   "metadata": {},
   "source": [
    "### 3.稀疏矩阵连接"
   ]
  },
  {
   "cell_type": "markdown",
   "id": "b70b7c66",
   "metadata": {},
   "source": [
    "大部分情况下，神经元之间的突触连接是一个稀疏矩阵，`CSR`格式是存储稀疏矩阵的一种常见格式，其表示形式如下图：\n",
    "\n",
    "![](../_static/csr_matrix.png)\n",
    "\n",
    "`CSR`格式由三个Numpy数组组成：`indices`, `indptr`, `values`:\n",
    "- `indices`: 记录矩阵每个非零元素的列坐标，先按行排序，再按列排序\n",
    "- `indptr`: 长度为`row+1`, `indptr[i]`表示第i行非零元素在`indices`上的起始位置\n",
    "- `values`: 记录`indices`数组对应非零元素的值\n"
   ]
  },
  {
   "cell_type": "markdown",
   "id": "1dca7a8c",
   "metadata": {},
   "source": [
    "BrainState提供类`brainstate.event.CSRLinear`来定义这种连接过程。\n",
    "\n",
    "类`brainstate.event.CSRLinear`接受以下参数：\n",
    "- `n_pre`: 突触前神经元的数量\n",
    "- `n_post`: 突触后神经元的数量\n",
    "- `indptr`: 稀疏矩阵CSR格式的`indptr`数组\n",
    "- `indices`: 稀疏矩阵CSR格式的`indices`数组\n",
    "- `weight`: 最大突触电导，接受单个浮点数、数组或者函数，支持标量和物理量\n",
    "- `name`: 模块名称，默认值`None`\n",
    "- `grad_mode`: 自动微分方法，默认值`vjp`"
   ]
  },
  {
   "cell_type": "code",
   "id": "149b3fdd",
   "metadata": {
    "ExecuteTime": {
     "end_time": "2024-11-06T03:57:21.188796Z",
     "start_time": "2024-11-06T03:57:20.152947Z"
    }
   },
   "source": [
    "# dense weight matrix, 10000x10000, 0.01% sparsity\n",
    "dense_w = (brainstate.random.rand(10000, 10000) < 0.0001).astype(float)\n",
    "\n",
    "# event-driven weight matrix, 10000x1000, 0.01% sparsity, CSR format\n",
    "from scipy.sparse import csr_matrix\n",
    "\n",
    "csr = csr_matrix(dense_w)\n",
    "fp = jax.jit(brainstate.event.CSRLinear(10000, 10000, csr.indptr, csr.indices, csr.data))"
   ],
   "outputs": [],
   "execution_count": 11
  },
  {
   "cell_type": "code",
   "id": "459fd1a5",
   "metadata": {
    "ExecuteTime": {
     "end_time": "2024-11-06T03:57:39.116688Z",
     "start_time": "2024-11-06T03:57:22.381896Z"
    }
   },
   "source": [
    "# 先编译运行一次，随后测平均运行时间\n",
    "jnp.dot(pre_spikes, dense_w)\n",
    "%timeit -n 100 -r 10 jnp.dot(pre_spikes, dense_w)\n",
    "\n",
    "fp(pre_spikes)\n",
    "%timeit -n 100 -r 10 fp(pre_spikes)"
   ],
   "outputs": [
    {
     "name": "stdout",
     "output_type": "stream",
     "text": [
      "13.5 ms ± 975 μs per loop (mean ± std. dev. of 10 runs, 100 loops each)\n",
      "3.18 ms ± 922 μs per loop (mean ± std. dev. of 10 runs, 100 loops each)\n"
     ]
    }
   ],
   "execution_count": 12
  },
  {
   "cell_type": "markdown",
   "id": "534c5ee3",
   "metadata": {},
   "source": [
    "### 4.突触权重"
   ]
  },
  {
   "cell_type": "markdown",
   "id": "ec508751",
   "metadata": {},
   "source": [
    "在建模突触连接时，`weight`参数接受单个浮点数、数组或者函数，支持标量和物理量。\n",
    "\n",
    "如果传入`weight`的是一个浮点数，说明所有突触权重相同，存储单个浮点数可以极大程度节省内存空间。\n",
    "\n",
    "如果传入`weight`的是一个数组，则要保证数组能够与连接矩阵对齐，即数组与连接矩阵大小相同，或者连接矩阵能被完美切分成多个数组。\n",
    "\n",
    "如果传入`weight`的是一个函数，则会在`init`阶段生成连接矩阵大小的权重矩阵。\n",
    "\n",
    "引用`BrainUnit`库后，`BrainState`能够支持物理量输入和计算。"
   ]
  },
  {
   "cell_type": "code",
   "execution_count": null,
   "id": "783a72a8",
   "metadata": {},
   "outputs": [],
   "source": []
  }
 ],
 "metadata": {
  "kernelspec": {
   "display_name": "env1",
   "language": "python",
   "name": "python3"
  },
  "language_info": {
   "codemirror_mode": {
    "name": "ipython",
    "version": 3
   },
   "file_extension": ".py",
   "mimetype": "text/x-python",
   "name": "python",
   "nbconvert_exporter": "python",
   "pygments_lexer": "ipython3",
   "version": "3.9.13"
  }
 },
 "nbformat": 4,
 "nbformat_minor": 5
}
