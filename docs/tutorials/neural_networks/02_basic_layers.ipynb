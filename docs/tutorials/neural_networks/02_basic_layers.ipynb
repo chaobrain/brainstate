{
 "cells": [
  {
   "cell_type": "markdown",
   "id": "intro",
   "metadata": {},
   "source": [
    "# Basic Neural Network Layers\n",
    "\n",
    "BrainState provides a comprehensive set of pre-built layers for building neural networks. This tutorial covers the essential building blocks.\n",
    "\n",
    "You will learn about:\n",
    "\n",
    "- 📏 **Linear layers** - Fully connected transformations\n",
    "- 🔲 **Convolutional layers** - Spatial feature extraction (1D, 2D, 3D)\n",
    "- 🏊 **Pooling layers** - Downsampling operations\n",
    "- 💧 **Dropout layers** - Regularization techniques\n",
    "- 🔧 **Utility layers** - Flatten, reshape, and more\n",
    "\n",
    "These layers are optimized, well-tested, and ready to use in your models!"
   ]
  },
  {
   "cell_type": "code",
   "id": "imports",
   "metadata": {
    "ExecuteTime": {
     "end_time": "2025-10-10T11:19:10.845851Z",
     "start_time": "2025-10-10T11:19:10.842648Z"
    }
   },
   "source": [
    "\n",
    "import brainstate\n",
    "from brainstate import environ\n",
    "import brainunit as u\n",
    "import jax.numpy as jnp\n",
    "import matplotlib.pyplot as plt\n",
    "import numpy as np\n"
   ],
   "outputs": [],
   "execution_count": 7
  },
  {
   "cell_type": "markdown",
   "id": "linear_layers",
   "metadata": {},
   "source": [
    "\n",
    "## 1. Linear (Fully Connected) Layers\n",
    "\n",
    "Linear layers perform the transformation: **y = Wx + b**.\n",
    "\n",
    "BrainState linear modules expect feature shapes as tuples so they can validate tensor shapes. For example, use `Linear(in_size=(10,), out_size=(5,))`.\n",
    "\n",
    "### Basic Usage\n"
   ]
  },
  {
   "cell_type": "code",
   "id": "linear_basic",
   "metadata": {
    "ExecuteTime": {
     "end_time": "2025-10-10T11:19:10.904433Z",
     "start_time": "2025-10-10T11:19:10.880635Z"
    }
   },
   "source": [
    "\n",
    "# Create a linear layer\n",
    "brainstate.random.seed(42)\n",
    "linear = brainstate.nn.Linear(in_size=(10,), out_size=(5,))\n",
    "\n",
    "print(\"Linear Layer:\")\n",
    "print(linear)\n",
    "print(f\"Weight shape: {linear.weight.value['weight'].shape}\")\n",
    "print(f\"Bias shape: {linear.weight.value['bias'].shape}\")\n",
    "\n",
    "# Forward pass\n",
    "x = brainstate.random.randn(10)\n",
    "y = linear(x)\n",
    "\n",
    "print(f\"Input shape: {x.shape}\")\n",
    "print(f\"Output shape: {y.shape}\")\n",
    "print(f\"Output: {y}\")\n"
   ],
   "outputs": [
    {
     "name": "stdout",
     "output_type": "stream",
     "text": [
      "Linear Layer:\n",
      "Linear(\n",
      "  in_size=(10,),\n",
      "  out_size=(5,),\n",
      "  w_mask=None,\n",
      "  weight=ParamState(\n",
      "    value={\n",
      "      'bias': ShapedArray(float32[5]),\n",
      "      'weight': ShapedArray(float32[10,5])\n",
      "    }\n",
      "  )\n",
      ")\n",
      "Weight shape: (10, 5)\n",
      "Bias shape: (5,)\n",
      "Input shape: (10,)\n",
      "Output shape: (5,)\n",
      "Output: [ 0.24681929  1.2860886  -1.6367221   0.29457197 -0.9486235 ]\n"
     ]
    }
   ],
   "execution_count": 8
  },
  {
   "cell_type": "markdown",
   "id": "linear_batch",
   "metadata": {},
   "source": [
    "### Batch Processing\n",
    "\n",
    "Linear layers automatically handle batched inputs:"
   ]
  },
  {
   "cell_type": "code",
   "id": "linear_batched",
   "metadata": {
    "ExecuteTime": {
     "end_time": "2025-10-10T11:19:10.918312Z",
     "start_time": "2025-10-10T11:19:10.911619Z"
    }
   },
   "source": [
    "# Batched input: (batch_size, features)\n",
    "x_batch = brainstate.random.randn(32, 10)  # 32 samples, 10 features each\n",
    "y_batch = linear(x_batch)\n",
    "\n",
    "print(f\"Batched input shape: {x_batch.shape}\")\n",
    "print(f\"Batched output shape: {y_batch.shape}\")\n",
    "\n",
    "# Works with arbitrary batch dimensions\n",
    "x_multi = brainstate.random.randn(8, 4, 10)  # (batch1, batch2, features)\n",
    "y_multi = linear(x_multi)\n",
    "\n",
    "print(f\"\\nMulti-batch input: {x_multi.shape}\")\n",
    "print(f\"Multi-batch output: {y_multi.shape}\")"
   ],
   "outputs": [
    {
     "name": "stdout",
     "output_type": "stream",
     "text": [
      "Batched input shape: (32, 10)\n",
      "Batched output shape: (32, 5)\n",
      "\n",
      "Multi-batch input: (8, 4, 10)\n",
      "Multi-batch output: (8, 4, 5)\n"
     ]
    }
   ],
   "execution_count": 9
  },
  {
   "cell_type": "markdown",
   "id": "linear_variants",
   "metadata": {},
   "source": [
    "\n",
    "### Linear Layer Variants\n",
    "\n",
    "BrainState provides specialized linear layers:\n",
    "\n",
    "- `ScaledWSLinear` applies weight standardization for stable training.\n",
    "- `LoRA` adds low-rank adapters to an existing projection.\n",
    "- `SparseLinear` consumes a `brainunit.sparse` matrix so you can encode custom connectivity patterns.\n"
   ]
  },
  {
   "cell_type": "code",
   "id": "linear_sparse",
   "metadata": {
    "ExecuteTime": {
     "end_time": "2025-10-10T11:19:11.530154Z",
     "start_time": "2025-10-10T11:19:10.951013Z"
    }
   },
   "source": [
    "\n",
    "# SparseLinear: For sparse connectivity\n",
    "brainstate.random.seed(0)\n",
    "dense_weight = brainstate.random.rand(100, 50)\n",
    "sparsity_mask = brainstate.random.rand(100, 50) < 0.1\n",
    "sparse_matrix = u.sparse.CSR.fromdense(dense_weight * sparsity_mask)\n",
    "sparse_linear = brainstate.nn.SparseLinear(sparse_matrix, in_size=(100,))\n",
    "\n",
    "print(\"Sparse Linear Layer:\")\n",
    "print(sparse_linear)\n",
    "\n",
    "x = brainstate.random.rand(100)\n",
    "y = sparse_linear(x)\n",
    "print(f\"Input: {x.shape} → Output: {y.shape}\")\n"
   ],
   "outputs": [
    {
     "name": "stdout",
     "output_type": "stream",
     "text": [
      "Sparse Linear Layer:\n",
      "SparseLinear(\n",
      "  in_size=(100,),\n",
      "  out_size=(50,),\n",
      "  spar_mat=CSR(float32[100, 50], nse=485),\n",
      "  weight=ParamState(\n",
      "    value={\n",
      "      'weight': ShapedArray(float32[485])\n",
      "    }\n",
      "  )\n",
      ")\n",
      "Input: (100,) → Output: (50,)\n"
     ]
    }
   ],
   "execution_count": 10
  },
  {
   "cell_type": "markdown",
   "id": "conv_layers",
   "metadata": {},
   "source": [
    "\n",
    "## 2. Convolutional Layers\n",
    "\n",
    "Convolutional layers extract spatial features using learnable filters. Supply the expected input shape (without the batch dimension) via `in_size` so each layer can initialize weights and validate its inputs.\n",
    "\n",
    "### Conv1d - 1D Convolution\n",
    "\n",
    "Used for sequential data (time series, audio, text):\n"
   ]
  },
  {
   "cell_type": "code",
   "id": "conv1d",
   "metadata": {
    "ExecuteTime": {
     "end_time": "2025-10-10T11:19:11.951184Z",
     "start_time": "2025-10-10T11:19:11.535147Z"
    }
   },
   "source": [
    "\n",
    "# Conv1d: (batch, length, in_channels) → (batch, length, out_channels)\n",
    "brainstate.random.seed(0)\n",
    "conv1d = brainstate.nn.Conv1d(\n",
    "    in_size=(100, 3),\n",
    "    out_channels=16,\n",
    "    kernel_size=3,\n",
    "    padding='SAME'\n",
    ")\n",
    "\n",
    "print(\"Conv1d Layer:\")\n",
    "print(conv1d)\n",
    "\n",
    "# Input: (batch=4, length=100, channels=3)\n",
    "x = brainstate.random.randn(4, 100, 3)\n",
    "y = conv1d(x)\n",
    "\n",
    "print(f\"Input shape: {x.shape}\")\n",
    "print(f\"Output shape: {y.shape}\")\n",
    "print(f\"Kernel shape: {conv1d.weight.value['weight'].shape}\")\n"
   ],
   "outputs": [
    {
     "name": "stdout",
     "output_type": "stream",
     "text": [
      "Conv1d Layer:\n",
      "Conv1d(\n",
      "  in_size=(100, 3),\n",
      "  out_size=(100, 16),\n",
      "  channel_first=False,\n",
      "  channels_last=True,\n",
      "  in_channels=3,\n",
      "  out_channels=16,\n",
      "  stride=(1,),\n",
      "  kernel_size=(3,),\n",
      "  lhs_dilation=(1,),\n",
      "  rhs_dilation=(1,),\n",
      "  groups=1,\n",
      "  dimension_numbers=ConvDimensionNumbers(lhs_spec=(0, 2, 1), rhs_spec=(2, 1, 0), out_spec=(0, 2, 1)),\n",
      "  padding=SAME,\n",
      "  kernel_shape=(3, 3, 16),\n",
      "  w_mask=None,\n",
      "  w_initializer=XavierNormal(\n",
      "    scale=1.0,\n",
      "    mode='fan_avg',\n",
      "    in_axis=-2,\n",
      "    out_axis=-1,\n",
      "    distribution='truncated_normal',\n",
      "    rng=RandomState([1797259609 2579123966]),\n",
      "    unit=Unit(10.0^0)\n",
      "  ),\n",
      "  b_initializer=None,\n",
      "  weight=ParamState(\n",
      "    value={\n",
      "      'weight': ShapedArray(float32[3,3,16])\n",
      "    }\n",
      "  )\n",
      ")\n",
      "Input shape: (4, 100, 3)\n",
      "Output shape: (4, 100, 16)\n",
      "Kernel shape: (3, 3, 16)\n"
     ]
    }
   ],
   "execution_count": 11
  },
  {
   "cell_type": "markdown",
   "id": "conv2d",
   "metadata": {},
   "source": [
    "### Conv2d - 2D Convolution\n",
    "\n",
    "The workhorse for image processing:"
   ]
  },
  {
   "cell_type": "code",
   "id": "conv2d_basic",
   "metadata": {
    "ExecuteTime": {
     "end_time": "2025-10-10T11:19:12.395875Z",
     "start_time": "2025-10-10T11:19:11.956566Z"
    }
   },
   "source": [
    "\n",
    "# Conv2d: (batch, height, width, in_channels) → (batch, height, width, out_channels)\n",
    "conv2d = brainstate.nn.Conv2d(\n",
    "    in_size=(28, 28, 3),      # (height, width, channels)\n",
    "    out_channels=32,          # 32 feature maps\n",
    "    kernel_size=(3, 3),       # 3x3 kernel\n",
    "    stride=(1, 1),            # Stride of 1\n",
    "    padding='SAME'\n",
    ")\n",
    "\n",
    "print(\"Conv2d Layer:\")\n",
    "print(conv2d)\n",
    "\n",
    "# Input: (batch=8, height=28, width=28, channels=3)\n",
    "x_image = brainstate.random.randn(8, 28, 28, 3)\n",
    "y_image = conv2d(x_image)\n",
    "\n",
    "print(f\"Input shape: {x_image.shape}\")\n",
    "print(f\"Output shape: {y_image.shape}\")\n",
    "print(f\"Kernel shape: {conv2d.weight.value['weight'].shape}\")\n"
   ],
   "outputs": [
    {
     "name": "stdout",
     "output_type": "stream",
     "text": [
      "Conv2d Layer:\n",
      "Conv2d(\n",
      "  in_size=(28, 28, 3),\n",
      "  out_size=(28, 28, 32),\n",
      "  channel_first=False,\n",
      "  channels_last=True,\n",
      "  in_channels=3,\n",
      "  out_channels=32,\n",
      "  stride=(1, 1),\n",
      "  kernel_size=(3, 3),\n",
      "  lhs_dilation=(1, 1),\n",
      "  rhs_dilation=(1, 1),\n",
      "  groups=1,\n",
      "  dimension_numbers=ConvDimensionNumbers(lhs_spec=(0, 3, 1, 2), rhs_spec=(3, 2, 0, 1), out_spec=(0, 3, 1, 2)),\n",
      "  padding=SAME,\n",
      "  kernel_shape=(3, 3, 3, 32),\n",
      "  w_mask=None,\n",
      "  w_initializer=XavierNormal(\n",
      "    scale=1.0,\n",
      "    mode='fan_avg',\n",
      "    in_axis=-2,\n",
      "    out_axis=-1,\n",
      "    distribution='truncated_normal',\n",
      "    rng=RandomState([ 683029726 1624662641]),\n",
      "    unit=Unit(10.0^0)\n",
      "  ),\n",
      "  b_initializer=None,\n",
      "  weight=ParamState(\n",
      "    value={\n",
      "      'weight': ShapedArray(float32[3,3,3,32])\n",
      "    }\n",
      "  )\n",
      ")\n",
      "Input shape: (8, 28, 28, 3)\n",
      "Output shape: (8, 28, 28, 32)\n",
      "Kernel shape: (3, 3, 3, 32)\n"
     ]
    }
   ],
   "execution_count": 12
  },
  {
   "cell_type": "markdown",
   "id": "conv_features",
   "metadata": {},
   "source": [
    "### Visualizing Convolutional Features"
   ]
  },
  {
   "cell_type": "code",
   "id": "visualize_conv",
   "metadata": {
    "ExecuteTime": {
     "end_time": "2025-10-10T11:19:13.248631Z",
     "start_time": "2025-10-10T11:19:12.400792Z"
    }
   },
   "source": [
    "\n",
    "# Create a simple image with a pattern\n",
    "def create_test_image():\n",
    "    img = jnp.zeros((28, 28, 1))\n",
    "    # Add vertical edge\n",
    "    img = img.at[5:23, 10:13, 0].set(1.0)\n",
    "    # Add horizontal edge\n",
    "    img = img.at[10:13, 5:23, 0].set(1.0)\n",
    "    return img\n",
    "\n",
    "# Create and apply conv\n",
    "brainstate.random.seed(42)\n",
    "edge_conv = brainstate.nn.Conv2d(\n",
    "    in_size=(28, 28, 1),\n",
    "    out_channels=4,\n",
    "    kernel_size=(3, 3),\n",
    "    padding='SAME'\n",
    ")\n",
    "\n",
    "test_img = create_test_image()\n",
    "features = edge_conv(test_img[None, ...])[0]  # Add/remove batch dim\n",
    "\n",
    "# Visualize\n",
    "fig, axes = plt.subplots(1, 5, figsize=(15, 3))\n",
    "\n",
    "# Original image\n",
    "axes[0].imshow(test_img[:, :, 0], cmap='gray')\n",
    "axes[0].set_title('Input Image')\n",
    "axes[0].axis('off')\n",
    "\n",
    "# Feature maps\n",
    "for i in range(4):\n",
    "    axes[i+1].imshow(np.array(features[:, :, i]), cmap='viridis')\n",
    "    axes[i+1].set_title(f'Feature Map {i}')\n",
    "    axes[i+1].axis('off')\n",
    "\n",
    "plt.tight_layout()\n",
    "plt.show()\n"
   ],
   "outputs": [
    {
     "data": {
      "text/plain": [
       "<Figure size 1500x300 with 5 Axes>"
      ],
      "image/png": "[encoded data removed]"
     },
     "metadata": {},
     "output_type": "display_data",
     "jetTransient": {
      "display_id": null
     }
    }
   ],
   "execution_count": 13
  },
  {
   "cell_type": "markdown",
   "id": "conv_params",
   "metadata": {},
   "source": [
    "\n",
    "### Convolution Parameters\n",
    "\n",
    "Understanding stride and padding (`stride=...`, `padding=...`):\n",
    "\n",
    "- `stride` controls the step size; pass it with the `stride` keyword (the API no longer accepts `strides`).\n",
    "- `'SAME'` padding preserves spatial dimensions when the stride is 1; `'VALID'` performs no padding.\n",
    "- Explicit tuples let you set different values per spatial dimension.\n"
   ]
  },
  {
   "cell_type": "code",
   "id": "conv_stride",
   "metadata": {
    "ExecuteTime": {
     "end_time": "2025-10-10T11:19:13.771398Z",
     "start_time": "2025-10-10T11:19:13.300420Z"
    }
   },
   "source": [
    "\n",
    "# Different stride values\n",
    "x = brainstate.random.randn(1, 28, 28, 3)\n",
    "\n",
    "configs = [\n",
    "    {'stride': (1, 1), 'padding': 'SAME', 'name': 'Stride 1, SAME'},\n",
    "    {'stride': (2, 2), 'padding': 'SAME', 'name': 'Stride 2, SAME'},\n",
    "    {'stride': (1, 1), 'padding': 'VALID', 'name': 'Stride 1, VALID'},\n",
    "]\n",
    "\n",
    "print(f\"Input shape: {x.shape}\")\n",
    "\n",
    "for config in configs:\n",
    "    brainstate.random.seed(0)\n",
    "    conv = brainstate.nn.Conv2d(\n",
    "        in_size=(28, 28, 3),\n",
    "        out_channels=16,\n",
    "        kernel_size=(3, 3),\n",
    "        stride=config['stride'],\n",
    "        padding=config['padding']\n",
    "    )\n",
    "    y = conv(x)\n",
    "    print(f\"{config['name']:20s}: {y.shape}\")\n"
   ],
   "outputs": [
    {
     "name": "stdout",
     "output_type": "stream",
     "text": [
      "Input shape: (1, 28, 28, 3)\n",
      "Stride 1, SAME      : (1, 28, 28, 16)\n",
      "Stride 2, SAME      : (1, 14, 14, 16)\n",
      "Stride 1, VALID     : (1, 26, 26, 16)\n"
     ]
    }
   ],
   "execution_count": 14
  },
  {
   "cell_type": "markdown",
   "id": "conv3d",
   "metadata": {},
   "source": [
    "### Conv3d - 3D Convolution\n",
    "\n",
    "For video or volumetric data:"
   ]
  },
  {
   "cell_type": "code",
   "id": "conv3d_example",
   "metadata": {
    "ExecuteTime": {
     "end_time": "2025-10-10T11:19:14.205188Z",
     "start_time": "2025-10-10T11:19:13.776092Z"
    }
   },
   "source": [
    "\n",
    "# Conv3d: (batch, depth, height, width, channels)\n",
    "conv3d = brainstate.nn.Conv3d(\n",
    "    in_size=(16, 64, 64, 3),\n",
    "    out_channels=16,\n",
    "    kernel_size=(3, 3, 3),\n",
    "    padding='SAME'\n",
    ")\n",
    "\n",
    "# Video input: (batch=2, frames=16, height=64, width=64, channels=3)\n",
    "x_video = brainstate.random.randn(2, 16, 64, 64, 3)\n",
    "y_video = conv3d(x_video)\n",
    "\n",
    "print(f\"Video input shape: {x_video.shape}\")\n",
    "print(f\"Video output shape: {y_video.shape}\")\n"
   ],
   "outputs": [
    {
     "name": "stdout",
     "output_type": "stream",
     "text": [
      "Video input shape: (2, 16, 64, 64, 3)\n",
      "Video output shape: (2, 16, 64, 64, 16)\n"
     ]
    }
   ],
   "execution_count": 15
  },
  {
   "cell_type": "markdown",
   "id": "pooling",
   "metadata": {},
   "source": [
    "## 3. Pooling Layers\n",
    "\n",
    "Pooling layers downsample feature maps, reducing spatial dimensions.\n",
    "\n",
    "### Max Pooling"
   ]
  },
  {
   "cell_type": "code",
   "id": "maxpool",
   "metadata": {
    "ExecuteTime": {
     "end_time": "2025-10-10T11:19:14.368803Z",
     "start_time": "2025-10-10T11:19:14.211917Z"
    }
   },
   "source": [
    "\n",
    "# MaxPool2d: Takes maximum value in each window\n",
    "maxpool = brainstate.nn.MaxPool2d(\n",
    "    kernel_size=(2, 2),\n",
    "    stride=(2, 2)\n",
    ")\n",
    "\n",
    "print(\"MaxPool2d Layer:\")\n",
    "print(maxpool)\n",
    "\n",
    "# Input: (batch=4, height=28, width=28, channels=16)\n",
    "x = brainstate.random.randn(4, 28, 28, 16)\n",
    "y = maxpool(x)\n",
    "\n",
    "print(f\"Input shape: {x.shape}\")\n",
    "print(f\"Output shape: {y.shape}\")\n",
    "print(f\"Spatial reduction: {x.shape[1]}x{x.shape[2]} → {y.shape[1]}x{y.shape[2]}\")\n"
   ],
   "outputs": [
    {
     "name": "stdout",
     "output_type": "stream",
     "text": [
      "MaxPool2d Layer:\n",
      "MaxPool2d(\n",
      "  init_value=-inf,\n",
      "  computation=<function max at 0x000001EFC3E7C720>,\n",
      "  pool_dim=2,\n",
      "  return_indices=False,\n",
      "  kernel_size=(2, 2),\n",
      "  stride=(2, 2),\n",
      "  padding=VALID,\n",
      "  channel_axis=-1\n",
      ")\n",
      "Input shape: (4, 28, 28, 16)\n",
      "Output shape: (4, 14, 14, 16)\n",
      "Spatial reduction: 28x28 → 14x14\n"
     ]
    }
   ],
   "execution_count": 16
  },
  {
   "cell_type": "markdown",
   "id": "avgpool",
   "metadata": {},
   "source": [
    "### Average Pooling"
   ]
  },
  {
   "cell_type": "code",
   "id": "avgpool_example",
   "metadata": {
    "ExecuteTime": {
     "end_time": "2025-10-10T11:19:14.427683Z",
     "start_time": "2025-10-10T11:19:14.372053Z"
    }
   },
   "source": [
    "\n",
    "# AvgPool2d: Takes average value in each window\n",
    "avgpool = brainstate.nn.AvgPool2d(\n",
    "    kernel_size=(2, 2),\n",
    "    stride=(2, 2)\n",
    ")\n",
    "\n",
    "y_avg = avgpool(x)\n",
    "\n",
    "print(\"AvgPool2d Layer:\")\n",
    "print(avgpool)\n",
    "print(f\"Output shape: {y_avg.shape}\")\n"
   ],
   "outputs": [
    {
     "name": "stdout",
     "output_type": "stream",
     "text": [
      "AvgPool2d Layer:\n",
      "AvgPool2d(\n",
      "  init_value=0.0,\n",
      "  computation=<function add at 0x000001EFC3E7C400>,\n",
      "  pool_dim=2,\n",
      "  return_indices=False,\n",
      "  kernel_size=(2, 2),\n",
      "  stride=(2, 2),\n",
      "  padding=VALID,\n",
      "  channel_axis=-1\n",
      ")\n",
      "Output shape: (4, 14, 14, 16)\n"
     ]
    }
   ],
   "execution_count": 17
  },
  {
   "cell_type": "markdown",
   "id": "adaptive_pool",
   "metadata": {},
   "source": [
    "### Adaptive Pooling\n",
    "\n",
    "Pools to a fixed output size regardless of input size:"
   ]
  },
  {
   "cell_type": "code",
   "id": "adaptive_pool_example",
   "metadata": {
    "ExecuteTime": {
     "end_time": "2025-10-10T11:19:56.858436Z",
     "start_time": "2025-10-10T11:19:55.732399Z"
    }
   },
   "source": [
    "\n",
    "# AdaptiveAvgPool2d: Always outputs specified size\n",
    "adaptive_pool = brainstate.nn.AdaptiveAvgPool2d(target_size=(7, 7))\n",
    "\n",
    "# Works with any input size\n",
    "inputs = [\n",
    "    brainstate.random.randn(1, 28, 28, 16),\n",
    "    brainstate.random.randn(1, 56, 56, 16),\n",
    "    brainstate.random.randn(1, 224, 224, 16),\n",
    "]\n",
    "\n",
    "print(\"AdaptiveAvgPool2d (output: 7x7)\")\n",
    "for i, x in enumerate(inputs):\n",
    "    y = adaptive_pool(x)\n",
    "    print(f\"Input {x.shape[1:3]} → Output {y.shape[1:3]}\")\n"
   ],
   "outputs": [
    {
     "name": "stdout",
     "output_type": "stream",
     "text": [
      "AdaptiveAvgPool2d (output: 7x7)\n",
      "Input (28, 28) → Output (7, 7)\n",
      "Input (56, 56) → Output (7, 7)\n",
      "Input (224, 224) → Output (7, 7)\n"
     ]
    }
   ],
   "execution_count": 19
  },
  {
   "cell_type": "markdown",
   "id": "pool_comparison",
   "metadata": {},
   "source": [
    "### Comparing Pooling Operations"
   ]
  },
  {
   "cell_type": "code",
   "id": "pool_visual",
   "metadata": {
    "ExecuteTime": {
     "end_time": "2025-10-10T11:20:01.595527Z",
     "start_time": "2025-10-10T11:20:01.105737Z"
    }
   },
   "source": [
    "\n",
    "# Create a simple test pattern\n",
    "x_test = jnp.array([\n",
    "    [1, 2, 3, 4],\n",
    "    [5, 6, 7, 8],\n",
    "    [9, 10, 11, 12],\n",
    "    [13, 14, 15, 16]\n",
    "], dtype=jnp.float32)\n",
    "\n",
    "x_test = x_test[None, :, :, None]  # Add batch and channel dims\n",
    "\n",
    "# Apply different pooling\n",
    "maxpool_2x2 = brainstate.nn.MaxPool2d(kernel_size=(2, 2), stride=(2, 2))\n",
    "avgpool_2x2 = brainstate.nn.AvgPool2d(kernel_size=(2, 2), stride=(2, 2))\n",
    "\n",
    "y_max = maxpool_2x2(x_test)\n",
    "y_avg = avgpool_2x2(x_test)\n",
    "\n",
    "fig, axes = plt.subplots(1, 3, figsize=(12, 4))\n",
    "\n",
    "# Original\n",
    "im1 = axes[0].imshow(x_test[0, :, :, 0], cmap='viridis', interpolation='nearest')\n",
    "axes[0].set_title('Original (4x4)', fontsize=12, fontweight='bold')\n",
    "for i in range(4):\n",
    "    for j in range(4):\n",
    "        axes[0].text(j, i, f'{x_test[0,i,j,0]:.0f}', \n",
    "                    ha='center', va='center', color='white', fontsize=10)\n",
    "plt.colorbar(im1, ax=axes[0])\n",
    "\n",
    "# Max pooled\n",
    "im2 = axes[1].imshow(y_max[0, :, :, 0], cmap='viridis', interpolation='nearest')\n",
    "axes[1].set_title('Max Pooled (2x2)', fontsize=12, fontweight='bold')\n",
    "for i in range(2):\n",
    "    for j in range(2):\n",
    "        axes[1].text(j, i, f'{y_max[0,i,j,0]:.0f}', \n",
    "                    ha='center', va='center', color='white', fontsize=10)\n",
    "plt.colorbar(im2, ax=axes[1])\n",
    "\n",
    "# Avg pooled\n",
    "im3 = axes[2].imshow(y_avg[0, :, :, 0], cmap='viridis', interpolation='nearest')\n",
    "axes[2].set_title('Avg Pooled (2x2)', fontsize=12, fontweight='bold')\n",
    "for i in range(2):\n",
    "    for j in range(2):\n",
    "        axes[2].text(j, i, f'{y_avg[0,i,j,0]:.1f}', \n",
    "                    ha='center', va='center', color='white', fontsize=10)\n",
    "plt.colorbar(im3, ax=axes[2])\n",
    "\n",
    "plt.tight_layout()\n",
    "plt.show()\n",
    "\n",
    "print(\"MaxPool takes the maximum value from each 2x2 window\")\n",
    "print(\"AvgPool takes the average value from each 2x2 window\")\n"
   ],
   "outputs": [
    {
     "data": {
      "text/plain": [
       "<Figure size 1200x400 with 6 Axes>"
      ],
      "image/png": "[encoded data removed]"
     },
     "metadata": {},
     "output_type": "display_data",
     "jetTransient": {
      "display_id": null
     }
    },
    {
     "name": "stdout",
     "output_type": "stream",
     "text": [
      "MaxPool takes the maximum value from each 2x2 window\n",
      "AvgPool takes the average value from each 2x2 window\n"
     ]
    }
   ],
   "execution_count": 20
  },
  {
   "cell_type": "markdown",
   "id": "dropout",
   "metadata": {},
   "source": [
    "\n",
    "## 4. Dropout and Regularization\n",
    "\n",
    "Dropout randomly sets activations to zero during training for regularization. Pass `prob` to control the keep probability and enable stochastic behaviour with `environ.context(fit=True)` during training.\n",
    "\n",
    "### Standard Dropout\n"
   ]
  },
  {
   "cell_type": "code",
   "id": "dropout_basic",
   "metadata": {
    "ExecuteTime": {
     "end_time": "2025-10-10T11:20:06.114317Z",
     "start_time": "2025-10-10T11:20:05.935291Z"
    }
   },
   "source": [
    "\n",
    "# Dropout: Randomly zero out elements\n",
    "dropout = brainstate.nn.Dropout(prob=0.5)  # Keep 50% of activations during training\n",
    "\n",
    "print(\"Dropout Layer:\")\n",
    "print(dropout)\n",
    "\n",
    "# Create test input\n",
    "brainstate.random.seed(42)\n",
    "x = jnp.ones(10)\n",
    "\n",
    "print(\"Original:\", x)\n",
    "print(\"Dropout outputs (training mode):\")\n",
    "with environ.context(fit=True):\n",
    "    for i in range(3):\n",
    "        y = dropout(x)\n",
    "        print(f\"  {i + 1}: {y}\")\n",
    "\n",
    "with environ.context(fit=False):\n",
    "    stable = dropout(x)\n",
    "\n",
    "print(\"Evaluation mode:\", stable)\n"
   ],
   "outputs": [
    {
     "name": "stdout",
     "output_type": "stream",
     "text": [
      "Dropout Layer:\n",
      "Dropout(\n",
      "  prob=0.5,\n",
      "  broadcast_dims=()\n",
      ")\n",
      "Original: [1. 1. 1. 1. 1. 1. 1. 1. 1. 1.]\n",
      "Dropout outputs (training mode):\n",
      "  1: [0. 0. 2. 2. 2. 2. 2. 2. 2. 2.]\n",
      "  2: [2. 2. 2. 2. 0. 2. 0. 0. 0. 2.]\n",
      "  3: [2. 2. 2. 2. 0. 0. 2. 0. 0. 0.]\n",
      "Evaluation mode: [1. 1. 1. 1. 1. 1. 1. 1. 1. 1.]\n"
     ]
    }
   ],
   "execution_count": 21
  },
  {
   "cell_type": "markdown",
   "id": "dropout_modes",
   "metadata": {},
   "source": [
    "\n",
    "### Training vs Evaluation Mode\n",
    "\n",
    "Dropout behaves differently during training and evaluation:\n",
    "\n",
    "- Wrap forward passes in `with environ.context(fit=True):` to enable dropout.\n",
    "- Outside that context (or with `fit=False`) dropout becomes a no-op for deterministic evaluation.\n"
   ]
  },
  {
   "cell_type": "code",
   "id": "dropout_modes_example",
   "metadata": {
    "ExecuteTime": {
     "end_time": "2025-10-10T11:20:11.066602Z",
     "start_time": "2025-10-10T11:20:10.291725Z"
    }
   },
   "source": [
    "\n",
    "class NetworkWithDropout(brainstate.nn.Module):\n",
    "    def __init__(self, input_dim, hidden_dim, output_dim):\n",
    "        super().__init__()\n",
    "        self.linear1 = brainstate.nn.Linear((input_dim,), (hidden_dim,))\n",
    "        self.dropout = brainstate.nn.Dropout(prob=0.5)\n",
    "        self.linear2 = brainstate.nn.Linear((hidden_dim,), (output_dim,))\n",
    "\n",
    "    def update(self, x):\n",
    "        x = self.linear1(x)\n",
    "        x = jnp.maximum(0, x)  # ReLU\n",
    "        x = self.dropout(x)\n",
    "        x = self.linear2(x)\n",
    "        return x\n",
    "\n",
    "# Create network\n",
    "brainstate.random.seed(0)\n",
    "net = NetworkWithDropout(10, 20, 5)\n",
    "\n",
    "# Test input\n",
    "x = brainstate.random.randn(10)\n",
    "\n",
    "# Compare outputs in training mode\n",
    "with environ.context(fit=True):\n",
    "    y1 = net(x)\n",
    "    y2 = net(x)\n",
    "\n",
    "with environ.context(fit=False):\n",
    "    y_eval = net(x)\n",
    "\n",
    "print(\"With dropout (training):\")\n",
    "print(f\"  Output 1: {y1}\")\n",
    "print(f\"  Output 2: {y2}\")\n",
    "print(f\"  Outputs differ: {not jnp.allclose(y1, y2)}\")\n",
    "\n",
    "print(\"Evaluation mode (dropout off):\")\n",
    "print(f\"  Output: {y_eval}\")\n"
   ],
   "outputs": [
    {
     "name": "stdout",
     "output_type": "stream",
     "text": [
      "With dropout (training):\n",
      "  Output 1: [ 1.7709473  -1.7486901  -0.11733629  0.30774632  1.7717932 ]\n",
      "  Output 2: [-2.4300232   0.03660802  1.8875287  -1.3981102  -0.3061459 ]\n",
      "  Outputs differ: True\n",
      "Evaluation mode (dropout off):\n",
      "  Output: [-0.44592363 -0.25877538  0.6993926  -1.0398884   0.14154091]\n"
     ]
    }
   ],
   "execution_count": 22
  },
  {
   "cell_type": "markdown",
   "id": "utility_layers",
   "metadata": {},
   "source": [
    "## 5. Utility Layers\n",
    "\n",
    "### Flatten Layer\n",
    "\n",
    "Flattens multi-dimensional inputs:"
   ]
  },
  {
   "cell_type": "code",
   "id": "flatten",
   "metadata": {
    "ExecuteTime": {
     "end_time": "2025-10-10T11:21:02.896927Z",
     "start_time": "2025-10-10T11:21:02.879662Z"
    }
   },
   "source": [
    "# Flatten: Reshape to 1D\n",
    "flatten = brainstate.nn.Flatten(start_axis=1)\n",
    "\n",
    "# Example: After convolution, flatten before fully connected\n",
    "x_conv = brainstate.random.randn(4, 7, 7, 64)  # (batch, H, W, C)\n",
    "x_flat = flatten(x_conv)\n",
    "\n",
    "print(f\"Before flatten: {x_conv.shape}\")\n",
    "print(f\"After flatten: {x_flat.shape}\")\n",
    "print(f\"Flattened: {7 * 7 * 64} = {x_flat.shape[1]} features per sample\")\n"
   ],
   "outputs": [
    {
     "name": "stdout",
     "output_type": "stream",
     "text": [
      "Before flatten: (4, 7, 7, 64)\n",
      "After flatten: (4, 3136)\n",
      "Flattened: 3136 = (4, 3136) features per sample\n"
     ]
    }
   ],
   "execution_count": 25
  },
  {
   "cell_type": "markdown",
   "id": "complete_cnn",
   "metadata": {},
   "source": [
    "## 6. Building a Complete CNN\n",
    "\n",
    "Let's combine everything into a complete convolutional neural network:"
   ]
  },
  {
   "cell_type": "code",
   "id": "complete_cnn_example",
   "metadata": {
    "ExecuteTime": {
     "end_time": "2025-10-10T11:23:03.672949Z",
     "start_time": "2025-10-10T11:23:03.269039Z"
    }
   },
   "source": [
    "\n",
    "class SimpleCNN(brainstate.nn.Module):\n",
    "    'Simple CNN for image classification.'\n",
    "\n",
    "    def __init__(self, num_classes=10):\n",
    "        super().__init__()\n",
    "\n",
    "        # Conv block 1\n",
    "        self.conv1 = brainstate.nn.Conv2d((32, 32, 3), out_channels=32, kernel_size=(3, 3), padding='SAME')\n",
    "        self.pool1 = brainstate.nn.MaxPool2d(kernel_size=(2, 2), stride=(2, 2))\n",
    "\n",
    "        # Conv block 2\n",
    "        self.conv2 = brainstate.nn.Conv2d((16, 16, 32), out_channels=64, kernel_size=(3, 3), padding='SAME')\n",
    "        self.pool2 = brainstate.nn.MaxPool2d(kernel_size=(2, 2), stride=(2, 2))\n",
    "\n",
    "        # Conv block 3\n",
    "        self.conv3 = brainstate.nn.Conv2d((8, 8, 64), out_channels=128, kernel_size=(3, 3), padding='SAME')\n",
    "        self.pool3 = brainstate.nn.MaxPool2d(kernel_size=(2, 2), stride=(2, 2), in_size=self.conv3.out_size)\n",
    "\n",
    "        # Flatten and classify\n",
    "        self.flatten = brainstate.nn.Flatten(in_size=self.pool3.out_size)\n",
    "        self.fc1 = brainstate.nn.Linear(np.prod(self.flatten.out_size), (256,))  # Assuming 32x32 input\n",
    "        self.dropout = brainstate.nn.Dropout(prob=0.5)\n",
    "        self.fc2 = brainstate.nn.Linear((256,), (num_classes,))\n",
    "\n",
    "    def update(self, x):\n",
    "        # Conv block 1\n",
    "        x = self.conv1(x)\n",
    "        x = jnp.maximum(0, x)  # ReLU\n",
    "        x = self.pool1(x)\n",
    "\n",
    "        # Conv block 2\n",
    "        x = self.conv2(x)\n",
    "        x = jnp.maximum(0, x)\n",
    "        x = self.pool2(x)\n",
    "\n",
    "        # Conv block 3\n",
    "        x = self.conv3(x)\n",
    "        x = jnp.maximum(0, x)\n",
    "        x = self.pool3(x)\n",
    "\n",
    "        # Classifier\n",
    "        x = self.flatten(x)\n",
    "        x = self.fc1(x)\n",
    "        x = jnp.maximum(0, x)\n",
    "        x = self.dropout(x)\n",
    "        x = self.fc2(x)\n",
    "\n",
    "        return x\n",
    "\n",
    "# Create CNN\n",
    "brainstate.random.seed(42)\n",
    "cnn = SimpleCNN(num_classes=10)\n",
    "\n",
    "print(\"Simple CNN Architecture:\")\n",
    "print(cnn)\n",
    "\n",
    "# Test with batch of images\n",
    "batch_size = 8\n",
    "images = brainstate.random.randn(batch_size, 32, 32, 3)  # CIFAR-10 size\n",
    "with brainstate.environ.context(fit=True):\n",
    "    logits = cnn(images)\n",
    "\n",
    "print(f\"Input shape: {images.shape}\")\n",
    "print(f\"Output shape: {logits.shape}\")\n",
    "print(f\"Logits for first image: {logits[0]}\")\n"
   ],
   "outputs": [
    {
     "name": "stdout",
     "output_type": "stream",
     "text": [
      "Simple CNN Architecture:\n",
      "SimpleCNN(\n",
      "  conv1=Conv2d(\n",
      "    in_size=(32, 32, 3),\n",
      "    out_size=(32, 32, 32),\n",
      "    channel_first=False,\n",
      "    channels_last=True,\n",
      "    in_channels=3,\n",
      "    out_channels=32,\n",
      "    stride=(1, 1),\n",
      "    kernel_size=(3, 3),\n",
      "    lhs_dilation=(1, 1),\n",
      "    rhs_dilation=(1, 1),\n",
      "    groups=1,\n",
      "    dimension_numbers=ConvDimensionNumbers(lhs_spec=(0, 3, 1, 2), rhs_spec=(3, 2, 0, 1), out_spec=(0, 3, 1, 2)),\n",
      "    padding=SAME,\n",
      "    kernel_shape=(3, 3, 3, 32),\n",
      "    w_mask=None,\n",
      "    w_initializer=XavierNormal(\n",
      "      scale=1.0,\n",
      "      mode='fan_avg',\n",
      "      in_axis=-2,\n",
      "      out_axis=-1,\n",
      "      distribution='truncated_normal',\n",
      "      rng=RandomState([ 827075891 2691092366]),\n",
      "      unit=Unit(10.0^0)\n",
      "    ),\n",
      "    b_initializer=None,\n",
      "    weight=ParamState(\n",
      "      value={\n",
      "        'weight': ShapedArray(float32[3,3,3,32])\n",
      "      }\n",
      "    )\n",
      "  ),\n",
      "  pool1=MaxPool2d(\n",
      "    init_value=-inf,\n",
      "    computation=<function max at 0x000001EFC3E7C720>,\n",
      "    pool_dim=2,\n",
      "    return_indices=False,\n",
      "    kernel_size=(2, 2),\n",
      "    stride=(2, 2),\n",
      "    padding=VALID,\n",
      "    channel_axis=-1\n",
      "  ),\n",
      "  conv2=Conv2d(\n",
      "    in_size=(16, 16, 32),\n",
      "    out_size=(16, 16, 64),\n",
      "    channel_first=False,\n",
      "    channels_last=True,\n",
      "    in_channels=32,\n",
      "    out_channels=64,\n",
      "    stride=(1, 1),\n",
      "    kernel_size=(3, 3),\n",
      "    lhs_dilation=(1, 1),\n",
      "    rhs_dilation=(1, 1),\n",
      "    groups=1,\n",
      "    dimension_numbers=ConvDimensionNumbers(lhs_spec=(0, 3, 1, 2), rhs_spec=(3, 2, 0, 1), out_spec=(0, 3, 1, 2)),\n",
      "    padding=SAME,\n",
      "    kernel_shape=(3, 3, 32, 64),\n",
      "    w_mask=None,\n",
      "    w_initializer=XavierNormal(\n",
      "      scale=1.0,\n",
      "      mode='fan_avg',\n",
      "      in_axis=-2,\n",
      "      out_axis=-1,\n",
      "      distribution='truncated_normal',\n",
      "      rng=RandomState([ 827075891 2691092366]),\n",
      "      unit=Unit(10.0^0)\n",
      "    ),\n",
      "    b_initializer=None,\n",
      "    weight=ParamState(\n",
      "      value={\n",
      "        'weight': ShapedArray(float32[3,3,32,64])\n",
      "      }\n",
      "    )\n",
      "  ),\n",
      "  pool2=MaxPool2d(\n",
      "    init_value=-inf,\n",
      "    computation=<function max at 0x000001EFC3E7C720>,\n",
      "    pool_dim=2,\n",
      "    return_indices=False,\n",
      "    kernel_size=(2, 2),\n",
      "    stride=(2, 2),\n",
      "    padding=VALID,\n",
      "    channel_axis=-1\n",
      "  ),\n",
      "  conv3=Conv2d(\n",
      "    in_size=(8, 8, 64),\n",
      "    out_size=(8, 8, 128),\n",
      "    channel_first=False,\n",
      "    channels_last=True,\n",
      "    in_channels=64,\n",
      "    out_channels=128,\n",
      "    stride=(1, 1),\n",
      "    kernel_size=(3, 3),\n",
      "    lhs_dilation=(1, 1),\n",
      "    rhs_dilation=(1, 1),\n",
      "    groups=1,\n",
      "    dimension_numbers=ConvDimensionNumbers(lhs_spec=(0, 3, 1, 2), rhs_spec=(3, 2, 0, 1), out_spec=(0, 3, 1, 2)),\n",
      "    padding=SAME,\n",
      "    kernel_shape=(3, 3, 64, 128),\n",
      "    w_mask=None,\n",
      "    w_initializer=XavierNormal(\n",
      "      scale=1.0,\n",
      "      mode='fan_avg',\n",
      "      in_axis=-2,\n",
      "      out_axis=-1,\n",
      "      distribution='truncated_normal',\n",
      "      rng=RandomState([ 827075891 2691092366]),\n",
      "      unit=Unit(10.0^0)\n",
      "    ),\n",
      "    b_initializer=None,\n",
      "    weight=ParamState(\n",
      "      value={\n",
      "        'weight': ShapedArray(float32[3,3,64,128])\n",
      "      }\n",
      "    )\n",
      "  ),\n",
      "  pool3=MaxPool2d(\n",
      "    in_size=(8, 8, 128),\n",
      "    out_size=(4, 4, 128),\n",
      "    init_value=-inf,\n",
      "    computation=<function max at 0x000001EFC3E7C720>,\n",
      "    pool_dim=2,\n",
      "    return_indices=False,\n",
      "    kernel_size=(2, 2),\n",
      "    stride=(2, 2),\n",
      "    padding=VALID,\n",
      "    channel_axis=-1\n",
      "  ),\n",
      "  flatten=Flatten(\n",
      "    in_size=(4, 4, 128),\n",
      "    out_size=(2048,),\n",
      "    start_axis=0,\n",
      "    end_axis=-1\n",
      "  ),\n",
      "  fc1=Linear(\n",
      "    in_size=(2048,),\n",
      "    out_size=(256,),\n",
      "    w_mask=None,\n",
      "    weight=ParamState(\n",
      "      value={\n",
      "        'bias': ShapedArray(float32[256]),\n",
      "        'weight': ShapedArray(float32[2048,256])\n",
      "      }\n",
      "    )\n",
      "  ),\n",
      "  dropout=Dropout(\n",
      "    prob=0.5,\n",
      "    broadcast_dims=()\n",
      "  ),\n",
      "  fc2=Linear(\n",
      "    in_size=(256,),\n",
      "    out_size=(10,),\n",
      "    w_mask=None,\n",
      "    weight=ParamState(\n",
      "      value={\n",
      "        'bias': ShapedArray(float32[10]),\n",
      "        'weight': ShapedArray(float32[256,10])\n",
      "      }\n",
      "    )\n",
      "  )\n",
      ")\n",
      "Input shape: (8, 32, 32, 3)\n",
      "Output shape: (8, 10)\n",
      "Logits for first image: [ 0.5667763   0.50765985  0.5283586  -0.2162375   0.56475186  0.07235158\n",
      "  0.78321373 -0.7866171  -0.6562584   0.10693427]\n"
     ]
    }
   ],
   "execution_count": 28
  },
  {
   "cell_type": "markdown",
   "id": "feature_viz",
   "metadata": {},
   "source": [
    "### Visualizing CNN Feature Maps"
   ]
  },
  {
   "cell_type": "code",
   "id": "feature_visualization",
   "metadata": {
    "ExecuteTime": {
     "end_time": "2025-10-10T11:23:28.552970Z",
     "start_time": "2025-10-10T11:23:28.035239Z"
    }
   },
   "source": [
    "# Get intermediate features\n",
    "def get_conv_features(model, x):\n",
    "    \"\"\"Extract features from each conv layer.\"\"\"\n",
    "    features = []\n",
    "    \n",
    "    # Conv 1\n",
    "    x = model.conv1(x)\n",
    "    x = jnp.maximum(0, x)\n",
    "    features.append(x)\n",
    "    x = model.pool1(x)\n",
    "    \n",
    "    # Conv 2\n",
    "    x = model.conv2(x)\n",
    "    x = jnp.maximum(0, x)\n",
    "    features.append(x)\n",
    "    x = model.pool2(x)\n",
    "    \n",
    "    # Conv 3\n",
    "    x = model.conv3(x)\n",
    "    x = jnp.maximum(0, x)\n",
    "    features.append(x)\n",
    "    \n",
    "    return features\n",
    "\n",
    "# Extract features\n",
    "single_image = images[0:1]  # Take first image\n",
    "features = get_conv_features(cnn, single_image)\n",
    "\n",
    "# Visualize\n",
    "fig, axes = plt.subplots(1, 4, figsize=(16, 4))\n",
    "\n",
    "# Original image\n",
    "axes[0].imshow((np.array(single_image[0]) + 1) / 2)  # Normalize to [0,1]\n",
    "axes[0].set_title('Input Image\\n(32×32×3)', fontsize=10, fontweight='bold')\n",
    "axes[0].axis('off')\n",
    "\n",
    "# Feature maps\n",
    "layer_names = ['Conv1\\n(32×32×32)', 'Conv2\\n(16×16×64)', 'Conv3\\n(8×8×128)']\n",
    "for i, (feat, name) in enumerate(zip(features, layer_names)):\n",
    "    # Show first feature map from each layer\n",
    "    feat_map = np.array(feat[0, :, :, 0])\n",
    "    axes[i+1].imshow(feat_map, cmap='viridis')\n",
    "    axes[i+1].set_title(name, fontsize=10, fontweight='bold')\n",
    "    axes[i+1].axis('off')\n",
    "\n",
    "plt.tight_layout()\n",
    "plt.show()\n",
    "\n",
    "print(\"Feature map shapes:\")\n",
    "for i, feat in enumerate(features):\n",
    "    print(f\"  Layer {i+1}: {feat.shape}\")"
   ],
   "outputs": [
    {
     "name": "stderr",
     "output_type": "stream",
     "text": [
      "Clipping input data to the valid range for imshow with RGB data ([0..1] for floats or [0..255] for integers). Got range [-1.3665657..2.0698853].\n"
     ]
    },
    {
     "data": {
      "text/plain": [
       "<Figure size 1600x400 with 4 Axes>"
      ],
      "image/png": "[encoded data removed]"
     },
     "metadata": {},
     "output_type": "display_data",
     "jetTransient": {
      "display_id": null
     }
    },
    {
     "name": "stdout",
     "output_type": "stream",
     "text": [
      "Feature map shapes:\n",
      "  Layer 1: (1, 32, 32, 32)\n",
      "  Layer 2: (1, 16, 16, 64)\n",
      "  Layer 3: (1, 8, 8, 128)\n"
     ]
    }
   ],
   "execution_count": 29
  },
  {
   "cell_type": "markdown",
   "id": "summary",
   "metadata": {},
   "source": [
    "\n",
    "## Summary\n",
    "\n",
    "In this tutorial, you learned about:\n",
    "\n",
    "✅ **Linear layers** - Fully connected transformations  \n",
    "✅ **Convolutional layers** - 1D, 2D, 3D spatial feature extraction  \n",
    "✅ **Pooling layers** - Max, average, and adaptive pooling  \n",
    "✅ **Dropout** - Regularization through random masking  \n",
    "✅ **Utility layers** - Flatten and reshape operations  \n",
    "✅ **Complete CNN** - Building end-to-end architectures  \n",
    "\n",
    "### Key Takeaways\n",
    "\n",
    "| Layer Type | Use Case | Key Parameters |\n",
    "|------------|----------|----------------|\n",
    "| **Linear** | Fully connected | `in_size`, `out_size` |\n",
    "| **Conv2d** | Image features | `in_size`, `out_channels`, `kernel_size`, `stride`, `padding` |\n",
    "| **MaxPool2d** | Downsampling | `kernel_size`, `stride` |\n",
    "| **Dropout** | Regularization | `prob`, `broadcast_dims` |\n",
    "| **Flatten** | Shape transformation | `start_axis`, `end_axis` |\n",
    "\n",
    "### Best Practices\n",
    "\n",
    "1. 🎯 **Use SAME padding** to preserve spatial dimensions\n",
    "2. 🧮 **Provide the correct `in_size`** so layers can validate incoming tensors\n",
    "3. 💧 **Add dropout** after dense layers for regularization\n",
    "4. 🏊 **Pool after activation** - standard practice in CNNs\n",
    "5. 🔍 **Visualize features** - helps debug and understand the network\n",
    "\n",
    "### Next Steps\n",
    "\n",
    "Continue with:\n",
    "- **Activations & Normalization** - Improve training stability\n",
    "- **Recurrent Networks** - Handle sequential data\n",
    "- **Training** - Put it all together with optimization\n"
   ]
  }
 ],
 "metadata": {
  "kernelspec": {
   "display_name": "Python 3",
   "language": "python",
   "name": "python3"
  },
  "language_info": {
   "codemirror_mode": {
    "name": "ipython",
    "version": 3
   },
   "file_extension": ".py",
   "mimetype": "text/x-python",
   "name": "python",
   "nbconvert_exporter": "python",
   "pygments_lexer": "ipython3",
   "version": "3.9.0"
  }
 },
 "nbformat": 4,
 "nbformat_minor": 5
}
