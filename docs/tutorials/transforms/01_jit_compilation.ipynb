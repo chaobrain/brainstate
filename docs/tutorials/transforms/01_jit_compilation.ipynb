{
 "cells": [
  {
   "cell_type": "markdown",
   "id": "intro",
   "metadata": {},
   "source": [
    "# JIT Compilation with BrainState\n",
    "\n",
    "Just-In-Time (JIT) compilation is one of JAX's most powerful features, allowing Python code to run at near-C speeds. BrainState provides state-aware JIT compilation that works seamlessly with stateful computations.\n",
    "\n",
    "In this tutorial, you will learn:\n",
    "\n",
    "- ⚡ **JIT Basics** - Speed up your code with `@jit`\n",
    "- 🔧 **Static vs Dynamic** - Understanding argument types\n",
    "- 🎯 **Optimization Techniques** - Best practices for JIT\n",
    "- 📊 **Performance Analysis** - Measuring speedups\n",
    "- 🧠 **Stateful JIT** - Compiling with BrainState objects\n",
    "\n",
    "## Why JIT?\n",
    "\n",
    "**Benefits:**\n",
    "- ⚡ **10-100x speedup** for numerical computations\n",
    "- 🚀 **GPU/TPU acceleration** automatic\n",
    "- 🔄 **Optimized execution** - fused operations, reduced memory\n",
    "- 📈 **Scales to large models** efficiently"
   ]
  },
  {
   "metadata": {
    "ExecuteTime": {
     "end_time": "2025-10-10T10:26:27.541734Z",
     "start_time": "2025-10-10T10:26:27.535378Z"
    }
   },
   "cell_type": "code",
   "source": [
    "import time\n",
    "\n",
    "import jax\n",
    "import jax.numpy as jnp\n",
    "import matplotlib.pyplot as plt\n",
    "import numpy as np\n",
    "\n",
    "import brainstate"
   ],
   "id": "36c3f94656008bfb",
   "outputs": [],
   "execution_count": 14
  },
  {
   "cell_type": "markdown",
   "id": "jit_basics",
   "metadata": {},
   "source": [
    "## 1. JIT Basics\n",
    "\n",
    "The simplest way to use JIT is with the `@jit` decorator:\n",
    "\n",
    "### Pure Functions"
   ]
  },
  {
   "metadata": {
    "ExecuteTime": {
     "end_time": "2025-10-10T10:26:27.606184Z",
     "start_time": "2025-10-10T10:26:27.550930Z"
    }
   },
   "cell_type": "code",
   "source": [
    "# Without JIT\n",
    "def compute_sum_no_jit(x):\n",
    "    \"\"\"Sum of squares without JIT.\"\"\"\n",
    "    return jnp.sum(x ** 2)\n",
    "\n",
    "\n",
    "# With JIT\n",
    "@brainstate.transform.jit\n",
    "def compute_sum_jit(x):\n",
    "    \"\"\"Sum of squares with JIT.\"\"\"\n",
    "    return jnp.sum(x ** 2)\n",
    "\n",
    "\n",
    "# Test data\n",
    "x = brainstate.random.randn(10000)\n",
    "\n",
    "# First call (compilation + execution)\n",
    "print(\"First call (includes compilation):\")\n",
    "start = time.time()\n",
    "result_jit = compute_sum_jit(x).block_until_ready()  # Ensure computation is done\n",
    "first_time = time.time() - start\n",
    "print(f\"  JIT result: {result_jit:.4f}, Time: {first_time * 1000:.3f} ms\")\n",
    "\n",
    "# Second call (cached, just execution)\n",
    "print(\"\\nSecond call (cached):\")\n",
    "start = time.time()\n",
    "result_jit = compute_sum_jit(x).block_until_ready()  # Ensure computation is done\n",
    "jit_time = time.time() - start\n",
    "print(f\"  JIT result: {result_jit:.4f}, Time: {jit_time * 1000:.3f} ms\")\n",
    "\n",
    "# No JIT\n",
    "start = time.time()\n",
    "result_no_jit = compute_sum_no_jit(x).block_until_ready()  # Ensure computation is done\n",
    "no_jit_time = time.time() - start\n",
    "print(f\"  No JIT result: {result_no_jit:.4f}, Time: {no_jit_time * 1000:.3f} ms\")\n",
    "\n",
    "# print(f\"\\n✅ Speedup: {no_jit_time / jit_time:.1f}x\")"
   ],
   "id": "2a59c06a85f6c2ec",
   "outputs": [
    {
     "name": "stdout",
     "output_type": "stream",
     "text": [
      "First call (includes compilation):\n",
      "  JIT result: 9874.8330, Time: 17.673 ms\n",
      "\n",
      "Second call (cached):\n",
      "  JIT result: 9874.8330, Time: 0.000 ms\n",
      "  No JIT result: 9874.8330, Time: 0.000 ms\n"
     ]
    },
    {
     "ename": "ZeroDivisionError",
     "evalue": "float division by zero",
     "output_type": "error",
     "traceback": [
      "\u001B[31m---------------------------------------------------------------------------\u001B[39m",
      "\u001B[31mZeroDivisionError\u001B[39m                         Traceback (most recent call last)",
      "\u001B[36mCell\u001B[39m\u001B[36m \u001B[39m\u001B[32mIn[15]\u001B[39m\u001B[32m, line 37\u001B[39m\n\u001B[32m     34\u001B[39m no_jit_time = time.time() - start\n\u001B[32m     35\u001B[39m \u001B[38;5;28mprint\u001B[39m(\u001B[33mf\u001B[39m\u001B[33m\"\u001B[39m\u001B[33m  No JIT result: \u001B[39m\u001B[38;5;132;01m{\u001B[39;00mresult_no_jit\u001B[38;5;132;01m:\u001B[39;00m\u001B[33m.4f\u001B[39m\u001B[38;5;132;01m}\u001B[39;00m\u001B[33m, Time: \u001B[39m\u001B[38;5;132;01m{\u001B[39;00mno_jit_time\u001B[38;5;250m \u001B[39m*\u001B[38;5;250m \u001B[39m\u001B[32m1000\u001B[39m\u001B[38;5;132;01m:\u001B[39;00m\u001B[33m.3f\u001B[39m\u001B[38;5;132;01m}\u001B[39;00m\u001B[33m ms\u001B[39m\u001B[33m\"\u001B[39m)\n\u001B[32m---> \u001B[39m\u001B[32m37\u001B[39m \u001B[38;5;28mprint\u001B[39m(\u001B[33mf\u001B[39m\u001B[33m\"\u001B[39m\u001B[38;5;130;01m\\n\u001B[39;00m\u001B[33m✅ Speedup: \u001B[39m\u001B[38;5;132;01m{\u001B[39;00mno_jit_time\u001B[38;5;250m \u001B[39m/\u001B[38;5;250m \u001B[39mjit_time\u001B[38;5;132;01m:\u001B[39;00m\u001B[33m.1f\u001B[39m\u001B[38;5;132;01m}\u001B[39;00m\u001B[33mx\u001B[39m\u001B[33m\"\u001B[39m)\n",
      "\u001B[31mZeroDivisionError\u001B[39m: float division by zero"
     ]
    }
   ],
   "execution_count": 15
  },
  {
   "metadata": {},
   "cell_type": "markdown",
   "source": [
    "### Understanding Compilation\n",
    "\n",
    "JIT compilation happens in two stages:\n",
    "\n",
    "1. **First call**: Trace → Optimize → Compile → Execute\n",
    "2. **Subsequent calls**: Execute (cached)\n",
    "\n",
    "Let's visualize this:"
   ],
   "id": "ac50340d1d1470b5"
  },
  {
   "metadata": {
    "ExecuteTime": {
     "end_time": "2025-10-10T10:26:27.652204400Z",
     "start_time": "2025-10-10T10:25:57.660279Z"
    }
   },
   "cell_type": "code",
   "source": [
    "@brainstate.transform.jit\n",
    "def complex_computation(x, n_iterations=100):\n",
    "    \"\"\"More complex computation for timing.\"\"\"\n",
    "    result = x\n",
    "    for i in range(n_iterations):\n",
    "        result = jnp.sin(result) + jnp.cos(result)\n",
    "        result = result / (jnp.sum(result) + 1e-8)\n",
    "    return result\n",
    "\n",
    "\n",
    "# Measure compilation + execution\n",
    "x = brainstate.random.randn(100)\n",
    "\n",
    "times = []\n",
    "for i in range(5):\n",
    "    start = time.time()\n",
    "    result = jax.block_until_ready(complex_computation(x))\n",
    "    elapsed = (time.time() - start) * 1000\n",
    "    times.append(elapsed)\n",
    "    print(f\"Call {i + 1}: {elapsed:.2f} ms\")\n",
    "\n",
    "# Plot\n",
    "plt.figure(figsize=(10, 5))\n",
    "plt.bar(range(1, 6), times, color=['red', 'green', 'green', 'green', 'green'], alpha=0.7)\n",
    "plt.xlabel('Call Number')\n",
    "plt.ylabel('Time (ms)')\n",
    "plt.title('JIT Compilation: First Call vs Cached Calls', fontweight='bold')\n",
    "plt.axhline(y=times[1], color='green', linestyle='--', alpha=0.5, label='Cached time')\n",
    "plt.legend(['Cached baseline', 'Execution time'])\n",
    "plt.grid(alpha=0.3)\n",
    "plt.show()\n",
    "\n",
    "print(f\"\\nFirst call (compilation): {times[0]:.2f} ms\")\n",
    "print(f\"Cached calls (average): {np.mean(times[1:]):.2f} ms\")\n",
    "print(f\"Compilation overhead: {times[0] - times[1]:.2f} ms\")"
   ],
   "id": "47377915c4214779",
   "outputs": [
    {
     "name": "stdout",
     "output_type": "stream",
     "text": [
      "Call 1: 293.73 ms\n",
      "Call 2: 0.00 ms\n",
      "Call 3: 0.00 ms\n",
      "Call 4: 0.00 ms\n",
      "Call 5: 0.00 ms\n"
     ]
    },
    {
     "data": {
      "text/plain": [
       "<Figure size 1000x500 with 1 Axes>"
      ],
      "image/png": "[encoded data removed]"
     },
     "metadata": {},
     "output_type": "display_data",
     "jetTransient": {
      "display_id": null
     }
    },
    {
     "name": "stdout",
     "output_type": "stream",
     "text": [
      "\n",
      "First call (compilation): 293.73 ms\n",
      "Cached calls (average): 0.00 ms\n",
      "Compilation overhead: 293.73 ms\n"
     ]
    }
   ],
   "execution_count": 7
  },
  {
   "metadata": {},
   "cell_type": "markdown",
   "source": [
    "## 2. Static vs Dynamic Arguments\n",
    "\n",
    "JAX distinguishes between **static** (compile-time) and **dynamic** (runtime) arguments.\n",
    "\n",
    "### Dynamic Arguments (Default)\n",
    "\n",
    "Most arguments are dynamic - the function reuses the compiled code:"
   ],
   "id": "ec49212cdfee6060"
  },
  {
   "metadata": {
    "ExecuteTime": {
     "end_time": "2025-10-10T10:26:27.652204400Z",
     "start_time": "2025-10-10T10:25:58.250589Z"
    }
   },
   "cell_type": "code",
   "source": [
    "@brainstate.transform.jit\n",
    "def add_arrays(x, y):\n",
    "    return x + y\n",
    "\n",
    "\n",
    "# Different array values, same shape - reuses compilation\n",
    "a = jnp.array([1.0, 2.0, 3.0])\n",
    "b = jnp.array([4.0, 5.0, 6.0])\n",
    "c = jnp.array([7.0, 8.0, 9.0])\n",
    "d = jnp.array([10.0, 11.0, 12.0])\n",
    "\n",
    "print(\"Calling with different values, same shape:\")\n",
    "print(f\"add_arrays(a, b) = {add_arrays(a, b)}  # Compiles\")\n",
    "print(f\"add_arrays(c, d) = {add_arrays(c, d)}  # Reuses compilation\")\n",
    "\n",
    "# Different shape - triggers recompilation\n",
    "e = jnp.array([1.0, 2.0])\n",
    "f = jnp.array([3.0, 4.0])\n",
    "\n",
    "print(f\"\\nadd_arrays(e, f) = {add_arrays(e, f)}  # Recompiles (different shape)\")\n",
    "\n",
    "print(\"\\n✅ Array values are dynamic (no recompilation)\")\n",
    "print(\"⚠️  Array shapes are static (triggers recompilation)\")"
   ],
   "id": "39d7a3fe7052a6b3",
   "outputs": [
    {
     "name": "stdout",
     "output_type": "stream",
     "text": [
      "Calling with different values, same shape:\n",
      "add_arrays(a, b) = [5. 7. 9.]  # Compiles\n",
      "add_arrays(c, d) = [17. 19. 21.]  # Reuses compilation\n",
      "\n",
      "add_arrays(e, f) = [4. 6.]  # Recompiles (different shape)\n",
      "\n",
      "✅ Array values are dynamic (no recompilation)\n",
      "⚠️  Array shapes are static (triggers recompilation)\n"
     ]
    }
   ],
   "execution_count": 8
  },
  {
   "metadata": {},
   "cell_type": "markdown",
   "source": [
    "### Static Arguments\n",
    "\n",
    "Use `static_argnums` to mark arguments as static:"
   ],
   "id": "dcdf005954b14c1e"
  },
  {
   "metadata": {
    "ExecuteTime": {
     "end_time": "2025-10-10T10:26:27.665257100Z",
     "start_time": "2025-10-10T10:25:58.348829Z"
    }
   },
   "cell_type": "code",
   "source": [
    "@brainstate.transform.jit(static_argnums=(1,))  # n is static\n",
    "def power(x, n):\n",
    "    \"\"\"Raise x to the power n.\"\"\"\n",
    "    result = x\n",
    "    for _ in range(n - 1):\n",
    "        result = result * x\n",
    "    return result\n",
    "\n",
    "\n",
    "x = jnp.array([2.0, 3.0])\n",
    "\n",
    "print(\"Static argument (n):\")\n",
    "print(f\"power(x, 2) = {power(x, 2)}  # Compiles for n=2\")\n",
    "print(f\"power(x, 2) = {power(x, 2)}  # Reuses\")\n",
    "print(f\"power(x, 3) = {power(x, 3)}  # Recompiles for n=3\")\n",
    "print(f\"power(x, 3) = {power(x, 3)}  # Reuses\")\n",
    "\n",
    "print(\"\\n⚠️  Each unique static value triggers a separate compilation\")\n",
    "print(\"✅ Use static args for: loop bounds, shape parameters, flags\")"
   ],
   "id": "f5e3b5f4268769d",
   "outputs": [
    {
     "name": "stdout",
     "output_type": "stream",
     "text": [
      "Static argument (n):\n",
      "power(x, 2) = [4. 9.]  # Compiles for n=2\n",
      "power(x, 2) = [4. 9.]  # Reuses\n",
      "power(x, 3) = [ 8. 27.]  # Recompiles for n=3\n",
      "power(x, 3) = [ 8. 27.]  # Reuses\n",
      "\n",
      "⚠️  Each unique static value triggers a separate compilation\n",
      "✅ Use static args for: loop bounds, shape parameters, flags\n"
     ]
    }
   ],
   "execution_count": 9
  },
  {
   "metadata": {},
   "cell_type": "markdown",
   "source": "### Practical Example: Configurable Network Layer",
   "id": "a182318270fd5fcf"
  },
  {
   "metadata": {
    "ExecuteTime": {
     "end_time": "2025-10-10T10:26:27.665257100Z",
     "start_time": "2025-10-10T10:25:58.401534Z"
    }
   },
   "cell_type": "code",
   "source": [
    "class ConfigurableLayer(brainstate.graph.Node):\n",
    "    def __init__(self, in_features, out_features):\n",
    "        super().__init__()\n",
    "        self.w = brainstate.ParamState(brainstate.random.randn(in_features, out_features) * 0.1)\n",
    "        self.b = brainstate.ParamState(jnp.zeros(out_features))\n",
    "\n",
    "    @brainstate.transform.jit(static_argnums=(0, 2))  # use_activation is static\n",
    "    def forward(self, x, use_activation=True):\n",
    "        \"\"\"Forward with optional activation.\"\"\"\n",
    "        out = x @ self.w.value + self.b.value\n",
    "        if use_activation:\n",
    "            out = jnp.maximum(0, out)  # ReLU\n",
    "        return out\n",
    "\n",
    "\n",
    "# Create layer\n",
    "brainstate.random.seed(42)\n",
    "layer = ConfigurableLayer(10, 5)\n",
    "\n",
    "x = brainstate.random.randn(10)\n",
    "\n",
    "print(\"With activation:\")\n",
    "y1 = layer.forward(x, True)\n",
    "print(f\"  Output: {y1}\")\n",
    "\n",
    "print(\"\\nWithout activation:\")\n",
    "y2 = layer.forward(x, False)\n",
    "print(f\"  Output: {y2}\")\n",
    "\n",
    "print(\"\\n✅ Two separate compiled versions (use_activation=True/False)\")"
   ],
   "id": "eff351c52575054b",
   "outputs": [
    {
     "name": "stdout",
     "output_type": "stream",
     "text": [
      "With activation:\n",
      "  Output: [0.04198137 0.25077477 0.         0.06002602 0.        ]\n",
      "\n",
      "Without activation:\n",
      "  Output: [ 0.04198137  0.25077477 -0.3369133   0.06002602 -0.19780901]\n",
      "\n",
      "✅ Two separate compiled versions (use_activation=True/False)\n"
     ]
    }
   ],
   "execution_count": 10
  },
  {
   "metadata": {},
   "cell_type": "markdown",
   "source": [
    "## 3. JIT with Stateful Objects\n",
    "\n",
    "BrainState allows JIT compilation of stateful computations:\n",
    "\n",
    "### Stateful Counter"
   ],
   "id": "ef7436b3f3b209a6"
  },
  {
   "metadata": {
    "ExecuteTime": {
     "end_time": "2025-10-10T10:26:27.668836Z",
     "start_time": "2025-10-10T10:25:58.742224Z"
    }
   },
   "cell_type": "code",
   "source": [
    "class Counter(brainstate.graph.Node):\n",
    "    def __init__(self):\n",
    "        super().__init__()\n",
    "        self.count = brainstate.ShortTermState(jnp.array(0))\n",
    "\n",
    "    @brainstate.transform.jit(static_argnums=0)\n",
    "    def increment(self, value):\n",
    "        \"\"\"Increment counter by value.\"\"\"\n",
    "        self.count.value = self.count.value + value\n",
    "        return self.count.value\n",
    "\n",
    "\n",
    "# Create and use\n",
    "counter = Counter()\n",
    "\n",
    "print(\"Stateful JIT compilation:\")\n",
    "for i in range(5):\n",
    "    result = counter.increment(jnp.array(i + 1))\n",
    "    print(f\"  Increment by {i + 1}: count = {result}\")\n",
    "\n",
    "print(\"\\n✅ State updates work inside JIT-compiled functions\")\n",
    "print(\"✅ BrainState handles state threading automatically\")"
   ],
   "id": "39556c56e0c38cd6",
   "outputs": [
    {
     "name": "stdout",
     "output_type": "stream",
     "text": [
      "Stateful JIT compilation:\n",
      "  Increment by 1: count = 1\n",
      "  Increment by 2: count = 3\n",
      "  Increment by 3: count = 6\n",
      "  Increment by 4: count = 10\n",
      "  Increment by 5: count = 15\n",
      "\n",
      "✅ State updates work inside JIT-compiled functions\n",
      "✅ BrainState handles state threading automatically\n"
     ]
    }
   ],
   "execution_count": 11
  },
  {
   "metadata": {},
   "cell_type": "markdown",
   "source": "### Neural Network with JIT",
   "id": "be0f485b3a059934"
  },
  {
   "metadata": {
    "ExecuteTime": {
     "end_time": "2025-10-10T10:26:27.670062200Z",
     "start_time": "2025-10-10T10:25:58.798517Z"
    }
   },
   "cell_type": "code",
   "source": [
    "class MLPWithJIT(brainstate.graph.Node):\n",
    "    def __init__(self, layers):\n",
    "        super().__init__()\n",
    "        self.linears = []\n",
    "        for i in range(len(layers) - 1):\n",
    "            linear = brainstate.nn.Linear(layers[i], layers[i + 1])\n",
    "            setattr(self, f'linear{i}', linear)\n",
    "            self.linears.append(linear)\n",
    "\n",
    "    @brainstate.transform.jit(static_argnums=0)\n",
    "    def __call__(self, x):\n",
    "        \"\"\"JIT-compiled forward pass.\"\"\"\n",
    "        for i, linear in enumerate(self.linears):\n",
    "            x = linear(x)\n",
    "            if i < len(self.linears) - 1:  # No activation on last layer\n",
    "                x = jnp.maximum(0, x)  # ReLU\n",
    "        return x\n",
    "\n",
    "\n",
    "# Create network\n",
    "brainstate.random.seed(0)\n",
    "model = MLPWithJIT([784, 256, 128, 10])\n",
    "\n",
    "# Benchmark\n",
    "x = brainstate.random.randn(784)\n",
    "\n",
    "# Warmup (compilation)\n",
    "_ = model(x)\n",
    "\n",
    "# Measure\n",
    "n_runs = 1000\n",
    "start = time.time()\n",
    "for _ in range(n_runs):\n",
    "    y = model(x)\n",
    "elapsed = (time.time() - start) * 1000 / n_runs\n",
    "\n",
    "print(f\"MLP with JIT:\")\n",
    "print(f\"  Input: {x.shape}\")\n",
    "print(f\"  Output: {y.shape}\")\n",
    "print(f\"  Average time: {elapsed:.4f} ms/forward\")\n",
    "print(f\"  Throughput: {1000 / elapsed:.0f} forwards/second\")"
   ],
   "id": "81fe55a2a6ea8e96",
   "outputs": [
    {
     "name": "stdout",
     "output_type": "stream",
     "text": [
      "MLP with JIT:\n",
      "  Input: (784,)\n",
      "  Output: (10,)\n",
      "  Average time: 0.0625 ms/forward\n",
      "  Throughput: 15998 forwards/second\n"
     ]
    }
   ],
   "execution_count": 12
  },
  {
   "metadata": {},
   "cell_type": "markdown",
   "source": [
    "## 4. Performance Analysis\n",
    "\n",
    "Let's compare JIT vs non-JIT performance across different scenarios:\n",
    "\n",
    "### Matrix Multiplication Benchmark"
   ],
   "id": "26eb8e22d774a489"
  },
  {
   "metadata": {
    "ExecuteTime": {
     "end_time": "2025-10-10T10:28:04.373525Z",
     "start_time": "2025-10-10T10:28:03.968088Z"
    }
   },
   "cell_type": "code",
   "source": [
    "def matmul_no_jit(A, B):\n",
    "    return jnp.dot(A, B)\n",
    "\n",
    "\n",
    "@brainstate.transform.jit\n",
    "def matmul_jit(A, B):\n",
    "    return jnp.dot(A, B)\n",
    "\n",
    "\n",
    "# Test different sizes\n",
    "sizes = [10, 50, 100, 500, 1000]\n",
    "times_no_jit = []\n",
    "times_jit = []\n",
    "\n",
    "for size in sizes:\n",
    "    A = brainstate.random.randn(size, size)\n",
    "    B = brainstate.random.randn(size, size)\n",
    "\n",
    "    # Warmup JIT\n",
    "    _ = matmul_jit(A, B).block_until_ready()\n",
    "\n",
    "    # No JIT\n",
    "    start = time.time()\n",
    "    for _ in range(10):\n",
    "        _ = matmul_no_jit(A, B).block_until_ready()\n",
    "    time_no_jit = (time.time() - start) / 10\n",
    "    times_no_jit.append(time_no_jit * 1000)\n",
    "\n",
    "    # JIT\n",
    "    start = time.time()\n",
    "    for _ in range(10):\n",
    "        _ = matmul_jit(A, B).block_until_ready()\n",
    "    time_jit = (time.time() - start) / 10\n",
    "    times_jit.append(time_jit * 1000)\n",
    "\n",
    "# Plot\n",
    "plt.figure(figsize=(12, 5))\n",
    "\n",
    "plt.subplot(1, 2, 1)\n",
    "plt.plot(sizes, times_no_jit, 'o-', label='No JIT', linewidth=2, markersize=8)\n",
    "plt.plot(sizes, times_jit, 's-', label='JIT', linewidth=2, markersize=8)\n",
    "plt.xlabel('Matrix Size')\n",
    "plt.ylabel('Time (ms)')\n",
    "plt.title('Execution Time: JIT vs No JIT', fontweight='bold')\n",
    "plt.legend()\n",
    "plt.grid(alpha=0.3)\n",
    "plt.yscale('log')\n",
    "\n",
    "plt.subplot(1, 2, 2)\n",
    "speedups = [1e4 if jit == 0. else no_jit / jit for no_jit, jit in zip(times_no_jit, times_jit)]\n",
    "plt.bar(range(len(sizes)), speedups, color='green', alpha=0.7)\n",
    "plt.xticks(range(len(sizes)), sizes)\n",
    "plt.xlabel('Matrix Size')\n",
    "plt.ylabel('Speedup (x)')\n",
    "plt.title('JIT Speedup Factor', fontweight='bold')\n",
    "plt.axhline(y=1, color='red', linestyle='--', alpha=0.5, label='No speedup')\n",
    "plt.legend()\n",
    "plt.grid(alpha=0.3, axis='y')\n",
    "\n",
    "plt.tight_layout()\n",
    "plt.show()\n",
    "\n",
    "print(\"\\nSpeedup Summary:\")\n",
    "for size, speedup in zip(sizes, speedups):\n",
    "    print(f\"  Size {size:4d}: {speedup:.2f}x faster\")"
   ],
   "id": "14e2849d877a2c79",
   "outputs": [
    {
     "data": {
      "text/plain": [
       "<Figure size 1200x500 with 2 Axes>"
      ],
      "image/png": "[encoded data removed]"
     },
     "metadata": {},
     "output_type": "display_data",
     "jetTransient": {
      "display_id": null
     }
    },
    {
     "name": "stdout",
     "output_type": "stream",
     "text": [
      "\n",
      "Speedup Summary:\n",
      "  Size   10: 10000.00x faster\n",
      "  Size   50: 1.52x faster\n",
      "  Size  100: 10000.00x faster\n",
      "  Size  500: 1.17x faster\n",
      "  Size 1000: 1.23x faster\n"
     ]
    }
   ],
   "execution_count": 17
  },
  {
   "metadata": {},
   "cell_type": "markdown",
   "source": [
    "## 5. Debugging JIT Code\n",
    "\n",
    "### Disabling JIT for Debugging"
   ],
   "id": "9512ae6ff87bbc63"
  },
  {
   "metadata": {
    "ExecuteTime": {
     "end_time": "2025-10-10T10:29:30.929426Z",
     "start_time": "2025-10-10T10:29:30.848906Z"
    }
   },
   "cell_type": "code",
   "source": [
    "@brainstate.transform.jit\n",
    "def complex_function(x):\n",
    "    # Intermediate values are traced, can't be printed during JIT\n",
    "    y = jnp.sin(x)\n",
    "    z = jnp.cos(y)\n",
    "    return z\n",
    "\n",
    "\n",
    "# To debug, temporarily disable JIT\n",
    "import jax\n",
    "\n",
    "print(\"With JIT (can't see intermediate values):\")\n",
    "result = complex_function(jnp.array(1.0))\n",
    "print(f\"  Result: {result}\")\n",
    "\n",
    "print(\"\\nWith JIT disabled (for debugging):\")\n",
    "with jax.disable_jit():\n",
    "    x = jnp.array(1.0)\n",
    "    # Now we can add print statements\n",
    "    y = jnp.sin(x)\n",
    "    print(f\"  Intermediate y: {y}\")\n",
    "    z = jnp.cos(y)\n",
    "    print(f\"  Intermediate z: {z}\")\n",
    "\n",
    "print(\"\\n💡 Use jax.disable_jit() context manager for debugging\")"
   ],
   "id": "65282b4bc0abb0e4",
   "outputs": [
    {
     "name": "stdout",
     "output_type": "stream",
     "text": [
      "With JIT (can't see intermediate values):\n",
      "  Result: 0.6663667559623718\n",
      "\n",
      "With JIT disabled (for debugging):\n",
      "  Intermediate y: 0.8414709568023682\n",
      "  Intermediate z: 0.6663667559623718\n",
      "\n",
      "💡 Use jax.disable_jit() context manager for debugging\n"
     ]
    }
   ],
   "execution_count": 21
  },
  {
   "metadata": {},
   "cell_type": "markdown",
   "source": [
    "## Summary\n",
    "\n",
    "In this tutorial, you learned:\n",
    "\n",
    "✅ **JIT Basics**\n",
    "  - Using `@brainstate.transform.jit` decorator\n",
    "  - Compilation vs execution time\n",
    "  - Caching compiled functions\n",
    "\n",
    "✅ **Static vs Dynamic Arguments**\n",
    "  - Dynamic args (values) don't trigger recompilation\n",
    "  - Static args (shapes, flags) create separate compilations\n",
    "  - Using `static_argnums` parameter\n",
    "\n",
    "✅ **Stateful JIT**\n",
    "  - JIT with BrainState objects\n",
    "  - State updates inside compiled functions\n",
    "  - Neural networks with JIT\n",
    "\n",
    "✅ **Performance**\n",
    "  - 10-100x speedups typical\n",
    "  - Benchmarking techniques\n",
    "  - Understanding overhead\n",
    "\n",
    "✅ **Best Practices**\n",
    "  - Use JAX operations, not Python loops\n",
    "  - Avoid side effects (or use States)\n",
    "  - Batch operations when possible\n",
    "  - Debug with `jax.disable_jit()`\n",
    "\n",
    "### Quick Reference\n",
    "\n",
    "| Concept | Code | When to Use |\n",
    "|---------|------|-------------|\n",
    "| **Basic JIT** | `@brainstate.transform.jit` | Most functions |\n",
    "| **Static args** | `@brainstate.transform.jit(static_argnums=(1,))` | Loop bounds, flags |\n",
    "| **Disable JIT** | `with jax.disable_jit():` | Debugging |\n",
    "\n",
    "### Common Pitfalls\n",
    "\n",
    "❌ **Don't:** Use Python loops over arrays  \n",
    "✅ **Do:** Use JAX operations (jnp.sum, jnp.mean, etc.)\n",
    "\n",
    "❌ **Don't:** Modify global variables  \n",
    "✅ **Do:** Use BrainState states or return values\n",
    "\n",
    "❌ **Don't:** Call JIT function in a loop with single items  \n",
    "✅ **Do:** Batch the data and call once\n",
    "\n",
    "### Performance Tips\n",
    "\n",
    "1. 🎯 **JIT everything** that runs repeatedly\n",
    "2. 📦 **Batch operations** for maximum throughput\n",
    "3. 🔧 **Use static args** sparingly (each value = new compilation)\n",
    "4. 💾 **Warmup** before benchmarking\n",
    "5. 🧪 **Profile** to find bottlenecks\n",
    "\n",
    "### Next Steps\n",
    "\n",
    "Continue with:\n",
    "- **Automatic Differentiation** - Computing gradients with JIT\n",
    "- **Vectorization** - vmap for automatic batching\n",
    "- **Advanced Transforms** - Combining JIT with other transforms"
   ],
   "id": "4ab0858784bb6711"
  }
 ],
 "metadata": {
  "kernelspec": {
   "display_name": "Python 3",
   "language": "python",
   "name": "python3"
  },
  "language_info": {
   "codemirror_mode": {
    "name": "ipython",
    "version": 3
   },
   "file_extension": ".py",
   "mimetype": "text/x-python",
   "name": "python",
   "nbconvert_exporter": "python",
   "pygments_lexer": "ipython3",
   "version": "3.9.0"
  }
 },
 "nbformat": 4,
 "nbformat_minor": 5
}
