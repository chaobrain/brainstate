{
 "cells": [
  {
   "cell_type": "markdown",
   "source": [
    "# `pygraph` 简介\n",
    "\n",
    "在 JAX 中，各种强大的函数转换适用于 pytree 数据结构（如字典、列表、元组等树状结构）。基于 pytree，JAX 能够高效地执行自动微分、向量化和并行化操作。然而，许多实际应用场景，尤其是复杂的物理结构和神经网络模型，更适合用图（graph）而非简单的树结构来表示。因此，`brainstate` 库引入了 `pygraph` 表示，以为图数据结构提供强大的 JAX 函数转换支持。\n",
    "\n",
    "## 什么是 `pygraph`？\n",
    "\n",
    "`pygraph` 是 `brainstate` 中专门设计用于支持 JAX 函数转换的数据结构。与常见的树结构相比，图结构能够表达更加多样的节点关系和依赖性，适用于更复杂的模型结构。特别是在模型状态需要依赖多个节点的交互作用时，图结构在表达上显得更为灵活。\n",
    "\n",
    "`pygraph` 模块以 `brainstate.graph.Node` 作为图的基本节点，通过定义节点之间的关系（边）来构建图形结构。每个节点可以包含任意的 pytree 数组数据或 `pygraph` 子结构，使得图的构建更加灵活和模块化。\n",
    "\n",
    "我们可以将 `brainstate.graph.Node` 视为一个类容器，其中的属性代表其叶子节点。容器之间可以相互引用，从而形成复杂的图结构。"
   ],
   "metadata": {
    "collapsed": false
   },
   "id": "a9ba4b72d31c09f1"
  },
  {
   "cell_type": "code",
   "outputs": [],
   "source": [
    "import jax\n",
    "import jax.numpy as jnp\n",
    "\n",
    "import brainstate "
   ],
   "metadata": {
    "collapsed": false,
    "ExecuteTime": {
     "end_time": "2024-11-03T12:49:06.165344Z",
     "start_time": "2024-11-03T12:49:05.365030Z"
    }
   },
   "id": "44dcb78d85021855",
   "execution_count": 1
  },
  {
   "cell_type": "code",
   "outputs": [],
   "source": [
    "class A(brainstate.graph.Node):\n",
    "    def __init__(self):\n",
    "        self.w = brainstate.random.rand(2, 3)\n",
    "        self.b = brainstate.ShortTermState(brainstate.random.rand(3))"
   ],
   "metadata": {
    "collapsed": false,
    "ExecuteTime": {
     "end_time": "2024-11-03T12:49:06.169631Z",
     "start_time": "2024-11-03T12:49:06.165344Z"
    }
   },
   "id": "f1f1e92f48f7e4db",
   "execution_count": 2
  },
  {
   "cell_type": "markdown",
   "source": [
    "在上面的代码中，我们定义了一个类 `A`，该类继承自 `brainstate.graph.Node`。在类的初始化函数中，我们定义了两个属性 `w` 和 `b`，分别表示一个随机生成的 2x3 矩阵和一个随机生成的长度为 3 的数组。这两个数据结构都是 JAX 的 pytree 结构。\n",
    "\n",
    "值得注意的是，`brainstate.graph.Node` 允许我们创建循环引用。例如，"
   ],
   "metadata": {
    "collapsed": false
   },
   "id": "29f24bbd384f2b4e"
  },
  {
   "cell_type": "code",
   "outputs": [],
   "source": [
    "a = A()\n",
    "a.self = a"
   ],
   "metadata": {
    "collapsed": false,
    "ExecuteTime": {
     "end_time": "2024-11-03T12:49:06.459525Z",
     "start_time": "2024-11-03T12:49:06.170137Z"
    }
   },
   "id": "834e8fd2f635452b",
   "execution_count": 3
  },
  {
   "cell_type": "markdown",
   "source": [
    "我们将 `a` 的 `self` 属性设置为 `a`，这样就形成了一个循环引用。这种引用方式在树结构中是不被允许的，但在图结构中则是合法的。这种循环引用可以用于表示复杂的模型结构，例如循环神经网络中的循环连接。通过这种灵活的引用方式，我们能够更自然地表达神经网络中节点之间的动态关系。"
   ],
   "metadata": {
    "collapsed": false
   },
   "id": "b42645c962e2668e"
  },
  {
   "cell_type": "code",
   "outputs": [
    {
     "data": {
      "text/plain": "NodeDef(\n  type=A,\n  index=0,\n  attributes=('b', 'self', 'w'),\n  subgraphs={\n    'self': NodeRef(\n      type=A,\n      index=0\n    )\n  },\n  static_fields={\n    'w': Array([[0.44416273, 0.10539985, 0.5645528 ],\n           [0.24569166, 0.18704593, 0.5005108 ]], dtype=float32)\n  },\n  leaves={\n    'b': NodeRef(\n      type=ShortTermState,\n      index=1\n    )\n  },\n  metadata=(<class '__main__.A'>,),\n  index_mapping=None\n)"
     },
     "execution_count": 4,
     "metadata": {},
     "output_type": "execute_result"
    }
   ],
   "source": [
    "# 查看图结构\n",
    "\n",
    "brainstate.graph.graphdef(a)"
   ],
   "metadata": {
    "collapsed": false,
    "ExecuteTime": {
     "end_time": "2024-11-03T12:49:06.466691Z",
     "start_time": "2024-11-03T12:49:06.460691Z"
    }
   },
   "id": "13999242fc1b8249",
   "execution_count": 4
  },
  {
   "cell_type": "markdown",
   "source": [
    "## `brainstate.graph.Node` 概述\n",
    "\n",
    "`brainstate.graph.Node` 是 `pygraph` 中的核心类，定义了每个节点的结构和行为。每个节点的 **属性** 是其叶子节点，可以是任意 JAX 数组或其他可转换的数据类型。每个节点的 **方法** 则提供了对该节点所包含数据的操作、更新和变换功能。\n",
    "\n",
    "在 `brainstate` 中，任意神经网络模块都可以作为 `brainstate.graph.Node` 的子类。\n",
    "通过这种设计，我们能够灵活地构建各种神经网络组件，使其既具备良好的可扩展性，又能充分利用 JAX 提供的强大计算能力。例如，我们可以定义一个简单的线性层模块： \n"
   ],
   "metadata": {
    "collapsed": false
   },
   "id": "d8f5835fc73bf39d"
  },
  {
   "cell_type": "code",
   "outputs": [],
   "source": [
    "class MLP(brainstate.graph.Node):\n",
    "    def __init__(self):\n",
    "        self.l1 = brainstate.nn.Linear(2, 3)\n",
    "        self.l2 = brainstate.nn.Linear(3, 4)\n",
    "        self.l3 = brainstate.nn.Linear(4, 5)\n",
    "        self.st = brainstate.ShortTermState(brainstate.random.rand(5))"
   ],
   "metadata": {
    "collapsed": false,
    "ExecuteTime": {
     "end_time": "2024-11-03T12:49:06.471653Z",
     "start_time": "2024-11-03T12:49:06.468038Z"
    }
   },
   "id": "744ae4f4ec0b99ac",
   "execution_count": 5
  },
  {
   "cell_type": "markdown",
   "source": [
    "可以通过以下属性和方法创建和操作节点：\n",
    "\n",
    "- **数据存储**：每个 `brainstate.graph.Node` 节点的 *属性* 可以存储任意 JAX 数组或其他可转换的数据类型。\n",
    "- **节点连接**：每个 `brainstate.graph.Node` 节点的 *属性* 可以连接到其他 `brainstate.graph.Node` 节点，从而建立复杂的依赖图，例如在上面的 `MLP` 类中的三个线性层模块。\n",
    "- **属性及其路径**：每个 `brainstate.graph.Node` 节点在检索和转换时都包含其独特的路径，这有助于在复杂结构中进行识别和检索。该路径表示节点在图中各层次嵌套结构中的位置。\n",
    "\n",
    "例如，我们可以通过以下代码查看 `MLP` 图中的叶子数据点："
   ],
   "metadata": {
    "collapsed": false
   },
   "id": "362cfb1c23b4e4a7"
  },
  {
   "cell_type": "code",
   "outputs": [
    {
     "name": "stdout",
     "output_type": "stream",
     "text": [
      "('l1', '_in_size', 0) 2\n",
      "('l1', '_out_size', 0) 3\n",
      "('l1', 'weight') ParamState\n",
      "('l2', '_in_size', 0) 3\n",
      "('l2', '_out_size', 0) 4\n",
      "('l2', 'weight') ParamState\n",
      "('l3', '_in_size', 0) 4\n",
      "('l3', '_out_size', 0) 5\n",
      "('l3', 'weight') ParamState\n",
      "('st',) ShortTermState\n"
     ]
    }
   ],
   "source": [
    "mlp = MLP()\n",
    "\n",
    "for path, leaf in brainstate.graph.iter_leaf(mlp):\n",
    "    print(path, leaf.__class__.__name__ if isinstance(leaf, brainstate.State) else leaf)"
   ],
   "metadata": {
    "collapsed": false,
    "ExecuteTime": {
     "end_time": "2024-11-03T12:49:07.126304Z",
     "start_time": "2024-11-03T12:49:06.471653Z"
    }
   },
   "id": "c42adbfb69f7e1ff",
   "execution_count": 6
  },
  {
   "cell_type": "markdown",
   "source": [
    "我们也可以通过如下代码查看 ``MLP`` 图中的所有节点："
   ],
   "metadata": {
    "collapsed": false
   },
   "id": "b8edae1c51d0a43f"
  },
  {
   "cell_type": "code",
   "outputs": [
    {
     "name": "stdout",
     "output_type": "stream",
     "text": [
      "('l1',) Linear\n",
      "('l2',) Linear\n",
      "('l3',) Linear\n",
      "() MLP\n"
     ]
    }
   ],
   "source": [
    "for path, node in brainstate.graph.iter_node(mlp):\n",
    "    print(path, node.__class__.__name__)"
   ],
   "metadata": {
    "collapsed": false,
    "ExecuteTime": {
     "end_time": "2024-11-03T12:49:07.130393Z",
     "start_time": "2024-11-03T12:49:07.126304Z"
    }
   },
   "id": "b62e7997903510f4",
   "execution_count": 7
  },
  {
   "cell_type": "markdown",
   "source": [
    "## `pygraph` 常用函数\n",
    "\n",
    "`brainstate` 提供了许多用于操作 `pygraph` 的实用工具，这些工具可以在 [`brainstate.graph` 模块](../apis/graph.rst) 中找到。\n",
    "\n",
    "总体来说，`pygraph` 常用的函数主要分为以下几类：\n",
    "\n",
    "- **图结构操作**：用于构建和检索图结构的函数，包括：\n",
    "    - `brainstate.graph.graphdef`：查看图结构\n",
    "    - `brainstate.graph.iter_node`：遍历图结构中的所有子节点\n",
    "    - `brainstate.graph.iter_leaf`：遍历图结构中的所有数据\n",
    "    - `brainstate.graph.nodes`：查看图结构中的所有节点\n",
    "    - `brainstate.graph.states`：查看图结构中的所有 `State` 实例\n",
    "\n",
    "- **图结构变换**：用于对图结构进行变换和操作的函数，包括：\n",
    "    - `brainstate.graph.treefy_states`：将图结构中的所有 `State` 实例转换为 pytree\n",
    "    - `brainstate.graph.clone`：复制图结构\n",
    "    - `brainstate.graph.treefy_split`：将图结构拆分为图结构 `graphdef` 和 pytree 化的 `State`\n",
    "    - `brainstate.graph.treefy_merge`：将图结构 `graphdef` 和 pytree 化的 `State` 合并为图结构\n",
    "    - `brainstate.graph.flatten`：将图结构展平为`graphdef` 和 `State` 集合\n",
    "    - `brainstate.graph.unflatten`：将展平的图结构还原为原始图结构\n",
    "\n",
    "- **图结构修改**：用于对图结构进行修改和更新的函数，包括：\n",
    "    - `brainstate.graph.pop_states`：删除图结构中满足某种条件的 `State` 实例（见下文的``filter`` 协议部分）\n",
    "    - `brainstate.graph.update_states`：更新图结构中满足某种条件的 `State` 实例\n",
    "\n",
    "- **图结构转换**：用于在 pygraph 和 pytree 数据结构之间相互转换的函数，包括：\n",
    "    - `brainstate.graph.graph_to_tree`：将图结构转换为 pytree\n",
    "    - `brainstate.graph.tree_to_graph`：将 pytree 转换为图结构\n",
    "\n",
    "这些函数为开发者提供了丰富的工具，以便在构建和操作图结构时实现灵活性和高效性。"
   ],
   "metadata": {
    "collapsed": false
   },
   "id": "81d97703f069b263"
  },
  {
   "cell_type": "markdown",
   "source": [
    "在介绍了``pygraph``的基本概念和常用函数之后，我们将通过一个简单的例子来展示如何使用``pygraph``模块构建和操作图结构。"
   ],
   "metadata": {
    "collapsed": false
   },
   "id": "944558138568dba4"
  },
  {
   "cell_type": "code",
   "outputs": [],
   "source": [
    "# 分割图结构为 graphdef 和 树化的states\n",
    "\n",
    "graphdef, tree_states = brainstate.graph.treefy_split(mlp)"
   ],
   "metadata": {
    "collapsed": false,
    "ExecuteTime": {
     "end_time": "2024-11-03T12:49:07.137580Z",
     "start_time": "2024-11-03T12:49:07.130393Z"
    }
   },
   "id": "bcd202f2ab4cf7fe",
   "execution_count": 8
  },
  {
   "cell_type": "code",
   "outputs": [
    {
     "data": {
      "text/plain": "NodeDef(\n  type=MLP,\n  index=0,\n  attributes=('l1', 'l2', 'l3', 'st'),\n  subgraphs={\n    'l1': NodeDef(\n      type=Linear,\n      index=1,\n      attributes=('_in_size', '_name', '_out_size', 'w_mask', 'weight'),\n      subgraphs={\n        '_in_size': NodeDef(\n          type=PytreeType,\n          index=-1,\n          attributes=(0,),\n          subgraphs={},\n          static_fields={\n            0: 2\n          },\n          leaves={},\n          metadata=PyTreeDef((*,)),\n          index_mapping=None\n        ),\n        '_name': NodeDef(\n          type=PytreeType,\n          index=-1,\n          attributes=(),\n          subgraphs={},\n          static_fields={},\n          leaves={},\n          metadata=PyTreeDef(None),\n          index_mapping=None\n        ),\n        '_out_size': NodeDef(\n          type=PytreeType,\n          index=-1,\n          attributes=(0,),\n          subgraphs={},\n          static_fields={\n            0: 3\n          },\n          leaves={},\n          metadata=PyTreeDef((*,)),\n          index_mapping=None\n        ),\n        'w_mask': NodeDef(\n          type=PytreeType,\n          index=-1,\n          attributes=(),\n          subgraphs={},\n          static_fields={},\n          leaves={},\n          metadata=PyTreeDef(None),\n          index_mapping=None\n        )\n      },\n      static_fields={},\n      leaves={\n        'weight': NodeRef(\n          type=ParamState,\n          index=2\n        )\n      },\n      metadata=(<class 'brainstate.nn.Linear'>,),\n      index_mapping=None\n    ),\n    'l2': NodeDef(\n      type=Linear,\n      index=3,\n      attributes=('_in_size', '_name', '_out_size', 'w_mask', 'weight'),\n      subgraphs={\n        '_in_size': NodeDef(\n          type=PytreeType,\n          index=-1,\n          attributes=(0,),\n          subgraphs={},\n          static_fields={\n            0: 3\n          },\n          leaves={},\n          metadata=PyTreeDef((*,)),\n          index_mapping=None\n        ),\n        '_name': NodeDef(\n          type=PytreeType,\n          index=-1,\n          attributes=(),\n          subgraphs={},\n          static_fields={},\n          leaves={},\n          metadata=PyTreeDef(None),\n          index_mapping=None\n        ),\n        '_out_size': NodeDef(\n          type=PytreeType,\n          index=-1,\n          attributes=(0,),\n          subgraphs={},\n          static_fields={\n            0: 4\n          },\n          leaves={},\n          metadata=PyTreeDef((*,)),\n          index_mapping=None\n        ),\n        'w_mask': NodeDef(\n          type=PytreeType,\n          index=-1,\n          attributes=(),\n          subgraphs={},\n          static_fields={},\n          leaves={},\n          metadata=PyTreeDef(None),\n          index_mapping=None\n        )\n      },\n      static_fields={},\n      leaves={\n        'weight': NodeRef(\n          type=ParamState,\n          index=4\n        )\n      },\n      metadata=(<class 'brainstate.nn.Linear'>,),\n      index_mapping=None\n    ),\n    'l3': NodeDef(\n      type=Linear,\n      index=5,\n      attributes=('_in_size', '_name', '_out_size', 'w_mask', 'weight'),\n      subgraphs={\n        '_in_size': NodeDef(\n          type=PytreeType,\n          index=-1,\n          attributes=(0,),\n          subgraphs={},\n          static_fields={\n            0: 4\n          },\n          leaves={},\n          metadata=PyTreeDef((*,)),\n          index_mapping=None\n        ),\n        '_name': NodeDef(\n          type=PytreeType,\n          index=-1,\n          attributes=(),\n          subgraphs={},\n          static_fields={},\n          leaves={},\n          metadata=PyTreeDef(None),\n          index_mapping=None\n        ),\n        '_out_size': NodeDef(\n          type=PytreeType,\n          index=-1,\n          attributes=(0,),\n          subgraphs={},\n          static_fields={\n            0: 5\n          },\n          leaves={},\n          metadata=PyTreeDef((*,)),\n          index_mapping=None\n        ),\n        'w_mask': NodeDef(\n          type=PytreeType,\n          index=-1,\n          attributes=(),\n          subgraphs={},\n          static_fields={},\n          leaves={},\n          metadata=PyTreeDef(None),\n          index_mapping=None\n        )\n      },\n      static_fields={},\n      leaves={\n        'weight': NodeRef(\n          type=ParamState,\n          index=6\n        )\n      },\n      metadata=(<class 'brainstate.nn.Linear'>,),\n      index_mapping=None\n    )\n  },\n  static_fields={},\n  leaves={\n    'st': NodeRef(\n      type=ShortTermState,\n      index=7\n    )\n  },\n  metadata=(<class '__main__.MLP'>,),\n  index_mapping=None\n)"
     },
     "execution_count": 9,
     "metadata": {},
     "output_type": "execute_result"
    }
   ],
   "source": [
    "graphdef"
   ],
   "metadata": {
    "collapsed": false,
    "ExecuteTime": {
     "end_time": "2024-11-03T12:49:07.145295Z",
     "start_time": "2024-11-03T12:49:07.138959Z"
    }
   },
   "id": "a1db06921102fe02",
   "execution_count": 9
  },
  {
   "cell_type": "code",
   "outputs": [
    {
     "data": {
      "text/plain": "NestedDict({\n  'l1': {\n    'weight': TreefyState(\n      type=ParamState,\n      value={'weight': Array([[ 0.5187215 ,  0.42294285, -0.19334847],\n             [ 0.07706995, -0.35018158,  0.9515583 ]], dtype=float32), 'bias': Array([0., 0., 0.], dtype=float32)},\n      tag=None\n    )\n  },\n  'l2': {\n    'weight': TreefyState(\n      type=ParamState,\n      value={'weight': Array([[-0.7998994 , -1.1028353 , -1.3137802 , -0.6670054 ],\n             [ 0.67895615, -1.1388712 , -0.3994556 ,  0.43608958],\n             [ 0.9811476 ,  0.07966074,  0.49631312, -0.01195422]],      dtype=float32), 'bias': Array([0., 0., 0., 0.], dtype=float32)},\n      tag=None\n    )\n  },\n  'l3': {\n    'weight': TreefyState(\n      type=ParamState,\n      value={'weight': Array([[-0.01027286,  0.72686285, -0.13186036,  0.8553584 ,  0.0084674 ],\n             [ 0.508997  ,  0.46148732, -0.9233172 ,  0.31171682,  0.6931351 ],\n             [-0.03430631, -0.35440183, -0.28967488, -0.12506197,  0.80800104],\n             [-0.7702278 ,  1.1087404 , -0.11850059, -1.1407769 ,  0.6917508 ]],      dtype=float32), 'bias': Array([0., 0., 0., 0., 0.], dtype=float32)},\n      tag=None\n    )\n  },\n  'st': TreefyState(\n    type=ShortTermState,\n    value=Array([0.24389029, 0.05778766, 0.88370955, 0.46163833, 0.9883605 ],      dtype=float32),\n    tag=None\n  )\n})"
     },
     "execution_count": 10,
     "metadata": {},
     "output_type": "execute_result"
    }
   ],
   "source": [
    "tree_states"
   ],
   "metadata": {
    "collapsed": false,
    "ExecuteTime": {
     "end_time": "2024-11-03T12:49:07.150978Z",
     "start_time": "2024-11-03T12:49:07.145295Z"
    }
   },
   "id": "e2b2338715ffad",
   "execution_count": 10
  },
  {
   "cell_type": "code",
   "outputs": [
    {
     "data": {
      "text/plain": "MLP(\n  l1=Linear(\n    in_size=(2,),\n    out_size=(3,),\n    w_mask=None,\n    weight=ParamState(\n      value={'weight': Array([[ 0.5187215 ,  0.42294285, -0.19334847],\n             [ 0.07706995, -0.35018158,  0.9515583 ]], dtype=float32), 'bias': Array([0., 0., 0.], dtype=float32)}\n    )\n  ),\n  l2=Linear(\n    in_size=(3,),\n    out_size=(4,),\n    w_mask=None,\n    weight=ParamState(\n      value={'weight': Array([[-0.7998994 , -1.1028353 , -1.3137802 , -0.6670054 ],\n             [ 0.67895615, -1.1388712 , -0.3994556 ,  0.43608958],\n             [ 0.9811476 ,  0.07966074,  0.49631312, -0.01195422]],      dtype=float32), 'bias': Array([0., 0., 0., 0.], dtype=float32)}\n    )\n  ),\n  l3=Linear(\n    in_size=(4,),\n    out_size=(5,),\n    w_mask=None,\n    weight=ParamState(\n      value={'weight': Array([[-0.01027286,  0.72686285, -0.13186036,  0.8553584 ,  0.0084674 ],\n             [ 0.508997  ,  0.46148732, -0.9233172 ,  0.31171682,  0.6931351 ],\n             [-0.03430631, -0.35440183, -0.28967488, -0.12506197,  0.80800104],\n             [-0.7702278 ,  1.1087404 , -0.11850059, -1.1407769 ,  0.6917508 ]],      dtype=float32), 'bias': Array([0., 0., 0., 0., 0.], dtype=float32)}\n    )\n  ),\n  st=ShortTermState(\n    value=Array([0.24389029, 0.05778766, 0.88370955, 0.46163833, 0.9883605 ],      dtype=float32)\n  )\n)"
     },
     "execution_count": 11,
     "metadata": {},
     "output_type": "execute_result"
    }
   ],
   "source": [
    "# 合并图结构和树化的states\n",
    "\n",
    "mlp2 = brainstate.graph.treefy_merge(graphdef, tree_states)\n",
    "\n",
    "mlp2"
   ],
   "metadata": {
    "collapsed": false,
    "ExecuteTime": {
     "end_time": "2024-11-03T12:49:07.157193Z",
     "start_time": "2024-11-03T12:49:07.150978Z"
    }
   },
   "id": "425fbef24d4bd41a",
   "execution_count": 11
  },
  {
   "cell_type": "code",
   "outputs": [
    {
     "data": {
      "text/plain": "FlattedDict({\n  ('l1', 'weight'): ParamState(\n    value={'weight': Array([[ 0.5187215 ,  0.42294285, -0.19334847],\n           [ 0.07706995, -0.35018158,  0.9515583 ]], dtype=float32), 'bias': Array([0., 0., 0.], dtype=float32)}\n  ),\n  ('l2', 'weight'): ParamState(\n    value={'weight': Array([[-0.7998994 , -1.1028353 , -1.3137802 , -0.6670054 ],\n           [ 0.67895615, -1.1388712 , -0.3994556 ,  0.43608958],\n           [ 0.9811476 ,  0.07966074,  0.49631312, -0.01195422]],      dtype=float32), 'bias': Array([0., 0., 0., 0.], dtype=float32)}\n  ),\n  ('l3', 'weight'): ParamState(\n    value={'weight': Array([[-0.01027286,  0.72686285, -0.13186036,  0.8553584 ,  0.0084674 ],\n           [ 0.508997  ,  0.46148732, -0.9233172 ,  0.31171682,  0.6931351 ],\n           [-0.03430631, -0.35440183, -0.28967488, -0.12506197,  0.80800104],\n           [-0.7702278 ,  1.1087404 , -0.11850059, -1.1407769 ,  0.6917508 ]],      dtype=float32), 'bias': Array([0., 0., 0., 0., 0.], dtype=float32)}\n  ),\n  ('st',): ShortTermState(\n    value=Array([0.24389029, 0.05778766, 0.88370955, 0.46163833, 0.9883605 ],      dtype=float32)\n  )\n})"
     },
     "execution_count": 12,
     "metadata": {},
     "output_type": "execute_result"
    }
   ],
   "source": [
    "# 查看图结构中的所有states\n",
    "\n",
    "states = brainstate.graph.states(mlp2)\n",
    "\n",
    "states"
   ],
   "metadata": {
    "collapsed": false,
    "ExecuteTime": {
     "end_time": "2024-11-03T12:49:07.163498Z",
     "start_time": "2024-11-03T12:49:07.157193Z"
    }
   },
   "id": "764b3711a129c371",
   "execution_count": 12
  },
  {
   "cell_type": "markdown",
   "source": [
    "值得注意的是，对于大部分检索``State``实例的图操作函数，都支持传入一系列``filter``函数，用于筛选出满足某种条件的``State``实例。比如，如果只需要筛选出所有的``ShortTermState``实例，可以通过以下代码实现："
   ],
   "metadata": {
    "collapsed": false
   },
   "id": "3bd6e1b9aee9c1e0"
  },
  {
   "cell_type": "code",
   "outputs": [
    {
     "data": {
      "text/plain": "FlattedDict({\n  ('st',): ShortTermState(\n    value=Array([0.24389029, 0.05778766, 0.88370955, 0.46163833, 0.9883605 ],      dtype=float32)\n  )\n})"
     },
     "execution_count": 13,
     "metadata": {},
     "output_type": "execute_result"
    }
   ],
   "source": [
    "short_term_states = brainstate.graph.states(mlp2, brainstate.ShortTermState)\n",
    "\n",
    "short_term_states"
   ],
   "metadata": {
    "collapsed": false,
    "ExecuteTime": {
     "end_time": "2024-11-03T12:49:07.168627Z",
     "start_time": "2024-11-03T12:49:07.163498Z"
    }
   },
   "id": "a22cf583ecaa1fcc",
   "execution_count": 13
  },
  {
   "cell_type": "markdown",
   "source": [
    "## ``filter`` 过滤器语法\n",
    "\n",
    "\n",
    "一般来说，``filter``具有如下函数形式：\n",
    "\n",
    "```python\n",
    "def predicate(path: tuple[Key, ...], value: Any) -> bool:\n",
    "    ...\n",
    "```\n",
    "\n",
    "其中 `Key` 是可哈希和可比较的数据类型（往往是字符串），`path` 是表示`value`所对应的路径嵌套结构的 `Key` 元组，`value` 是路径上的值。如果值应包含在该``filter``中，函数返回 `True`，否则返回 `False`。\n",
    "\n",
    "比如，我们可以定义一个 ``filter`` 函数，用于筛选出所有的 ``ParamState`` 实例："
   ],
   "metadata": {
    "collapsed": false
   },
   "id": "2920e59ef95d5ad7"
  },
  {
   "cell_type": "code",
   "outputs": [
    {
     "name": "stdout",
     "output_type": "stream",
     "text": [
      "is_param((), bst.ParamState(0.)) = True\n"
     ]
    }
   ],
   "source": [
    "def is_param(path, value) -> bool:\n",
    "    return isinstance(value, brainstate.ParamState)\n",
    "\n",
    "\n",
    "print(f'{is_param((), brainstate.ParamState(0.)) = }')"
   ],
   "metadata": {
    "collapsed": false,
    "ExecuteTime": {
     "end_time": "2024-11-03T12:49:07.174607Z",
     "start_time": "2024-11-03T12:49:07.171154Z"
    }
   },
   "id": "29585040efeaae38",
   "execution_count": 14
  },
  {
   "cell_type": "markdown",
   "source": [
    "但是，为了简化 ``filter`` 函数的创建， ``brainstate`` 提供了一个小型的领域特定语言（domain-specific language，DSL）。该类型允许用户传递类型、布尔值、省略号、元组/列表等，并在内部将它们转换为相应的谓词、元组/列表等。\n",
    "\n",
    "| 字面量 | 可调用对象 | 描述 |\n",
    "|--------|----------------------|-------------|\n",
    "| `...` 或 `True` | `Everything()` | 匹配所有值 |\n",
    "| `None` 或 `False` | `Nothing()` | 不匹配任何值 |\n",
    "| `type` | `OfType(type)` | 匹配类型为 `type` 的实例,或具有类型为 `type` 的 `type` 属性的值 |\n",
    "| | `PathContains(key)` | 匹配关联的 `path` 中包含指定 `key` 的值 |\n",
    "| `'{filter}'` <span style=\"color:gray\">str</span> | `WithTag('{filter}')` | 匹配具有等于 `'{filter}'` 的字符串 `tag` 属性的值。被 `RngKey` 和 `RngCount` 使用。|\n",
    "| `(*filters)` <span style=\"color:gray\">tuple</span> 或 `[*filters]` <span style=\"color:gray\">list</span> | `Any(*filters)` | 匹配满足任一内部 `filters` 的值 |\n",
    "| | `All(*filters)` | 匹配满足所有内部 `filters` 的值 |\n",
    "| | `Not(filter)` | 匹配不满足内部 `filter` 的值 |\n",
    "\n",
    "比如，我们可以使用 ``filter`` DSL 来定义一个筛选出所有的 ``ParamState`` 实例和剩下的其他实例的 ``State``："
   ],
   "metadata": {
    "collapsed": false
   },
   "id": "fc649f3692495a44"
  },
  {
   "cell_type": "code",
   "outputs": [
    {
     "data": {
      "text/plain": "FlattedDict({\n  ('l1', 'weight'): ParamState(\n    value={'weight': Array([[ 0.5187215 ,  0.42294285, -0.19334847],\n           [ 0.07706995, -0.35018158,  0.9515583 ]], dtype=float32), 'bias': Array([0., 0., 0.], dtype=float32)}\n  ),\n  ('l2', 'weight'): ParamState(\n    value={'weight': Array([[-0.7998994 , -1.1028353 , -1.3137802 , -0.6670054 ],\n           [ 0.67895615, -1.1388712 , -0.3994556 ,  0.43608958],\n           [ 0.9811476 ,  0.07966074,  0.49631312, -0.01195422]],      dtype=float32), 'bias': Array([0., 0., 0., 0.], dtype=float32)}\n  ),\n  ('l3', 'weight'): ParamState(\n    value={'weight': Array([[-0.01027286,  0.72686285, -0.13186036,  0.8553584 ,  0.0084674 ],\n           [ 0.508997  ,  0.46148732, -0.9233172 ,  0.31171682,  0.6931351 ],\n           [-0.03430631, -0.35440183, -0.28967488, -0.12506197,  0.80800104],\n           [-0.7702278 ,  1.1087404 , -0.11850059, -1.1407769 ,  0.6917508 ]],      dtype=float32), 'bias': Array([0., 0., 0., 0., 0.], dtype=float32)}\n  )\n})"
     },
     "execution_count": 15,
     "metadata": {},
     "output_type": "execute_result"
    }
   ],
   "source": [
    "params, others = brainstate.graph.states(mlp, brainstate.ParamState, ...)\n",
    "\n",
    "params"
   ],
   "metadata": {
    "collapsed": false,
    "ExecuteTime": {
     "end_time": "2024-11-03T12:49:07.180301Z",
     "start_time": "2024-11-03T12:49:07.174607Z"
    }
   },
   "id": "439fc1882b662ea9",
   "execution_count": 15
  },
  {
   "cell_type": "code",
   "outputs": [
    {
     "data": {
      "text/plain": "FlattedDict({\n  ('st',): ShortTermState(\n    value=Array([0.24389029, 0.05778766, 0.88370955, 0.46163833, 0.9883605 ],      dtype=float32)\n  )\n})"
     },
     "execution_count": 16,
     "metadata": {},
     "output_type": "execute_result"
    }
   ],
   "source": [
    "others"
   ],
   "metadata": {
    "collapsed": false,
    "ExecuteTime": {
     "end_time": "2024-11-03T12:49:07.185305Z",
     "start_time": "2024-11-03T12:49:07.181641Z"
    }
   },
   "id": "4808132913706510",
   "execution_count": 16
  },
  {
   "cell_type": "markdown",
   "source": [
    "## `pygraph` 与 `pytree` 的转换\n",
    "\n",
    "`brainstate` 提供了一系列用于 `pygraph` 和 `pytree` 之间相互转换的函数，这些函数可以在 [`brainstate.graph` 模块](../apis/graph.rst) 中找到。特别地，我们在这里介绍两个常用的函数：\n",
    "\n",
    "- **`brainstate.graph.treefy_split`**：将图结构拆分为图结构和树化的 `TreefyState` 实例。该函数可以用于将图结构中的所有 `State` 实例转换为 pytree，同时保留图结构中的其他节点信息。\n",
    "\n",
    "- **`brainstate.graph.treefy_merge`**：将图结构和树化的 `TreefyState` 实例重新合并为图结构。该函数可以用于将 pytree 转换回图结构，并保留 pytree 中的其他节点信息。\n",
    "\n",
    "这两个函数可以帮助用户在图结构和 pytree 之间进行灵活的转换，从而更方便地利用 JAX 的函数转换功能，特别是在复杂的模型结构中。\n",
    "\n",
    "我们可以通过以下代码来演示这两个函数的使用："
   ],
   "metadata": {
    "collapsed": false
   },
   "id": "7a4e4ab852747ee1"
  },
  {
   "cell_type": "code",
   "outputs": [],
   "source": [
    "class Linear(brainstate.nn.Module):\n",
    "    def __init__(self, din: int, dout: int):\n",
    "        super().__init__()\n",
    "        self.w = brainstate.ParamState(brainstate.random.rand(din, dout))\n",
    "        self.b = brainstate.ParamState(jnp.zeros((dout,)))\n",
    "\n",
    "    def __call__(self, x):\n",
    "        return x @ self.w.value + self.b.value\n",
    "\n",
    "\n",
    "class Count(brainstate.State):\n",
    "    pass\n",
    "\n",
    "\n",
    "class MLP(brainstate.graph.Node):\n",
    "    def __init__(self, din, dhidden, dout):\n",
    "        self.count = Count(jnp.array(0))\n",
    "        self.linear1 = Linear(din, dhidden)\n",
    "        self.linear2 = Linear(dhidden, dout)\n",
    "\n",
    "    def __call__(self, x):\n",
    "        self.count.value += 1\n",
    "        x = self.linear1(x)\n",
    "        x = jax.nn.relu(x)\n",
    "        x = self.linear2(x)\n",
    "        return x"
   ],
   "metadata": {
    "collapsed": false,
    "ExecuteTime": {
     "end_time": "2024-11-03T12:49:07.191607Z",
     "start_time": "2024-11-03T12:49:07.186311Z"
    }
   },
   "id": "adf779ddc38200fe",
   "execution_count": 17
  },
  {
   "cell_type": "markdown",
   "source": [
    "在上面的代码中，我们定义了一个简单的多层感知机模型 ``MLP``，其中包含两个线性层模块 ``Linear`` 和一个计数器 ``Count``。我们可以通过以下代码来查看这个模型的图结构："
   ],
   "metadata": {
    "collapsed": false
   },
   "id": "3fe2b3b66b2a4449"
  },
  {
   "cell_type": "code",
   "outputs": [
    {
     "data": {
      "text/plain": "NestedDict({\n  'linear1': {\n    'b': TreefyState(\n      type=ParamState,\n      value=Array([0., 0., 0., 0., 0., 0., 0., 0., 0., 0., 0., 0., 0., 0., 0., 0., 0.,\n             0., 0., 0., 0., 0., 0., 0., 0., 0., 0., 0., 0., 0., 0., 0.],      dtype=float32),\n      tag=None\n    ),\n    'w': TreefyState(\n      type=ParamState,\n      value=Array([[0.9392605 , 0.7790779 , 0.66677403, 0.08050084, 0.686725  ,\n              0.02764857, 0.99246347, 0.9000404 , 0.7771156 , 0.62787473,\n              0.1648587 , 0.4361236 , 0.71830595, 0.706252  , 0.69551015,\n              0.72018254, 0.32448876, 0.5692558 , 0.9435898 , 0.12574542,\n              0.8008071 , 0.5247209 , 0.05799401, 0.68780065, 0.09367621,\n              0.09441042, 0.60562134, 0.66806376, 0.7862117 , 0.2773832 ,\n              0.79793155, 0.5861008 ]], dtype=float32),\n      tag=None\n    )\n  },\n  'linear2': {\n    'b': TreefyState(\n      type=ParamState,\n      value=Array([0.], dtype=float32),\n      tag=None\n    ),\n    'w': TreefyState(\n      type=ParamState,\n      value=Array([[0.53812754],\n             [0.4800198 ],\n             [0.35818744],\n             [0.08137846],\n             [0.71090734],\n             [0.20917165],\n             [0.02767277],\n             [0.55027103],\n             [0.5978626 ],\n             [0.50851727],\n             [0.5964645 ],\n             [0.0042243 ],\n             [0.603384  ],\n             [0.99620223],\n             [0.6792792 ],\n             [0.50142395],\n             [0.7738402 ],\n             [0.6081499 ],\n             [0.03066003],\n             [0.8012289 ],\n             [0.6008667 ],\n             [0.67765856],\n             [0.08225954],\n             [0.46319723],\n             [0.8680023 ],\n             [0.23108232],\n             [0.05589938],\n             [0.6159154 ],\n             [0.83205044],\n             [0.22420049],\n             [0.35970926],\n             [0.24137259]], dtype=float32),\n      tag=None\n    )\n  }\n})"
     },
     "execution_count": 18,
     "metadata": {},
     "output_type": "execute_result"
    }
   ],
   "source": [
    "model = MLP(1, 32, 1)\n",
    "\n",
    "graphdef, params_, counts_ = brainstate.graph.treefy_split(MLP(din=1, dhidden=32, dout=1), brainstate.ParamState, Count)\n",
    "\n",
    "params_"
   ],
   "metadata": {
    "collapsed": false,
    "ExecuteTime": {
     "end_time": "2024-11-03T12:49:07.335994Z",
     "start_time": "2024-11-03T12:49:07.193054Z"
    }
   },
   "id": "37ebc4a47451ce6",
   "execution_count": 18
  },
  {
   "cell_type": "code",
   "outputs": [
    {
     "data": {
      "text/plain": "NestedDict({\n  'count': TreefyState(\n    type=Count,\n    value=Array(0, dtype=int32, weak_type=True),\n    tag=None\n  )\n})"
     },
     "execution_count": 19,
     "metadata": {},
     "output_type": "execute_result"
    }
   ],
   "source": [
    "counts_"
   ],
   "metadata": {
    "collapsed": false,
    "ExecuteTime": {
     "end_time": "2024-11-03T12:49:07.342698Z",
     "start_time": "2024-11-03T12:49:07.335994Z"
    }
   },
   "id": "3d44e50e48b5e8c2",
   "execution_count": 19
  },
  {
   "cell_type": "markdown",
   "source": [
    "## ``pygraph`` 与 JAX 函数转换\n",
    "\n",
    "将``pygraph``转换为``pytree``后，我们可以使用JAX的函数转换功能对其进行操作。比如，我们可以使用JAX的``jit``函数对``MLP``模型进行编译，使用``grad``函数对其进行自动微分，使用``vmap``函数对其进行批量操作等。这些函数可以帮助用户更方便地对复杂的模型结构进行高效的计算操作。\n",
    "\n",
    "我们首先定义一个简单的数据集："
   ],
   "metadata": {
    "collapsed": false
   },
   "id": "4032a3a00e22e3e2"
  },
  {
   "cell_type": "code",
   "outputs": [],
   "source": [
    "X = jnp.linspace(0, 1, 100)[:, None]\n",
    "Y = 0.8 * X ** 2 + 0.1 + brainstate.random.normal(0, 0.1, size=X.shape)\n",
    "\n",
    "\n",
    "def dataset(batch_size):\n",
    "    while True:\n",
    "        idx = brainstate.random.choice(len(X), size=batch_size)\n",
    "        yield X[idx], Y[idx]"
   ],
   "metadata": {
    "collapsed": false,
    "ExecuteTime": {
     "end_time": "2024-11-03T12:49:07.564451Z",
     "start_time": "2024-11-03T12:49:07.342698Z"
    }
   },
   "id": "665a48c13019b216",
   "execution_count": 20
  },
  {
   "cell_type": "markdown",
   "source": [
    "接下来，我们使用``jax.jit``函数对``MLP``模型进行编译，并使用``jax.grad``函数对其进行自动微分："
   ],
   "metadata": {
    "collapsed": false
   },
   "id": "5e24cca21877bd50"
  },
  {
   "cell_type": "code",
   "outputs": [],
   "source": [
    "@jax.jit\n",
    "def train_step(params, counts, batch):\n",
    "    x, y = batch\n",
    "\n",
    "    def loss_fn(params):\n",
    "        model = brainstate.graph.treefy_merge(graphdef, params, counts)\n",
    "        y_pred = model(x)\n",
    "        new_counts = brainstate.graph.treefy_states(model, Count)\n",
    "        loss = jnp.mean((y - y_pred) ** 2)\n",
    "        return loss, new_counts\n",
    "\n",
    "    grad, counts = jax.grad(loss_fn, has_aux=True)(params)\n",
    "    #                          |-------- sgd ---------|\n",
    "    params = jax.tree.map(lambda w, g: w - 0.1 * g, params, grad)\n",
    "\n",
    "    return params, counts"
   ],
   "metadata": {
    "collapsed": false,
    "ExecuteTime": {
     "end_time": "2024-11-03T12:49:07.571226Z",
     "start_time": "2024-11-03T12:49:07.565927Z"
    }
   },
   "id": "72c09dd9353e584b",
   "execution_count": 21
  },
  {
   "cell_type": "markdown",
   "source": [
    "我们再定义一个测试函数，用于计算模型的损失："
   ],
   "metadata": {
    "collapsed": false
   },
   "id": "11b9ffed2e81415f"
  },
  {
   "cell_type": "code",
   "outputs": [],
   "source": [
    "@jax.jit\n",
    "def test_step(params, counts, batch):\n",
    "    x, y = batch\n",
    "    model = brainstate.graph.treefy_merge(graphdef, params, counts)\n",
    "    y_pred = model(x)\n",
    "    loss = jnp.mean((y - y_pred) ** 2)\n",
    "    return {'loss': loss}"
   ],
   "metadata": {
    "collapsed": false,
    "ExecuteTime": {
     "end_time": "2024-11-03T12:49:07.576664Z",
     "start_time": "2024-11-03T12:49:07.572239Z"
    }
   },
   "id": "8bc37d87d2b1d997",
   "execution_count": 22
  },
  {
   "cell_type": "markdown",
   "source": [
    "接下来，让我们开始训练模型："
   ],
   "metadata": {
    "collapsed": false
   },
   "id": "a7715f6bfa209604"
  },
  {
   "cell_type": "code",
   "outputs": [
    {
     "name": "stdout",
     "output_type": "stream",
     "text": [
      "step: 0, loss: 3.798895835876465\n",
      "step: 1000, loss: 0.008471012115478516\n",
      "step: 2000, loss: 0.008467071689665318\n",
      "step: 3000, loss: 0.00840870849788189\n",
      "step: 4000, loss: 0.008454578928649426\n",
      "step: 5000, loss: 0.008516873233020306\n",
      "step: 6000, loss: 0.008453031070530415\n",
      "step: 7000, loss: 0.00842580571770668\n",
      "step: 8000, loss: 0.00850499514490366\n",
      "step: 9000, loss: 0.008403446525335312\n"
     ]
    }
   ],
   "source": [
    "total_steps = 10_000\n",
    "for step, batch in enumerate(dataset(32)):\n",
    "    params_, counts_ = train_step(params_, counts_, batch)\n",
    "\n",
    "    if step % 1000 == 0:\n",
    "        logs = test_step(params_, counts_, (X, Y))\n",
    "        print(f\"step: {step}, loss: {logs['loss']}\")\n",
    "\n",
    "    if step >= total_steps - 1:\n",
    "        break"
   ],
   "metadata": {
    "collapsed": false,
    "ExecuteTime": {
     "end_time": "2024-11-03T12:49:18.760803Z",
     "start_time": "2024-11-03T12:49:07.577975Z"
    }
   },
   "id": "e01b57b6c0dac6db",
   "execution_count": 23
  },
  {
   "cell_type": "markdown",
   "source": [
    "最后，我们还原出模型，并查看模型的调用次数："
   ],
   "metadata": {
    "collapsed": false
   },
   "id": "f7c2db500a8b9f8"
  },
  {
   "cell_type": "code",
   "outputs": [
    {
     "name": "stdout",
     "output_type": "stream",
     "text": [
      "times called: 10000\n"
     ]
    }
   ],
   "source": [
    "model = brainstate.graph.treefy_merge(graphdef, params_, counts_)\n",
    "print('times called:', model.count.value)"
   ],
   "metadata": {
    "collapsed": false,
    "ExecuteTime": {
     "end_time": "2024-11-03T12:49:18.766918Z",
     "start_time": "2024-11-03T12:49:18.761810Z"
    }
   },
   "id": "31b1f664b448a17b",
   "execution_count": 24
  },
  {
   "cell_type": "markdown",
   "source": [
    "最后，我们可以使用训练好的模型对数据进行预测，并查看预测结果："
   ],
   "metadata": {
    "collapsed": false
   },
   "id": "98af117cd8af3244"
  },
  {
   "cell_type": "code",
   "outputs": [
    {
     "data": {
      "text/plain": "<Figure size 640x480 with 1 Axes>",
      "image/png": "[encoded data removed]"
     },
     "metadata": {},
     "output_type": "display_data"
    }
   ],
   "source": [
    "y_pred = model(X)\n",
    "\n",
    "import matplotlib.pyplot as plt\n",
    "\n",
    "plt.scatter(X, Y, color='blue')\n",
    "plt.plot(X, y_pred, color='black')\n",
    "plt.show()"
   ],
   "metadata": {
    "collapsed": false,
    "ExecuteTime": {
     "end_time": "2024-11-03T12:49:19.597922Z",
     "start_time": "2024-11-03T12:49:18.770188Z"
    }
   },
   "id": "52102b5490b95f6e",
   "execution_count": 25
  },
  {
   "cell_type": "markdown",
   "source": [
    "## 总结\n",
    "\n",
    "``PyGraph`` 是 ``brainstate`` 库中专门设计的数据结构，旨在为复杂的图结构提供 JAX 函数转换支持。它的核心价值在于:\n",
    "\n",
    "1. **图结构的灵活表达**\n",
    "   - 相比传统的树结构(pytree)，图结构能够表达更复杂的节点关系和依赖性\n",
    "   - 支持循环引用，适合表达循环神经网络等复杂模型结构\n",
    "   - 节点可以包含任意 pytree 数组数据或子图结构\n",
    "\n",
    "2. **与 JAX 生态的无缝集成**\n",
    "   - 支持 JAX 的自动微分、向量化、并行化等核心功能\n",
    "   - 提供了图结构与 pytree 之间的转换机制\n",
    "   - 原生支持诸如 vmap、grad 等 JAX 函数转换\n",
    "\n",
    "我们希望 `PyGraph` 通过其灵活的结构设计和强大的功能支持，能很好地解决了复杂模型构建中的技术挑战。"
   ],
   "metadata": {
    "collapsed": false
   },
   "id": "81c0a436da6bfc9f"
  }
 ],
 "metadata": {
  "kernelspec": {
   "display_name": "Python 3",
   "language": "python",
   "name": "python3"
  },
  "language_info": {
   "codemirror_mode": {
    "name": "ipython",
    "version": 2
   },
   "file_extension": ".py",
   "mimetype": "text/x-python",
   "name": "python",
   "nbconvert_exporter": "python",
   "pygments_lexer": "ipython2",
   "version": "2.7.6"
  }
 },
 "nbformat": 4,
 "nbformat_minor": 5
}
