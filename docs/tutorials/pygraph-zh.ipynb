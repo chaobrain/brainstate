{
 "cells": [
  {
   "cell_type": "markdown",
   "source": [
    "# ``pygraph`` 简介\n",
    "\n",
    "\n",
    "在 JAX 中，各种强大的函数转换适用于 pytree数据结构（即字典、列表、元组等树状结构）。基于pytree，JAX 可以有效地执行微分、向量化和并行化操作。然而，许多实际的应用场景，特别是复杂的物理结构和神经网络模型，其本质上更适合用图 (graph) 而非简单的树结构来表示。因此，为了扩展 JAX 对于图结构的支持，``brainstate`` 库引入了 ``pygraph`` 模块，为 JAX 提供了强大的图形结构支持，使得用户可以在复杂的模型状态管理和变换操作中使用图结构。\n",
    "\n",
    "## 什么是 ``pygraph``？\n",
    "\n",
    "``pygraph`` 是 ``brainstate`` 中专门设计用于支持 JAX 函数转换的数据结构。与常见的树结构相比，图结构能够表达更多样的节点关系和依赖性，适用于更加复杂的模型结构。特别是当模型状态需要依赖于多个节点的交互作用时，图结构在表达上更为灵活。``pygraph`` 模块以 ``brainstate.graph.Node`` 作为图的基本节点，通过定义节点之间的关系（边）来构建一个图形结构。每个节点可以包含任意的 pytree 数组数据或 ``pygraph`` 子结构，从而使图的构建更加灵活和模块化。\n",
    "\n",
    "我们可以将 ``brainstate.graph.Node`` 视作一个类容器，该类的属性属于其叶子。容器之间可以相互引用，形成复杂的图结构。"
   ],
   "metadata": {
    "collapsed": false
   },
   "id": "a9ba4b72d31c09f1"
  },
  {
   "cell_type": "code",
   "outputs": [],
   "source": [
    "import brainstate as bst\n",
    "import jax\n",
    "import jax.numpy as jnp"
   ],
   "metadata": {
    "collapsed": false,
    "ExecuteTime": {
     "end_time": "2024-10-27T02:42:37.035187Z",
     "start_time": "2024-10-27T02:42:36.271836Z"
    }
   },
   "id": "44dcb78d85021855",
   "execution_count": 1
  },
  {
   "cell_type": "code",
   "outputs": [],
   "source": [
    "class A(bst.graph.Node):\n",
    "    def __init__(self):\n",
    "        self.w = bst.random.rand(2, 3)\n",
    "        self.b = bst.ShortTermState(bst.random.rand(3))"
   ],
   "metadata": {
    "collapsed": false,
    "ExecuteTime": {
     "end_time": "2024-10-27T02:42:37.040176Z",
     "start_time": "2024-10-27T02:42:37.036238Z"
    }
   },
   "id": "f1f1e92f48f7e4db",
   "execution_count": 2
  },
  {
   "cell_type": "markdown",
   "source": [
    "在上面的代码中，我们定义了一个类 ``A``，该类继承自 ``brainstate.graph.Node``。在类的初始化函数中，我们定义了两个属性 ``w`` 和 ``b``，分别为一个随机生成的 2x3 矩阵和一个随机生成的长度为 3 的数组。这两个数据结构都是 JAX 的 pytree 结。但是，``brainstate.graph.Node`` 运行我们创建循环引用。比如："
   ],
   "metadata": {
    "collapsed": false
   },
   "id": "29f24bbd384f2b4e"
  },
  {
   "cell_type": "code",
   "outputs": [],
   "source": [
    "a = A()\n",
    "a.self = a"
   ],
   "metadata": {
    "collapsed": false,
    "ExecuteTime": {
     "end_time": "2024-10-27T02:42:37.322110Z",
     "start_time": "2024-10-27T02:42:37.042606Z"
    }
   },
   "id": "834e8fd2f635452b",
   "execution_count": 3
  },
  {
   "cell_type": "markdown",
   "source": [
    "在这里，我们将 ``a`` 的 ``self`` 属性设置为 ``a``，这样就形成了一个循环引用。这种引用方式在树结构中是不允许的，但在图结构中是允许的。这种引用方式可以用于表示复杂的模型结构，比如循环神经网络中的循环连接。"
   ],
   "metadata": {
    "collapsed": false
   },
   "id": "b42645c962e2668e"
  },
  {
   "cell_type": "code",
   "outputs": [
    {
     "data": {
      "text/plain": "NodeDef(\n  type=A,\n  index=0,\n  attributes=('b', 'self', 'w'),\n  subgraphs={\n    'self': NodeRef(\n      type=A,\n      index=0\n    )\n  },\n  static_fields={\n    'w': Array([[0.96316934, 0.75793946, 0.15561926],\n           [0.5031538 , 0.4152527 , 0.3976587 ]], dtype=float32)\n  },\n  leaves={\n    'b': NodeRef(\n      type=ShortTermState,\n      index=1\n    )\n  },\n  metadata=(<class '__main__.A'>,),\n  index_mapping=None\n)"
     },
     "execution_count": 4,
     "metadata": {},
     "output_type": "execute_result"
    }
   ],
   "source": [
    "# 查看图结构\n",
    "\n",
    "bst.graph.graphdef(a)"
   ],
   "metadata": {
    "collapsed": false,
    "ExecuteTime": {
     "end_time": "2024-10-27T02:42:37.329499Z",
     "start_time": "2024-10-27T02:42:37.323184Z"
    }
   },
   "id": "13999242fc1b8249",
   "execution_count": 4
  },
  {
   "cell_type": "markdown",
   "source": [
    "## ``brainstate.graph.Node`` 概述\n",
    "\n",
    "``brainstate.graph.Node`` 是 ``pygraph`` 中的核心类，它定义了每个节点的结构和行为。每个节点的**属性**即为其叶子节点，可以是任意的 JAX 数组或其他可转换的数据类型。每个节点的**方法**为该节点针对其数据的操作和行为，可以通过节点的方法来实现对节点所包含数据的操作、更新和变换。\n",
    "\n",
    "在 ``brainstate`` 中，任意的神经网络模块都是 ``brainstate.graph.Node`` 的子类。比如，我们可以定义一个简单的线性层模块："
   ],
   "metadata": {
    "collapsed": false
   },
   "id": "d8f5835fc73bf39d"
  },
  {
   "cell_type": "code",
   "outputs": [],
   "source": [
    "class MLP(bst.graph.Node):\n",
    "    def __init__(self):\n",
    "        self.l1 = bst.nn.Linear(2, 3)\n",
    "        self.l2 = bst.nn.Linear(3, 4)\n",
    "        self.l3 = bst.nn.Linear(4, 5)\n",
    "        self.st = bst.ShortTermState(bst.random.rand(5))"
   ],
   "metadata": {
    "collapsed": false,
    "ExecuteTime": {
     "end_time": "2024-10-27T02:42:37.334438Z",
     "start_time": "2024-10-27T02:42:37.330747Z"
    }
   },
   "id": "744ae4f4ec0b99ac",
   "execution_count": 5
  },
  {
   "cell_type": "markdown",
   "source": [
    "可以通过以下属性和方法创建和操作节点：\n",
    "\n",
    "- **数据存储**：每个``brainstate.graph.Node``节点的*属性*可以存储任意 JAX 数组或其他可转换的数据类型。\n",
    "- **节点连接**：每个``brainstate.graph.Node``节点的*属性*可以连接到别的``brainstate.graph.Node``节点，从而建立复杂的依赖图。如上面的``MLP``类中的三个线性层模块。\n",
    "- **属性及其路径**：每个``brainstate.graph.Node``节点在检索和转换的时候包含其独特的路径，便于在复杂结构中进行识别和检索。其路径即为其在图中各种层次嵌套结构中的位置。\n",
    "\n",
    "比如，我们可以通过以下代码查看 ``MLP`` 图中的叶子数据点："
   ],
   "metadata": {
    "collapsed": false
   },
   "id": "362cfb1c23b4e4a7"
  },
  {
   "cell_type": "code",
   "outputs": [
    {
     "name": "stdout",
     "output_type": "stream",
     "text": [
      "('l1', '_in_size', 0) 2\n",
      "('l1', '_out_size', 0) 3\n",
      "('l1', 'weight') ParamState\n",
      "('l2', '_in_size', 0) 3\n",
      "('l2', '_out_size', 0) 4\n",
      "('l2', 'weight') ParamState\n",
      "('l3', '_in_size', 0) 4\n",
      "('l3', '_out_size', 0) 5\n",
      "('l3', 'weight') ParamState\n",
      "('st',) ShortTermState\n"
     ]
    }
   ],
   "source": [
    "mlp = MLP()\n",
    "\n",
    "for path, leaf in bst.graph.iter_leaf(mlp):\n",
    "    print(path, leaf.__class__.__name__ if isinstance(leaf, bst.State) else leaf)"
   ],
   "metadata": {
    "collapsed": false,
    "ExecuteTime": {
     "end_time": "2024-10-27T02:42:37.994383Z",
     "start_time": "2024-10-27T02:42:37.334438Z"
    }
   },
   "id": "c42adbfb69f7e1ff",
   "execution_count": 6
  },
  {
   "cell_type": "markdown",
   "source": [
    "我们也可以通过如下代码查看 ``MLP`` 图中的所有节点："
   ],
   "metadata": {
    "collapsed": false
   },
   "id": "b8edae1c51d0a43f"
  },
  {
   "cell_type": "code",
   "outputs": [
    {
     "name": "stdout",
     "output_type": "stream",
     "text": [
      "('l1',) Linear\n",
      "('l2',) Linear\n",
      "('l3',) Linear\n",
      "() MLP\n"
     ]
    }
   ],
   "source": [
    "for path, node in bst.graph.iter_node(mlp):\n",
    "    print(path, node.__class__.__name__)"
   ],
   "metadata": {
    "collapsed": false,
    "ExecuteTime": {
     "end_time": "2024-10-27T02:42:37.998476Z",
     "start_time": "2024-10-27T02:42:37.995389Z"
    }
   },
   "id": "b62e7997903510f4",
   "execution_count": 7
  },
  {
   "cell_type": "markdown",
   "source": [
    "## ``pygraph``常用函数\n",
    "\n",
    "``brainstate`` 提供了许多用于操作 ``pygraph`` 的实用程序。这些实用程序可以在 [``brainstate.graph`` 模块](../apis/graph.rst) 中找到。\n",
    "\n",
    "大体来说，``pygraph``常用的函数主要分为以下几类：\n",
    "\n",
    "- **图结构操作**：用于构建和检索图结构的函数，如 \n",
    "    - ``brainstate.graph.graphdef``用于查看图结构、\n",
    "    - ``brainstate.graph.iter_node``用于遍历图结构中的所有子节点\n",
    "    - ``brainstate.graph.iter_leaf``用于遍历图结构中的所有数据\n",
    "    - ``brainstate.graph.nodes``用于查看图结构中的所有节点\n",
    "    - ``brainstate.graph.states``用于查看图结构中的所有``State``实例\n",
    "- **图结构变换**：用于对图结构进行变换和操作的函数，如\n",
    "    - ``brainstate.graph.treefy_states``用于将图结构中的所有``State``实例转换为pytree\n",
    "    - ``brainstate.graph.clone``用于复制图结构\n",
    "    - ``brainstate.graph.treefy_split``用于将图结构拆分为图结构``graphdef``和pytree化的``State``\n",
    "    - ``brainstate.graph.treefy_merge``用于将图结构``graphdef``和pytree化的``State``合并为图结构\n",
    "- **图结构修改**：用于对图结构进行修改和更新的函数，如\n",
    "    - ``brainstate.graph.pop_states``用于删除图结构中的满足某种条件的``State``实例，见下文的[``filter``协议](#filter)部分\n",
    "    - ``brainstate.graph.update_states``用于更新图结构中的满足某种条件的``State``实例\n",
    "- **图结构转换**：用于pygraph和pytree数据结构相互转换的函数，如\n",
    "    - ``brainstate.graph.graph_to_tree``用于将图结构转换为pytree\n",
    "    - ``brainstate.graph.tree_to_graph``用于将pytree转换为图结构"
   ],
   "metadata": {
    "collapsed": false
   },
   "id": "81d97703f069b263"
  },
  {
   "cell_type": "markdown",
   "source": [
    "在介绍了``pygraph``的基本概念和常用函数之后，我们将通过一个简单的例子来展示如何使用``pygraph``模块构建和操作图结构。"
   ],
   "metadata": {
    "collapsed": false
   },
   "id": "944558138568dba4"
  },
  {
   "cell_type": "code",
   "outputs": [],
   "source": [
    "# 分割图结构为 graphdef 和 树化的states\n",
    "\n",
    "graphdef, tree_states = bst.graph.treefy_split(mlp)"
   ],
   "metadata": {
    "collapsed": false,
    "ExecuteTime": {
     "end_time": "2024-10-27T02:42:38.006554Z",
     "start_time": "2024-10-27T02:42:37.999483Z"
    }
   },
   "id": "bcd202f2ab4cf7fe",
   "execution_count": 8
  },
  {
   "cell_type": "code",
   "outputs": [
    {
     "data": {
      "text/plain": "NodeDef(\n  type=MLP,\n  index=0,\n  attributes=('l1', 'l2', 'l3', 'st'),\n  subgraphs={\n    'l1': NodeDef(\n      type=Linear,\n      index=1,\n      attributes=('_in_size', '_name', '_out_size', 'w_mask', 'weight'),\n      subgraphs={\n        '_in_size': NodeDef(\n          type=PytreeType,\n          index=-1,\n          attributes=(0,),\n          subgraphs={},\n          static_fields={\n            0: 2\n          },\n          leaves={},\n          metadata=PyTreeDef((*,)),\n          index_mapping=None\n        ),\n        '_name': NodeDef(\n          type=PytreeType,\n          index=-1,\n          attributes=(),\n          subgraphs={},\n          static_fields={},\n          leaves={},\n          metadata=PyTreeDef(None),\n          index_mapping=None\n        ),\n        '_out_size': NodeDef(\n          type=PytreeType,\n          index=-1,\n          attributes=(0,),\n          subgraphs={},\n          static_fields={\n            0: 3\n          },\n          leaves={},\n          metadata=PyTreeDef((*,)),\n          index_mapping=None\n        ),\n        'w_mask': NodeDef(\n          type=PytreeType,\n          index=-1,\n          attributes=(),\n          subgraphs={},\n          static_fields={},\n          leaves={},\n          metadata=PyTreeDef(None),\n          index_mapping=None\n        )\n      },\n      static_fields={},\n      leaves={\n        'weight': NodeRef(\n          type=ParamState,\n          index=2\n        )\n      },\n      metadata=(<class 'brainstate.nn.Linear'>,),\n      index_mapping=None\n    ),\n    'l2': NodeDef(\n      type=Linear,\n      index=3,\n      attributes=('_in_size', '_name', '_out_size', 'w_mask', 'weight'),\n      subgraphs={\n        '_in_size': NodeDef(\n          type=PytreeType,\n          index=-1,\n          attributes=(0,),\n          subgraphs={},\n          static_fields={\n            0: 3\n          },\n          leaves={},\n          metadata=PyTreeDef((*,)),\n          index_mapping=None\n        ),\n        '_name': NodeDef(\n          type=PytreeType,\n          index=-1,\n          attributes=(),\n          subgraphs={},\n          static_fields={},\n          leaves={},\n          metadata=PyTreeDef(None),\n          index_mapping=None\n        ),\n        '_out_size': NodeDef(\n          type=PytreeType,\n          index=-1,\n          attributes=(0,),\n          subgraphs={},\n          static_fields={\n            0: 4\n          },\n          leaves={},\n          metadata=PyTreeDef((*,)),\n          index_mapping=None\n        ),\n        'w_mask': NodeDef(\n          type=PytreeType,\n          index=-1,\n          attributes=(),\n          subgraphs={},\n          static_fields={},\n          leaves={},\n          metadata=PyTreeDef(None),\n          index_mapping=None\n        )\n      },\n      static_fields={},\n      leaves={\n        'weight': NodeRef(\n          type=ParamState,\n          index=4\n        )\n      },\n      metadata=(<class 'brainstate.nn.Linear'>,),\n      index_mapping=None\n    ),\n    'l3': NodeDef(\n      type=Linear,\n      index=5,\n      attributes=('_in_size', '_name', '_out_size', 'w_mask', 'weight'),\n      subgraphs={\n        '_in_size': NodeDef(\n          type=PytreeType,\n          index=-1,\n          attributes=(0,),\n          subgraphs={},\n          static_fields={\n            0: 4\n          },\n          leaves={},\n          metadata=PyTreeDef((*,)),\n          index_mapping=None\n        ),\n        '_name': NodeDef(\n          type=PytreeType,\n          index=-1,\n          attributes=(),\n          subgraphs={},\n          static_fields={},\n          leaves={},\n          metadata=PyTreeDef(None),\n          index_mapping=None\n        ),\n        '_out_size': NodeDef(\n          type=PytreeType,\n          index=-1,\n          attributes=(0,),\n          subgraphs={},\n          static_fields={\n            0: 5\n          },\n          leaves={},\n          metadata=PyTreeDef((*,)),\n          index_mapping=None\n        ),\n        'w_mask': NodeDef(\n          type=PytreeType,\n          index=-1,\n          attributes=(),\n          subgraphs={},\n          static_fields={},\n          leaves={},\n          metadata=PyTreeDef(None),\n          index_mapping=None\n        )\n      },\n      static_fields={},\n      leaves={\n        'weight': NodeRef(\n          type=ParamState,\n          index=6\n        )\n      },\n      metadata=(<class 'brainstate.nn.Linear'>,),\n      index_mapping=None\n    )\n  },\n  static_fields={},\n  leaves={\n    'st': NodeRef(\n      type=ShortTermState,\n      index=7\n    )\n  },\n  metadata=(<class '__main__.MLP'>,),\n  index_mapping=None\n)"
     },
     "execution_count": 9,
     "metadata": {},
     "output_type": "execute_result"
    }
   ],
   "source": [
    "graphdef"
   ],
   "metadata": {
    "collapsed": false,
    "ExecuteTime": {
     "end_time": "2024-10-27T02:42:38.013940Z",
     "start_time": "2024-10-27T02:42:38.008098Z"
    }
   },
   "id": "a1db06921102fe02",
   "execution_count": 9
  },
  {
   "cell_type": "code",
   "outputs": [
    {
     "data": {
      "text/plain": "NestedDict({\n  'l1': {\n    'weight': TreefyState(\n      type=ParamState,\n      value={'weight': Array([[-0.9621243 ,  0.6099288 ,  1.7925913 ],\n             [ 1.0093921 , -0.16140677, -1.1245121 ]], dtype=float32), 'bias': Array([0., 0., 0.], dtype=float32)},\n      tag=None\n    )\n  },\n  'l2': {\n    'weight': TreefyState(\n      type=ParamState,\n      value={'weight': Array([[ 1.0511595 ,  0.95263714, -0.43481904, -0.6413494 ],\n             [-0.46692452, -0.7826885 ,  0.2867147 , -0.04088842],\n             [-0.55682147, -0.50789666,  0.9836989 , -0.25435624]],      dtype=float32), 'bias': Array([0., 0., 0., 0.], dtype=float32)},\n      tag=None\n    )\n  },\n  'l3': {\n    'weight': TreefyState(\n      type=ParamState,\n      value={'weight': Array([[ 1.4066998 , -0.2079093 ,  0.2848766 , -1.0898389 , -0.11604771],\n             [ 0.6823486 , -0.28052783, -0.15005152,  0.04554871, -0.1203554 ],\n             [ 0.00459637, -0.4027815 , -0.06394981, -0.02355323, -1.4451013 ],\n             [-0.7015993 ,  0.746923  , -0.26789007,  0.26303273,  0.6402506 ]],      dtype=float32), 'bias': Array([0., 0., 0., 0., 0.], dtype=float32)},\n      tag=None\n    )\n  },\n  'st': TreefyState(\n    type=ShortTermState,\n    value=Array([0.4263394 , 0.21557069, 0.18960547, 0.14944589, 0.37569678],      dtype=float32),\n    tag=None\n  )\n})"
     },
     "execution_count": 10,
     "metadata": {},
     "output_type": "execute_result"
    }
   ],
   "source": [
    "tree_states"
   ],
   "metadata": {
    "collapsed": false,
    "ExecuteTime": {
     "end_time": "2024-10-27T02:42:38.019915Z",
     "start_time": "2024-10-27T02:42:38.013940Z"
    }
   },
   "id": "e2b2338715ffad",
   "execution_count": 10
  },
  {
   "cell_type": "code",
   "outputs": [
    {
     "data": {
      "text/plain": "MLP(\n  l1=Linear(\n    in_size=(2,),\n    out_size=(3,),\n    w_mask=None,\n    weight=ParamState(\n      value={'weight': Array([[-0.9621243 ,  0.6099288 ,  1.7925913 ],\n             [ 1.0093921 , -0.16140677, -1.1245121 ]], dtype=float32), 'bias': Array([0., 0., 0.], dtype=float32)}\n    )\n  ),\n  l2=Linear(\n    in_size=(3,),\n    out_size=(4,),\n    w_mask=None,\n    weight=ParamState(\n      value={'weight': Array([[ 1.0511595 ,  0.95263714, -0.43481904, -0.6413494 ],\n             [-0.46692452, -0.7826885 ,  0.2867147 , -0.04088842],\n             [-0.55682147, -0.50789666,  0.9836989 , -0.25435624]],      dtype=float32), 'bias': Array([0., 0., 0., 0.], dtype=float32)}\n    )\n  ),\n  l3=Linear(\n    in_size=(4,),\n    out_size=(5,),\n    w_mask=None,\n    weight=ParamState(\n      value={'weight': Array([[ 1.4066998 , -0.2079093 ,  0.2848766 , -1.0898389 , -0.11604771],\n             [ 0.6823486 , -0.28052783, -0.15005152,  0.04554871, -0.1203554 ],\n             [ 0.00459637, -0.4027815 , -0.06394981, -0.02355323, -1.4451013 ],\n             [-0.7015993 ,  0.746923  , -0.26789007,  0.26303273,  0.6402506 ]],      dtype=float32), 'bias': Array([0., 0., 0., 0., 0.], dtype=float32)}\n    )\n  ),\n  st=ShortTermState(\n    value=Array([0.4263394 , 0.21557069, 0.18960547, 0.14944589, 0.37569678],      dtype=float32)\n  )\n)"
     },
     "execution_count": 11,
     "metadata": {},
     "output_type": "execute_result"
    }
   ],
   "source": [
    "# 合并图结构和树化的states\n",
    "\n",
    "mlp2 = bst.graph.treefy_merge(graphdef, tree_states)\n",
    "\n",
    "mlp2"
   ],
   "metadata": {
    "collapsed": false,
    "ExecuteTime": {
     "end_time": "2024-10-27T02:42:38.025593Z",
     "start_time": "2024-10-27T02:42:38.019915Z"
    }
   },
   "id": "425fbef24d4bd41a",
   "execution_count": 11
  },
  {
   "cell_type": "code",
   "outputs": [
    {
     "data": {
      "text/plain": "FlattedDict({\n  ('l1', 'weight'): ParamState(\n    value={'weight': Array([[-0.9621243 ,  0.6099288 ,  1.7925913 ],\n           [ 1.0093921 , -0.16140677, -1.1245121 ]], dtype=float32), 'bias': Array([0., 0., 0.], dtype=float32)}\n  ),\n  ('l2', 'weight'): ParamState(\n    value={'weight': Array([[ 1.0511595 ,  0.95263714, -0.43481904, -0.6413494 ],\n           [-0.46692452, -0.7826885 ,  0.2867147 , -0.04088842],\n           [-0.55682147, -0.50789666,  0.9836989 , -0.25435624]],      dtype=float32), 'bias': Array([0., 0., 0., 0.], dtype=float32)}\n  ),\n  ('l3', 'weight'): ParamState(\n    value={'weight': Array([[ 1.4066998 , -0.2079093 ,  0.2848766 , -1.0898389 , -0.11604771],\n           [ 0.6823486 , -0.28052783, -0.15005152,  0.04554871, -0.1203554 ],\n           [ 0.00459637, -0.4027815 , -0.06394981, -0.02355323, -1.4451013 ],\n           [-0.7015993 ,  0.746923  , -0.26789007,  0.26303273,  0.6402506 ]],      dtype=float32), 'bias': Array([0., 0., 0., 0., 0.], dtype=float32)}\n  ),\n  ('st',): ShortTermState(\n    value=Array([0.4263394 , 0.21557069, 0.18960547, 0.14944589, 0.37569678],      dtype=float32)\n  )\n})"
     },
     "execution_count": 12,
     "metadata": {},
     "output_type": "execute_result"
    }
   ],
   "source": [
    "# 查看图结构中的所有states\n",
    "\n",
    "states = bst.graph.states(mlp2)\n",
    "\n",
    "states"
   ],
   "metadata": {
    "collapsed": false,
    "ExecuteTime": {
     "end_time": "2024-10-27T02:42:38.031615Z",
     "start_time": "2024-10-27T02:42:38.025593Z"
    }
   },
   "id": "764b3711a129c371",
   "execution_count": 12
  },
  {
   "cell_type": "markdown",
   "source": [
    "值得注意的是，对于大部分检索``State``实例的图操作函数，都支持传入一系列``filter``函数，用于筛选出满足某种条件的``State``实例。比如，如果只需要筛选出所有的``ShortTermState``实例，可以通过以下代码实现："
   ],
   "metadata": {
    "collapsed": false
   },
   "id": "3bd6e1b9aee9c1e0"
  },
  {
   "cell_type": "code",
   "outputs": [
    {
     "data": {
      "text/plain": "FlattedDict({\n  ('st',): ShortTermState(\n    value=Array([0.4263394 , 0.21557069, 0.18960547, 0.14944589, 0.37569678],      dtype=float32)\n  )\n})"
     },
     "execution_count": 13,
     "metadata": {},
     "output_type": "execute_result"
    }
   ],
   "source": [
    "short_term_states = bst.graph.states(mlp2, bst.ShortTermState)\n",
    "\n",
    "short_term_states"
   ],
   "metadata": {
    "collapsed": false,
    "ExecuteTime": {
     "end_time": "2024-10-27T02:42:38.036942Z",
     "start_time": "2024-10-27T02:42:38.031615Z"
    }
   },
   "id": "a22cf583ecaa1fcc",
   "execution_count": 13
  },
  {
   "cell_type": "markdown",
   "source": [
    "## ``filter`` 过滤器语法\n",
    "\n",
    "\n",
    "一般来说，``filter``具有如下函数形式：\n",
    "\n",
    "```python\n",
    "def predicate(path: tuple[Key, ...], value: Any) -> bool:\n",
    "    ...\n",
    "```\n",
    "\n",
    "其中 `Key` 是可hash和可比较的数据类型（往往是字符串），`path` 是表示`value`所对应的路径嵌套结构的 `Key` 元组，`value` 是路径上的值。如果值应包含在该``filter``中，函数返回 `True`，否则返回 `False`。\n",
    "\n",
    "比如，我们可以定义一个 ``filter`` 函数，用于筛选出所有的 ``ParamState`` 实例："
   ],
   "metadata": {
    "collapsed": false
   },
   "id": "2920e59ef95d5ad7"
  },
  {
   "cell_type": "code",
   "outputs": [
    {
     "name": "stdout",
     "output_type": "stream",
     "text": [
      "is_param((), bst.ParamState(0.)) = True\n"
     ]
    }
   ],
   "source": [
    "def is_param(path, value) -> bool:\n",
    "  return isinstance(value, bst.ParamState)\n",
    "\n",
    "print(f'{is_param((), bst.ParamState(0.)) = }')"
   ],
   "metadata": {
    "collapsed": false,
    "ExecuteTime": {
     "end_time": "2024-10-27T02:42:38.042638Z",
     "start_time": "2024-10-27T02:42:38.039052Z"
    }
   },
   "id": "29585040efeaae38",
   "execution_count": 14
  },
  {
   "cell_type": "markdown",
   "source": [
    "但是，为了简化 ``filter`` 函数的创建， ``brainstate`` 提供了一个小型的 DSL。该类型允许用户传递类型、布尔值、省略号、元组/列表等，并在内部将它们转换为相应的谓词、元组/列表等。\n",
    "\n",
    "| 字面量 | 可调用对象 | 描述 |\n",
    "|--------|----------------------|-------------|\n",
    "| `...` 或 `True` | `Everything()` | 匹配所有值 |\n",
    "| `None` 或 `False` | `Nothing()` | 不匹配任何值 |\n",
    "| `type` | `OfType(type)` | 匹配类型为 `type` 的实例,或具有类型为 `type` 的 `type` 属性的值 |\n",
    "| | `PathContains(key)` | 匹配关联的 `path` 中包含指定 `key` 的值 |\n",
    "| `'{filter}'` <span style=\"color:gray\">str</span> | `WithTag('{filter}')` | 匹配具有等于 `'{filter}'` 的字符串 `tag` 属性的值。被 `RngKey` 和 `RngCount` 使用。|\n",
    "| `(*filters)` <span style=\"color:gray\">tuple</span> 或 `[*filters]` <span style=\"color:gray\">list</span> | `Any(*filters)` | 匹配满足任一内部 `filters` 的值 |\n",
    "| | `All(*filters)` | 匹配满足所有内部 `filters` 的值 |\n",
    "| | `Not(filter)` | 匹配不满足内部 `filter` 的值 |\n",
    "\n",
    "比如，我们可以使用 ``filter`` DSL 来定义一个筛选出所有的 ``ParamState`` 实例和剩下的其他实例的 ``State``："
   ],
   "metadata": {
    "collapsed": false
   },
   "id": "fc649f3692495a44"
  },
  {
   "cell_type": "code",
   "outputs": [
    {
     "data": {
      "text/plain": "FlattedDict({\n  ('l1', 'weight'): ParamState(\n    value={'weight': Array([[-0.9621243 ,  0.6099288 ,  1.7925913 ],\n           [ 1.0093921 , -0.16140677, -1.1245121 ]], dtype=float32), 'bias': Array([0., 0., 0.], dtype=float32)}\n  ),\n  ('l2', 'weight'): ParamState(\n    value={'weight': Array([[ 1.0511595 ,  0.95263714, -0.43481904, -0.6413494 ],\n           [-0.46692452, -0.7826885 ,  0.2867147 , -0.04088842],\n           [-0.55682147, -0.50789666,  0.9836989 , -0.25435624]],      dtype=float32), 'bias': Array([0., 0., 0., 0.], dtype=float32)}\n  ),\n  ('l3', 'weight'): ParamState(\n    value={'weight': Array([[ 1.4066998 , -0.2079093 ,  0.2848766 , -1.0898389 , -0.11604771],\n           [ 0.6823486 , -0.28052783, -0.15005152,  0.04554871, -0.1203554 ],\n           [ 0.00459637, -0.4027815 , -0.06394981, -0.02355323, -1.4451013 ],\n           [-0.7015993 ,  0.746923  , -0.26789007,  0.26303273,  0.6402506 ]],      dtype=float32), 'bias': Array([0., 0., 0., 0., 0.], dtype=float32)}\n  )\n})"
     },
     "execution_count": 15,
     "metadata": {},
     "output_type": "execute_result"
    }
   ],
   "source": [
    "params, others = bst.graph.states(mlp, bst.ParamState, bst.ShortTermState)\n",
    "\n",
    "params"
   ],
   "metadata": {
    "collapsed": false,
    "ExecuteTime": {
     "end_time": "2024-10-27T02:42:38.048818Z",
     "start_time": "2024-10-27T02:42:38.043767Z"
    }
   },
   "id": "439fc1882b662ea9",
   "execution_count": 15
  },
  {
   "cell_type": "code",
   "outputs": [
    {
     "data": {
      "text/plain": "FlattedDict({\n  ('st',): ShortTermState(\n    value=Array([0.4263394 , 0.21557069, 0.18960547, 0.14944589, 0.37569678],      dtype=float32)\n  )\n})"
     },
     "execution_count": 16,
     "metadata": {},
     "output_type": "execute_result"
    }
   ],
   "source": [
    "others"
   ],
   "metadata": {
    "collapsed": false,
    "ExecuteTime": {
     "end_time": "2024-10-27T02:42:38.054196Z",
     "start_time": "2024-10-27T02:42:38.048818Z"
    }
   },
   "id": "4808132913706510",
   "execution_count": 16
  },
  {
   "cell_type": "markdown",
   "source": [
    "## ``pygraph`` 与 ``pytree`` 的转换\n",
    "\n",
    "\n",
    "``brainstate`` 提供了一系列用于 ``pygraph`` 和 ``pytree`` 之间相互转换的函数。这些函数可以在 [``brainstate.graph`` 模块](https://brainstate.readthedocs.io/en/latest/apis/graph.html) 中找到。特别的，我们在这里介绍两个常用的函数：\n",
    "\n",
    "- ``brainstate.graph.treefy_split``：将图结构拆分为图结构和树化的``State``实例。这个函数可以用于将图结构中的所有``State``实例转换为pytree，并保留图结构中的其他节点结构信息。\n",
    "- ``brainstate.graph.treefy_merge``：将图结构和树化的``State``实例重新合并为图结构。这个函数可以用于将pytree转换为图结构，并保留pytree中的其他节点结构信息。\n",
    "\n",
    "这两个函数可以帮助用户在图结构和pytree之间进行灵活的转换，从而可以更方便地在复杂的模型结构中使用JAX的函数转换功能。\n",
    "\n",
    "我们可以通过以下代码来演示这两个函数的使用："
   ],
   "metadata": {
    "collapsed": false
   },
   "id": "7a4e4ab852747ee1"
  },
  {
   "cell_type": "code",
   "outputs": [],
   "source": [
    "class Linear(bst.nn.Module):\n",
    "  def __init__(self, din: int, dout: int):\n",
    "    super().__init__()\n",
    "    self.w = bst.ParamState(bst.random.rand(din, dout))\n",
    "    self.b = bst.ParamState(jnp.zeros((dout,)))\n",
    "\n",
    "  def __call__(self, x):\n",
    "    return x @ self.w.value + self.b.value\n",
    "\n",
    "\n",
    "class Count(bst.State):\n",
    "  pass\n",
    "\n",
    "\n",
    "class MLP(bst.graph.Node):\n",
    "  def __init__(self, din, dhidden, dout):\n",
    "    self.count = Count(jnp.array(0))\n",
    "    self.linear1 = Linear(din, dhidden)\n",
    "    self.linear2 = Linear(dhidden, dout)\n",
    "\n",
    "  def __call__(self, x):\n",
    "    self.count.value += 1\n",
    "    x = self.linear1(x)\n",
    "    x = jax.nn.relu(x)\n",
    "    x = self.linear2(x)\n",
    "    return x"
   ],
   "metadata": {
    "collapsed": false,
    "ExecuteTime": {
     "end_time": "2024-10-27T02:42:38.059977Z",
     "start_time": "2024-10-27T02:42:38.054196Z"
    }
   },
   "id": "adf779ddc38200fe",
   "execution_count": 17
  },
  {
   "cell_type": "markdown",
   "source": [
    "在上面的代码中，我们定义了一个简单的多层感知机模型 ``MLP``，其中包含两个线性层模块 ``Linear`` 和一个计数器 ``Count``。我们可以通过以下代码来查看这个模型的图结构："
   ],
   "metadata": {
    "collapsed": false
   },
   "id": "3fe2b3b66b2a4449"
  },
  {
   "cell_type": "code",
   "outputs": [
    {
     "data": {
      "text/plain": "NestedDict({\n  'linear1': {\n    'b': TreefyState(\n      type=ParamState,\n      value=Array([0., 0., 0., 0., 0., 0., 0., 0., 0., 0., 0., 0., 0., 0., 0., 0., 0.,\n             0., 0., 0., 0., 0., 0., 0., 0., 0., 0., 0., 0., 0., 0., 0.],      dtype=float32),\n      tag=None\n    ),\n    'w': TreefyState(\n      type=ParamState,\n      value=Array([[0.62414145, 0.07261062, 0.8241935 , 0.04092729, 0.05797398,\n              0.8666178 , 0.01890802, 0.31071007, 0.50239027, 0.8444326 ,\n              0.31651413, 0.10141706, 0.9321823 , 0.07134902, 0.42645705,\n              0.20488751, 0.60242355, 0.15487003, 0.13071549, 0.26182067,\n              0.24925017, 0.90827644, 0.2778635 , 0.8973496 , 0.90867436,\n              0.5319245 , 0.94377697, 0.80926585, 0.0513705 , 0.82726157,\n              0.60745597, 0.02374911]], dtype=float32),\n      tag=None\n    )\n  },\n  'linear2': {\n    'b': TreefyState(\n      type=ParamState,\n      value=Array([0.], dtype=float32),\n      tag=None\n    ),\n    'w': TreefyState(\n      type=ParamState,\n      value=Array([[0.5057225 ],\n             [0.2474854 ],\n             [0.24533033],\n             [0.8565272 ],\n             [0.78140604],\n             [0.4824345 ],\n             [0.8527187 ],\n             [0.8942472 ],\n             [0.63578165],\n             [0.2546562 ],\n             [0.83585846],\n             [0.9325603 ],\n             [0.15886068],\n             [0.3744222 ],\n             [0.9062028 ],\n             [0.29771888],\n             [0.38925028],\n             [0.49346066],\n             [0.400249  ],\n             [0.7621212 ],\n             [0.8269665 ],\n             [0.23659444],\n             [0.7609861 ],\n             [0.21548033],\n             [0.0354656 ],\n             [0.2341311 ],\n             [0.4673338 ],\n             [0.7947769 ],\n             [0.99769926],\n             [0.6726717 ],\n             [0.3784194 ],\n             [0.08598816]], dtype=float32),\n      tag=None\n    )\n  }\n})"
     },
     "execution_count": 18,
     "metadata": {},
     "output_type": "execute_result"
    }
   ],
   "source": [
    "model = MLP(1, 32, 1)\n",
    "\n",
    "graphdef, params_, counts_ = bst.graph.treefy_split(MLP(din=1, dhidden=32, dout=1), bst.ParamState, Count)\n",
    "\n",
    "params_"
   ],
   "metadata": {
    "collapsed": false,
    "ExecuteTime": {
     "end_time": "2024-10-27T02:42:38.215985Z",
     "start_time": "2024-10-27T02:42:38.061103Z"
    }
   },
   "id": "37ebc4a47451ce6",
   "execution_count": 18
  },
  {
   "cell_type": "code",
   "outputs": [
    {
     "data": {
      "text/plain": "NestedDict({\n  'count': TreefyState(\n    type=Count,\n    value=Array(0, dtype=int32, weak_type=True),\n    tag=None\n  )\n})"
     },
     "execution_count": 19,
     "metadata": {},
     "output_type": "execute_result"
    }
   ],
   "source": [
    "counts_"
   ],
   "metadata": {
    "collapsed": false,
    "ExecuteTime": {
     "end_time": "2024-10-27T02:42:38.219757Z",
     "start_time": "2024-10-27T02:42:38.215985Z"
    }
   },
   "id": "3d44e50e48b5e8c2",
   "execution_count": 19
  },
  {
   "cell_type": "markdown",
   "source": [
    "## ``pygraph`` 与 JAX 函数转换\n",
    "\n",
    "将``pygraph``转换为``pytree``后，我们可以使用JAX的函数转换功能对其进行操作。比如，我们可以使用JAX的``jit``函数对``MLP``模型进行编译，使用``grad``函数对其进行自动微分，使用``vmap``函数对其进行批量操作等。这些函数可以帮助用户更方便地对复杂的模型结构进行高效的计算操作。\n",
    "\n",
    "我们首先定义一个简单的数据集："
   ],
   "metadata": {
    "collapsed": false
   },
   "id": "4032a3a00e22e3e2"
  },
  {
   "cell_type": "code",
   "outputs": [],
   "source": [
    "X = jnp.linspace(0, 1, 100)[:, None]\n",
    "Y = 0.8 * X ** 2 + 0.1 + bst.random.normal(0, 0.1, size=X.shape)\n",
    "\n",
    "\n",
    "def dataset(batch_size):\n",
    "  while True:\n",
    "    idx = bst.random.choice(len(X), size=batch_size)\n",
    "    yield X[idx], Y[idx]"
   ],
   "metadata": {
    "collapsed": false,
    "ExecuteTime": {
     "end_time": "2024-10-27T02:42:38.417688Z",
     "start_time": "2024-10-27T02:42:38.219757Z"
    }
   },
   "id": "665a48c13019b216",
   "execution_count": 20
  },
  {
   "cell_type": "markdown",
   "source": [
    "接下来，我们使用``jax.jit``函数对``MLP``模型进行编译，并使用``jax.grad``函数对其进行自动微分："
   ],
   "metadata": {
    "collapsed": false
   },
   "id": "5e24cca21877bd50"
  },
  {
   "cell_type": "code",
   "outputs": [],
   "source": [
    "@jax.jit\n",
    "def train_step(params, counts, batch):\n",
    "  x, y = batch\n",
    "\n",
    "  def loss_fn(params):\n",
    "    model = bst.graph.treefy_merge(graphdef, params, counts)\n",
    "    y_pred = model(x)\n",
    "    new_counts = bst.graph.treefy_states(model, Count)\n",
    "    loss = jnp.mean((y - y_pred) ** 2)\n",
    "    return loss, new_counts\n",
    "\n",
    "  grad, counts = jax.grad(loss_fn, has_aux=True)(params)\n",
    "  #                          |-------- sgd ---------|\n",
    "  params = jax.tree.map(lambda w, g: w - 0.1 * g, params, grad)\n",
    "\n",
    "  return params, counts"
   ],
   "metadata": {
    "collapsed": false,
    "ExecuteTime": {
     "end_time": "2024-10-27T02:42:38.423138Z",
     "start_time": "2024-10-27T02:42:38.417688Z"
    }
   },
   "id": "72c09dd9353e584b",
   "execution_count": 21
  },
  {
   "cell_type": "markdown",
   "source": [
    "我们再定义一个测试函数，用于计算模型的损失："
   ],
   "metadata": {
    "collapsed": false
   },
   "id": "11b9ffed2e81415f"
  },
  {
   "cell_type": "code",
   "outputs": [],
   "source": [
    "@jax.jit\n",
    "def test_step(params, counts, batch):\n",
    "  x, y = batch\n",
    "  model = bst.graph.treefy_merge(graphdef, params, counts)\n",
    "  y_pred = model(x)\n",
    "  loss = jnp.mean((y - y_pred) ** 2)\n",
    "  return {'loss': loss}"
   ],
   "metadata": {
    "collapsed": false,
    "ExecuteTime": {
     "end_time": "2024-10-27T02:42:38.428575Z",
     "start_time": "2024-10-27T02:42:38.424216Z"
    }
   },
   "id": "8bc37d87d2b1d997",
   "execution_count": 22
  },
  {
   "cell_type": "markdown",
   "source": [
    "接下来，让我们开始训练模型："
   ],
   "metadata": {
    "collapsed": false
   },
   "id": "a7715f6bfa209604"
  },
  {
   "cell_type": "code",
   "outputs": [
    {
     "name": "stdout",
     "output_type": "stream",
     "text": [
      "step: 0, loss: 1.5664312839508057\n",
      "step: 1000, loss: 0.00912302453070879\n",
      "step: 2000, loss: 0.00900690071284771\n",
      "step: 3000, loss: 0.009030426852405071\n",
      "step: 4000, loss: 0.008973325602710247\n",
      "step: 5000, loss: 0.008971154689788818\n",
      "step: 6000, loss: 0.008998032659292221\n",
      "step: 7000, loss: 0.009022381156682968\n",
      "step: 8000, loss: 0.008946777321398258\n",
      "step: 9000, loss: 0.008950803428888321\n"
     ]
    }
   ],
   "source": [
    "total_steps = 10_000\n",
    "for step, batch in enumerate(dataset(32)):\n",
    "  params_, counts_ = train_step(params_, counts_, batch)\n",
    "\n",
    "  if step % 1000 == 0:\n",
    "    logs = test_step(params_, counts_, (X, Y))\n",
    "    print(f\"step: {step}, loss: {logs['loss']}\")\n",
    "\n",
    "  if step >= total_steps - 1:\n",
    "    break"
   ],
   "metadata": {
    "collapsed": false,
    "ExecuteTime": {
     "end_time": "2024-10-27T02:42:47.010965Z",
     "start_time": "2024-10-27T02:42:38.429919Z"
    }
   },
   "id": "e01b57b6c0dac6db",
   "execution_count": 23
  },
  {
   "cell_type": "markdown",
   "source": [
    "最后，我们还原出模型，并查看模型的调用次数："
   ],
   "metadata": {
    "collapsed": false
   },
   "id": "f7c2db500a8b9f8"
  },
  {
   "cell_type": "code",
   "outputs": [
    {
     "name": "stdout",
     "output_type": "stream",
     "text": [
      "times called: 10000\n"
     ]
    }
   ],
   "source": [
    "model = bst.graph.treefy_merge(graphdef, params_, counts_)\n",
    "print('times called:', model.count.value)"
   ],
   "metadata": {
    "collapsed": false,
    "ExecuteTime": {
     "end_time": "2024-10-27T02:42:47.015319Z",
     "start_time": "2024-10-27T02:42:47.010965Z"
    }
   },
   "id": "31b1f664b448a17b",
   "execution_count": 24
  },
  {
   "cell_type": "markdown",
   "source": [
    "最后，我们可以使用训练好的模型对数据进行预测，并查看预测结果："
   ],
   "metadata": {
    "collapsed": false
   },
   "id": "98af117cd8af3244"
  },
  {
   "cell_type": "code",
   "outputs": [
    {
     "data": {
      "text/plain": "<Figure size 640x480 with 1 Axes>",
      "image/png": "[encoded data removed]"
     },
     "metadata": {},
     "output_type": "display_data"
    }
   ],
   "source": [
    "y_pred = model(X)\n",
    "\n",
    "import matplotlib.pyplot as plt\n",
    "plt.scatter(X, Y, color='blue')\n",
    "plt.plot(X, y_pred, color='black')\n",
    "plt.show()"
   ],
   "metadata": {
    "collapsed": false,
    "ExecuteTime": {
     "end_time": "2024-10-27T02:42:47.699256Z",
     "start_time": "2024-10-27T02:42:47.016395Z"
    }
   },
   "id": "52102b5490b95f6e",
   "execution_count": 25
  },
  {
   "cell_type": "markdown",
   "source": [
    "## 原生支持 ``pygraph`` 的函数转换\n",
    "\n",
    "``brainstate``也提供一些原生支持``pygraph``的函数转换，比如``brainstate.graph.grad``、``brainstate.graph.vmap``等[功能增强的函数转换](./program_augmentation.ipynb)。这些函数可以直接将``pygraph``实例输入到待转换的函数中，而无需用户显示地将其转换为``pytree``。"
   ],
   "metadata": {
    "collapsed": false
   },
   "id": "91aa36ff7b71df45"
  },
  {
   "cell_type": "markdown",
   "source": [
    "在下面的例子，我们定义了一个简单的神经网络模型，其中包含一个线性层模块和一个激活函数模块。但是，我们使用``vmap``函数对这一模型进行批量初始化，用于创建多层的神经网络模型："
   ],
   "metadata": {
    "collapsed": false
   },
   "id": "616bde0207a5dba4"
  },
  {
   "cell_type": "code",
   "outputs": [],
   "source": [
    "class Block(bst.nn.Module):\n",
    "  def __init__(self, dim: int):\n",
    "    super().__init__()\n",
    "    self.linear = bst.nn.Linear(dim, dim)\n",
    "    self.bn = bst.nn.BatchNorm0d([dim])\n",
    "    self.dropout = bst.nn.Dropout(0.5)\n",
    "\n",
    "  def __call__(self, x: jax.Array):\n",
    "    return jax.nn.gelu(self.dropout(self.bn(self.linear(x))))"
   ],
   "metadata": {
    "collapsed": false,
    "ExecuteTime": {
     "end_time": "2024-10-27T02:44:07.642425Z",
     "start_time": "2024-10-27T02:44:07.638503Z"
    }
   },
   "id": "463e5599188b8053",
   "execution_count": 30
  },
  {
   "cell_type": "code",
   "outputs": [
    {
     "data": {
      "text/plain": "Block(\n  bn=BatchNorm0d(\n    in_size=(2,),\n    out_size=(2,),\n    affine=True,\n    axis_index_groups=None,\n    axis_name=None,\n    bias_initializer=Constant(\n      value=0.0\n    ),\n    dtype=<class 'numpy.float32'>,\n    epsilon=Array(1.e-05, dtype=float32),\n    feature_axis=(0,),\n    momentum=Array(0.99, dtype=float32),\n    running_mean=LongTermState(\n      value=Array([[0., 0.],\n             [0., 0.],\n             [0., 0.],\n             [0., 0.],\n             [0., 0.]], dtype=float32)\n    ),\n    running_var=LongTermState(\n      value=Array([[1., 1.],\n             [1., 1.],\n             [1., 1.],\n             [1., 1.],\n             [1., 1.]], dtype=float32)\n    ),\n    scale_initializer=Constant(\n      value=1.0\n    ),\n    track_running_stats=True,\n    weight=ParamState(\n      value={'bias': Array([[0., 0.],\n             [0., 0.],\n             [0., 0.],\n             [0., 0.],\n             [0., 0.]], dtype=float32), 'scale': Array([[1., 1.],\n             [1., 1.],\n             [1., 1.],\n             [1., 1.],\n             [1., 1.]], dtype=float32)}\n    )\n  ),\n  dropout=Dropout(\n    prob=0.5\n  ),\n  linear=Linear(\n    in_size=(2,),\n    out_size=(2,),\n    w_mask=None,\n    weight=ParamState(\n      value={'bias': Array([[0., 0.],\n             [0., 0.],\n             [0., 0.],\n             [0., 0.],\n             [0., 0.]], dtype=float32), 'weight': Array([[[-0.12890472,  1.696232  ],\n              [ 1.0399699 , -2.200294  ]],\n      \n             [[ 0.08770501,  0.6208612 ],\n              [-0.37451234, -1.3093892 ]],\n      \n             [[ 0.9009272 ,  0.7267254 ],\n              [-0.87191504,  0.04442816]],\n      \n             [[ 0.33935294,  1.2456075 ],\n              [-0.8347176 , -0.69053763]],\n      \n             [[ 0.8403268 ,  0.15172702],\n              [-0.6576229 ,  1.4287312 ]]], dtype=float32)}\n    )\n  )\n)"
     },
     "execution_count": 31,
     "metadata": {},
     "output_type": "execute_result"
    }
   ],
   "source": [
    "dim = 2\n",
    "n_layers = 5\n",
    "\n",
    "@bst.augment.vmap_with_default_rng\n",
    "def create_block(key):\n",
    "  bst.random.set_key(key)\n",
    "  return Block(dim)\n",
    "\n",
    "layers = create_block(bst.random.split_key(n_layers))\n",
    "\n",
    "layers"
   ],
   "metadata": {
    "collapsed": false,
    "ExecuteTime": {
     "end_time": "2024-10-27T02:44:08.430156Z",
     "start_time": "2024-10-27T02:44:08.233799Z"
    }
   },
   "id": "4cb4eb2ebb1382ad",
   "execution_count": 31
  }
 ],
 "metadata": {
  "kernelspec": {
   "display_name": "Python 3",
   "language": "python",
   "name": "python3"
  },
  "language_info": {
   "codemirror_mode": {
    "name": "ipython",
    "version": 2
   },
   "file_extension": ".py",
   "mimetype": "text/x-python",
   "name": "python",
   "nbconvert_exporter": "python",
   "pygments_lexer": "ipython2",
   "version": "2.7.6"
  }
 },
 "nbformat": 4,
 "nbformat_minor": 5
}
