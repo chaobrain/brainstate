{
 "cells": [
  {
   "cell_type": "markdown",
   "source": [
    "# Random Number Generation"
   ],
   "metadata": {
    "collapsed": false
   },
   "id": "230760979d82fbcd"
  },
  {
   "cell_type": "markdown",
   "source": [
    "The ``brainstate.random`` module implements pseudo-random number generators (PRNGs or RNGs, for short) with the ability to draw samples from a variety of probability distributions. In general, the syntax of random number generation of ``brainstate.random`` is the same as ``numpy.random`` module. "
   ],
   "metadata": {
    "collapsed": false
   },
   "id": "dddfe7fd11b460f7"
  },
  {
   "cell_type": "code",
   "outputs": [],
   "source": [
    "import brainstate.random as br\n",
    "import jax.numpy as jnp"
   ],
   "metadata": {
    "collapsed": false,
    "ExecuteTime": {
     "end_time": "2024-10-25T10:46:20.227919Z",
     "start_time": "2024-10-25T10:46:20.223256Z"
    }
   },
   "id": "7724835268dc9f6",
   "execution_count": 15
  },
  {
   "cell_type": "markdown",
   "source": [
    "## API Overview\n",
    "\n",
    "The ``brainstate.random`` module provides a wide range of functions for random number generation and sampling from probability distributions. Here is an overview of the main categories of functions available in the module:\n",
    "\n",
    "| Category          | API Functions                                                              |\n",
    "|-------------------|----------------------------------------------------------------------------|\n",
    "| Random Sampling   | `rand`, `randn`, `randint`, `choice`                                       |\n",
    "| Distributions     | `normal`, `uniform`, `binomial`, `poisson`, `beta`, `gamma`, `exponential` |\n",
    "| Random Functions  | `shuffle`, `permutation`                                                   |\n",
    "| Random Generators | `RandomState`                                                              |\n",
    "\n",
    "\n",
    "In essence, all random functions that are available in the `brainstate.random` module comes from the built-in functions of ``RandomState`` class. ``RandomState`` is a type of ``brainstate.State`` that is used to generate random numbers. all random functions are utilizing the ``DEFAULT`` instance of ``RandomState``."
   ],
   "metadata": {
    "collapsed": false
   },
   "id": "ff4331f95839e85e"
  },
  {
   "cell_type": "code",
   "outputs": [
    {
     "data": {
      "text/plain": "RandomState([ 0 42])"
     },
     "execution_count": 16,
     "metadata": {},
     "output_type": "execute_result"
    }
   ],
   "source": [
    "br.DEFAULT"
   ],
   "metadata": {
    "collapsed": false,
    "ExecuteTime": {
     "end_time": "2024-10-25T10:46:20.297766Z",
     "start_time": "2024-10-25T10:46:20.290247Z"
    }
   },
   "id": "6a3746e719381c04",
   "execution_count": 16
  },
  {
   "cell_type": "markdown",
   "source": [
    "## Random Sampling\n",
    "\n",
    "The `brainstate.random` module provides several functions for generating random samples from different distributions. Some of the key functions include:\n",
    "\n",
    "- **rand**: Generates random samples from a uniform distribution over [0, 1).\n",
    "- **randn**: Generates random samples from a standard normal distribution.\n",
    "- **randint**: Generates random integers from a specified range.\n",
    "- **choice**: Generates a random sample from a given 1-D array.\n",
    "- **shuffle**: Shuffles the contents of a given array in place."
   ],
   "metadata": {
    "collapsed": false
   },
   "id": "f4a13411b1c9cfa2"
  },
  {
   "cell_type": "code",
   "outputs": [
    {
     "name": "stdout",
     "output_type": "stream",
     "text": [
      "Uniform samples: [0.2899989  0.82748747 0.22911513 0.2819779  0.8697449 ]\n"
     ]
    }
   ],
   "source": [
    "# Generate 5 random samples from a uniform distribution over [0, 1)\n",
    "samples = br.rand(5)\n",
    "print(\"Uniform samples:\", samples)"
   ],
   "metadata": {
    "collapsed": false,
    "ExecuteTime": {
     "end_time": "2024-10-25T10:46:20.323931Z",
     "start_time": "2024-10-25T10:46:20.313673Z"
    }
   },
   "id": "3bdf5c4c909f4e3e",
   "execution_count": 17
  },
  {
   "cell_type": "code",
   "outputs": [
    {
     "name": "stdout",
     "output_type": "stream",
     "text": [
      "Normal samples: [-0.32761317 -0.4066346   1.2469071   1.1900425   1.100263  ]\n"
     ]
    }
   ],
   "source": [
    "# Generate 5 random samples from a standard normal distribution\n",
    "normal_samples = br.randn(5)\n",
    "print(\"Normal samples:\", normal_samples)"
   ],
   "metadata": {
    "collapsed": false,
    "ExecuteTime": {
     "end_time": "2024-10-25T10:46:20.363718Z",
     "start_time": "2024-10-25T10:46:20.355534Z"
    }
   },
   "id": "938ca61e0dc053ce",
   "execution_count": 18
  },
  {
   "cell_type": "code",
   "outputs": [
    {
     "name": "stdout",
     "output_type": "stream",
     "text": [
      "Integer samples: [1 0 9 2 0]\n"
     ]
    }
   ],
   "source": [
    "# Generate 5 random integers between 0 and 10\n",
    "int_samples = br.randint(0, 10, 5)\n",
    "print(\"Integer samples:\", int_samples)"
   ],
   "metadata": {
    "collapsed": false,
    "ExecuteTime": {
     "end_time": "2024-10-25T10:46:20.429508Z",
     "start_time": "2024-10-25T10:46:20.421025Z"
    }
   },
   "id": "93592d115567567a",
   "execution_count": 19
  },
  {
   "cell_type": "code",
   "outputs": [
    {
     "name": "stdout",
     "output_type": "stream",
     "text": [
      "Choice samples: [3 1 1]\n"
     ]
    }
   ],
   "source": [
    "# Generate a random sample from a given 1-D array\n",
    "array = [1, 2, 3, 4, 5]\n",
    "choice_sample = br.choice(array, 3)\n",
    "print(\"Choice samples:\", choice_sample)"
   ],
   "metadata": {
    "collapsed": false,
    "ExecuteTime": {
     "end_time": "2024-10-25T10:46:20.528530Z",
     "start_time": "2024-10-25T10:46:20.515604Z"
    }
   },
   "id": "589aa4e95bf0ab87",
   "execution_count": 20
  },
  {
   "cell_type": "code",
   "outputs": [
    {
     "name": "stdout",
     "output_type": "stream",
     "text": [
      "Shuffled array: [3 4 1 2 5]\n"
     ]
    }
   ],
   "source": [
    "# Shuffle the contents of the array\n",
    "array = br.shuffle(jnp.asarray(array))\n",
    "print(\"Shuffled array:\", array)"
   ],
   "metadata": {
    "collapsed": false,
    "ExecuteTime": {
     "end_time": "2024-10-25T10:46:20.609778Z",
     "start_time": "2024-10-25T10:46:20.599030Z"
    }
   },
   "id": "a1b5ceb209d46dfe",
   "execution_count": 21
  },
  {
   "cell_type": "markdown",
   "source": [
    "## Distributions\n",
    "\n",
    "The `brainstate.random` module provides functions for generating random samples from a variety of probability distributions. Some of the key functions include:\n",
    "\n",
    "- **normal**: Draws samples from a normal (Gaussian) distribution.\n",
    "- **uniform**: Draws samples from a uniform distribution.\n",
    "- **binomial**: Draws samples from a binomial distribution.\n",
    "- **poisson**: Draws samples from a Poisson distribution.\n",
    "- **beta**: Draws samples from a beta distribution.\n",
    "- **gamma**: Draws samples from a gamma distribution.\n",
    "- **exponential**: Draws samples from an exponential distribution.\n"
   ],
   "metadata": {
    "collapsed": false
   },
   "id": "f574683a3cf8bd24"
  },
  {
   "cell_type": "code",
   "outputs": [
    {
     "name": "stdout",
     "output_type": "stream",
     "text": [
      "Normal distribution samples: [ 1.0161465   0.36752662  0.02899979  0.78625953 -0.72719437]\n"
     ]
    }
   ],
   "source": [
    "# Generate 5 samples from a normal distribution with mean 0 and standard deviation 1\n",
    "normal_dist_samples = br.normal(0, 1, 5)\n",
    "print(\"Normal distribution samples:\", normal_dist_samples)"
   ],
   "metadata": {
    "collapsed": false,
    "ExecuteTime": {
     "end_time": "2024-10-25T10:46:20.687044Z",
     "start_time": "2024-10-25T10:46:20.673907Z"
    }
   },
   "id": "2a4016c97e9ec69f",
   "execution_count": 22
  },
  {
   "cell_type": "code",
   "outputs": [
    {
     "name": "stdout",
     "output_type": "stream",
     "text": [
      "Uniform distribution samples: [0.52509284 0.40843165 0.4105971  0.68232644 0.37531137]\n"
     ]
    }
   ],
   "source": [
    "# Generate 5 samples from a uniform distribution between 0 and 1\n",
    "uniform_dist_samples = br.uniform(0, 1, 5)\n",
    "print(\"Uniform distribution samples:\", uniform_dist_samples)"
   ],
   "metadata": {
    "collapsed": false,
    "ExecuteTime": {
     "end_time": "2024-10-25T10:46:20.714649Z",
     "start_time": "2024-10-25T10:46:20.705345Z"
    }
   },
   "id": "ad42cfc68efeb896",
   "execution_count": 23
  },
  {
   "cell_type": "code",
   "outputs": [
    {
     "name": "stdout",
     "output_type": "stream",
     "text": [
      "Binomial distribution samples: [4 5 5 6 3]\n"
     ]
    }
   ],
   "source": [
    "# Generate 5 samples from a binomial distribution with n=10 and p=0.5\n",
    "binomial_dist_samples = br.binomial(10, 0.5, 5)\n",
    "print(\"Binomial distribution samples:\", binomial_dist_samples)"
   ],
   "metadata": {
    "collapsed": false,
    "ExecuteTime": {
     "end_time": "2024-10-25T10:46:20.795856Z",
     "start_time": "2024-10-25T10:46:20.762609Z"
    }
   },
   "id": "22e71b4dd19744a2",
   "execution_count": 24
  },
  {
   "cell_type": "code",
   "outputs": [
    {
     "name": "stdout",
     "output_type": "stream",
     "text": [
      "Poisson distribution samples: [3 2 3 6 2]\n"
     ]
    }
   ],
   "source": [
    "# Generate 5 samples from a Poisson distribution with lambda=3\n",
    "poisson_dist_samples = br.poisson(3, 5)\n",
    "print(\"Poisson distribution samples:\", poisson_dist_samples)"
   ],
   "metadata": {
    "collapsed": false,
    "ExecuteTime": {
     "end_time": "2024-10-25T10:46:20.815667Z",
     "start_time": "2024-10-25T10:46:20.809424Z"
    }
   },
   "id": "df476ddc47d413a9",
   "execution_count": 25
  },
  {
   "cell_type": "markdown",
   "source": [
    "## Random Seed Control\n",
    "\n",
    "The `brainstate.random` module provides functions for controlling the random number generator's seed and internal random keys. Some of the key functions include:\n",
    "\n",
    "- **seed**: Seeds the random number generator.\n",
    "- **set_key**: Sets the internal random key of the random number generator."
   ],
   "metadata": {
    "collapsed": false
   },
   "id": "e2ea95814094fa4a"
  },
  {
   "cell_type": "code",
   "outputs": [],
   "source": [
    "# Seed the random number generator\n",
    "br.seed(42)"
   ],
   "metadata": {
    "collapsed": false,
    "ExecuteTime": {
     "end_time": "2024-10-25T10:46:20.849273Z",
     "start_time": "2024-10-25T10:46:20.845710Z"
    }
   },
   "id": "5480509c4a1c58b1",
   "execution_count": 26
  },
  {
   "cell_type": "code",
   "outputs": [
    {
     "name": "stdout",
     "output_type": "stream",
     "text": [
      "Random generator key: [ 0 42]\n"
     ]
    }
   ],
   "source": [
    "# Get the internal state of the random number generator\n",
    "state = br.get_key()\n",
    "print(\"Random generator key:\", state)"
   ],
   "metadata": {
    "collapsed": false,
    "ExecuteTime": {
     "end_time": "2024-10-25T10:46:20.877431Z",
     "start_time": "2024-10-25T10:46:20.871753Z"
    }
   },
   "id": "27dc45c891e1bb31",
   "execution_count": 27
  },
  {
   "cell_type": "code",
   "outputs": [],
   "source": [
    "# Set the internal state of the random number generator\n",
    "br.set_key(state)"
   ],
   "metadata": {
    "collapsed": false,
    "ExecuteTime": {
     "end_time": "2024-10-25T10:46:20.957663Z",
     "start_time": "2024-10-25T10:46:20.953317Z"
    }
   },
   "id": "df9f1b1a891a8113",
   "execution_count": 28
  },
  {
   "cell_type": "markdown",
   "source": [
    "## Random Generators\n",
    "\n",
    "The `brainstate.random` module provides a `RandomState` class that can be used to create custom random number generators with their own internal state. This can be useful when you need to generate random numbers in a reproducible manner across different runs of your program. \n",
    "\n",
    "Our RNGs are deterministic sequences and can be reproduced by specifying a seed integer to derive its initial state. The seed can be any integer value, and the same seed will always produce the same sequence of random numbers.\n",
    "\n",
    "Here is an example of how to create a custom random number generator using the `RandomState` class:"
   ],
   "metadata": {
    "collapsed": false
   },
   "id": "891ef892ae243f2d"
  },
  {
   "cell_type": "code",
   "outputs": [],
   "source": [
    "# Create a custom random number generator\n",
    "custom_rng = br.RandomState(42)"
   ],
   "metadata": {
    "collapsed": false,
    "ExecuteTime": {
     "end_time": "2024-10-25T10:46:20.977746Z",
     "start_time": "2024-10-25T10:46:20.972859Z"
    }
   },
   "id": "cf8892d7a4a23211",
   "execution_count": 29
  },
  {
   "cell_type": "code",
   "outputs": [
    {
     "name": "stdout",
     "output_type": "stream",
     "text": [
      "Custom random samples: [-0.55338794  0.944283   -0.74176395 -0.5769758   1.1251862 ]\n"
     ]
    }
   ],
   "source": [
    "# Generate random samples using the custom random number generator\n",
    "samples = custom_rng.randn(5)\n",
    "print(\"Custom random samples:\", samples)"
   ],
   "metadata": {
    "collapsed": false,
    "ExecuteTime": {
     "end_time": "2024-10-25T10:46:20.985628Z",
     "start_time": "2024-10-25T10:46:20.979239Z"
    }
   },
   "id": "64ebd13e567cc95d",
   "execution_count": 30
  },
  {
   "cell_type": "code",
   "outputs": [],
   "source": [
    "# Seed the custom random number generator\n",
    "custom_rng.seed(123)"
   ],
   "metadata": {
    "collapsed": false,
    "ExecuteTime": {
     "end_time": "2024-10-25T10:46:21.028572Z",
     "start_time": "2024-10-25T10:46:21.023845Z"
    }
   },
   "id": "9c1f8d3c3a5a1fe",
   "execution_count": 31
  },
  {
   "cell_type": "code",
   "outputs": [
    {
     "name": "stdout",
     "output_type": "stream",
     "text": [
      "Custom random samples after seeding: [-1.8925847  -0.8754525   0.12132935  0.40289825  1.0136441 ]\n"
     ]
    }
   ],
   "source": [
    "# Generate random samples using the custom random number generator after seeding\n",
    "samples = custom_rng.randn(5)\n",
    "print(\"Custom random samples after seeding:\", samples)"
   ],
   "metadata": {
    "collapsed": false,
    "ExecuteTime": {
     "end_time": "2024-10-25T10:46:21.036138Z",
     "start_time": "2024-10-25T10:46:21.030717Z"
    }
   },
   "id": "a3b5f187004a1dc9",
   "execution_count": 32
  }
 ],
 "metadata": {
  "kernelspec": {
   "display_name": "Python 3",
   "language": "python",
   "name": "python3"
  },
  "language_info": {
   "codemirror_mode": {
    "name": "ipython",
    "version": 2
   },
   "file_extension": ".py",
   "mimetype": "text/x-python",
   "name": "python",
   "nbconvert_exporter": "python",
   "pygments_lexer": "ipython2",
   "version": "2.7.6"
  }
 },
 "nbformat": 4,
 "nbformat_minor": 5
}
