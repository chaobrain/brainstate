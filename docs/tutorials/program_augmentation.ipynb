{
 "cells": [
  {
   "cell_type": "markdown",
   "source": [
    "# Program Augmentation"
   ],
   "metadata": {
    "collapsed": false
   },
   "id": "14f8a4ec2a6fd215"
  }
 ],
 "metadata": {
  "kernelspec": {
   "display_name": "Python 3",
   "language": "python",
   "name": "python3"
  },
  "language_info": {
   "codemirror_mode": {
    "name": "ipython",
    "version": 2
   },
   "file_extension": ".py",
   "mimetype": "text/x-python",
   "name": "python",
   "nbconvert_exporter": "python",
   "pygments_lexer": "ipython2",
   "version": "2.7.6"
  }
 },
 "nbformat": 4,
 "nbformat_minor": 5
}
