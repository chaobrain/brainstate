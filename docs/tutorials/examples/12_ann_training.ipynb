{
 "cells": [
  {
   "cell_type": "markdown",
   "id": "3e91a13480dd82aa",
   "metadata": {
    "collapsed": false
   },
   "source": [
    "# Training Artificial Neural Networks"
   ]
  },
  {
   "cell_type": "markdown",
   "id": "98b8e8f3",
   "metadata": {},
   "source": [
    "In recent years, artificial neural networks have developed rapidly and play an important role in neuroscience research. As a high-performance computational framework for brain dynamics modeling, brainstate also supports the training of artificial neural networks, facilitating the integration of neural dynamics models with artificial neural networks.\n",
    "\n",
    "Here, we will introduce how to train an artificial neural network using brainstate, with an example of a simple 2-layer multilayer perceptron (MLP) for handwritten digit recognition (MNIST)."
   ]
  },
  {
   "cell_type": "code",
   "id": "6d512371",
   "metadata": {
    "ExecuteTime": {
     "end_time": "2025-10-11T10:15:13.234279Z",
     "start_time": "2025-10-11T10:15:09.021121Z"
    }
   },
   "source": [
    "import jax.numpy as jnp\n",
    "import numpy as np\n",
    "from datasets import load_dataset\n",
    "\n",
    "import braintools \n",
    "import brainstate \n",
    "from braintools.metric import softmax_cross_entropy_with_integer_labels"
   ],
   "outputs": [],
   "execution_count": 1
  },
  {
   "cell_type": "code",
   "id": "fd228991",
   "metadata": {
    "ExecuteTime": {
     "end_time": "2025-10-11T10:15:13.245047Z",
     "start_time": "2025-10-11T10:15:13.237285Z"
    }
   },
   "source": "brainstate.__version__",
   "outputs": [
    {
     "data": {
      "text/plain": [
       "'0.2.2'"
      ]
     },
     "execution_count": 2,
     "metadata": {},
     "output_type": "execute_result"
    }
   ],
   "execution_count": 2
  },
  {
   "cell_type": "markdown",
   "id": "9889df14",
   "metadata": {},
   "source": [
    "## Preparing the Dataset\n",
    "\n",
    "First, we need to obtain the dataset and wrap it into an iterable object that automatically samples and shuffles the data according to the batch size."
   ]
  },
  {
   "cell_type": "code",
   "id": "01e96ac0",
   "metadata": {
    "ExecuteTime": {
     "end_time": "2025-10-11T10:15:38.210421Z",
     "start_time": "2025-10-11T10:15:13.259009Z"
    }
   },
   "source": [
    "dataset = load_dataset('mnist')\n",
    "X_train = np.array(np.stack(dataset['train']['image']), dtype=np.uint8)\n",
    "X_test = np.array(np.stack(dataset['test']['image']), dtype=np.uint8)\n",
    "X_train = (X_train > 0).astype(jnp.float32)\n",
    "X_test = (X_test > 0).astype(jnp.float32)\n",
    "Y_train = np.array(dataset['train']['label'], dtype=np.int32)\n",
    "Y_test = np.array(dataset['test']['label'], dtype=np.int32)"
   ],
   "outputs": [],
   "execution_count": 3
  },
  {
   "cell_type": "code",
   "id": "8b886cbc",
   "metadata": {
    "ExecuteTime": {
     "end_time": "2025-10-11T10:15:40.217618Z",
     "start_time": "2025-10-11T10:15:40.211580Z"
    }
   },
   "source": [
    "class Dataset:\n",
    "    def __init__(self, X, Y, batch_size, shuffle=True):\n",
    "        self.X = X\n",
    "        self.Y = Y\n",
    "        self.batch_size = batch_size\n",
    "        self.shuffle = shuffle\n",
    "        self.indices = np.arange(len(X))\n",
    "        self.current_index = 0\n",
    "        if self.shuffle:\n",
    "            np.random.shuffle(self.indices)\n",
    "\n",
    "    def __iter__(self):\n",
    "        self.current_index = 0\n",
    "        if self.shuffle:\n",
    "            np.random.shuffle(self.indices)\n",
    "        return self\n",
    "\n",
    "    def __next__(self):\n",
    "        # Check if all samples have been processed\n",
    "        if self.current_index >= len(self.X):\n",
    "            raise StopIteration\n",
    "\n",
    "        # Define the start and end of the current batch\n",
    "        start = self.current_index\n",
    "        end = start + self.batch_size\n",
    "        if end > len(self.X):\n",
    "            end = len(self.X)\n",
    "        \n",
    "        # Update current index\n",
    "        self.current_index = end\n",
    "\n",
    "        # Select batch samples\n",
    "        batch_indices = self.indices[start:end]\n",
    "        batch_X = self.X[batch_indices]\n",
    "        batch_Y = self.Y[batch_indices]\n",
    "\n",
    "        # Ensure batch has consistent shape\n",
    "        if batch_X.ndim == 1:\n",
    "            batch_X = np.expand_dims(batch_X, axis=0)\n",
    "\n",
    "        return batch_X, batch_Y"
   ],
   "outputs": [],
   "execution_count": 4
  },
  {
   "cell_type": "code",
   "id": "d6c383f1",
   "metadata": {
    "ExecuteTime": {
     "end_time": "2025-10-11T10:15:40.225527Z",
     "start_time": "2025-10-11T10:15:40.217618Z"
    }
   },
   "source": [
    "# Initialize training and testing datasets\n",
    "batch_size = 32\n",
    "train_dataset = Dataset(X_train, Y_train, batch_size, shuffle=True)\n",
    "test_dataset = Dataset(X_test, Y_test, batch_size, shuffle=False)"
   ],
   "outputs": [],
   "execution_count": 5
  },
  {
   "cell_type": "markdown",
   "id": "8ba1b50a",
   "metadata": {},
   "source": [
    "## Defining the Artificial Neural Network\n",
    "\n",
    "When defining an artificial neural network in brainstate, you need to inherit the base class ``brainstate.nn.Module``. In the class method ``__init__()``, define the layers in the network (make sure to initialize the base class first using ``super().__init__()``). In the class method ``__call__()``, define the forward pass method of the network.\n",
    "\n",
    "brainstate also supports defining operations for individual layers in the network. For these custom layers, you need to inherit from the base class ``brainstate.nn.Module``, similar to defining a network.\n",
    "\n",
    "All quantities that need to change in the model should be encapsulated in the ``State`` object. Parameters that need to be updated during training should be encapsulated in a subclass of ``State`` called ``ParamState``. Other quantities that need to be updated during training are encapsulated in another subclass of ``State`` called ``ShortTermState``."
   ]
  },
  {
   "cell_type": "code",
   "id": "cea8b5d5",
   "metadata": {
    "ExecuteTime": {
     "end_time": "2025-10-11T10:15:40.232020Z",
     "start_time": "2025-10-11T10:15:40.225527Z"
    }
   },
   "source": [
    "# Define linear layer\n",
    "class Linear(brainstate.nn.Module):\n",
    "  def __init__(self, din: int, dout: int):\n",
    "    super().__init__()\n",
    "    self.w = brainstate.ParamState(brainstate.random.rand(din, dout))  # Initialize weight parameters\n",
    "    self.b = brainstate.ParamState(jnp.zeros((dout,)))  # Initialize bias parameters\n",
    "\n",
    "  def __call__(self, x):\n",
    "    return x @ self.w.value + self.b.value    # Perform linear transformation"
   ],
   "outputs": [],
   "execution_count": 6
  },
  {
   "cell_type": "code",
   "id": "8e541917",
   "metadata": {
    "ExecuteTime": {
     "end_time": "2025-10-11T10:15:40.238526Z",
     "start_time": "2025-10-11T10:15:40.235377Z"
    }
   },
   "source": [
    "# Define a short-term state for counting times called\n",
    "class Count(brainstate.ShortTermState):\n",
    "  pass"
   ],
   "outputs": [],
   "execution_count": 7
  },
  {
   "cell_type": "code",
   "id": "f9445bd8",
   "metadata": {
    "ExecuteTime": {
     "end_time": "2025-10-11T10:15:40.245851Z",
     "start_time": "2025-10-11T10:15:40.238526Z"
    }
   },
   "source": [
    "# Define MLP model\n",
    "class MLP(brainstate.nn.Module):\n",
    "  def __init__(self, din, dhidden, dout):\n",
    "    super().__init__()\n",
    "    self.count = Count(jnp.array(0))    # Count how many times model is called\n",
    "    self.linear1 = Linear(din, dhidden)          # brainstate有常规层的实现，可以直接写 self.linear1 = brainstate.nn.Linear(din, dhidden)\n",
    "    self.linear2 = Linear(dhidden, dout)\n",
    "    self.flatten = brainstate.nn.Flatten(start_axis=1)   # Flatten images to 1D\n",
    "    self.relu = brainstate.nn.ReLU()   # ReLU activation function\n",
    "\n",
    "  def __call__(self, x):\n",
    "    self.count.value += 1   # Increment call count\n",
    "\n",
    "    x = self.flatten(x)\n",
    "    x = self.linear1(x)\n",
    "    x = self.relu(x)      # 也兼容jax函数，可以直接写 x = jax.nn.relu(x)\n",
    "    x = self.linear2(x)\n",
    "    return x"
   ],
   "outputs": [],
   "execution_count": 8
  },
  {
   "cell_type": "code",
   "id": "97aefeaa",
   "metadata": {
    "ExecuteTime": {
     "end_time": "2025-10-11T10:15:40.811047Z",
     "start_time": "2025-10-11T10:15:40.245851Z"
    }
   },
   "source": [
    "# Initialize model with input, hidden, and output layer sizes\n",
    "model = MLP(din=28*28, dhidden=512, dout=10)"
   ],
   "outputs": [],
   "execution_count": 9
  },
  {
   "cell_type": "markdown",
   "id": "d7edf945",
   "metadata": {},
   "source": [
    "## Optimizer Setup\n",
    "\n",
    "``braintools.optim`` provides various optimizers to choose from.\n",
    "\n",
    "After instantiating the optimizer, you need to specify which parameters the optimizer should update by calling ``optimizer.register_trainable_weights()``.\n",
    "\n",
    "In this case, we use ``brainstate.nn.Module.states()`` to collect all the ``State`` objects of the network nodes and their sub-nodes in the model. We restrict the types of ``State`` collected to ``brainstate.ParamState`` (in this model, ``State`` instances may also have other types like ``Count``, which do not need to be updated by the optimizer, so we apply type restrictions)."
   ]
  },
  {
   "cell_type": "code",
   "id": "e8dd079f",
   "metadata": {
    "ExecuteTime": {
     "end_time": "2025-10-11T10:15:40.829346Z",
     "start_time": "2025-10-11T10:15:40.811047Z"
    }
   },
   "source": [
    "# Initialize optimizer and register model parameters\n",
    "optimizer = braintools.optim.SGD(lr = 1e-3)   # Initialize SGD optimizer with learning rate\n",
    "optimizer.register_trainable_weights(model.states(brainstate.ParamState))   # Register parameters for optimization"
   ],
   "outputs": [
    {
     "name": "stderr",
     "output_type": "stream",
     "text": [
      "C:\\Users\\adadu\\AppData\\Local\\Temp\\ipykernel_32084\\65507359.py:2: DeprecationWarning: braintools.optim module is deprecated and will be removed in a future version. Please use braintools.optim instead.\n",
      "  optimizer = braintools.optim.SGD(lr = 1e-3)   # Initialize SGD optimizer with learning rate\n"
     ]
    },
    {
     "data": {
      "text/plain": [
       "SGD(\n",
       "  momentum=0.0,\n",
       "  nesterov=False,\n",
       "  param_states=<braintools.optim.UniqueStateManager object at 0x0000023F61D79DF0>,\n",
       "  weight_decay=0.0,\n",
       "  grad_clip_norm=None,\n",
       "  grad_clip_value=None,\n",
       "  step_count=OptimState(\n",
       "    value=ShapedArray(int32[], weak_type=True)\n",
       "  ),\n",
       "  param_groups=[\n",
       "    {\n",
       "      'params': {\n",
       "        ('linear1', 'b'): ParamState(\n",
       "          value=ShapedArray(float32[512])\n",
       "        ),\n",
       "        ('linear1', 'w'): ParamState(\n",
       "          value=ShapedArray(float32[784,512])\n",
       "        ),\n",
       "        ('linear2', 'b'): ParamState(\n",
       "          value=ShapedArray(float32[10])\n",
       "        ),\n",
       "        ('linear2', 'w'): ParamState(\n",
       "          value=ShapedArray(float32[512,10])\n",
       "        )\n",
       "      },\n",
       "      'lr': OptimState(\n",
       "        value=ShapedArray(float32[], weak_type=True)\n",
       "      ),\n",
       "      'weight_decay': 0.0\n",
       "    }\n",
       "  ],\n",
       "  param_groups_opt_states=[],\n",
       "  _schedulers=[],\n",
       "  _lr_scheduler=<braintools.optim.ConstantLR object at 0x0000023F61D7A180>,\n",
       "  _base_lr=0.001,\n",
       "  _current_lr=OptimState(...),\n",
       "  tx=GradientTransformationExtraArgs(init=<function chain.<locals>.init_fn at 0x0000023F61D623E0>, update=<function chain.<locals>.update_fn at 0x0000023F61D61F80>),\n",
       "  opt_state=OptimState(\n",
       "    value=(ScaleByScheduleState(count=ShapedArray(int32[])),)\n",
       "  )\n",
       ")"
      ]
     },
     "execution_count": 10,
     "metadata": {},
     "output_type": "execute_result"
    }
   ],
   "execution_count": 10
  },
  {
   "cell_type": "markdown",
   "id": "0bbbfad2",
   "metadata": {},
   "source": [
    "## Model Training\n",
    "\n",
    "During model training, use the ``brainstate.transform.grad`` function to calculate gradients. This function requires the loss function and the parameters (``State``) for which gradients should be computed.\n",
    "\n",
    "Then, the gradients are passed to the previously defined optimizer via ``update()`` for the update.\n",
    "\n",
    "To improve computational efficiency and performance, use the ``brainstate.transform.jit`` function to decorate the training step function, enabling just-in-time compilation."
   ]
  },
  {
   "cell_type": "code",
   "id": "99272b18",
   "metadata": {
    "ExecuteTime": {
     "end_time": "2025-10-11T10:15:40.839065Z",
     "start_time": "2025-10-11T10:15:40.834479Z"
    }
   },
   "source": [
    "# Training step function\n",
    "@brainstate.transform.jit\n",
    "def train_step(batch):\n",
    "  x, y = batch\n",
    "  # Define loss function\n",
    "  def loss_fn():\n",
    "    return softmax_cross_entropy_with_integer_labels(model(x), y).mean()\n",
    "  \n",
    "  # Compute gradients of the loss with respect to model parameters\n",
    "  grads = brainstate.transform.grad(loss_fn, model.states(brainstate.ParamState))()\n",
    "  optimizer.update(grads)   # Update parameters using optimizer"
   ],
   "outputs": [
    {
     "name": "stderr",
     "output_type": "stream",
     "text": [
      "C:\\Users\\adadu\\AppData\\Local\\Temp\\ipykernel_32084\\768626274.py:2: DeprecationWarning: Accessing 'jit' from 'brainstate.transform' is deprecated and will be removed in a future version. Use 'brainstate.transform.jit' instead.\n",
      "  @brainstate.transform.jit\n"
     ]
    }
   ],
   "execution_count": 11
  },
  {
   "cell_type": "markdown",
   "id": "e8c2dfe0",
   "metadata": {},
   "source": [
    "## Model Testing\n",
    "\n",
    "Similarly, use the ``brainstate.transform.jit`` function to decorate the testing step function, allowing for just-in-time compilation to improve computational efficiency and performance."
   ]
  },
  {
   "cell_type": "code",
   "id": "7456afa1",
   "metadata": {
    "ExecuteTime": {
     "end_time": "2025-10-11T10:15:40.876889Z",
     "start_time": "2025-10-11T10:15:40.872151Z"
    }
   },
   "source": [
    "# Testing step function\n",
    "@brainstate.transform.jit\n",
    "def test_step(batch):\n",
    "  x, y = batch\n",
    "  y_pred = model(x)   # Perform forward pass\n",
    "  loss = softmax_cross_entropy_with_integer_labels(y_pred, y).mean()   # Compute loss\n",
    "  correct = (y_pred.argmax(1) == y).sum()   # Count correct predictions\n",
    "\n",
    "  return {'loss': loss, 'correct': correct}"
   ],
   "outputs": [],
   "execution_count": 12
  },
  {
   "cell_type": "markdown",
   "id": "a550e569",
   "metadata": {},
   "source": [
    "## Training Process\n",
    "\n",
    "This completes the setup and the process for training an artificial neural network with brainstate."
   ]
  },
  {
   "cell_type": "code",
   "id": "eae5f682",
   "metadata": {
    "ExecuteTime": {
     "end_time": "2025-10-11T10:16:17.389423Z",
     "start_time": "2025-10-11T10:15:40.899228Z"
    }
   },
   "source": [
    "# Execute training and testing\n",
    "total_steps = 20\n",
    "for epoch in range(10):\n",
    "  for step, batch in enumerate(train_dataset):\n",
    "    train_step(batch)   # Perform training step for each batch\n",
    "\n",
    "  # Calculate test loss and accuracy\n",
    "  test_loss, correct = 0, 0\n",
    "  for step_, test_ in enumerate(test_dataset):\n",
    "    logs = test_step(test_)\n",
    "    test_loss += logs['loss']\n",
    "    correct += logs['correct']\n",
    "    test_loss += logs['loss']\n",
    "  test_loss = test_loss / (step_ + 1)\n",
    "  test_accuracy = correct / len(X_test)\n",
    "  print(f\"epoch: {epoch}, test loss: {test_loss}, test accuracy: {test_accuracy}\")\n",
    "\n",
    "print('times model called:', model.count.value)   # Output number of model calls"
   ],
   "outputs": [
    {
     "name": "stderr",
     "output_type": "stream",
     "text": [
      "C:\\Users\\adadu\\AppData\\Local\\Temp\\ipykernel_32084\\768626274.py:10: DeprecationWarning: Accessing 'grad' from 'brainstate.transform' is deprecated and will be removed in a future version. Use 'brainstate.transform.grad' instead.\n",
      "  grads = brainstate.transform.grad(loss_fn, model.states(brainstate.ParamState))()\n"
     ]
    },
    {
     "name": "stdout",
     "output_type": "stream",
     "text": [
      "epoch: 0, test loss: 402.7491455078125, test accuracy: 0.48350000381469727\n",
      "epoch: 1, test loss: 286.73333740234375, test accuracy: 0.4884999990463257\n",
      "epoch: 2, test loss: 113.37454986572266, test accuracy: 0.7487999796867371\n",
      "epoch: 3, test loss: 51.642398834228516, test accuracy: 0.8188999891281128\n",
      "epoch: 4, test loss: 102.10010528564453, test accuracy: 0.7190999984741211\n",
      "epoch: 5, test loss: 47.38042068481445, test accuracy: 0.8242999911308289\n",
      "epoch: 6, test loss: 68.87149047851562, test accuracy: 0.782800018787384\n",
      "epoch: 7, test loss: 43.74293518066406, test accuracy: 0.8547999858856201\n",
      "epoch: 8, test loss: 72.86088562011719, test accuracy: 0.7950999736785889\n",
      "epoch: 9, test loss: 42.85074996948242, test accuracy: 0.8532999753952026\n",
      "times model called: 21880\n"
     ]
    }
   ],
   "execution_count": 13
  }
 ],
 "metadata": {
  "kernelspec": {
   "display_name": "Python 3",
   "language": "python",
   "name": "python3"
  },
  "language_info": {
   "codemirror_mode": {
    "name": "ipython",
    "version": 3
   },
   "file_extension": ".py",
   "mimetype": "text/x-python",
   "name": "python",
   "nbconvert_exporter": "python",
   "pygments_lexer": "ipython3",
   "version": "3.11.10"
  }
 },
 "nbformat": 4,
 "nbformat_minor": 5
}
