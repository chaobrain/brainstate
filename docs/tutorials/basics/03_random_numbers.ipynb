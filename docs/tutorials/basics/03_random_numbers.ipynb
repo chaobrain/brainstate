{
 "cells": [
  {
   "cell_type": "markdown",
   "id": "230760979d82fbcd",
   "metadata": {},
   "source": [
    "# Random Number Generation in BrainState\n",
    "\n",
    "Random number generation is fundamental to machine learning and computational neuroscience. **BrainState** provides a comprehensive random number generation system built on JAX that combines:\n",
    "\n",
    "- 🎲 **NumPy-like API**: Familiar interface for easy adoption\n",
    "- 🔐 **Reproducibility**: Deterministic pseudorandom sequences\n",
    "- ⚡ **High Performance**: JIT-compiled random functions\n",
    "- 🔄 **Stateful Management**: Automatic key splitting and state handling\n",
    "\n",
    "By the end of this tutorial, you will understand:\n",
    "\n",
    "- How to generate random numbers with BrainState\n",
    "- The `RandomState` class and seed management\n",
    "- Available probability distributions\n",
    "- Random sampling and shuffling operations\n",
    "- Best practices for reproducible experiments"
   ]
  },
  {
   "cell_type": "code",
   "execution_count": null,
   "id": "7724835268dc9f6",
   "metadata": {},
   "outputs": [],
   "source": [
    "import brainstate\n",
    "import jax.numpy as jnp\n",
    "import matplotlib.pyplot as plt\n",
    "import numpy as np"
   ]
  },
  {
   "cell_type": "markdown",
   "id": "why_random",
   "metadata": {},
   "source": [
    "## Why BrainState Random?\n",
    "\n",
    "### JAX's Challenge\n",
    "\n",
    "JAX uses **explicit random keys** for reproducibility and parallelization:\n",
    "\n",
    "```python\n",
    "# JAX approach - manual key management\n",
    "key = jax.random.PRNGKey(0)\n",
    "key, subkey = jax.random.split(key)  # Must split manually\n",
    "x = jax.random.normal(subkey, (100,))\n",
    "```\n",
    "\n",
    "This is powerful but verbose. **BrainState** simplifies this:\n",
    "\n",
    "```python\n",
    "# BrainState approach - automatic key management\n",
    "brainstate.random.seed(0)\n",
    "x = brainstate.random.normal(0, 1, (100,))  # Keys handled automatically\n",
    "```\n",
    "\n",
    "### Key Features\n",
    "\n",
    "✅ **Automatic key splitting**: No manual key management  \n",
    "✅ **NumPy compatibility**: Drop-in replacement for `numpy.random`  \n",
    "✅ **Stateful interface**: Natural imperative programming style  \n",
    "✅ **JIT compatible**: Full performance with JAX transformations  "
   ]
  },
  {
   "cell_type": "markdown",
   "id": "ff4331f95839e85e",
   "metadata": {},
   "source": [
    "## API Overview\n",
    "\n",
    "The `brainstate.random` module provides a wide range of functions for random number generation and sampling from probability distributions.\n",
    "\n",
    "| Category | API Functions |\n",
    "|----------|---------------|\n",
    "| **Random Sampling** | `rand`, `randn`, `randint`, `random`, `choice` |\n",
    "| **Continuous Distributions** | `normal`, `uniform`, `beta`, `gamma`, `exponential`, `gumbel`, `laplace`, `logistic` |\n",
    "| **Discrete Distributions** | `binomial`, `poisson`, `bernoulli`, `categorical` |\n",
    "| **Shuffling** | `shuffle`, `permutation` |\n",
    "| **Seed Management** | `seed`, `get_key`, `set_key`, `split_key` |\n",
    "| **State Management** | `RandomState`, `DEFAULT` |\n",
    "\n",
    "### The DEFAULT RandomState\n",
    "\n",
    "All random functions in `brainstate.random` use a global `DEFAULT` instance of `RandomState`:"
   ]
  },
  {
   "cell_type": "code",
   "execution_count": null,
   "id": "6a3746e719381c04",
   "metadata": {},
   "outputs": [],
   "source": [
    "# The DEFAULT random state\n",
    "print(\"Default RandomState:\")\n",
    "print(brainstate.random.DEFAULT)\n",
    "print(f\"\\nType: {type(brainstate.random.DEFAULT)}\")"
   ]
  },
  {
   "cell_type": "markdown",
   "id": "seed_management",
   "metadata": {},
   "source": [
    "## Seed Management and Reproducibility\n",
    "\n",
    "### Setting Seeds\n",
    "\n",
    "For reproducible experiments, always set a seed at the beginning:"
   ]
  },
  {
   "cell_type": "code",
   "execution_count": null,
   "id": "5480509c4a1c58b1",
   "metadata": {},
   "outputs": [],
   "source": [
    "# Set seed for reproducibility\n",
    "brainstate.random.seed(42)\n",
    "print(\"Seed set to 42\")\n",
    "\n",
    "# Generate some numbers\n",
    "x1 = brainstate.random.rand(5)\n",
    "print(f\"First sequence: {x1}\")\n",
    "\n",
    "# Reset to same seed\n",
    "brainstate.random.seed(42)\n",
    "x2 = brainstate.random.rand(5)\n",
    "print(f\"Second sequence: {x2}\")\n",
    "print(f\"\\nIdentical? {jnp.allclose(x1, x2)}\")"
   ]
  },
  {
   "cell_type": "markdown",
   "id": "key_management",
   "metadata": {},
   "source": [
    "### Advanced: Key Management\n",
    "\n",
    "For advanced use cases, you can directly access and manipulate keys:"
   ]
  },
  {
   "cell_type": "code",
   "execution_count": null,
   "id": "27dc45c891e1bb31",
   "metadata": {},
   "outputs": [],
   "source": [
    "# Get current key\n",
    "current_key = brainstate.random.get_key()\n",
    "print(f\"Current key: {current_key}\")\n",
    "\n",
    "# Split key for parallel operations\n",
    "keys = brainstate.random.split_key(n=4)\n",
    "print(f\"\\nSplit into {len(keys)} keys:\")\n",
    "for i, key in enumerate(keys):\n",
    "    print(f\"  Key {i}: {key}\")"
   ]
  },
  {
   "cell_type": "code",
   "execution_count": null,
   "id": "df9f1b1a891a8113",
   "metadata": {},
   "outputs": [],
   "source": [
    "# Save and restore state\n",
    "saved_key = brainstate.random.get_key()\n",
    "v1 = brainstate.random.randn(3)\n",
    "\n",
    "# Generate more numbers\n",
    "v2 = brainstate.random.randn(3)\n",
    "\n",
    "# Restore state\n",
    "brainstate.random.set_key(saved_key)\n",
    "v3 = brainstate.random.randn(3)\n",
    "\n",
    "print(f\"v1: {v1}\")\n",
    "print(f\"v2: {v2}\")\n",
    "print(f\"v3 (restored): {v3}\")\n",
    "print(f\"\\nv1 == v3? {jnp.allclose(v1, v3)}\")"
   ]
  },
  {
   "cell_type": "markdown",
   "id": "f4a13411b1c9cfa2",
   "metadata": {},
   "source": [
    "## Random Sampling\n",
    "\n",
    "### Basic Sampling Functions"
   ]
  },
  {
   "cell_type": "code",
   "execution_count": null,
   "id": "3bdf5c4c909f4e3e",
   "metadata": {},
   "outputs": [],
   "source": [
    "# Uniform [0, 1)\n",
    "brainstate.random.seed(42)\n",
    "uniform_samples = brainstate.random.rand(5)\n",
    "print(\"Uniform [0,1) samples:\", uniform_samples)"
   ]
  },
  {
   "cell_type": "code",
   "execution_count": null,
   "id": "938ca61e0dc053ce",
   "metadata": {},
   "outputs": [],
   "source": [
    "# Standard normal (mean=0, std=1)\n",
    "normal_samples = brainstate.random.randn(5)\n",
    "print(\"Standard normal samples:\", normal_samples)"
   ]
  },
  {
   "cell_type": "code",
   "execution_count": null,
   "id": "93592d115567567a",
   "metadata": {},
   "outputs": [],
   "source": [
    "# Random integers\n",
    "int_samples = brainstate.random.randint(0, 10, size=5)\n",
    "print(\"Random integers [0,10):\", int_samples)"
   ]
  },
  {
   "cell_type": "markdown",
   "id": "sampling_ops",
   "metadata": {},
   "source": [
    "### Choice and Permutation"
   ]
  },
  {
   "cell_type": "code",
   "execution_count": null,
   "id": "589aa4e95bf0ab87",
   "metadata": {},
   "outputs": [],
   "source": [
    "# Random choice from array\n",
    "options = jnp.array([10, 20, 30, 40, 50])\n",
    "choices = brainstate.random.choice(options, size=3, replace=False)\n",
    "print(f\"Random choices from {options}:\")\n",
    "print(choices)"
   ]
  },
  {
   "cell_type": "code",
   "execution_count": null,
   "id": "a1b5ceb209d46dfe",
   "metadata": {},
   "outputs": [],
   "source": [
    "# Shuffle array\n",
    "array = jnp.arange(10)\n",
    "shuffled = brainstate.random.shuffle(array)\n",
    "print(f\"Original: {array}\")\n",
    "print(f\"Shuffled: {shuffled}\")"
   ]
  },
  {
   "cell_type": "code",
   "execution_count": null,
   "id": "permutation_example",
   "metadata": {},
   "outputs": [],
   "source": [
    "# Random permutation\n",
    "perm = brainstate.random.permutation(10)\n",
    "print(f\"Random permutation of 0-9: {perm}\")"
   ]
  },
  {
   "cell_type": "markdown",
   "id": "f574683a3cf8bd24",
   "metadata": {},
   "source": [
    "## Probability Distributions\n",
    "\n",
    "### Continuous Distributions"
   ]
  },
  {
   "cell_type": "code",
   "execution_count": null,
   "id": "2a4016c97e9ec69f",
   "metadata": {},
   "outputs": [],
   "source": [
    "# Normal distribution\n",
    "brainstate.random.seed(0)\n",
    "normal_samples = brainstate.random.normal(loc=5.0, scale=2.0, size=1000)\n",
    "print(f\"Normal(μ=5, σ=2):\")\n",
    "print(f\"  Mean: {jnp.mean(normal_samples):.3f} (expected: 5.0)\")\n",
    "print(f\"  Std:  {jnp.std(normal_samples):.3f} (expected: 2.0)\")"
   ]
  },
  {
   "cell_type": "code",
   "execution_count": null,
   "id": "ad42cfc68efeb896",
   "metadata": {},
   "outputs": [],
   "source": [
    "# Uniform distribution\n",
    "uniform_samples = brainstate.random.uniform(low=0, high=10, size=1000)\n",
    "print(f\"\\nUniform[0, 10):\")\n",
    "print(f\"  Mean: {jnp.mean(uniform_samples):.3f} (expected: 5.0)\")\n",
    "print(f\"  Min:  {jnp.min(uniform_samples):.3f}\")\n",
    "print(f\"  Max:  {jnp.max(uniform_samples):.3f}\")"
   ]
  },
  {
   "cell_type": "code",
   "execution_count": null,
   "id": "more_distributions",
   "metadata": {},
   "outputs": [],
   "source": [
    "# Exponential distribution\n",
    "exp_samples = brainstate.random.exponential(scale=2.0, size=1000)\n",
    "print(f\"\\nExponential(λ=0.5):\")\n",
    "print(f\"  Mean: {jnp.mean(exp_samples):.3f} (expected: 2.0)\")\n",
    "\n",
    "# Beta distribution\n",
    "beta_samples = brainstate.random.beta(a=2.0, b=5.0, size=1000)\n",
    "print(f\"\\nBeta(α=2, β=5):\")\n",
    "print(f\"  Mean: {jnp.mean(beta_samples):.3f} (expected: {2/(2+5):.3f})\")"
   ]
  },
  {
   "cell_type": "markdown",
   "id": "discrete_dists",
   "metadata": {},
   "source": [
    "### Discrete Distributions"
   ]
  },
  {
   "cell_type": "code",
   "execution_count": null,
   "id": "22e71b4dd19744a2",
   "metadata": {},
   "outputs": [],
   "source": [
    "# Binomial distribution\n",
    "binomial_samples = brainstate.random.binomial(n=10, p=0.5, size=1000)\n",
    "print(f\"Binomial(n=10, p=0.5):\")\n",
    "print(f\"  Mean: {jnp.mean(binomial_samples):.3f} (expected: 5.0)\")\n",
    "print(f\"  Std:  {jnp.std(binomial_samples):.3f} (expected: {jnp.sqrt(10*0.5*0.5):.3f})\")"
   ]
  },
  {
   "cell_type": "code",
   "execution_count": null,
   "id": "df476ddc47d413a9",
   "metadata": {},
   "outputs": [],
   "source": [
    "# Poisson distribution\n",
    "poisson_samples = brainstate.random.poisson(lam=3.0, size=1000)\n",
    "print(f\"\\nPoisson(λ=3):\")\n",
    "print(f\"  Mean: {jnp.mean(poisson_samples):.3f} (expected: 3.0)\")\n",
    "print(f\"  Var:  {jnp.var(poisson_samples):.3f} (expected: 3.0)\")"
   ]
  },
  {
   "cell_type": "markdown",
   "id": "visualization",
   "metadata": {},
   "source": [
    "### Visualizing Distributions\n",
    "\n",
    "Let's visualize several distributions:"
   ]
  },
  {
   "cell_type": "code",
   "execution_count": null,
   "id": "viz_distributions",
   "metadata": {},
   "outputs": [],
   "source": [
    "brainstate.random.seed(42)\n",
    "\n",
    "fig, axes = plt.subplots(2, 3, figsize=(15, 10))\n",
    "\n",
    "# Normal\n",
    "samples = brainstate.random.normal(0, 1, 10000)\n",
    "axes[0, 0].hist(np.array(samples), bins=50, density=True, alpha=0.7, edgecolor='black')\n",
    "axes[0, 0].set_title('Normal(μ=0, σ=1)', fontsize=12, fontweight='bold')\n",
    "axes[0, 0].set_xlabel('Value')\n",
    "axes[0, 0].set_ylabel('Density')\n",
    "axes[0, 0].grid(alpha=0.3)\n",
    "\n",
    "# Uniform\n",
    "samples = brainstate.random.uniform(0, 1, 10000)\n",
    "axes[0, 1].hist(np.array(samples), bins=50, density=True, alpha=0.7, edgecolor='black')\n",
    "axes[0, 1].set_title('Uniform(0, 1)', fontsize=12, fontweight='bold')\n",
    "axes[0, 1].set_xlabel('Value')\n",
    "axes[0, 1].set_ylabel('Density')\n",
    "axes[0, 1].grid(alpha=0.3)\n",
    "\n",
    "# Exponential\n",
    "samples = brainstate.random.exponential(1.0, 10000)\n",
    "axes[0, 2].hist(np.array(samples), bins=50, density=True, alpha=0.7, edgecolor='black')\n",
    "axes[0, 2].set_title('Exponential(λ=1)', fontsize=12, fontweight='bold')\n",
    "axes[0, 2].set_xlabel('Value')\n",
    "axes[0, 2].set_ylabel('Density')\n",
    "axes[0, 2].grid(alpha=0.3)\n",
    "\n",
    "# Beta\n",
    "samples = brainstate.random.beta(2, 5, 10000)\n",
    "axes[1, 0].hist(np.array(samples), bins=50, density=True, alpha=0.7, edgecolor='black')\n",
    "axes[1, 0].set_title('Beta(α=2, β=5)', fontsize=12, fontweight='bold')\n",
    "axes[1, 0].set_xlabel('Value')\n",
    "axes[1, 0].set_ylabel('Density')\n",
    "axes[1, 0].grid(alpha=0.3)\n",
    "\n",
    "# Binomial\n",
    "samples = brainstate.random.binomial(20, 0.5, 10000)\n",
    "axes[1, 1].hist(np.array(samples), bins=21, density=True, alpha=0.7, edgecolor='black')\n",
    "axes[1, 1].set_title('Binomial(n=20, p=0.5)', fontsize=12, fontweight='bold')\n",
    "axes[1, 1].set_xlabel('Value')\n",
    "axes[1, 1].set_ylabel('Density')\n",
    "axes[1, 1].grid(alpha=0.3)\n",
    "\n",
    "# Poisson\n",
    "samples = brainstate.random.poisson(5, 10000)\n",
    "axes[1, 2].hist(np.array(samples), bins=range(0, 20), density=True, alpha=0.7, edgecolor='black')\n",
    "axes[1, 2].set_title('Poisson(λ=5)', fontsize=12, fontweight='bold')\n",
    "axes[1, 2].set_xlabel('Value')\n",
    "axes[1, 2].set_ylabel('Density')\n",
    "axes[1, 2].grid(alpha=0.3)\n",
    "\n",
    "plt.tight_layout()\n",
    "plt.show()"
   ]
  },
  {
   "cell_type": "markdown",
   "id": "891ef892ae243f2d",
   "metadata": {},
   "source": [
    "## Custom RandomState Instances\n",
    "\n",
    "For advanced use cases, you can create custom `RandomState` instances with independent random streams:"
   ]
  },
  {
   "cell_type": "code",
   "execution_count": null,
   "id": "cf8892d7a4a23211",
   "metadata": {},
   "outputs": [],
   "source": [
    "# Create custom random generators\n",
    "rng1 = brainstate.random.RandomState(seed=42)\n",
    "rng2 = brainstate.random.RandomState(seed=123)\n",
    "\n",
    "print(\"RNG 1:\")\n",
    "print(rng1)"
   ]
  },
  {
   "cell_type": "code",
   "execution_count": null,
   "id": "64ebd13e567cc95d",
   "metadata": {},
   "outputs": [],
   "source": [
    "# Generate independent random sequences\n",
    "samples1 = rng1.randn(5)\n",
    "samples2 = rng2.randn(5)\n",
    "\n",
    "print(f\"Samples from RNG1: {samples1}\")\n",
    "print(f\"Samples from RNG2: {samples2}\")\n",
    "print(f\"\\nAre they different? {not jnp.allclose(samples1, samples2)}\")"
   ]
  },
  {
   "cell_type": "code",
   "execution_count": null,
   "id": "9c1f8d3c3a5a1fe",
   "metadata": {},
   "outputs": [],
   "source": [
    "# Re-seed custom RNG\n",
    "rng1.seed(999)\n",
    "samples3 = rng1.randn(5)\n",
    "print(f\"\\nAfter re-seeding RNG1 to 999: {samples3}\")"
   ]
  },
  {
   "cell_type": "markdown",
   "id": "practical_examples",
   "metadata": {},
   "source": [
    "## Practical Examples\n",
    "\n",
    "### Example 1: Mini-Batch Sampling"
   ]
  },
  {
   "cell_type": "code",
   "execution_count": null,
   "id": "minibatch_example",
   "metadata": {},
   "outputs": [],
   "source": [
    "def create_mini_batches(X, y, batch_size=32, shuffle=True):\n",
    "    \"\"\"Create mini-batches for training.\"\"\"\n",
    "    n_samples = len(X)\n",
    "    \n",
    "    # Shuffle indices\n",
    "    if shuffle:\n",
    "        indices = brainstate.random.permutation(n_samples)\n",
    "    else:\n",
    "        indices = jnp.arange(n_samples)\n",
    "    \n",
    "    # Create batches\n",
    "    batches = []\n",
    "    for start_idx in range(0, n_samples, batch_size):\n",
    "        end_idx = min(start_idx + batch_size, n_samples)\n",
    "        batch_indices = indices[start_idx:end_idx]\n",
    "        batches.append((X[batch_indices], y[batch_indices]))\n",
    "    \n",
    "    return batches\n",
    "\n",
    "# Generate dummy dataset\n",
    "brainstate.random.seed(0)\n",
    "X = brainstate.random.randn(100, 10)  # 100 samples, 10 features\n",
    "y = brainstate.random.randint(0, 2, 100)  # Binary labels\n",
    "\n",
    "# Create mini-batches\n",
    "batches = create_mini_batches(X, y, batch_size=32)\n",
    "print(f\"Created {len(batches)} mini-batches\")\n",
    "print(f\"First batch shape: X={batches[0][0].shape}, y={batches[0][1].shape}\")"
   ]
  },
  {
   "cell_type": "markdown",
   "id": "dropout_example",
   "metadata": {},
   "source": [
    "### Example 2: Dropout Layer"
   ]
  },
  {
   "cell_type": "code",
   "execution_count": null,
   "id": "dropout_impl",
   "metadata": {},
   "outputs": [],
   "source": [
    "class Dropout(brainstate.graph.Node):\n",
    "    \"\"\"Dropout layer with random masking.\"\"\"\n",
    "    \n",
    "    def __init__(self, drop_rate=0.5):\n",
    "        super().__init__()\n",
    "        self.drop_rate = drop_rate\n",
    "        self.training = brainstate.ShortTermState(True)\n",
    "    \n",
    "    def __call__(self, x):\n",
    "        if not self.training.value:\n",
    "            return x\n",
    "        \n",
    "        # Generate random mask\n",
    "        keep_prob = 1.0 - self.drop_rate\n",
    "        mask = brainstate.random.bernoulli(keep_prob, x.shape)\n",
    "        \n",
    "        # Apply dropout and scale\n",
    "        return x * mask / keep_prob\n",
    "\n",
    "# Test dropout\n",
    "brainstate.random.seed(42)\n",
    "dropout = Dropout(drop_rate=0.3)\n",
    "\n",
    "x = jnp.ones(10)\n",
    "y = dropout(x)\n",
    "\n",
    "print(f\"Input:  {x}\")\n",
    "print(f\"Output: {y}\")\n",
    "print(f\"Zeros:  {jnp.sum(y == 0)}/10\")"
   ]
  },
  {
   "cell_type": "markdown",
   "id": "noise_example",
   "metadata": {},
   "source": [
    "### Example 3: Noisy Neural Network"
   ]
  },
  {
   "cell_type": "code",
   "execution_count": null,
   "id": "noisy_network",
   "metadata": {},
   "outputs": [],
   "source": [
    "class NoisyLayer(brainstate.nn.Module):\n",
    "    \"\"\"Linear layer with Gaussian noise.\"\"\"\n",
    "    \n",
    "    def __init__(self, d_in, d_out, noise_std=0.1):\n",
    "        super().__init__()\n",
    "        self.noise_std = noise_std\n",
    "        \n",
    "        # Parameters with noise\n",
    "        self.w = brainstate.ParamState(brainstate.random.randn(d_in, d_out) * 0.1)\n",
    "        self.b = brainstate.ParamState(jnp.zeros(d_out))\n",
    "    \n",
    "    def __call__(self, x):\n",
    "        # Add weight noise\n",
    "        w_noisy = self.w.value + brainstate.random.normal(0, self.noise_std, self.w.value.shape)\n",
    "        \n",
    "        # Forward pass\n",
    "        return x @ w_noisy + self.b.value\n",
    "\n",
    "# Create and test\n",
    "brainstate.random.seed(0)\n",
    "layer = NoisyLayer(5, 3, noise_std=0.01)\n",
    "\n",
    "x = jnp.ones(5)\n",
    "y1 = layer(x)\n",
    "y2 = layer(x)  # Different due to noise\n",
    "\n",
    "print(f\"Output 1: {y1}\")\n",
    "print(f\"Output 2: {y2}\")\n",
    "print(f\"Difference: {y2 - y1}\")"
   ]
  },
  {
   "cell_type": "markdown",
   "id": "best_practices",
   "metadata": {},
   "source": [
    "## Best Practices\n",
    "\n",
    "### 1. Always Set Seeds for Reproducibility\n",
    "\n",
    "```python\n",
    "# At the start of your script/notebook\n",
    "brainstate.random.seed(42)\n",
    "```\n",
    "\n",
    "### 2. Use Custom RNGs for Independent Streams\n",
    "\n",
    "```python\n",
    "# For data augmentation\n",
    "aug_rng = brainstate.random.RandomState(seed=123)\n",
    "\n",
    "# For model initialization  \n",
    "init_rng = brainstate.random.RandomState(seed=456)\n",
    "```\n",
    "\n",
    "### 3. Save and Restore State for Checkpoints\n",
    "\n",
    "```python\n",
    "# Save state\n",
    "checkpoint = {\n",
    "    'model': model.state_dict(),\n",
    "    'rng_key': brainstate.random.get_key()\n",
    "}\n",
    "\n",
    "# Restore state\n",
    "brainstate.random.set_key(checkpoint['rng_key'])\n",
    "```\n",
    "\n",
    "### 4. Be Careful with JIT Compilation\n",
    "\n",
    "Random operations work inside `@jit`, but the random state is managed correctly:"
   ]
  },
  {
   "cell_type": "code",
   "execution_count": null,
   "id": "jit_random",
   "metadata": {},
   "outputs": [],
   "source": [
    "@brainstate.transform.jit\n",
    "def random_computation(n):\n",
    "    \"\"\"JIT-compiled function with randomness.\"\"\"\n",
    "    return brainstate.random.randn(n)\n",
    "\n",
    "# Each call gives different random numbers\n",
    "brainstate.random.seed(42)\n",
    "result1 = random_computation(5)\n",
    "result2 = random_computation(5)\n",
    "\n",
    "print(f\"Result 1: {result1}\")\n",
    "print(f\"Result 2: {result2}\")\n",
    "print(f\"Different? {not jnp.allclose(result1, result2)}\")"
   ]
  },
  {
   "cell_type": "markdown",
   "id": "summary",
   "metadata": {},
   "source": [
    "## Summary\n",
    "\n",
    "In this tutorial, you learned:\n",
    "\n",
    "✅ **Seed management** for reproducible experiments  \n",
    "✅ **Random sampling** with various distributions  \n",
    "✅ **Custom RandomState** instances for independent streams  \n",
    "✅ **Practical applications** in neural networks  \n",
    "✅ **Best practices** for random number generation  \n",
    "\n",
    "### Key Points\n",
    "\n",
    "- 🎲 BrainState provides a NumPy-like interface to JAX's random system\n",
    "- 🔐 Always set seeds for reproducibility\n",
    "- ⚡ Random functions are JIT-compatible and high-performance\n",
    "- 🔄 State is automatically managed for you\n",
    "\n",
    "### Next Steps\n",
    "\n",
    "Continue with:\n",
    "- **Neural Network Modules** - Use random initialization in models\n",
    "- **Program Transformations** - Combine randomness with JIT, vmap, and grad\n",
    "- **Training Loops** - Implement stochastic gradient descent\n",
    "\n",
    "### Additional Resources\n",
    "\n",
    "- 📚 [JAX Random Documentation](https://jax.readthedocs.io/en/latest/jax.random.html)\n",
    "- 🎲 [NumPy Random Documentation](https://numpy.org/doc/stable/reference/random/index.html)\n",
    "- 🧠 [BrainState API Reference](https://brainstate.readthedocs.io/)"
   ]
  }
 ],
 "metadata": {
  "kernelspec": {
   "display_name": "Python 3",
   "language": "python",
   "name": "python3"
  },
  "language_info": {
   "codemirror_mode": {
    "name": "ipython",
    "version": 3
   },
   "file_extension": ".py",
   "mimetype": "text/x-python",
   "name": "python",
   "nbconvert_exporter": "python",
   "pygments_lexer": "ipython3",
   "version": "3.9.0"
  }
 },
 "nbformat": 4,
 "nbformat_minor": 5
}
