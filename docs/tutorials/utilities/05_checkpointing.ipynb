{
 "cells": [
  {
   "cell_type": "markdown",
   "id": "dbdef1f7bce3a135",
   "metadata": {
    "collapsed": false
   },
   "source": [
    "# Save and Load Checkpoints"
   ]
  },
  {
   "cell_type": "markdown",
   "id": "43f961f5",
   "metadata": {},
   "source": [
    "In this tutorial, we will explore how to save and load checkpoints in `brainstate` by using the `orbax` library and `braintools` library which provide a more lightweight approach. This is particularly useful for saving the state of your model during training so that you can resume training from where you left off or use the trained model for inference later. The following example demonstrates how to use `orbax` and `braintools`'s checkpointing functionality with a simple MLP model."
   ]
  },
  {
   "cell_type": "markdown",
   "id": "343e09cf",
   "metadata": {},
   "source": [
    "First you can install the `orbax` library by running the following command:\n",
    "\n",
    "`pip install orbax-checkpoint`\n",
    "\n",
    "You may also install directly from GitHub, using the following command. This can be used to obtain the most recent version of Orbax.\n",
    "\n",
    "`pip install 'git+https://github.com/google/orbax/#subdirectory=checkpoint'`\n",
    "\n",
    "You can install the `braintools` library by running the following command:\n",
    "\n",
    "`pip install braintools`"
   ]
  },
  {
   "cell_type": "markdown",
   "id": "ee756112",
   "metadata": {},
   "source": [
    "First, let's import the necessary libraries."
   ]
  },
  {
   "cell_type": "code",
   "id": "b7741c32",
   "metadata": {
    "ExecuteTime": {
     "end_time": "2025-10-11T10:05:19.550147Z",
     "start_time": "2025-10-11T10:05:17.642468Z"
    }
   },
   "source": [
    "import tempfile\n",
    "import os\n",
    "\n",
    "import jax\n",
    "import jax.numpy as jnp\n",
    "import orbax.checkpoint as orbax\n",
    "import braintools\n",
    "import brainstate "
   ],
   "outputs": [],
   "execution_count": 1
  },
  {
   "cell_type": "markdown",
   "id": "a6eb2d76",
   "metadata": {},
   "source": [
    "## Define the Model\n",
    "We define a simple Multi-Layer Perceptron (MLP) model using `brainstate`."
   ]
  },
  {
   "cell_type": "code",
   "id": "7e020098",
   "metadata": {
    "ExecuteTime": {
     "end_time": "2025-10-11T10:05:19.557867Z",
     "start_time": "2025-10-11T10:05:19.550147Z"
    }
   },
   "source": [
    "class MLP(brainstate.nn.Module):\n",
    "    def __init__(self, din: int, dmid: int, dout: int):\n",
    "        super().__init__()\n",
    "        self.dense1 = brainstate.nn.Linear(din, dmid)\n",
    "        self.dense2 = brainstate.nn.Linear(dmid, dout)\n",
    "\n",
    "    def __call__(self, x: jax.Array) -> jax.Array:\n",
    "        x = self.dense1(x)\n",
    "        x = jax.nn.relu(x)\n",
    "        x = self.dense2(x)\n",
    "        return x"
   ],
   "outputs": [],
   "execution_count": 2
  },
  {
   "cell_type": "markdown",
   "id": "e5bf157c",
   "metadata": {},
   "source": [
    "## Create the Model\n",
    "We create an instance of the model with a given seed for reproducibility."
   ]
  },
  {
   "cell_type": "code",
   "id": "39619169",
   "metadata": {
    "ExecuteTime": {
     "end_time": "2025-10-11T10:05:20.454441Z",
     "start_time": "2025-10-11T10:05:19.562541Z"
    }
   },
   "source": [
    "SEED = 42\n",
    "brainstate.random.seed(SEED)   # set seed in brainstate\n",
    "model1 = MLP(10, 20, 30)    # create model\n",
    "model1"
   ],
   "outputs": [
    {
     "data": {
      "text/plain": [
       "MLP(\n",
       "  dense1=Linear(\n",
       "    in_size=(10,),\n",
       "    out_size=(20,),\n",
       "    w_mask=None,\n",
       "    weight=ParamState(\n",
       "      value={\n",
       "        'bias': ShapedArray(float32[20]),\n",
       "        'weight': ShapedArray(float32[10,20])\n",
       "      }\n",
       "    )\n",
       "  ),\n",
       "  dense2=Linear(\n",
       "    in_size=(20,),\n",
       "    out_size=(30,),\n",
       "    w_mask=None,\n",
       "    weight=ParamState(\n",
       "      value={\n",
       "        'bias': ShapedArray(float32[30]),\n",
       "        'weight': ShapedArray(float32[20,30])\n",
       "      }\n",
       "    )\n",
       "  )\n",
       ")"
      ]
     },
     "execution_count": 3,
     "metadata": {},
     "output_type": "execute_result"
    }
   ],
   "execution_count": 3
  },
  {
   "cell_type": "markdown",
   "id": "26ded981",
   "metadata": {},
   "source": [
    "## Save the Model State\n",
    "\n",
    "### Save the Model State Using `orbax`\n",
    "We save the model's parameters to a checkpoint file."
   ]
  },
  {
   "cell_type": "code",
   "id": "14d1d552",
   "metadata": {
    "ExecuteTime": {
     "end_time": "2025-10-11T10:05:22.597376Z",
     "start_time": "2025-10-11T10:05:22.428843Z"
    }
   },
   "source": [
    "tmpdir = tempfile.mkdtemp()    # create temporary directory\n",
    "state_tree = brainstate.graph.treefy_states(model1)    # convert model to state tree\n",
    "checkpointer = orbax.PyTreeCheckpointer()   # create checkpointer\n",
    "checkpointer.save(os.path.join(tmpdir, 'state'), state_tree)    # save state tree"
   ],
   "outputs": [],
   "execution_count": 4
  },
  {
   "cell_type": "markdown",
   "id": "27209868",
   "metadata": {},
   "source": [
    "Now, we've saved the model's parameters to the checkpoint files in `tmpdir/state` by using the `orbax` library."
   ]
  },
  {
   "cell_type": "markdown",
   "id": "fb36ffc3",
   "metadata": {},
   "source": [
    "### Save the Model State Using `braintools`"
   ]
  },
  {
   "cell_type": "code",
   "id": "2b03606b",
   "metadata": {
    "ExecuteTime": {
     "end_time": "2025-10-11T10:05:22.608235Z",
     "start_time": "2025-10-11T10:05:22.602453Z"
    }
   },
   "source": [
    "checkpoint = brainstate.graph.states(model1).to_nest()   # convert model to nest\n",
    "braintools.file.msgpack_save(os.path.join(tmpdir, 'state.msgpack'), checkpoint)    # save checkpoint"
   ],
   "outputs": [
    {
     "name": "stdout",
     "output_type": "stream",
     "text": [
      "Saving checkpoint into C:\\Users\\adadu\\AppData\\Local\\Temp\\tmplky_atoo\\state.msgpack\n"
     ]
    }
   ],
   "execution_count": 5
  },
  {
   "cell_type": "markdown",
   "id": "76030ac1",
   "metadata": {},
   "source": [
    "Now, we've saved the model's parameters to the checkpoint files in `tmpdir/state.msgpack` by using the `braintools` library."
   ]
  },
  {
   "cell_type": "markdown",
   "id": "6faf01ec",
   "metadata": {},
   "source": [
    "## Load the Model State\n",
    "\n",
    "### Load the Model State Using `orbax`\n",
    "Let's load the model's parameters from the checkpoint files."
   ]
  },
  {
   "cell_type": "code",
   "id": "26ba3c3e",
   "metadata": {
    "ExecuteTime": {
     "end_time": "2025-10-11T10:05:22.689503Z",
     "start_time": "2025-10-11T10:05:22.624261Z"
    }
   },
   "source": [
    "# create that model with abstract shapes\n",
    "brainstate.random.seed(0)\n",
    "model2 = MLP(10, 20, 30)\n",
    "state_tree = brainstate.graph.treefy_states(model2)\n",
    "\n",
    "# Load the parameters from checkpoint files\n",
    "checkpointer = orbax.PyTreeCheckpointer()\n",
    "state_tree = checkpointer.restore(os.path.join(tmpdir, 'state'), item=state_tree)\n",
    "\n",
    "# update the model with the loaded state\n",
    "brainstate.graph.update_states(model2, state_tree)"
   ],
   "outputs": [
    {
     "name": "stderr",
     "output_type": "stream",
     "text": [
      "C:\\Users\\adadu\\miniconda3\\envs\\bdp\\Lib\\site-packages\\orbax\\checkpoint\\_src\\serialization\\type_handlers.py:1269: UserWarning: Sharding info not provided when restoring. Populating sharding info from sharding file. Please note restoration time will be slightly increased due to reading from file. Note also that this option is unsafe when restoring on a different topology than the checkpoint was saved with.\n",
      "  warnings.warn(\n"
     ]
    }
   ],
   "execution_count": 6
  },
  {
   "cell_type": "markdown",
   "id": "79929f4a",
   "metadata": {},
   "source": [
    "### Load the Model State Using `braintools`\n",
    "Let's load the model's parameters from the checkpoint files."
   ]
  },
  {
   "cell_type": "code",
   "id": "7a6d1de0",
   "metadata": {
    "ExecuteTime": {
     "end_time": "2025-10-11T10:05:22.776907Z",
     "start_time": "2025-10-11T10:05:22.693957Z"
    }
   },
   "source": [
    "# 创建一个有着相同结构的模型\n",
    "brainstate.random.seed(0)\n",
    "model3 = MLP(10, 20, 30)\n",
    "checkpoint = brainstate.graph.states(model3).to_nest()\n",
    "\n",
    "# 从msgpack文件读取模型参数\n",
    "braintools.file.msgpack_load(os.path.join(tmpdir, 'state.msgpack'), checkpoint)"
   ],
   "outputs": [
    {
     "name": "stdout",
     "output_type": "stream",
     "text": [
      "Loading checkpoint from C:\\Users\\adadu\\AppData\\Local\\Temp\\tmplky_atoo\\state.msgpack\n"
     ]
    },
    {
     "data": {
      "text/plain": [
       "{'dense1': {'weight': ParamState(\n",
       "    value={\n",
       "      'bias': ShapedArray(float32[20]),\n",
       "      'weight': ShapedArray(float32[10,20])\n",
       "    }\n",
       "  )},\n",
       " 'dense2': {'weight': ParamState(\n",
       "    value={\n",
       "      'bias': ShapedArray(float32[30]),\n",
       "      'weight': ShapedArray(float32[20,30])\n",
       "    }\n",
       "  )}}"
      ]
     },
     "execution_count": 7,
     "metadata": {},
     "output_type": "execute_result"
    }
   ],
   "execution_count": 7
  },
  {
   "cell_type": "markdown",
   "id": "29dc37c9",
   "metadata": {},
   "source": [
    "## Demonstrate the Loaded Model\n",
    "Let's run the loaded model and check if it produces the same output as the original model."
   ]
  },
  {
   "cell_type": "code",
   "id": "dfe032ab",
   "metadata": {
    "ExecuteTime": {
     "end_time": "2025-10-11T10:05:23.101307Z",
     "start_time": "2025-10-11T10:05:22.781916Z"
    }
   },
   "source": [
    "y1 = model1(jnp.ones((1, 10)))\n",
    "y2 = model2(jnp.ones((1, 10)))\n",
    "y3 = model3(jnp.ones((1, 10)))\n",
    "print(jnp.allclose(y1, y2))    # True\n",
    "print(jnp.allclose(y1, y3))    # True"
   ],
   "outputs": [
    {
     "name": "stdout",
     "output_type": "stream",
     "text": [
      "True\n",
      "True\n"
     ]
    }
   ],
   "execution_count": 8
  }
 ],
 "metadata": {
  "kernelspec": {
   "display_name": "brainstate",
   "language": "python",
   "name": "python3"
  },
  "language_info": {
   "codemirror_mode": {
    "name": "ipython",
    "version": 3
   },
   "file_extension": ".py",
   "mimetype": "text/x-python",
   "name": "python",
   "nbconvert_exporter": "python",
   "pygments_lexer": "ipython3",
   "version": "3.10.15"
  }
 },
 "nbformat": 4,
 "nbformat_minor": 5
}
