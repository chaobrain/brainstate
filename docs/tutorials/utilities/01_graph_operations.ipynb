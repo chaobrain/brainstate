{
 "cells": [
  {
   "cell_type": "markdown",
   "metadata": {},
   "source": [
    "# BrainState Graph and Node System\n",
    "\n",
    "In JAX, powerful function transformations are applicable to pytree data structures -- such as dictionaries, lists, tuples, and other tree-like forms. Leveraging pytree, JAX enables efficient automatic differentiation, vectorization, and parallelization. However, many practical applications, particularly complex neural network models and physical systems, are better suited to graph representations rather than simple tree structures. To address this need, the `brainstate` library adopts the graph-based representation in [flax](https://flax.readthedocs.io/) to represent complex model architectures.\n",
    "\n",
    "\n",
    "\n",
    "## What is `pygraph`?\n",
    "\n",
    "`pygraph` is a specialized data structure within `brainstate` designed to facilitate JAX transformations for graph-based models. Unlike conventional tree structures, graphs can articulate a broader range of node relationships and dependencies, making them ideal for more intricate model architectures. In scenarios where a model's state relies on the interactions among multiple nodes, graph structures offer enhanced flexibility in representation.\n",
    "\n",
    "The `pygraph` module utilizes **`brainstate.graph.Node`** as its foundational element, constructing graph structures by defining relationships (edges) between nodes. Each node can hold arbitrary pytree array data or nested `pygraph` substructures, promoting a more adaptable and modular approach to graph construction.\n",
    "\n",
    "We can think of `brainstate.graph.Node` as a **container class**, where its attributes denote its leaf nodes. These containers can reference one another, thereby facilitating the creation of complex graph structures."
   ],
   "id": "ff7c015e07e0c6c9"
  },
  {
   "cell_type": "code",
   "metadata": {
    "ExecuteTime": {
     "end_time": "2025-10-10T15:54:07.229813Z",
     "start_time": "2025-10-10T15:54:05.432653Z"
    }
   },
   "source": [
    "import jax\n",
    "import jax.numpy as jnp\n",
    "import matplotlib.pyplot as plt\n",
    "\n",
    "import brainstate\n",
    "\n",
    "# Set random seed for reproducibility\n",
    "brainstate.random.seed(42)"
   ],
   "outputs": [],
   "execution_count": 1,
   "id": "21085866d34afe68"
  },
  {
   "cell_type": "markdown",
   "metadata": {},
   "source": [
    "## Basic `brainstate.graph.Node` Example\n",
    "\n",
    "Let's start by defining a simple class that inherits from `brainstate.graph.Node`:"
   ],
   "id": "d9a69bd0578a8467"
  },
  {
   "cell_type": "code",
   "metadata": {
    "ExecuteTime": {
     "end_time": "2025-10-10T15:54:07.506364Z",
     "start_time": "2025-10-10T15:54:07.238063Z"
    }
   },
   "source": [
    "class A(brainstate.graph.Node):\n",
    "    def __init__(self):\n",
    "        super().__init__()\n",
    "        self.w = brainstate.random.rand(2, 3)\n",
    "        self.b = brainstate.ShortTermState(brainstate.random.rand(3))\n",
    "\n",
    "# Create an instance\n",
    "a = A()\n",
    "\n",
    "print(\"Node A created:\")\n",
    "print(f\"  w shape: {a.w.shape}\")\n",
    "print(f\"  b shape: {a.b.value.shape}\")\n",
    "print(f\"  b type: {type(a.b).__name__}\")"
   ],
   "outputs": [
    {
     "name": "stdout",
     "output_type": "stream",
     "text": [
      "Node A created:\n",
      "  w shape: (2, 3)\n",
      "  b shape: (3,)\n",
      "  b type: ShortTermState\n"
     ]
    }
   ],
   "execution_count": 2,
   "id": "77f9ae362b940fe1"
  },
  {
   "cell_type": "markdown",
   "metadata": {},
   "source": [
    "In the code above, we define a class `A` that inherits from `brainstate.graph.Node`. Within the class's initialization function, we define two attributes, `w` and `b`, which represent a randomly generated 2×3 matrix and a randomly generated array of length 3, respectively. Both of these data structures are JAX pytree structures.\n",
    "\n",
    "### Cyclic References\n",
    "\n",
    "It is noteworthy that **`brainstate.graph.Node` allows us to create cyclic references**. For example:"
   ],
   "id": "31b58124d7b328ac"
  },
  {
   "cell_type": "code",
   "metadata": {
    "ExecuteTime": {
     "end_time": "2025-10-10T15:54:07.540157Z",
     "start_time": "2025-10-10T15:54:07.537307Z"
    }
   },
   "source": [
    "# Create a cyclic reference\n",
    "a.self = a\n",
    "\n",
    "print(\"Created cyclic reference: a.self = a\")\n",
    "print(f\"Are they the same object? {a.self is a}\")"
   ],
   "outputs": [
    {
     "name": "stdout",
     "output_type": "stream",
     "text": [
      "Created cyclic reference: a.self = a\n",
      "Are they the same object? True\n"
     ]
    }
   ],
   "execution_count": 3,
   "id": "9270a4ee302d629e"
  },
  {
   "cell_type": "markdown",
   "metadata": {},
   "source": [
    "We set the `self` attribute of `a` to `a`, thereby creating a cyclic reference. This type of referencing is **not permitted in tree structures**, but it is valid in graph structures. Such cyclic references can be used to represent complex model architectures, such as the recurrent connections in recurrent neural networks. Through this flexible referencing method, we can more naturally express the dynamic relationships between nodes in neural networks.\n",
    "\n",
    "### Inspecting the Graph Structure\n",
    "\n",
    "We can inspect the graph definition using `brainstate.graph.graphdef()`:"
   ],
   "id": "8e66524c99968322"
  },
  {
   "cell_type": "code",
   "metadata": {
    "ExecuteTime": {
     "end_time": "2025-10-10T15:54:07.575041Z",
     "start_time": "2025-10-10T15:54:07.568785Z"
    }
   },
   "source": [
    "# Inspect the graphdef of a\n",
    "graphdef = brainstate.graph.graphdef(a)\n",
    "graphdef"
   ],
   "outputs": [
    {
     "data": {
      "text/plain": [
       "NodeDef(\n",
       "  type=A,\n",
       "  index=0,\n",
       "  attributes=('b', 'self', 'w'),\n",
       "  subgraphs={\n",
       "    'self': NodeRef(\n",
       "      type=A,\n",
       "      index=0\n",
       "    )\n",
       "  },\n",
       "  static_fields={\n",
       "    'w': Array([[0.72766423, 0.78786755, 0.18169427],\n",
       "           [0.26263022, 0.11072934, 0.20263076]], dtype=float32)\n",
       "  },\n",
       "  leaves={\n",
       "    'b': NodeRef(\n",
       "      type=ShortTermState,\n",
       "      index=1\n",
       "    )\n",
       "  },\n",
       "  metadata=(<class '__main__.A'>,),\n",
       "  index_mapping=None\n",
       ")"
      ]
     },
     "execution_count": 4,
     "metadata": {},
     "output_type": "execute_result"
    }
   ],
   "execution_count": 4,
   "id": "c572e954c97bd3da"
  },
  {
   "cell_type": "markdown",
   "metadata": {},
   "source": [
    "## Building Hierarchical Neural Networks\n",
    "\n",
    "`brainstate.graph.Node` is the foundational class in `pygraph`, defining the structure and behavior of each node within the graph. The **attributes** of each node represent its leaf nodes and can accommodate any JAX array or other transformable data types. The **methods** associated with each node facilitate operations for manipulating, updating, and transforming the data contained within.\n",
    "\n",
    "In `brainstate`, any neural network module is a subclass of `brainstate.graph.Node`, allowing for the flexible construction of various neural network architectures. This design ensures excellent scalability while fully harnessing the powerful computational capabilities provided by JAX. For instance, we can easily define a multi-layer perceptron (MLP) module:"
   ],
   "id": "3f60e6d557d37001"
  },
  {
   "cell_type": "code",
   "metadata": {
    "ExecuteTime": {
     "end_time": "2025-10-10T15:54:08.564682Z",
     "start_time": "2025-10-10T15:54:07.598547Z"
    }
   },
   "source": [
    "class MLP(brainstate.graph.Node):\n",
    "    def __init__(self):\n",
    "        super().__init__()\n",
    "        self.l1 = brainstate.nn.Linear(2, 3)\n",
    "        self.l2 = brainstate.nn.Linear(3, 4)\n",
    "        self.l3 = brainstate.nn.Linear(4, 5)\n",
    "        self.st = brainstate.ShortTermState(brainstate.random.rand(5))\n",
    "\n",
    "# Create MLP instance\n",
    "mlp = MLP()\n",
    "\n",
    "print(\"MLP structure:\")\n",
    "print(mlp)"
   ],
   "outputs": [
    {
     "name": "stdout",
     "output_type": "stream",
     "text": [
      "MLP structure:\n",
      "MLP(\n",
      "  l1=Linear(\n",
      "    in_size=(2,),\n",
      "    out_size=(3,),\n",
      "    w_mask=None,\n",
      "    weight=ParamState(\n",
      "      value={\n",
      "        'bias': ShapedArray(float32[3]),\n",
      "        'weight': ShapedArray(float32[2,3])\n",
      "      }\n",
      "    )\n",
      "  ),\n",
      "  l2=Linear(\n",
      "    in_size=(3,),\n",
      "    out_size=(4,),\n",
      "    w_mask=None,\n",
      "    weight=ParamState(\n",
      "      value={\n",
      "        'bias': ShapedArray(float32[4]),\n",
      "        'weight': ShapedArray(float32[3,4])\n",
      "      }\n",
      "    )\n",
      "  ),\n",
      "  l3=Linear(\n",
      "    in_size=(4,),\n",
      "    out_size=(5,),\n",
      "    w_mask=None,\n",
      "    weight=ParamState(\n",
      "      value={\n",
      "        'bias': ShapedArray(float32[5]),\n",
      "        'weight': ShapedArray(float32[4,5])\n",
      "      }\n",
      "    )\n",
      "  ),\n",
      "  st=ShortTermState(\n",
      "    value=ShapedArray(float32[5])\n",
      "  )\n",
      ")\n"
     ]
    }
   ],
   "execution_count": 5,
   "id": "a41868f76bec2452"
  },
  {
   "cell_type": "markdown",
   "metadata": {},
   "source": [
    "## Traversing the Graph Structure\n",
    "\n",
    "Nodes can be created and manipulated using the following attributes and methods:\n",
    "\n",
    "- **Data Storage**: Each `brainstate.graph.Node` can store any JAX arrays or other transformable data types within its *attributes*.\n",
    "\n",
    "- **Node Connections**: The *attributes* of a `brainstate.graph.Node` can reference other `brainstate.graph.Node` instances, establishing complex dependency graphs -- as illustrated by the three linear layer modules within the `MLP` class above.\n",
    "\n",
    "- **Attributes and Their Paths**: Every `brainstate.graph.Node` includes a unique path for retrieval and transformation. This path aids in identifying and accessing nodes within complex structures, representing the node's position within the hierarchical nesting of the graph.\n",
    "\n",
    "### Iterating Over Leaf Nodes\n",
    "\n",
    "For instance, we can view the leaf data points in the `MLP` graph using the following code:"
   ],
   "id": "8757f357fcd874b4"
  },
  {
   "cell_type": "code",
   "metadata": {
    "ExecuteTime": {
     "end_time": "2025-10-10T15:54:10.396842Z",
     "start_time": "2025-10-10T15:54:10.392984Z"
    }
   },
   "source": [
    "print(\"Leaf nodes in MLP:\")\n",
    "print(\"=\" * 60)\n",
    "\n",
    "for path, leaf in brainstate.graph.iter_leaf(mlp):\n",
    "    leaf_info = leaf.__class__.__name__ if isinstance(leaf, brainstate.State) else leaf\n",
    "    print(f\"{str(path):<40} {leaf_info}\")"
   ],
   "outputs": [
    {
     "name": "stdout",
     "output_type": "stream",
     "text": [
      "Leaf nodes in MLP:\n",
      "============================================================\n",
      "('l1', '_in_size', 0)                    2\n",
      "('l1', '_out_size', 0)                   3\n",
      "('l1', 'weight')                         ParamState\n",
      "('l2', '_in_size', 0)                    3\n",
      "('l2', '_out_size', 0)                   4\n",
      "('l2', 'weight')                         ParamState\n",
      "('l3', '_in_size', 0)                    4\n",
      "('l3', '_out_size', 0)                   5\n",
      "('l3', 'weight')                         ParamState\n",
      "('st',)                                  ShortTermState\n"
     ]
    }
   ],
   "execution_count": 6,
   "id": "dc8d3b5e89e9863c"
  },
  {
   "cell_type": "markdown",
   "metadata": {},
   "source": [
    "### Iterating Over All Nodes\n",
    "\n",
    "We can also view all nodes in the `MLP` graph:"
   ],
   "id": "d9b026896800605e"
  },
  {
   "cell_type": "code",
   "metadata": {
    "ExecuteTime": {
     "end_time": "2025-10-10T15:54:10.424489Z",
     "start_time": "2025-10-10T15:54:10.418566Z"
    }
   },
   "source": [
    "print(\"\\nAll nodes in MLP:\")\n",
    "print(\"=\" * 60)\n",
    "\n",
    "for path, node in brainstate.graph.iter_node(mlp):\n",
    "    print(f\"{str(path):<30} {node.__class__.__name__}\")"
   ],
   "outputs": [
    {
     "name": "stdout",
     "output_type": "stream",
     "text": [
      "\n",
      "All nodes in MLP:\n",
      "============================================================\n",
      "('l1',)                        Linear\n",
      "('l2',)                        Linear\n",
      "('l3',)                        Linear\n",
      "()                             MLP\n"
     ]
    }
   ],
   "execution_count": 7,
   "id": "417155450f649750"
  },
  {
   "cell_type": "markdown",
   "metadata": {},
   "source": [
    "## Common Functions in `pygraph`\n",
    "\n",
    "`brainstate` provides numerous utilities for operating on `pygraph`, which can be found in the `brainstate.graph` module.\n",
    "\n",
    "Overall, the commonly used functions in `pygraph` can be categorized into the following types:\n",
    "\n",
    "### Graph Structure Operations\n",
    "Functions for constructing and retrieving graph structures:\n",
    "- `brainstate.graph.graphdef`: View the graph structure\n",
    "- `brainstate.graph.iter_node`: Iterate through all child nodes in the graph structure\n",
    "- `brainstate.graph.iter_leaf`: Traverse all data points in the graph structure\n",
    "- `brainstate.graph.nodes`: View all nodes in the graph structure\n",
    "- `brainstate.graph.states`: View all `State` instances in the graph structure\n",
    "\n",
    "### Graph Structure Transformations\n",
    "Functions for transforming and manipulating graph structures:\n",
    "- `brainstate.graph.treefy_states`: Convert all `State` instances in the graph structure to pytree\n",
    "- `brainstate.graph.clone`: Copy the graph structure\n",
    "- `brainstate.graph.treefy_split`: Split the graph structure into a `graphdef` and a pytree representation of `State`\n",
    "- `brainstate.graph.treefy_merge`: Merge the `graphdef` and pytree representation of `State` into a graph structure\n",
    "- `brainstate.graph.flatten`: Flatten the graph structure into collections of `graphdef` and `State`\n",
    "- `brainstate.graph.unflatten`: Restore the flattened graph structure to its original form\n",
    "\n",
    "### Graph Structure Modifications\n",
    "Functions for modifying and updating graph structures:\n",
    "- `brainstate.graph.pop_states`: Remove `State` instances from the graph structure that meet certain conditions\n",
    "- `brainstate.graph.update_states`: Update `State` instances in the graph structure that meet certain conditions\n",
    "\n",
    "### Graph Structure Conversions\n",
    "Functions for converting between pygraph and pytree data structures:\n",
    "- `brainstate.graph.graph_to_tree`: Convert a graph structure to a pytree\n",
    "- `brainstate.graph.tree_to_graph`: Convert a pytree to a graph structure\n",
    "\n",
    "These functions provide developers with a rich set of tools to achieve flexibility and efficiency when constructing and manipulating graph structures."
   ],
   "id": "cefa4a93599dbcb0"
  },
  {
   "cell_type": "markdown",
   "metadata": {},
   "source": [
    "## Splitting and Merging Graphs\n",
    "\n",
    "A fundamental operation is splitting a graph into its structure definition (`graphdef`) and its state values (`treefy_states`). This is crucial for working with JAX transformations."
   ],
   "id": "8c60fb47f5a07efd"
  },
  {
   "cell_type": "code",
   "metadata": {
    "ExecuteTime": {
     "end_time": "2025-10-10T15:54:10.448799Z",
     "start_time": "2025-10-10T15:54:10.442142Z"
    }
   },
   "source": [
    "# Split the graph structure into graphdef and treefy_states\n",
    "graphdef, tree_states = brainstate.graph.treefy_split(mlp)\n",
    "\n",
    "print(\"Graph split into:\")\n",
    "print(f\"  1. graphdef (structure)\")\n",
    "print(f\"  2. tree_states (state values)\")\n",
    "print(f\"\\nNumber of states: {len(tree_states)}\")"
   ],
   "outputs": [
    {
     "name": "stdout",
     "output_type": "stream",
     "text": [
      "Graph split into:\n",
      "  1. graphdef (structure)\n",
      "  2. tree_states (state values)\n",
      "\n",
      "Number of states: 4\n"
     ]
    }
   ],
   "execution_count": 8,
   "id": "d0fbdc61e856ba1b"
  },
  {
   "cell_type": "code",
   "metadata": {
    "ExecuteTime": {
     "end_time": "2025-10-10T15:54:10.473793Z",
     "start_time": "2025-10-10T15:54:10.466509Z"
    }
   },
   "source": [
    "# Inspect the graphdef\n",
    "print(\"Graph definition:\")\n",
    "print(\"=\" * 60)\n",
    "graphdef"
   ],
   "outputs": [
    {
     "name": "stdout",
     "output_type": "stream",
     "text": [
      "Graph definition:\n",
      "============================================================\n"
     ]
    },
    {
     "data": {
      "text/plain": [
       "NodeDef(\n",
       "  type=MLP,\n",
       "  index=0,\n",
       "  attributes=('l1', 'l2', 'l3', 'st'),\n",
       "  subgraphs={\n",
       "    'l1': NodeDef(\n",
       "      type=Linear,\n",
       "      index=1,\n",
       "      attributes=('_in_size', '_name', '_out_size', 'w_mask', 'weight'),\n",
       "      subgraphs={\n",
       "        '_in_size': NodeDef(\n",
       "          type=PytreeType,\n",
       "          index=-1,\n",
       "          attributes=(0,),\n",
       "          subgraphs={},\n",
       "          static_fields={\n",
       "            0: 2\n",
       "          },\n",
       "          leaves={},\n",
       "          metadata=PyTreeDef((*,)),\n",
       "          index_mapping=None\n",
       "        ),\n",
       "        '_name': NodeDef(\n",
       "          type=PytreeType,\n",
       "          index=-1,\n",
       "          attributes=(),\n",
       "          subgraphs={},\n",
       "          static_fields={},\n",
       "          leaves={},\n",
       "          metadata=PyTreeDef(None),\n",
       "          index_mapping=None\n",
       "        ),\n",
       "        '_out_size': NodeDef(\n",
       "          type=PytreeType,\n",
       "          index=-1,\n",
       "          attributes=(0,),\n",
       "          subgraphs={},\n",
       "          static_fields={\n",
       "            0: 3\n",
       "          },\n",
       "          leaves={},\n",
       "          metadata=PyTreeDef((*,)),\n",
       "          index_mapping=None\n",
       "        ),\n",
       "        'w_mask': NodeDef(\n",
       "          type=PytreeType,\n",
       "          index=-1,\n",
       "          attributes=(),\n",
       "          subgraphs={},\n",
       "          static_fields={},\n",
       "          leaves={},\n",
       "          metadata=PyTreeDef(None),\n",
       "          index_mapping=None\n",
       "        )\n",
       "      },\n",
       "      static_fields={},\n",
       "      leaves={\n",
       "        'weight': NodeRef(\n",
       "          type=ParamState,\n",
       "          index=2\n",
       "        )\n",
       "      },\n",
       "      metadata=(<class 'brainstate.nn.Linear'>,),\n",
       "      index_mapping=None\n",
       "    ),\n",
       "    'l2': NodeDef(\n",
       "      type=Linear,\n",
       "      index=3,\n",
       "      attributes=('_in_size', '_name', '_out_size', 'w_mask', 'weight'),\n",
       "      subgraphs={\n",
       "        '_in_size': NodeDef(\n",
       "          type=PytreeType,\n",
       "          index=-1,\n",
       "          attributes=(0,),\n",
       "          subgraphs={},\n",
       "          static_fields={\n",
       "            0: 3\n",
       "          },\n",
       "          leaves={},\n",
       "          metadata=PyTreeDef((*,)),\n",
       "          index_mapping=None\n",
       "        ),\n",
       "        '_name': NodeDef(\n",
       "          type=PytreeType,\n",
       "          index=-1,\n",
       "          attributes=(),\n",
       "          subgraphs={},\n",
       "          static_fields={},\n",
       "          leaves={},\n",
       "          metadata=PyTreeDef(None),\n",
       "          index_mapping=None\n",
       "        ),\n",
       "        '_out_size': NodeDef(\n",
       "          type=PytreeType,\n",
       "          index=-1,\n",
       "          attributes=(0,),\n",
       "          subgraphs={},\n",
       "          static_fields={\n",
       "            0: 4\n",
       "          },\n",
       "          leaves={},\n",
       "          metadata=PyTreeDef((*,)),\n",
       "          index_mapping=None\n",
       "        ),\n",
       "        'w_mask': NodeDef(\n",
       "          type=PytreeType,\n",
       "          index=-1,\n",
       "          attributes=(),\n",
       "          subgraphs={},\n",
       "          static_fields={},\n",
       "          leaves={},\n",
       "          metadata=PyTreeDef(None),\n",
       "          index_mapping=None\n",
       "        )\n",
       "      },\n",
       "      static_fields={},\n",
       "      leaves={\n",
       "        'weight': NodeRef(\n",
       "          type=ParamState,\n",
       "          index=4\n",
       "        )\n",
       "      },\n",
       "      metadata=(<class 'brainstate.nn.Linear'>,),\n",
       "      index_mapping=None\n",
       "    ),\n",
       "    'l3': NodeDef(\n",
       "      type=Linear,\n",
       "      index=5,\n",
       "      attributes=('_in_size', '_name', '_out_size', 'w_mask', 'weight'),\n",
       "      subgraphs={\n",
       "        '_in_size': NodeDef(\n",
       "          type=PytreeType,\n",
       "          index=-1,\n",
       "          attributes=(0,),\n",
       "          subgraphs={},\n",
       "          static_fields={\n",
       "            0: 4\n",
       "          },\n",
       "          leaves={},\n",
       "          metadata=PyTreeDef((*,)),\n",
       "          index_mapping=None\n",
       "        ),\n",
       "        '_name': NodeDef(\n",
       "          type=PytreeType,\n",
       "          index=-1,\n",
       "          attributes=(),\n",
       "          subgraphs={},\n",
       "          static_fields={},\n",
       "          leaves={},\n",
       "          metadata=PyTreeDef(None),\n",
       "          index_mapping=None\n",
       "        ),\n",
       "        '_out_size': NodeDef(\n",
       "          type=PytreeType,\n",
       "          index=-1,\n",
       "          attributes=(0,),\n",
       "          subgraphs={},\n",
       "          static_fields={\n",
       "            0: 5\n",
       "          },\n",
       "          leaves={},\n",
       "          metadata=PyTreeDef((*,)),\n",
       "          index_mapping=None\n",
       "        ),\n",
       "        'w_mask': NodeDef(\n",
       "          type=PytreeType,\n",
       "          index=-1,\n",
       "          attributes=(),\n",
       "          subgraphs={},\n",
       "          static_fields={},\n",
       "          leaves={},\n",
       "          metadata=PyTreeDef(None),\n",
       "          index_mapping=None\n",
       "        )\n",
       "      },\n",
       "      static_fields={},\n",
       "      leaves={\n",
       "        'weight': NodeRef(\n",
       "          type=ParamState,\n",
       "          index=6\n",
       "        )\n",
       "      },\n",
       "      metadata=(<class 'brainstate.nn.Linear'>,),\n",
       "      index_mapping=None\n",
       "    )\n",
       "  },\n",
       "  static_fields={},\n",
       "  leaves={\n",
       "    'st': NodeRef(\n",
       "      type=ShortTermState,\n",
       "      index=7\n",
       "    )\n",
       "  },\n",
       "  metadata=(<class '__main__.MLP'>,),\n",
       "  index_mapping=None\n",
       ")"
      ]
     },
     "execution_count": 9,
     "metadata": {},
     "output_type": "execute_result"
    }
   ],
   "execution_count": 9,
   "id": "2ebfd319743f6d58"
  },
  {
   "cell_type": "code",
   "metadata": {
    "ExecuteTime": {
     "end_time": "2025-10-10T15:54:10.501202Z",
     "start_time": "2025-10-10T15:54:10.493332Z"
    }
   },
   "source": [
    "# Inspect the tree states\n",
    "print(\"\\nTree states:\")\n",
    "print(\"=\" * 60)\n",
    "tree_states"
   ],
   "outputs": [
    {
     "name": "stdout",
     "output_type": "stream",
     "text": [
      "\n",
      "Tree states:\n",
      "============================================================\n"
     ]
    },
    {
     "data": {
      "text/plain": [
       "{\n",
       "  'l1': {\n",
       "    'weight': TreefyState(\n",
       "      type=<class 'brainstate.ParamState'>,\n",
       "      value={\n",
       "        'weight': Array([[-0.42749512, -0.46094188, -1.1391693 ],\n",
       "               [-1.5929017 ,  2.1525893 ,  0.7923302 ]], dtype=float32),\n",
       "        'bias': Array([0., 0., 0.], dtype=float32)\n",
       "      },\n",
       "      tag=None\n",
       "    )\n",
       "  },\n",
       "  'l2': {\n",
       "    'weight': TreefyState(\n",
       "      type=<class 'brainstate.ParamState'>,\n",
       "      value={\n",
       "        'weight': Array([[ 0.5922906 , -0.44910267, -0.2513227 ,  1.5940351 ],\n",
       "               [ 0.5387001 , -1.538589  , -1.8159095 , -1.4499966 ],\n",
       "               [-1.0424379 , -1.6111814 ,  1.5264777 ,  1.1270016 ]],      dtype=float32),\n",
       "        'bias': Array([0., 0., 0., 0.], dtype=float32)\n",
       "      },\n",
       "      tag=None\n",
       "    )\n",
       "  },\n",
       "  'l3': {\n",
       "    'weight': TreefyState(\n",
       "      type=<class 'brainstate.ParamState'>,\n",
       "      value={\n",
       "        'weight': Array([[ 0.90832496, -0.60686237,  0.29780853, -0.90121883,  0.36897153],\n",
       "               [ 0.19299707,  0.06321475, -0.4093656 , -0.25156304,  0.58528906],\n",
       "               [ 0.08484001,  0.17979762,  0.39775968,  1.2874871 ,  0.64356524],\n",
       "               [-0.87185615, -0.48536623,  1.1163356 ,  1.2303296 ,  0.23622379]],      dtype=float32),\n",
       "        'bias': Array([0., 0., 0., 0., 0.], dtype=float32)\n",
       "      },\n",
       "      tag=None\n",
       "    )\n",
       "  },\n",
       "  'st': TreefyState(\n",
       "    type=<class 'brainstate.ShortTermState'>,\n",
       "    value=Array([0.7928349 , 0.14884543, 0.46262634, 0.9012923 , 0.20398748],      dtype=float32),\n",
       "    tag=None\n",
       "  )\n",
       "}"
      ]
     },
     "execution_count": 10,
     "metadata": {},
     "output_type": "execute_result"
    }
   ],
   "execution_count": 10,
   "id": "4126740c3a85f543"
  },
  {
   "cell_type": "markdown",
   "metadata": {},
   "source": [
    "### Merging Back\n",
    "\n",
    "We can merge the `graphdef` and `tree_states` back into a complete graph:"
   ],
   "id": "6711263fa16c3034"
  },
  {
   "cell_type": "code",
   "metadata": {
    "ExecuteTime": {
     "end_time": "2025-10-10T15:54:10.542506Z",
     "start_time": "2025-10-10T15:54:10.537923Z"
    }
   },
   "source": [
    "# Merge the graphdef structure and treefy_states\n",
    "mlp2 = brainstate.graph.treefy_merge(graphdef, tree_states)\n",
    "\n",
    "print(\"Merged MLP:\")\n",
    "print(mlp2)"
   ],
   "outputs": [
    {
     "name": "stdout",
     "output_type": "stream",
     "text": [
      "Merged MLP:\n",
      "MLP(\n",
      "  l1=Linear(\n",
      "    in_size=(2,),\n",
      "    out_size=(3,),\n",
      "    w_mask=None,\n",
      "    weight=ParamState(\n",
      "      value={\n",
      "        'bias': ShapedArray(float32[3]),\n",
      "        'weight': ShapedArray(float32[2,3])\n",
      "      }\n",
      "    )\n",
      "  ),\n",
      "  l2=Linear(\n",
      "    in_size=(3,),\n",
      "    out_size=(4,),\n",
      "    w_mask=None,\n",
      "    weight=ParamState(\n",
      "      value={\n",
      "        'bias': ShapedArray(float32[4]),\n",
      "        'weight': ShapedArray(float32[3,4])\n",
      "      }\n",
      "    )\n",
      "  ),\n",
      "  l3=Linear(\n",
      "    in_size=(4,),\n",
      "    out_size=(5,),\n",
      "    w_mask=None,\n",
      "    weight=ParamState(\n",
      "      value={\n",
      "        'bias': ShapedArray(float32[5]),\n",
      "        'weight': ShapedArray(float32[4,5])\n",
      "      }\n",
      "    )\n",
      "  ),\n",
      "  st=ShortTermState(\n",
      "    value=ShapedArray(float32[5])\n",
      "  )\n",
      ")\n"
     ]
    }
   ],
   "execution_count": 11,
   "id": "916d6b14d5004a24"
  },
  {
   "cell_type": "markdown",
   "metadata": {},
   "source": [
    "## Collecting States\n",
    "\n",
    "We can collect all states or specific types of states from a graph:"
   ],
   "id": "57c8f14de00956ed"
  },
  {
   "cell_type": "code",
   "metadata": {
    "ExecuteTime": {
     "end_time": "2025-10-10T15:54:10.568611Z",
     "start_time": "2025-10-10T15:54:10.564664Z"
    }
   },
   "source": [
    "# View all states in the graph structure\n",
    "states = brainstate.graph.states(mlp2)\n",
    "\n",
    "print(\"All states in MLP:\")\n",
    "print(\"=\" * 60)\n",
    "for path, state in states.items():\n",
    "    print(f\"{str(path):<30} {state.__class__.__name__}\")\n",
    "\n",
    "print(f\"\\nTotal states: {len(states)}\")"
   ],
   "outputs": [
    {
     "name": "stdout",
     "output_type": "stream",
     "text": [
      "All states in MLP:\n",
      "============================================================\n",
      "('l1', 'weight')               ParamState\n",
      "('l2', 'weight')               ParamState\n",
      "('l3', 'weight')               ParamState\n",
      "('st',)                        ShortTermState\n",
      "\n",
      "Total states: 4\n"
     ]
    }
   ],
   "execution_count": 12,
   "id": "d28ce6624733022a"
  },
  {
   "cell_type": "markdown",
   "metadata": {},
   "source": [
    "## `filter` Filter Syntax\n",
    "\n",
    "It is noteworthy that most graph operation functions for retrieving `State` instances support the inclusion of a series of **`filter`** functions to select `State` instances that meet certain conditions. For example, to filter out all `ShortTermState` instances, you can use the following code:"
   ],
   "id": "17d6f5468409d56d"
  },
  {
   "cell_type": "code",
   "metadata": {
    "ExecuteTime": {
     "end_time": "2025-10-10T15:54:10.595632Z",
     "start_time": "2025-10-10T15:54:10.591320Z"
    }
   },
   "source": [
    "# Filter only ShortTermState instances\n",
    "short_term_states = brainstate.graph.states(mlp2, brainstate.ShortTermState)\n",
    "\n",
    "print(\"ShortTermState instances:\")\n",
    "print(\"=\" * 60)\n",
    "short_term_states"
   ],
   "outputs": [
    {
     "name": "stdout",
     "output_type": "stream",
     "text": [
      "ShortTermState instances:\n",
      "============================================================\n"
     ]
    },
    {
     "data": {
      "text/plain": [
       "{\n",
       "  ('st',): ShortTermState(\n",
       "    value=ShapedArray(float32[5])\n",
       "  )\n",
       "}"
      ]
     },
     "execution_count": 13,
     "metadata": {},
     "output_type": "execute_result"
    }
   ],
   "execution_count": 13,
   "id": "8d40272b2916a52"
  },
  {
   "cell_type": "markdown",
   "metadata": {},
   "source": [
    "### Filter DSL (Domain-Specific Language)\n",
    "\n",
    "In general, a `filter` has the following function form:\n",
    "\n",
    "```python\n",
    "def predicate(path: tuple[Key, ...], value: Any) -> bool:\n",
    "    ...\n",
    "```\n",
    "\n",
    "Here, `Key` is a hashable and comparable data type (often a string), `path` is a tuple of `Key` representing the nested structure corresponding to `value`, and `value` is the value at that path. If the value should be included in the `filter`, the function returns `True`; otherwise, it returns `False`.\n",
    "\n",
    "However, to simplify the creation of `filter` functions, `brainstate` provides a small domain-specific language (DSL). This allows users to pass types, boolean values, ellipses, tuples/lists, etc., which are internally converted into the corresponding predicates.\n",
    "\n",
    "| Literal | Description |\n",
    "|---------|-------------|\n",
    "| `...` or `True` | Matches all values |\n",
    "| `None` or `False` | Matches no values |\n",
    "| `type` | Matches instances of type `type`, or values with a `type` attribute of `type` |\n",
    "| `'{filter}'` (str) | Matches values with a string `tag` attribute equal to `'{filter}'` |\n",
    "| `(*filters)` (tuple) or `[*filters]` (list) | Matches values satisfying any of the internal `filters` |\n",
    "\n",
    "For example, we can use the `filter` DSL to select all `ParamState` instances and other remaining `State` instances:"
   ],
   "id": "a9572255d91de1f2"
  },
  {
   "cell_type": "code",
   "metadata": {
    "ExecuteTime": {
     "end_time": "2025-10-10T15:54:10.622972Z",
     "start_time": "2025-10-10T15:54:10.612465Z"
    }
   },
   "source": [
    "# Split states into params and others\n",
    "params, others = brainstate.graph.states(mlp, brainstate.ParamState, ...)\n",
    "\n",
    "print(\"ParamState instances:\")\n",
    "print(\"=\" * 60)\n",
    "for path, state in params.items():\n",
    "    print(f\"{str(path):<30} {state.__class__.__name__}\")\n",
    "\n",
    "print(\"\\nOther states:\")\n",
    "print(\"=\" * 60)\n",
    "for path, state in others.items():\n",
    "    print(f\"{str(path):<30} {state.__class__.__name__}\")"
   ],
   "outputs": [
    {
     "name": "stdout",
     "output_type": "stream",
     "text": [
      "ParamState instances:\n",
      "============================================================\n",
      "('l1', 'weight')               ParamState\n",
      "('l2', 'weight')               ParamState\n",
      "('l3', 'weight')               ParamState\n",
      "\n",
      "Other states:\n",
      "============================================================\n",
      "('st',)                        ShortTermState\n"
     ]
    }
   ],
   "execution_count": 14,
   "id": "e5e14c2fa1dc9a6c"
  },
  {
   "cell_type": "markdown",
   "metadata": {},
   "source": [
    "## `pygraph` and JAX Transformations\n",
    "\n",
    "After converting `pygraph` to `pytree`, we can utilize JAX's function transformation capabilities to operate on it. For example, we can use JAX's `jit` function to compile models, use the `grad` function for automatic differentiation, and use the `vmap` function for batching operations.\n",
    "\n",
    "Let's demonstrate this with a complete training example. We'll define a simple MLP model with a counter to track how many times it's been called."
   ],
   "id": "8e9e8b84efaa6e4"
  },
  {
   "cell_type": "code",
   "metadata": {
    "ExecuteTime": {
     "end_time": "2025-10-10T15:54:10.932142Z",
     "start_time": "2025-10-10T15:54:10.660584Z"
    }
   },
   "source": [
    "# Define Linear layer\n",
    "class Linear(brainstate.nn.Module):\n",
    "    def __init__(self, din: int, dout: int):\n",
    "        super().__init__()\n",
    "        self.w = brainstate.ParamState(brainstate.random.randn(din, dout) * 0.1)\n",
    "        self.b = brainstate.ParamState(jnp.zeros((dout,)))\n",
    "\n",
    "    def __call__(self, x):\n",
    "        return x @ self.w.value + self.b.value\n",
    "\n",
    "\n",
    "# Define custom Count state\n",
    "class Count(brainstate.State):\n",
    "    pass\n",
    "\n",
    "\n",
    "# Define MLP with counter\n",
    "class TrainableMLP(brainstate.graph.Node):\n",
    "    def __init__(self, din, dhidden, dout):\n",
    "        super().__init__()\n",
    "        self.count = Count(jnp.array(0))\n",
    "        self.linear1 = Linear(din, dhidden)\n",
    "        self.linear2 = Linear(dhidden, dout)\n",
    "\n",
    "    def __call__(self, x):\n",
    "        self.count.value += 1\n",
    "        x = self.linear1(x)\n",
    "        x = jax.nn.relu(x)\n",
    "        x = self.linear2(x)\n",
    "        return x\n",
    "\n",
    "\n",
    "# Create model and split it\n",
    "model = TrainableMLP(din=1, dhidden=32, dout=1)\n",
    "graphdef, params_, counts_ = brainstate.graph.treefy_split(\n",
    "    model, brainstate.ParamState, Count\n",
    ")\n",
    "\n",
    "print(\"Model created and split into:\")\n",
    "print(f\"  - graphdef (structure)\")\n",
    "print(f\"  - params_ (trainable parameters)\")\n",
    "print(f\"  - counts_ (counter state)\")"
   ],
   "outputs": [
    {
     "name": "stdout",
     "output_type": "stream",
     "text": [
      "Model created and split into:\n",
      "  - graphdef (structure)\n",
      "  - params_ (trainable parameters)\n",
      "  - counts_ (counter state)\n"
     ]
    }
   ],
   "execution_count": 15,
   "id": "c168978ecb23519f"
  },
  {
   "cell_type": "markdown",
   "metadata": {},
   "source": [
    "### Creating a Dataset\n",
    "\n",
    "We'll create a simple regression dataset: $y = 0.8x^2 + 0.1 + \\text{noise}$"
   ],
   "id": "ad9670aed54d1882"
  },
  {
   "cell_type": "code",
   "metadata": {
    "ExecuteTime": {
     "end_time": "2025-10-10T15:54:11.539566Z",
     "start_time": "2025-10-10T15:54:10.938175Z"
    }
   },
   "source": [
    "# Create dataset\n",
    "X = jnp.linspace(0, 1, 100)[:, None]\n",
    "Y = 0.8 * X ** 2 + 0.1 + brainstate.random.normal(0, 0.1, size=X.shape)\n",
    "\n",
    "\n",
    "def dataset(batch_size):\n",
    "    \"\"\"Generate random batches from the dataset.\"\"\"\n",
    "    while True:\n",
    "        idx = brainstate.random.choice(len(X), size=batch_size)\n",
    "        yield X[idx], Y[idx]\n",
    "\n",
    "\n",
    "# Visualize dataset\n",
    "plt.figure(figsize=(8, 5))\n",
    "plt.scatter(X, Y, alpha=0.5, s=20)\n",
    "plt.xlabel('X')\n",
    "plt.ylabel('Y')\n",
    "plt.title('Training Dataset: $y = 0.8x^2 + 0.1 + noise$')\n",
    "plt.grid(alpha=0.3)\n",
    "plt.show()\n",
    "\n",
    "print(f\"Dataset created: {len(X)} samples\")"
   ],
   "outputs": [
    {
     "data": {
      "text/plain": [
       "<Figure size 800x500 with 1 Axes>"
      ],
      "image/png": "[encoded data removed]"
     },
     "metadata": {},
     "output_type": "display_data",
     "jetTransient": {
      "display_id": null
     }
    },
    {
     "name": "stdout",
     "output_type": "stream",
     "text": [
      "Dataset created: 100 samples\n"
     ]
    }
   ],
   "execution_count": 16,
   "id": "ccfaad421f26c87a"
  },
  {
   "cell_type": "markdown",
   "metadata": {},
   "source": [
    "### Defining Training and Test Steps\n",
    "\n",
    "Now we'll define JIT-compiled training and test functions using JAX transformations:"
   ],
   "id": "5a077a6cd13beb75"
  },
  {
   "cell_type": "code",
   "metadata": {
    "ExecuteTime": {
     "end_time": "2025-10-10T15:54:11.557478Z",
     "start_time": "2025-10-10T15:54:11.544113Z"
    }
   },
   "source": [
    "@jax.jit\n",
    "def train_step(params, counts, batch):\n",
    "    \"\"\"Single training step with gradient descent.\"\"\"\n",
    "    x, y = batch\n",
    "\n",
    "    def loss_fn(params):\n",
    "        # Merge graph and compute loss\n",
    "        model = brainstate.graph.treefy_merge(graphdef, params, counts)\n",
    "        y_pred = model(x)\n",
    "        new_counts = brainstate.graph.treefy_states(model, Count)\n",
    "        loss = jnp.mean((y - y_pred) ** 2)\n",
    "        return loss, new_counts\n",
    "\n",
    "    # Compute gradients\n",
    "    grad, counts = jax.grad(loss_fn, has_aux=True)(params)\n",
    "    \n",
    "    # Update parameters (simple SGD)\n",
    "    params = jax.tree.map(lambda w, g: w - 0.1 * g, params, grad)\n",
    "\n",
    "    return params, counts\n",
    "\n",
    "\n",
    "@jax.jit\n",
    "def test_step(params, counts, batch):\n",
    "    \"\"\"Evaluate model on test batch.\"\"\"\n",
    "    x, y = batch\n",
    "    model = brainstate.graph.treefy_merge(graphdef, params, counts)\n",
    "    y_pred = model(x)\n",
    "    loss = jnp.mean((y - y_pred) ** 2)\n",
    "    return {'loss': loss}\n",
    "\n",
    "\n",
    "print(\"Training and test functions defined and JIT-compiled\")"
   ],
   "outputs": [
    {
     "name": "stdout",
     "output_type": "stream",
     "text": [
      "Training and test functions defined and JIT-compiled\n"
     ]
    }
   ],
   "execution_count": 17,
   "id": "7554f9042667b84a"
  },
  {
   "cell_type": "markdown",
   "metadata": {},
   "source": [
    "### Training the Model"
   ],
   "id": "2530077e5dba7459"
  },
  {
   "cell_type": "code",
   "metadata": {
    "ExecuteTime": {
     "end_time": "2025-10-10T15:54:21.259193Z",
     "start_time": "2025-10-10T15:54:11.579934Z"
    }
   },
   "source": [
    "# Train the model\n",
    "total_steps = 10_000\n",
    "print(f\"Training for {total_steps} steps...\\n\")\n",
    "\n",
    "for step, batch in enumerate(dataset(32)):\n",
    "    params_, counts_ = train_step(params_, counts_, batch)\n",
    "\n",
    "    if step % 1000 == 0:\n",
    "        logs = test_step(params_, counts_, (X, Y))\n",
    "        print(f\"Step {step:5d}: loss = {logs['loss']:.6f}\")\n",
    "\n",
    "    if step >= total_steps - 1:\n",
    "        break\n",
    "\n",
    "print(\"\\nTraining complete!\")"
   ],
   "outputs": [
    {
     "name": "stdout",
     "output_type": "stream",
     "text": [
      "Training for 10000 steps...\n",
      "\n",
      "Step     0: loss = 0.168351\n",
      "Step  1000: loss = 0.011733\n",
      "Step  2000: loss = 0.011768\n",
      "Step  3000: loss = 0.011872\n",
      "Step  4000: loss = 0.011736\n",
      "Step  5000: loss = 0.011749\n",
      "Step  6000: loss = 0.011963\n",
      "Step  7000: loss = 0.011719\n",
      "Step  8000: loss = 0.011734\n",
      "Step  9000: loss = 0.011739\n",
      "\n",
      "Training complete!\n"
     ]
    }
   ],
   "execution_count": 18,
   "id": "c63154cbf63b9f43"
  },
  {
   "cell_type": "markdown",
   "metadata": {},
   "source": [
    "### Verifying the Trained Model\n",
    "\n",
    "Let's restore the model and check how many times it was called:"
   ],
   "id": "694aba2f960c2b4f"
  },
  {
   "cell_type": "code",
   "metadata": {
    "ExecuteTime": {
     "end_time": "2025-10-10T15:54:21.563382Z",
     "start_time": "2025-10-10T15:54:21.299626Z"
    }
   },
   "source": [
    "# Restore the trained model\n",
    "model = brainstate.graph.treefy_merge(graphdef, params_, counts_)\n",
    "\n",
    "print(f\"Model called {model.count.value} times during training\")\n",
    "print(f\"Expected: {total_steps} times\\n\")\n",
    "\n",
    "# Make predictions\n",
    "y_pred = model(X)\n",
    "\n",
    "# Visualize results\n",
    "plt.figure(figsize=(10, 6))\n",
    "plt.scatter(X, Y, alpha=0.5, s=20, label='Training data', color='blue')\n",
    "plt.plot(X, y_pred, color='red', linewidth=2, label='Model prediction')\n",
    "plt.xlabel('X', fontsize=12)\n",
    "plt.ylabel('Y', fontsize=12)\n",
    "plt.title('Model Fit After Training', fontsize=14, fontweight='bold')\n",
    "plt.legend()\n",
    "plt.grid(alpha=0.3)\n",
    "plt.show()\n",
    "\n",
    "# Compute final test loss\n",
    "final_loss = jnp.mean((Y - y_pred) ** 2)\n",
    "print(f\"Final MSE loss: {final_loss:.6f}\")"
   ],
   "outputs": [
    {
     "name": "stdout",
     "output_type": "stream",
     "text": [
      "Model called 10000 times during training\n",
      "Expected: 10000 times\n",
      "\n"
     ]
    },
    {
     "data": {
      "text/plain": [
       "<Figure size 1000x600 with 1 Axes>"
      ],
      "image/png": "[encoded data removed]"
     },
     "metadata": {},
     "output_type": "display_data",
     "jetTransient": {
      "display_id": null
     }
    },
    {
     "name": "stdout",
     "output_type": "stream",
     "text": [
      "Final MSE loss: 0.011899\n"
     ]
    }
   ],
   "execution_count": 19,
   "id": "5d495f172fcca5e0"
  },
  {
   "cell_type": "markdown",
   "metadata": {},
   "source": [
    "## Advanced Graph Patterns\n",
    "\n",
    "Now let's explore some advanced architectural patterns using the graph system.\n",
    "\n",
    "### Skip Connections (ResNet-style)"
   ],
   "id": "bcfedf3d2d0054c5"
  },
  {
   "cell_type": "code",
   "metadata": {
    "ExecuteTime": {
     "end_time": "2025-10-10T15:54:22.059453Z",
     "start_time": "2025-10-10T15:54:21.567395Z"
    }
   },
   "source": [
    "class ResidualBlock(brainstate.graph.Node):\n",
    "    \"\"\"Residual block with skip connection.\"\"\"\n",
    "    \n",
    "    def __init__(self, dim):\n",
    "        super().__init__()\n",
    "        self.linear1 = brainstate.nn.Linear(dim, dim)\n",
    "        self.linear2 = brainstate.nn.Linear(dim, dim)\n",
    "    \n",
    "    def __call__(self, x):\n",
    "        # Main path\n",
    "        residual = x\n",
    "        x = jax.nn.relu(self.linear1(x))\n",
    "        x = self.linear2(x)\n",
    "        \n",
    "        # Skip connection\n",
    "        return jax.nn.relu(x + residual)\n",
    "\n",
    "\n",
    "class ResNet(brainstate.graph.Node):\n",
    "    \"\"\"Simple ResNet with multiple residual blocks.\"\"\"\n",
    "    \n",
    "    def __init__(self, dim, n_blocks):\n",
    "        super().__init__()\n",
    "        self.blocks = [ResidualBlock(dim) for _ in range(n_blocks)]\n",
    "        # Register blocks as attributes\n",
    "        for i, block in enumerate(self.blocks):\n",
    "            setattr(self, f'block_{i}', block)\n",
    "    \n",
    "    def __call__(self, x):\n",
    "        for block in self.blocks:\n",
    "            x = block(x)\n",
    "        return x\n",
    "\n",
    "\n",
    "# Test ResNet\n",
    "resnet = ResNet(dim=10, n_blocks=3)\n",
    "x = brainstate.random.randn(5, 10)\n",
    "output = resnet(x)\n",
    "\n",
    "print(f\"ResNet Architecture:\")\n",
    "print(f\"  Input shape: {x.shape}\")\n",
    "print(f\"  Output shape: {output.shape}\")\n",
    "print(f\"  Number of blocks: {len(resnet.blocks)}\")\n",
    "\n",
    "# Count parameters\n",
    "params = brainstate.graph.states(resnet, brainstate.ParamState)\n",
    "total_params = sum(jnp.size(p.value) for p in params.values() if hasattr(p.value, 'shape'))\n",
    "print(f\"  Total parameters: {total_params:,}\")"
   ],
   "outputs": [
    {
     "name": "stdout",
     "output_type": "stream",
     "text": [
      "ResNet Architecture:\n",
      "  Input shape: (5, 10)\n",
      "  Output shape: (5, 10)\n",
      "  Number of blocks: 3\n",
      "  Total parameters: 0\n"
     ]
    }
   ],
   "execution_count": 20,
   "id": "5494b013a7f7b348"
  },
  {
   "cell_type": "markdown",
   "metadata": {},
   "source": [
    "### Multi-Path Networks (Inception-style)"
   ],
   "id": "1d48d56f17a8fffd"
  },
  {
   "cell_type": "code",
   "metadata": {
    "ExecuteTime": {
     "end_time": "2025-10-10T15:54:22.721597Z",
     "start_time": "2025-10-10T15:54:22.060930Z"
    }
   },
   "source": [
    "class InceptionBlock(brainstate.graph.Node):\n",
    "    \"\"\"Inception-style block with multiple parallel paths.\"\"\"\n",
    "    \n",
    "    def __init__(self, in_dim, out_dim):\n",
    "        super().__init__()\n",
    "        # Path 1: 1x1 (direct projection)\n",
    "        self.path1 = brainstate.nn.Linear(in_dim, out_dim // 4)\n",
    "        \n",
    "        # Path 2: 1x1 -> 3x3 (simulated with linear)\n",
    "        self.path2_a = brainstate.nn.Linear(in_dim, out_dim // 4)\n",
    "        self.path2_b = brainstate.nn.Linear(out_dim // 4, out_dim // 4)\n",
    "        \n",
    "        # Path 3: 1x1 -> 5x5 (simulated)\n",
    "        self.path3_a = brainstate.nn.Linear(in_dim, out_dim // 4)\n",
    "        self.path3_b = brainstate.nn.Linear(out_dim // 4, out_dim // 4)\n",
    "        \n",
    "        # Path 4: pool -> 1x1\n",
    "        self.path4 = brainstate.nn.Linear(in_dim, out_dim // 4)\n",
    "    \n",
    "    def __call__(self, x):\n",
    "        # Execute all paths in parallel\n",
    "        out1 = jax.nn.relu(self.path1(x))\n",
    "        \n",
    "        out2 = jax.nn.relu(self.path2_a(x))\n",
    "        out2 = jax.nn.relu(self.path2_b(out2))\n",
    "        \n",
    "        out3 = jax.nn.relu(self.path3_a(x))\n",
    "        out3 = jax.nn.relu(self.path3_b(out3))\n",
    "        \n",
    "        out4 = jax.nn.relu(self.path4(x))\n",
    "        \n",
    "        # Concatenate outputs\n",
    "        return jnp.concatenate([out1, out2, out3, out4], axis=-1)\n",
    "\n",
    "\n",
    "# Test Inception block\n",
    "inception = InceptionBlock(in_dim=16, out_dim=32)\n",
    "x = brainstate.random.randn(4, 16)\n",
    "output = inception(x)\n",
    "\n",
    "print(f\"Inception Block:\")\n",
    "print(f\"  Input shape: {x.shape}\")\n",
    "print(f\"  Output shape: {output.shape}\")\n",
    "print(f\"  4 parallel paths with concatenated outputs\")\n",
    "\n",
    "# Count parameters\n",
    "params = brainstate.graph.states(inception, brainstate.ParamState)\n",
    "total_params = sum(jnp.size(p.value) for p in params.values() if hasattr(p.value, 'shape'))\n",
    "print(f\"  Total parameters: {total_params:,}\")"
   ],
   "outputs": [
    {
     "name": "stdout",
     "output_type": "stream",
     "text": [
      "Inception Block:\n",
      "  Input shape: (4, 16)\n",
      "  Output shape: (4, 32)\n",
      "  4 parallel paths with concatenated outputs\n",
      "  Total parameters: 0\n"
     ]
    }
   ],
   "execution_count": 21,
   "id": "a5d74feeaa8a6be1"
  },
  {
   "cell_type": "markdown",
   "metadata": {},
   "source": [
    "## Graph Analysis and Statistics\n",
    "\n",
    "Let's create a utility function to analyze graph structures:"
   ],
   "id": "d0aface45892c8ab"
  },
  {
   "cell_type": "code",
   "metadata": {
    "ExecuteTime": {
     "end_time": "2025-10-10T15:54:22.915378Z",
     "start_time": "2025-10-10T15:54:22.721597Z"
    }
   },
   "source": [
    "def analyze_graph(node):\n",
    "    \"\"\"Analyze computation graph statistics.\"\"\"\n",
    "    stats = {\n",
    "        'total_nodes': 0,\n",
    "        'total_params': 0,\n",
    "        'param_tensors': 0,\n",
    "        'node_types': {},\n",
    "        'depth': 0\n",
    "    }\n",
    "    \n",
    "    def traverse(n, depth=0):\n",
    "        stats['total_nodes'] += 1\n",
    "        stats['depth'] = max(stats['depth'], depth)\n",
    "        \n",
    "        # Count node type\n",
    "        node_type = n.__class__.__name__\n",
    "        stats['node_types'][node_type] = stats['node_types'].get(node_type, 0) + 1\n",
    "        \n",
    "        # Count parameters\n",
    "        params = brainstate.graph.states(n, brainstate.ParamState)\n",
    "        stats['param_tensors'] += len(params)\n",
    "        for p in params.values():\n",
    "            if hasattr(p.value, 'shape'):\n",
    "                stats['total_params'] += jnp.size(p.value)\n",
    "        \n",
    "        # Traverse children\n",
    "        for _, child in brainstate.graph.iter_node(n):\n",
    "            if child is not n:\n",
    "                traverse(child, depth + 1)\n",
    "    \n",
    "    traverse(node)\n",
    "    return stats\n",
    "\n",
    "\n",
    "# Analyze different models\n",
    "models = {\n",
    "    'MLP': MLP(),\n",
    "    'ResNet': ResNet(dim=10, n_blocks=3),\n",
    "    'Inception': InceptionBlock(in_dim=16, out_dim=32)\n",
    "}\n",
    "\n",
    "print(\"Graph Analysis Comparison:\")\n",
    "print(\"=\" * 80)\n",
    "print(f\"{'Model':<15} {'Nodes':<8} {'Depth':<8} {'Param Tensors':<15} {'Total Params':<15}\")\n",
    "print(\"-\" * 80)\n",
    "\n",
    "for name, model in models.items():\n",
    "    stats = analyze_graph(model)\n",
    "    print(f\"{name:<15} {stats['total_nodes']:<8} {stats['depth']:<8} \"\n",
    "          f\"{stats['param_tensors']:<15} {stats['total_params']:<15,}\")\n",
    "\n",
    "print(\"\\n\" + \"=\" * 80)"
   ],
   "outputs": [
    {
     "name": "stdout",
     "output_type": "stream",
     "text": [
      "Graph Analysis Comparison:\n",
      "================================================================================\n",
      "Model           Nodes    Depth    Param Tensors   Total Params   \n",
      "--------------------------------------------------------------------------------\n",
      "MLP             4        1        6               0              \n",
      "ResNet          16       2        24              0              \n",
      "Inception       7        1        12              0              \n",
      "\n",
      "================================================================================\n"
     ]
    }
   ],
   "execution_count": 22,
   "id": "f0810b6995fbed70"
  },
  {
   "cell_type": "markdown",
   "metadata": {},
   "source": [
    "## Summary\n",
    "\n",
    "`PyGraph` is a data structure specifically designed in the `brainstate` library to provide JAX function transformation support for complex graph structures. Its core value lies in:\n",
    "\n",
    "### 1. Flexible Expression of Graph Structures\n",
    "- Compared to traditional tree structures (pytree), graph structures can represent more complex node relationships and dependencies\n",
    "- Supports cyclic references, making it suitable for expressing complex model structures like RNNs\n",
    "- Nodes can contain arbitrary pytree array data or subgraph structures\n",
    "\n",
    "### 2. Seamless Integration with the JAX Ecosystem\n",
    "- Supports JAX's core functionalities, including automatic differentiation, vectorization, and parallelization\n",
    "- Provides a mechanism for converting between graph structures and pytree via `treefy_split` and `treefy_merge`\n",
    "- Natively supports JAX function transformations such as `jit`, `vmap`, and `grad`\n",
    "\n",
    "### 3. Rich API for Graph Operations\n",
    "- **Structure operations**: `graphdef`, `iter_node`, `iter_leaf`, `nodes`, `states`\n",
    "- **Transformations**: `treefy_states`, `clone`, `treefy_split`, `treefy_merge`, `flatten`, `unflatten`\n",
    "- **Modifications**: `pop_states`, `update_states`\n",
    "- **Conversions**: `graph_to_tree`, `tree_to_graph`\n",
    "\n",
    "### 4. Powerful Filter System\n",
    "- Filter by type: `brainstate.ParamState`, `brainstate.ShortTermState`, etc.\n",
    "- Combine filters: Use tuples/lists for \"any\" logic\n",
    "- Match everything: `...` or `True`\n",
    "- Match nothing: `None` or `False`\n",
    "\n",
    "### 5. Structure preserving state management\n",
    "- Separate graph structure (`graphdef`) from state values (`treefy_states`)\n",
    "- Retrieve states according to state filters\n"
   ],
   "id": "840d30c8b943804f"
  }
 ],
 "metadata": {
  "kernelspec": {
   "display_name": "Python 3",
   "language": "python",
   "name": "python3"
  },
  "language_info": {
   "codemirror_mode": {
    "name": "ipython",
    "version": 3
   },
   "file_extension": ".py",
   "mimetype": "text/x-python",
   "name": "python",
   "nbconvert_exporter": "python",
   "pygments_lexer": "ipython3",
   "version": "3.9.0"
  }
 },
 "nbformat": 4,
 "nbformat_minor": 5
}
