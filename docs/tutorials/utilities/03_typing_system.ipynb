{
 "cells": [
  {
   "cell_type": "markdown",
   "metadata": {},
   "source": [
    "# BrainState Typing System\n"
   ]
  },
  {
   "cell_type": "markdown",
   "metadata": {},
   "source": [
    "This notebook introduces the type utilities in `brainstate.typing`.\n",
    "You will learn how to annotate arrays, PyTrees, random seeds, and helper\n",
    "structures so that static checkers and collaborators can understand your\n",
    "code more easily.\n",
    "\n",
    "Topics covered:\n",
    "\n",
    "- Size/shape/axis aliases used in array APIs.\n",
    "- `Array` / `ArrayLike` for expressing tensor expectations.\n",
    "- `PyTree` annotations and path filters for tree utilities.\n",
    "- Data type helpers (`DType`, `DTypeLike`, `SupportsDType`).\n",
    "- Random key, sentinel, and filter helper types.\n"
   ]
  },
  {
   "cell_type": "code",
   "metadata": {
    "ExecuteTime": {
     "end_time": "2025-10-10T16:06:04.298712Z",
     "start_time": "2025-10-10T16:06:03.010478Z"
    }
   },
   "source": [
    "from typing import Any\n",
    "\n",
    "import jax\n",
    "import jax.numpy as jnp\n",
    "import numpy as np\n",
    "\n",
    "from brainstate.typing import (\n",
    "    Array,\n",
    "    ArrayLike,\n",
    "    Axes,\n",
    "    DType,\n",
    "    DTypeLike,\n",
    "    Filter,\n",
    "    Key,\n",
    "    Missing,\n",
    "    PathParts,\n",
    "    Predicate,\n",
    "    PyTree,\n",
    "    SeedOrKey,\n",
    "    Shape,\n",
    "    Size,\n",
    "    SupportsDType,\n",
    ")\n"
   ],
   "outputs": [],
   "execution_count": 1
  },
  {
   "cell_type": "markdown",
   "metadata": {},
   "source": [
    "## Shapes, sizes, and axes\n",
    "\n",
    "`Size`, `Shape`, and `Axes` help you document functions that expect\n",
    "specific tensor dimensions. They are thin aliases around Python sequences\n",
    "but communicating intent through annotations is valuable to readers and\n",
    "tooling.\n"
   ]
  },
  {
   "cell_type": "code",
   "metadata": {
    "ExecuteTime": {
     "end_time": "2025-10-10T16:06:04.517959Z",
     "start_time": "2025-10-10T16:06:04.302762Z"
    }
   },
   "source": [
    "def normalise_batch(batch: ArrayLike, shape: Shape, along: Axes = 0) -> jax.Array:\n",
    "    \"\"\"Reshape `batch` then standardise along the given axes.\"\"\"\n",
    "    array = jnp.asarray(batch).reshape(tuple(shape))\n",
    "    mean = jnp.mean(array, axis=along, keepdims=True)\n",
    "    std = jnp.maximum(jnp.std(array, axis=along, keepdims=True), 1e-6)\n",
    "    return (array - mean) / std\n",
    "\n",
    "example = normalise_batch(jnp.arange(12.0), shape=(3, 4), along=0)\n",
    "example\n"
   ],
   "outputs": [
    {
     "data": {
      "text/plain": [
       "Array([[-1.2247448, -1.2247448, -1.2247448, -1.2247448],\n",
       "       [ 0.       ,  0.       ,  0.       ,  0.       ],\n",
       "       [ 1.2247448,  1.2247448,  1.2247448,  1.2247448]], dtype=float32)"
      ]
     },
     "execution_count": 2,
     "metadata": {},
     "output_type": "execute_result"
    }
   ],
   "execution_count": 2
  },
  {
   "cell_type": "markdown",
   "metadata": {},
   "source": [
    "## Array annotations\n",
    "\n",
    "Use `Array[...]` to describe shape expectations and `ArrayLike` when a\n",
    "function accepts anything convertible to a JAX array. These annotations are\n",
    "informative for readers and static type checkers alike.\n"
   ]
  },
  {
   "cell_type": "code",
   "metadata": {
    "ExecuteTime": {
     "end_time": "2025-10-10T16:06:04.617517Z",
     "start_time": "2025-10-10T16:06:04.522586Z"
    }
   },
   "source": [
    "Matrix = Array[\"rows, cols\"]\n",
    "Vector = Array[\"cols\"]\n",
    "\n",
    "def affine_transform(x: Matrix, weight: Array[\"cols, features\"], bias: Vector) -> Array[\"rows, features\"]:\n",
    "    return x @ weight + bias\n",
    "\n",
    "x = jnp.ones((2, 3))\n",
    "w = jnp.arange(6.0).reshape(3, 2)\n",
    "b = jnp.array([0.5, -0.5])\n",
    "affine_transform(x, w, b)\n"
   ],
   "outputs": [
    {
     "data": {
      "text/plain": [
       "Array([[6.5, 8.5],\n",
       "       [6.5, 8.5]], dtype=float32)"
      ]
     },
     "execution_count": 3,
     "metadata": {},
     "output_type": "execute_result"
    }
   ],
   "execution_count": 3
  },
  {
   "cell_type": "markdown",
   "metadata": {},
   "source": [
    "You can still accept flexible data by annotating parameters as `ArrayLike`.\n",
    "The conversion to `jnp.asarray` happens inside the function, keeping the\n        signature expressive yet ergonomic.\n"
   ]
  },
  {
   "cell_type": "code",
   "metadata": {
    "ExecuteTime": {
     "end_time": "2025-10-10T16:06:04.698777Z",
     "start_time": "2025-10-10T16:06:04.622431Z"
    }
   },
   "source": [
    "def sum_energy(signal: ArrayLike) -> float:\n",
    "    arr = jnp.asarray(signal)\n",
    "    return float(jnp.sum(arr ** 2))\n",
    "\n",
    "print(sum_energy([1, 2, 3]))\n",
    "print(sum_energy(np.float32(1.5)))\n"
   ],
   "outputs": [
    {
     "name": "stdout",
     "output_type": "stream",
     "text": [
      "14.0\n",
      "2.25\n"
     ]
    }
   ],
   "execution_count": 4
  },
  {
   "cell_type": "markdown",
   "metadata": {},
   "source": [
    "> `ArrayLike` also covers `brainunit.Quantity` objects, so unit-aware\n        tensors can pass through the same APIs without losing type information.\n"
   ]
  },
  {
   "cell_type": "markdown",
   "metadata": {},
   "source": [
    "## Annotating PyTrees\n",
    "\n",
    "`PyTree` acts like `typing.Any`, but it documents the expected leaf type\n        (and optionally structure). That improves readability when writing\n        utilities that operate on nested containers.\n"
   ]
  },
  {
   "cell_type": "code",
   "metadata": {
    "ExecuteTime": {
     "end_time": "2025-10-10T16:06:04.800452Z",
     "start_time": "2025-10-10T16:06:04.703784Z"
    }
   },
   "source": [
    "def tree_l2_norm(tree: PyTree[jax.Array]) -> float:\n",
    "    leaves, _ = jax.tree_util.tree_flatten(tree)\n",
    "    total = sum(float(jnp.sum(jnp.square(jnp.asarray(leaf)))) for leaf in leaves)\n",
    "    return float(total)\n",
    "\n",
    "nested = {\"encoder\": jnp.ones((2, 2)), \"decoder\": [jnp.arange(3.0)]}\n",
    "tree_l2_norm(nested)\n"
   ],
   "outputs": [
    {
     "data": {
      "text/plain": [
       "9.0"
      ]
     },
     "execution_count": 5,
     "metadata": {},
     "output_type": "execute_result"
    }
   ],
   "execution_count": 5
  },
  {
   "cell_type": "markdown",
   "metadata": {},
   "source": [
    "### Working with paths and filters\n",
    "\n",
    "`PathParts`, `Predicate`, and `Filter` describe how to select parts of a\n        PyTree. The snippet below collects leaves whose path ends with `\"weight\"`.\n"
   ]
  },
  {
   "cell_type": "code",
   "metadata": {
    "ExecuteTime": {
     "end_time": "2025-10-10T16:06:04.941593Z",
     "start_time": "2025-10-10T16:06:04.805458Z"
    }
   },
   "source": [
    "def walk(tree: Any, predicate: Predicate, path: PathParts = ()) -> list[tuple[PathParts, Any]]:\n",
    "    matches: list[tuple[PathParts, Any]] = []\n",
    "    if predicate(path, tree):\n",
    "        matches.append((path, tree))\n",
    "    if isinstance(tree, dict):\n",
    "        for key, value in tree.items():\n",
    "            matches.extend(walk(value, predicate, path + (key,)))\n",
    "    elif isinstance(tree, (list, tuple)):\n",
    "        for idx, value in enumerate(tree):\n",
    "            matches.extend(walk(value, predicate, path + (idx,)))\n",
    "    return matches\n",
    "\n",
    "model = {\n",
    "    \"dense1\": {\"weight\": jnp.ones((3, 3)), \"bias\": jnp.zeros(3)},\n",
    "    \"dense2\": {\"weight\": jnp.eye(3), \"bias\": jnp.ones(3)},\n",
    "}\n",
    "\n",
    "weight_filter: Predicate = lambda path, value: path and path[-1] == \"weight\"\n",
    "for found_path, value in walk(model, weight_filter):\n",
    "    print(found_path, value.shape)\n"
   ],
   "outputs": [
    {
     "name": "stdout",
     "output_type": "stream",
     "text": [
      "('dense1', 'weight') (3, 3)\n",
      "('dense2', 'weight') (3, 3)\n"
     ]
    }
   ],
   "execution_count": 6
  },
  {
   "cell_type": "markdown",
   "metadata": {},
   "source": [
    "## Data type helpers\n",
    "\n",
    "`DType` names a concrete NumPy dtype, while `DTypeLike` accepts any object\n        that can be coerced into one. Implementing the `SupportsDType` protocol\n        lets custom containers participate too.\n"
   ]
  },
  {
   "cell_type": "code",
   "metadata": {
    "ExecuteTime": {
     "end_time": "2025-10-10T16:06:04.969920Z",
     "start_time": "2025-10-10T16:06:04.949115Z"
    }
   },
   "source": [
    "class TensorView(SupportsDType):\n",
    "    def __init__(self, array: jax.Array):\n",
    "        self._array = array\n",
    "\n",
    "    @property\n",
    "    def dtype(self) -> DType:\n",
    "        return self._array.dtype\n",
    "\n",
    "def zeros_like(shape: Shape, dtype: DTypeLike) -> jax.Array:\n",
    "    return jnp.zeros(shape, dtype=dtype)\n",
    "\n",
    "print(zeros_like((2, 2), np.float32))\n",
    "print(zeros_like((1, 3), TensorView(jnp.ones(3))))\n"
   ],
   "outputs": [
    {
     "name": "stdout",
     "output_type": "stream",
     "text": [
      "[[0. 0.]\n",
      " [0. 0.]]\n",
      "[[0. 0. 0.]]\n"
     ]
    }
   ],
   "execution_count": 7
  },
  {
   "cell_type": "markdown",
   "metadata": {},
   "source": [
    "## Random seeds and keys\n",
    "\n",
    "`SeedOrKey` lists the accepted random sources (`int`, JAX key, or NumPy key).\n",
    "Normalising the input inside your function keeps call sites ergonomic.\n"
   ]
  },
  {
   "cell_type": "code",
   "metadata": {
    "ExecuteTime": {
     "end_time": "2025-10-10T16:06:05.089859Z",
     "start_time": "2025-10-10T16:06:04.974932Z"
    }
   },
   "source": [
    "def sample_normal(key: SeedOrKey, shape: Shape) -> jax.Array:\n",
    "    if isinstance(key, int):\n",
    "        key = jax.random.PRNGKey(key)\n",
    "    elif isinstance(key, np.ndarray):\n",
    "        key = jnp.asarray(key, dtype=jnp.uint32)\n",
    "    return jax.random.normal(key, shape)\n",
    "\n",
    "print(sample_normal(0, (2,)))\n",
    "print(sample_normal(jax.random.PRNGKey(1), (2,)))\n"
   ],
   "outputs": [
    {
     "name": "stdout",
     "output_type": "stream",
     "text": [
      "[1.6226422 2.0252647]\n",
      "[-0.15443718  0.08470728]\n"
     ]
    }
   ],
   "execution_count": 8
  },
  {
   "cell_type": "markdown",
   "metadata": {},
   "source": [
    "## Keys and sentinels\n",
    "\n",
    "`Key` is a protocol for path components. `Missing` is a sentinel object you can\n        use when `None` is a meaningful value.\n"
   ]
  },
  {
   "cell_type": "code",
   "metadata": {
    "ExecuteTime": {
     "end_time": "2025-10-10T16:06:05.121741Z",
     "start_time": "2025-10-10T16:06:05.117869Z"
    }
   },
   "source": [
    "_MISSING = Missing()\n",
    "\n",
    "def resolve_config(name: Key, *, output_dir: str | Missing = _MISSING) -> str:\n",
    "    if output_dir is _MISSING:\n",
    "        return f'/tmp/{name}'\n",
    "    return str(output_dir)\n",
    "\n",
    "print(resolve_config('experiment-A'))\n",
    "print(resolve_config('experiment-B', output_dir=None))\n"
   ],
   "outputs": [
    {
     "name": "stdout",
     "output_type": "stream",
     "text": [
      "/tmp/experiment-A\n",
      "None\n"
     ]
    }
   ],
   "execution_count": 9
  },
  {
   "cell_type": "markdown",
   "metadata": {},
   "source": [
    "## Summary\n",
    "\n",
    "BrainState's typing helpers build on standard Python typing to describe arrays,\n        PyTrees, dtypes, random keys, and structural filters. Applying them consistently\n        makes complex scientific code easier to navigate and verify.\n"
   ]
  }
 ],
 "metadata": {
  "kernelspec": {
   "display_name": "Python 3",
   "language": "python",
   "name": "python3"
  },
  "language_info": {
   "codemirror_mode": {
    "name": "ipython",
    "version": 3
   },
   "file_extension": ".py",
   "mimetype": "text/x-python",
   "name": "python",
   "nbconvert_exporter": "python",
   "pygments_lexer": "ipython3",
   "version": "3.8.0"
  }
 },
 "nbformat": 4,
 "nbformat_minor": 5
}
