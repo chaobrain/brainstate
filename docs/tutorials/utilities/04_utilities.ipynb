{
 "cells": [
  {
   "cell_type": "markdown",
   "metadata": {},
   "source": [
    "# BrainState Utility Toolkit"
   ],
   "id": "6f8bc66c6aaf967e"
  },
  {
   "cell_type": "markdown",
   "metadata": {},
   "source": [
    "The `brainstate.util` package bundles helpers for collections, structured\n",
    "PyTrees, pretty-printing, and runtime hygiene. This notebook walks through\n",
    "the most frequently used APIs with runnable examples.\n",
    "\n",
    "Sections:\n",
    "\n",
    "1. Scheduling and naming helpers\n",
    "2. Memory housekeeping\n",
    "3. Managing collections with `DictManager`\n",
    "4. Configuration access via `DotDict`\n",
    "5. Dictionary utilities (`merge`, `flatten`, `unflatten`)\n",
    "6. Structured PyTrees with `util.struct`\n",
    "7. Filtering nested objects\n",
    "8. Pretty PyTree containers"
   ],
   "id": "ad69f28106a56276"
  },
  {
   "metadata": {},
   "cell_type": "code",
   "outputs": [],
   "execution_count": null,
   "source": [
    "from typing import Any\n",
    "\n",
    "import jax\n",
    "import jax.numpy as jnp\n",
    "\n",
    "from brainstate import util\n",
    "from brainstate.util import (\n",
    "    DictManager,\n",
    "    DotDict,\n",
    "    clear_buffer_memory,\n",
    "    flatten_dict,\n",
    "    merge_dicts,\n",
    "    split_total,\n",
    "    unflatten_dict,\n",
    ")\n",
    "\n",
    "from brainstate.util import struct, filter as util_filter"
   ],
   "id": "f1ba55dfb8770ec7"
  },
  {
   "cell_type": "markdown",
   "metadata": {},
   "source": [
    "## 1. Scheduling and naming helpers\n",
    "\n",
    "`split_total` calculates a portion of work either from a fractional quota or\n",
    "an absolute count. `get_unique_name` keeps thread-local counters so repeated\n",
    "calls stay unique without manual bookkeeping."
   ],
   "id": "1168a38446b54362"
  },
  {
   "cell_type": "code",
   "metadata": {
    "ExecuteTime": {
     "end_time": "2025-10-10T16:13:31.680144Z",
     "start_time": "2025-10-10T16:13:31.674927Z"
    }
   },
   "source": [
    "epochs = split_total(total=120, fraction=0.25)\n",
    "override = split_total(total=120, fraction=30)\n",
    "print('fractional schedule:', epochs)\n",
    "print('absolute schedule:', override)\n",
    "\n",
    "names = [util.get_unique_name('layer') for _ in range(3)]\n",
    "scoped = [util.get_unique_name('block', prefix='encoder_') for _ in range(2)]\n",
    "print('names:', names)\n",
    "print('scoped names:', scoped)"
   ],
   "id": "643db3dde4b95765",
   "outputs": [
    {
     "name": "stdout",
     "output_type": "stream",
     "text": [
      "fractional schedule: 30\n",
      "absolute schedule: 30\n",
      "names: ['layer39', 'layer40', 'layer41']\n",
      "scoped names: ['encoder_block0', 'encoder_block1']\n"
     ]
    }
   ],
   "execution_count": 32
  },
  {
   "cell_type": "markdown",
   "metadata": {},
   "source": [
    "## 2. Memory housekeeping\n",
    "\n",
    "`clear_buffer_memory` makes it easy to release cached device buffers and\n",
    "compilation artifacts between experiments. Passing `array=False` keeps this\n",
    "example side-effect free while illustrating the API."
   ],
   "id": "49f3e5eb43c94bbd"
  },
  {
   "cell_type": "code",
   "metadata": {
    "ExecuteTime": {
     "end_time": "2025-10-10T16:13:31.876118Z",
     "start_time": "2025-10-10T16:13:31.684692Z"
    }
   },
   "source": [
    "clear_buffer_memory(array=False)\n",
    "print('Cleared JAX compilation caches and triggered GC.')"
   ],
   "id": "4754ffe8a7abe45f",
   "outputs": [
    {
     "name": "stdout",
     "output_type": "stream",
     "text": [
      "Cleared JAX compilation caches and triggered GC.\n"
     ]
    }
   ],
   "execution_count": 33
  },
  {
   "cell_type": "markdown",
   "metadata": {},
   "source": [
    "## 3. Managing collections with `DictManager`\n",
    "\n",
    "`DictManager` extends the standard mapping interface with filters, splits,\n",
    "combination operators, and JAX PyTree support."
   ],
   "id": "b67f7b620ae465d8"
  },
  {
   "cell_type": "code",
   "metadata": {
    "ExecuteTime": {
     "end_time": "2025-10-10T16:13:31.885667Z",
     "start_time": "2025-10-10T16:13:31.879414Z"
    }
   },
   "source": [
    "modules = DictManager({\n",
    "    'encoder': {'params': 32},\n",
    "    'decoder': {'params': 45},\n",
    "    'dropout': 0.1,\n",
    "})\n",
    "print('original:', modules)\n",
    "\n",
    "# Filter only submodules (dict instances)\n",
    "submods = modules.subset(dict)\n",
    "print('subset:', submods)\n",
    "\n",
    "# Split by type: dict entries vs everything else\n",
    "dicts, remainder = modules.split(dict)\n",
    "print('split dicts:', dicts)\n",
    "print('split remainder:', remainder)\n",
    "\n",
    "# Map over values to extract parameter counts\n",
    "param_counts = submods.map_values(lambda layer: layer['params'])\n",
    "param_counts"
   ],
   "id": "a7d0e9178fa449ef",
   "outputs": [
    {
     "name": "stdout",
     "output_type": "stream",
     "text": [
      "original: DictManager({'encoder': {'params': 32}, 'decoder': {'params': 45}, 'dropout': 0.1})\n",
      "subset: DictManager({'encoder': {'params': 32}, 'decoder': {'params': 45}})\n",
      "split dicts: DictManager({'encoder': {'params': 32}, 'decoder': {'params': 45}})\n",
      "split remainder: DictManager({'dropout': 0.1})\n"
     ]
    },
    {
     "data": {
      "text/plain": [
       "DictManager({'encoder': 32, 'decoder': 45})"
      ]
     },
     "execution_count": 34,
     "metadata": {},
     "output_type": "execute_result"
    }
   ],
   "execution_count": 34
  },
  {
   "cell_type": "markdown",
   "metadata": {},
   "source": [
    "## 4. Configuration access via `DotDict`\n",
    "\n",
    "`DotDict` lets you treat nested dictionaries like lightweight objects while\n",
    "preserving conversion back to standard dicts when needed."
   ],
   "id": "64fa731e9f4d5b9e"
  },
  {
   "cell_type": "code",
   "metadata": {
    "ExecuteTime": {
     "end_time": "2025-10-10T16:13:31.921774Z",
     "start_time": "2025-10-10T16:13:31.915942Z"
    }
   },
   "source": [
    "config = DotDict({\n",
    "    'model': {\n",
    "        'layers': 4,\n",
    "        'hidden': 256,\n",
    "    },\n",
    "    'training': {\n",
    "        'lr': 3e-4,\n",
    "        'scheduler': {'warmup_steps': 500},\n",
    "    },\n",
    "})\n",
    "\n",
    "print('hidden units:', config.model.hidden)\n",
    "config.training.dropout = 0.2\n",
    "print('with dropout:', config.training.dropout)\n",
    "\n",
    "round_trip = config.to_dict()\n",
    "round_trip"
   ],
   "id": "be27cb6aa15a30f",
   "outputs": [
    {
     "name": "stdout",
     "output_type": "stream",
     "text": [
      "hidden units: 256\n",
      "with dropout: 0.2\n"
     ]
    },
    {
     "data": {
      "text/plain": [
       "{'model': {'layers': 4, 'hidden': 256},\n",
       " 'training': {'lr': 0.0003,\n",
       "  'scheduler': {'warmup_steps': 500},\n",
       "  'dropout': 0.2}}"
      ]
     },
     "execution_count": 35,
     "metadata": {},
     "output_type": "execute_result"
    }
   ],
   "execution_count": 35
  },
  {
   "cell_type": "markdown",
   "metadata": {},
   "source": [
    "## 5. Dictionary utilities\n",
    "\n",
    "`merge_dicts` performs optional recursive merges. `flatten_dict` and\n",
    "`unflatten_dict` convert between nested and dotted-key representations—useful\n",
    "for logging or CLI overrides."
   ],
   "id": "f23cd90facf9f5db"
  },
  {
   "cell_type": "code",
   "metadata": {
    "ExecuteTime": {
     "end_time": "2025-10-10T16:13:31.944037Z",
     "start_time": "2025-10-10T16:13:31.938347Z"
    }
   },
   "source": [
    "base = {'optimizer': {'lr': 1e-3, 'beta1': 0.9}}\n",
    "override = {'optimizer': {'lr': 5e-4}, 'seed': 1234}\n",
    "merged = merge_dicts(base, override)\n",
    "print('merged:', merged)\n",
    "\n",
    "flat = flatten_dict(merged)\n",
    "print('flattened:', flat)\n",
    "unflatten_dict(flat)"
   ],
   "id": "c2c18f3ba629cbc",
   "outputs": [
    {
     "name": "stdout",
     "output_type": "stream",
     "text": [
      "merged: {'optimizer': {'lr': 0.0005, 'beta1': 0.9}, 'seed': 1234}\n",
      "flattened: {'optimizer.lr': 0.0005, 'optimizer.beta1': 0.9, 'seed': 1234}\n"
     ]
    },
    {
     "data": {
      "text/plain": [
       "{'optimizer': {'lr': 0.0005, 'beta1': 0.9}, 'seed': 1234}"
      ]
     },
     "execution_count": 36,
     "metadata": {},
     "output_type": "execute_result"
    }
   ],
   "execution_count": 36
  },
  {
   "cell_type": "markdown",
   "metadata": {},
   "source": [
    "## 6. Structured PyTrees with `util.struct`\n",
    "\n",
    "The `struct` submodule mirrors Flax-friendly data structures. The\n",
    "`dataclass` decorator registers classes as PyTrees, while `FrozenDict`\n",
    "provides immutable mappings compatible with JAX transformations."
   ],
   "id": "c7fa2f401f80137e"
  },
  {
   "cell_type": "code",
   "metadata": {
    "ExecuteTime": {
     "end_time": "2025-10-10T16:13:32.043845Z",
     "start_time": "2025-10-10T16:13:31.966907Z"
    }
   },
   "source": [
    "@struct.dataclass\n",
    "class LayerConfig:\n",
    "    weight: jax.Array\n",
    "    bias: jax.Array\n",
    "    name: str = struct.field(pytree_node=False, default='layer')\n",
    "\n",
    "cfg = LayerConfig(weight=jnp.ones((2, 2)), bias=jnp.zeros(2))\n",
    "print(cfg)\n",
    "\n",
    "cfg2 = cfg.replace(weight=jnp.full((2, 2), 3.0))\n",
    "print('updated weight:', cfg2.weight)\n",
    "\n",
    "flat_leaves, _ = jax.tree_util.tree_flatten(cfg)\n",
    "print('pytree leaves:', [leaf.shape for leaf in flat_leaves])\n",
    "\n",
    "frozen = struct.freeze({'encoder': jnp.arange(3)})\n",
    "print('frozen dict:', frozen)\n",
    "print('unfrozen:', struct.unfreeze(frozen))"
   ],
   "id": "7691ad47821946eb",
   "outputs": [
    {
     "name": "stdout",
     "output_type": "stream",
     "text": [
      "LayerConfig(weight=Array([[1., 1.],\n",
      "       [1., 1.]], dtype=float32), bias=Array([0., 0.], dtype=float32), name='layer')\n",
      "updated weight: [[3. 3.]\n",
      " [3. 3.]]\n",
      "pytree leaves: [(2, 2), (2,)]\n",
      "frozen dict: FrozenDict({\n",
      "  'encoder': Array([0, 1, 2], dtype=int32)\n",
      "})\n",
      "unfrozen: {'encoder': Array([0, 1, 2], dtype=int32)}\n"
     ]
    }
   ],
   "execution_count": 37
  },
  {
   "cell_type": "markdown",
   "metadata": {},
   "source": [
    "## 7. Filtering nested objects\n",
    "\n",
    "`brainstate.util.filter` turns declarative filters into callables. Combine tag,\n",
    "type, and path checks when traversing parameter trees."
   ],
   "id": "e9c21d895135e407"
  },
  {
   "cell_type": "code",
   "metadata": {
    "ExecuteTime": {
     "end_time": "2025-10-10T16:13:32.069441Z",
     "start_time": "2025-10-10T16:13:32.049190Z"
    }
   },
   "source": [
    "class Module:\n",
    "    def __init__(self, tag: str | None, kind: str):\n",
    "        self.tag = tag\n",
    "        self.kind = kind\n",
    "        self.params = jnp.arange(2)\n",
    "\n",
    "model_tree = {\n",
    "    'encoder': Module(tag='trainable', kind='linear'),\n",
    "    'decoder': Module(tag='frozen', kind='linear'),\n",
    "    'head': Module(tag='trainable', kind='mlp'),\n",
    "}\n",
    "\n",
    "tag_filter = util_filter.to_predicate('trainable')\n",
    "type_filter = util_filter.OfType(Module)\n",
    "combined = util_filter.All(type_filter, util_filter.WithTag('trainable'))\n",
    "\n",
    "def collect(tree: dict[str, Any], predicate) -> dict[str, Any]:\n",
    "    out = {}\n",
    "    for key, value in tree.items():\n",
    "        if predicate((key,), value):\n",
    "            out[key] = value\n",
    "    return out\n",
    "\n",
    "trainable_modules = collect(model_tree, tag_filter)\n",
    "both = collect(model_tree, lambda path, val: combined(path, val))\n",
    "print('trainable keys:', tuple(trainable_modules.keys()))\n",
    "print('trainable Modules:', tuple(both.keys()))"
   ],
   "id": "f8f409e3b21b8ef2",
   "outputs": [
    {
     "name": "stdout",
     "output_type": "stream",
     "text": [
      "trainable keys: ('encoder', 'head')\n",
      "trainable Modules: ('encoder', 'head')\n"
     ]
    }
   ],
   "execution_count": 38
  },
  {
   "cell_type": "markdown",
   "metadata": {},
   "source": [
    "## 8. Pretty PyTree containers\n",
    "\n",
    "`NestedDict`, `FlattedDict`, and `PrettyList` bring readable reprs plus PyTree\n",
    "semantics. Use them to explore checkpoints or log structured configs."
   ],
   "id": "758c1b96b9a27fd9"
  },
  {
   "cell_type": "code",
   "metadata": {
    "ExecuteTime": {
     "end_time": "2025-10-10T16:13:32.160075Z",
     "start_time": "2025-10-10T16:13:32.072446Z"
    }
   },
   "source": [
    "from brainstate.util import NestedDict, flat_mapping, nest_mapping, PrettyList\n",
    "\n",
    "state = NestedDict({\n",
    "    'encoder': {'weight': jnp.ones((2, 2)), 'bias': jnp.zeros(2)},\n",
    "    'decoder': {'weight': jnp.eye(2)},\n",
    "})\n",
    "print(state)\n",
    "\n",
    "flat_state = flat_mapping(state)\n",
    "print('flat keys:', list(flat_state.keys()))\n",
    "\n",
    "round_trip = nest_mapping(flat_state)\n",
    "print('round-trip equal:', round_trip == state)\n",
    "\n",
    "history = PrettyList([{'loss': 0.8}, {'loss': 0.42}])\n",
    "print(history)"
   ],
   "id": "841a9fd6891c17ce",
   "outputs": [
    {
     "name": "stdout",
     "output_type": "stream",
     "text": [
      "{\n",
      "  'encoder': {\n",
      "    'weight': Array([[1., 1.],\n",
      "           [1., 1.]], dtype=float32),\n",
      "    'bias': Array([0., 0.], dtype=float32)\n",
      "  },\n",
      "  'decoder': {\n",
      "    'weight': Array([[1., 0.],\n",
      "           [0., 1.]], dtype=float32)\n",
      "  }\n",
      "}\n",
      "flat keys: [('encoder', 'weight'), ('encoder', 'bias'), ('decoder', 'weight')]\n",
      "round-trip equal: True\n",
      "[\n",
      "  {\n",
      "    'loss': 0.8\n",
      "  },\n",
      "  {\n",
      "    'loss': 0.42\n",
      "  }\n",
      "]\n"
     ]
    }
   ],
   "execution_count": 39
  },
  {
   "cell_type": "markdown",
   "metadata": {},
   "source": [
    "## Summary\n",
    "\n",
    "- Use scheduling helpers (`split_total`, `get_unique_name`) to coordinate\n",
    "  experiments.\n",
    "- Reach for `DictManager` and `DotDict` to manage nested collections.\n",
    "- Convert between nested and flat configs with `merge_dicts`, `flatten_dict`,\n",
    "  and `unflatten_dict`.\n",
    "- Wrap structured data using `util.struct` and leverage filter/pretty utilities\n",
    "  when exploring PyTrees."
   ],
   "id": "941fbee3f1d0c079"
  }
 ],
 "metadata": {
  "kernelspec": {
   "display_name": "Python 3",
   "language": "python",
   "name": "python3"
  },
  "language_info": {
   "codemirror_mode": {
    "name": "ipython",
    "version": 3
   },
   "file_extension": ".py",
   "mimetype": "text/x-python",
   "name": "python",
   "nbconvert_exporter": "python",
   "pygments_lexer": "ipython3",
   "version": "3.8.0"
  }
 },
 "nbformat": 4,
 "nbformat_minor": 5
}
