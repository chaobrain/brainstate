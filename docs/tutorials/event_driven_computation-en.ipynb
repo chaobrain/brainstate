{
 "cells": [
  {
   "cell_type": "markdown",
   "id": "461652726fe9d280",
   "metadata": {
    "collapsed": false,
    "jupyter": {
     "outputs_hidden": false
    }
   },
   "source": [
    "# Event-driven Computations"
   ]
  },
  {
   "cell_type": "markdown",
   "id": "e548466d030548ee",
   "metadata": {},
   "source": [
    "Event-driven is an important characteristic that distinguishes brain-simulation computing models from other traditional computing models. Neurons in the brain are only activated and compute after receiving information. The set of neurons that need to be computed at each seconds can be regarded as a sparse vector. This means that the traditional matrix multiplication method is no longer suitable for computing the firing process of neurons.\n",
    "\n",
    "![](../_static/dense-mv-vs-event-spmv.png)\n",
    "\n",
    "`BrainState` provides specialized operator optimizations for the characteristic of event-driven processing, enabling the model to reduce the use of computing resources and increase speed when dealing with sparse data. `BrainState` offers several connection methods for synapses between neurons, and here are some examples.\n",
    "\n"
   ]
  },
  {
   "cell_type": "code",
   "execution_count": 3,
   "id": "5da04a2ba6e4e49a",
   "metadata": {
    "ExecuteTime": {
     "end_time": "2024-11-07T05:05:06.330838Z",
     "start_time": "2024-11-07T05:05:06.327465Z"
    }
   },
   "outputs": [],
   "source": [
    "import jax\n",
    "import jax.numpy as jnp\n",
    "\n",
    "import brainstate"
   ]
  },
  {
   "cell_type": "markdown",
   "id": "b8acde6057529a9d",
   "metadata": {},
   "source": [
    "### 1.FixedProb"
   ]
  },
  {
   "cell_type": "markdown",
   "id": "c1f20a979b794691",
   "metadata": {},
   "source": [
    "Sometimes we do not know the definite connections between neurons, but we know that for each presynaptic neuron, there is a fixed probability that it connects to a population of postsynaptic neurons.\n",
    "\n",
    "`BrainState` provides the class `brainstate.event.FixedProb` to define this connection case.\n",
    "\n",
    "The class `brainstate.event.FixedProb` accepts the following parameters:\n",
    "\n",
    "- `n_pre`: The number of presynaptic neurons.\n",
    "\n",
    "- `n_post`: The number of postsynaptic neurons.\n",
    "\n",
    "- `prob`: The fixed probability of each presynaptic neuron connecting to a postsynaptic neuron.\n",
    "\n",
    "- `weight`: The maximum synaptic conductance, which can accept a float, an array, or a function, supporting scalars and physical quantities.\n",
    "\n",
    "- `allow_multi_conn`: Whether a presynaptic neuron can have multiple connections with the same postsynaptic neuron. The default is `True`.\n",
    "\n",
    "- `seed`: The random generation seed. The default is `None`.\n",
    "\n",
    "- `name`: The module name. The default is `None`.\n",
    "\n",
    "- `grad_mode`: The automatic differentiation method. The default is `vjp`.\n"
   ]
  },
  {
   "cell_type": "code",
   "execution_count": 4,
   "id": "e792957e703547ff",
   "metadata": {
    "ExecuteTime": {
     "end_time": "2024-11-07T05:05:06.489921Z",
     "start_time": "2024-11-07T05:05:06.341837Z"
    }
   },
   "outputs": [],
   "source": [
    "# pre-synaptic spikes, 10000 neurons, 1% sparsity\n",
    "pre_spikes = brainstate.random.rand(10000) < 0.01"
   ]
  },
  {
   "cell_type": "code",
   "execution_count": 5,
   "id": "37207a5e0e673b5e",
   "metadata": {
    "ExecuteTime": {
     "end_time": "2024-11-07T05:05:06.632282Z",
     "start_time": "2024-11-07T05:05:06.499401Z"
    }
   },
   "outputs": [],
   "source": [
    "# dense weight matrix, 10000x1000, 1% sparsity\n",
    "dense_w = (brainstate.random.rand(10000, 1000) < 0.01).astype(float)\n",
    "\n",
    "# event-driven weight matrix, 10000x1000, 1% sparsity\n",
    "fp = jax.jit(brainstate.event.FixedProb(10000, 1000, 0.01, 1.))"
   ]
  },
  {
   "cell_type": "code",
   "execution_count": 6,
   "id": "7ac3f60d93738bf7",
   "metadata": {
    "ExecuteTime": {
     "end_time": "2024-11-07T05:05:08.400836Z",
     "start_time": "2024-11-07T05:05:06.637104Z"
    }
   },
   "outputs": [
    {
     "name": "stdout",
     "output_type": "stream",
     "text": [
      "1.24 ms ± 178 μs per loop (mean ± std. dev. of 10 runs, 100 loops each)\n",
      "421 μs ± 6.09 μs per loop (mean ± std. dev. of 10 runs, 100 loops each)\n"
     ]
    }
   ],
   "source": [
    "# compile and run at first, then measure the average running time\n",
    "jnp.dot(pre_spikes, dense_w)\n",
    "%timeit -n 100 -r 10 jnp.dot(pre_spikes, dense_w)\n",
    "\n",
    "fp(pre_spikes)\n",
    "%timeit -n 100 -r 10 fp(pre_spikes)"
   ]
  },
  {
   "cell_type": "markdown",
   "id": "94343ba16c303694",
   "metadata": {},
   "source": [
    "### 2.Linear\n"
   ]
  },
  {
   "cell_type": "markdown",
   "id": "1778e9323a8ffb1b",
   "metadata": {},
   "source": [
    "The synaptic connections between neurons form a dense matrix.\n",
    "\n",
    "`BrainState` provides the class `brainstate.event.Linear` to define this connection case.\n",
    "\n",
    "The class `brainstate.event.Linear` accepts the following parameters:\n",
    "\n",
    "- `n_pre`: The number of presynaptic neurons.\n",
    "\n",
    "- `n_post`: The number of postsynaptic neurons.\n",
    "\n",
    "- `weight`: The maximum synaptic conductance, which can accept a float, an array, or a function, supporting scalars and physical quantities.\n",
    "\n",
    "- `name`: The module name.The default is `None`.\n",
    "\n",
    "- `grad_mode`: The automatic differentiation method. The default is `vjp`.\n"
   ]
  },
  {
   "cell_type": "code",
   "execution_count": 7,
   "id": "4ff030cee8302228",
   "metadata": {
    "ExecuteTime": {
     "end_time": "2024-11-07T05:05:08.442317Z",
     "start_time": "2024-11-07T05:05:08.405420Z"
    }
   },
   "outputs": [],
   "source": [
    "# dense weight matrix, 10000x1000 \n",
    "dense_w = brainstate.random.rand(10000, 1000).astype(float)\n",
    "\n",
    "# event-driven weight matrix, 10000x1000\n",
    "fp = jax.jit(brainstate.event.Linear(10000, 1000, dense_w))"
   ]
  },
  {
   "cell_type": "code",
   "execution_count": 8,
   "id": "123ca198b4a08def",
   "metadata": {
    "ExecuteTime": {
     "end_time": "2024-11-07T05:05:10.425135Z",
     "start_time": "2024-11-07T05:05:08.456453Z"
    }
   },
   "outputs": [
    {
     "name": "stdout",
     "output_type": "stream",
     "text": [
      "1.26 ms ± 161 μs per loop (mean ± std. dev. of 10 runs, 100 loops each)\n",
      "400 μs ± 37.5 μs per loop (mean ± std. dev. of 10 runs, 100 loops each)\n"
     ]
    }
   ],
   "source": [
    "# 先编译运行一次，随后测平均运行时间\n",
    "jnp.dot(pre_spikes, dense_w)\n",
    "%timeit -n 100 -r 10 jnp.dot(pre_spikes, dense_w)\n",
    "\n",
    "fp(pre_spikes)\n",
    "%timeit -n 100 -r 10 fp(pre_spikes)"
   ]
  },
  {
   "cell_type": "markdown",
   "id": "163297f41e7c4963",
   "metadata": {},
   "source": [
    "### 3.CSRLinear"
   ]
  },
  {
   "cell_type": "markdown",
   "id": "9a8107473baf6808",
   "metadata": {},
   "source": [
    "In most cases, the synaptic connections between neurons form a sparse matrix. The CSR format is a common way to store sparse matrices, and its representation is shown in the figure below:\n",
    "\n",
    "![](../_static/csr_matrix.png)\n",
    "\n",
    "The CSR format consists of three NumPy arrays: `indices`, `indptr`, `values`:\n",
    "\n",
    "- `indices`: Records the column indices of each non-zero element in the matrix, sorted first by row and then by column.\n",
    "\n",
    "- `indptr`: Has a length of `row+1`, where `indptr[i]` indicates the starting position of the non-zero elements of the `i`th row in the `indices`.\n",
    "\n",
    "- `values`: Records the values corresponding to the non-zero elements in the `indices`."
   ]
  },
  {
   "cell_type": "markdown",
   "id": "f3e4bfe3887ac2c7",
   "metadata": {},
   "source": [
    "`BrainState` provides the class `brainstate.event.CSRLinear` to define this type of connection process.\n",
    "\n",
    "The class `brainstate.event.CSRLinear` accepts the following parameters:\n",
    "\n",
    "`n_pre`: The number of presynaptic neurons.\n",
    "\n",
    "`n_post`: The number of postsynaptic neurons.\n",
    "\n",
    "`indptr`: The `indptr` in the CSR format of the sparse matrix.\n",
    "\n",
    "`indices`: The `indices` in the CSR format of the sparse matrix.\n",
    "\n",
    "`weight`: The maximum synaptic conductance, which can accept a float, an array, or a function, supporting scalars and physical quantities.\n",
    "\n",
    "`name`: The module name, with a default value of `None`.\n",
    "\n",
    "`grad_mode`: The automatic differentiation method, with a default value of `vjp`.\n"
   ]
  },
  {
   "cell_type": "code",
   "execution_count": 9,
   "id": "d563e843a889f9ce",
   "metadata": {
    "ExecuteTime": {
     "end_time": "2024-11-07T05:05:11.816692Z",
     "start_time": "2024-11-07T05:05:10.433130Z"
    }
   },
   "outputs": [],
   "source": [
    "# dense weight matrix, 10000x10000, 0.01% sparsity\n",
    "dense_w = (brainstate.random.rand(10000, 10000) < 0.0001).astype(float)\n",
    "\n",
    "# event-driven weight matrix, 10000x1000, 0.01% sparsity, CSR format\n",
    "from scipy.sparse import csr_matrix\n",
    "\n",
    "csr = csr_matrix(dense_w)\n",
    "fp = jax.jit(brainstate.event.CSRLinear(10000, 10000, csr.indptr, csr.indices, csr.data))"
   ]
  },
  {
   "cell_type": "code",
   "execution_count": 10,
   "id": "a82c45ec87a032d7",
   "metadata": {
    "ExecuteTime": {
     "end_time": "2024-11-07T05:05:28.553092Z",
     "start_time": "2024-11-07T05:05:11.822292Z"
    }
   },
   "outputs": [
    {
     "name": "stdout",
     "output_type": "stream",
     "text": [
      "13.5 ms ± 1.18 ms per loop (mean ± std. dev. of 10 runs, 100 loops each)\n",
      "3.12 ms ± 1.07 ms per loop (mean ± std. dev. of 10 runs, 100 loops each)\n"
     ]
    }
   ],
   "source": [
    "# 先编译运行一次，随后测平均运行时间\n",
    "jnp.dot(pre_spikes, dense_w)\n",
    "%timeit -n 100 -r 10 jnp.dot(pre_spikes, dense_w)\n",
    "\n",
    "fp(pre_spikes)\n",
    "%timeit -n 100 -r 10 fp(pre_spikes)"
   ]
  },
  {
   "cell_type": "markdown",
   "id": "5e1e2d652b94c53b",
   "metadata": {},
   "source": [
    "### 4.Weights of Synaptic"
   ]
  },
  {
   "cell_type": "markdown",
   "id": "90fbbd8153b7b6b7",
   "metadata": {},
   "source": [
    "\n",
    "When modeling synaptic connections, the `weight` accepts a float, an array, or a function, supporting both scalars and physical quantities.\n",
    "\n",
    "If the `weight` accepts a float, it indicates that all synaptic weights are the same, and storing floats can greatly save memory space.\n",
    "\n",
    "If the `weight` accepts an array, it must be ensured that the array can be aligned with the connection matrix, meaning the array is the same size as the connection matrix, or the connection matrix can be divided into multiple arrays.\n",
    "\n",
    "If the `weight` accepts a function, a weight matrix of the size of the connection matrix will be generated during the init phase.\n",
    "\n",
    "If importing the `BrainUnit`, `BrainState` can support the input and calculation of physical quantities."
   ]
  }
 ],
 "metadata": {
  "kernelspec": {
   "display_name": "Python 3 (ipykernel)",
   "language": "python",
   "name": "python3"
  },
  "language_info": {
   "codemirror_mode": {
    "name": "ipython",
    "version": 3
   },
   "file_extension": ".py",
   "mimetype": "text/x-python",
   "name": "python",
   "nbconvert_exporter": "python",
   "pygments_lexer": "ipython3",
   "version": "3.12.3"
  }
 },
 "nbformat": 4,
 "nbformat_minor": 5
}
