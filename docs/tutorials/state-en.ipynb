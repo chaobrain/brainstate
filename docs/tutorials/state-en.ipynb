{
 "cells": [
  {
   "cell_type": "markdown",
   "source": [
    "# Introduction to ``State``"
   ],
   "metadata": {
    "collapsed": false
   },
   "id": "cc708b848687e9db"
  },
  {
   "metadata": {},
   "cell_type": "markdown",
   "source": [
    "In dynamical brain modeling, time-varying state variables are often encountered, such as the membrane potential ``V`` of neurons or the firing rate ``r`` in firing rate models. ``BrainState`` provides the ``State`` data structure, which helps users intuitively define and manage computational states. This tutorial provides a detailed introduction to the usage of ``State``. By following this tutorial, you will learn:\n",
    "\t•\tThe basic concepts and fundamental usage of ``State`` objects.\n",
    "\t•\tHow to create ``State`` objects and the usage of its subclasses: ``ShortTermState``, ``LongTermState``, ``HiddenState``, and ``ParamState``.\n",
    "\t•\tHow to use ``StateTraceStack`` to track the State objects used in a program."
   ],
   "id": "138b3803bb7580fc"
  },
  {
   "metadata": {
    "ExecuteTime": {
     "end_time": "2024-11-22T03:31:37.876466Z",
     "start_time": "2024-11-22T03:31:37.252042Z"
    }
   },
   "cell_type": "code",
   "source": [
    "import jax.numpy as jnp\n",
    "\n",
    "import brainstate as bst\n",
    "import brainunit as bu"
   ],
   "id": "b33843f51bfdecdd",
   "outputs": [],
   "execution_count": 1
  },
  {
   "metadata": {},
   "cell_type": "markdown",
   "source": [
    "## 1. Basic Concepts and Usage of ``State`` Objects\n",
    "\n",
    "``State`` is a key data structure in ``BrainState`` used to encapsulate state variables in models. These variables primarily represent values that change over time within the model. A ``State`` can wrap any Python data type, such as integers, floating-point numbers, arrays, ``jax.Array``, or any of these encapsulated in dictionaries or arrays. Unlike native Python data structures, the data within a ``State`` object remains mutable after program compilation.\n",
    "\n",
    "For example, if a user needs to define a state array, a ``State`` object can be defined as follows:"
   ],
   "id": "db2715ae6e9f10d9"
  },
  {
   "metadata": {
    "ExecuteTime": {
     "end_time": "2024-11-22T03:31:37.898724Z",
     "start_time": "2024-11-22T03:31:37.877698Z"
    }
   },
   "cell_type": "code",
   "source": [
    "example = bst.State(jnp.ones(10))\n",
    "\n",
    "example"
   ],
   "id": "3a6b10691cf03e3b",
   "outputs": [
    {
     "data": {
      "text/plain": [
       "State(\n",
       "  value=Array([1., 1., 1., 1., 1., 1., 1., 1., 1., 1.], dtype=float32)\n",
       ")"
      ]
     },
     "execution_count": 2,
     "metadata": {},
     "output_type": "execute_result"
    }
   ],
   "execution_count": 2
  },
  {
   "metadata": {},
   "cell_type": "markdown",
   "source": "Furthermore, ``State`` supports arbitrary [PyTree](https://jax.readthedocs.io/en/latest/working-with-pytrees.html), which means users can encapsulate any data structure within a ``State`` object. This allows for convenient state management and computation.",
   "id": "ba96083a3de0451f"
  },
  {
   "metadata": {
    "ExecuteTime": {
     "end_time": "2024-11-22T03:31:37.918576Z",
     "start_time": "2024-11-22T03:31:37.899393Z"
    }
   },
   "cell_type": "code",
   "source": [
    "example2 = bst.State({'a': jnp.ones(3), 'b': jnp.zeros(4)})\n",
    "\n",
    "example2"
   ],
   "id": "9c63ad908b861dc",
   "outputs": [
    {
     "data": {
      "text/plain": [
       "State(\n",
       "  value={'a': Array([1., 1., 1.], dtype=float32), 'b': Array([0., 0., 0., 0.], dtype=float32)}\n",
       ")"
      ]
     },
     "execution_count": 3,
     "metadata": {},
     "output_type": "execute_result"
    }
   ],
   "execution_count": 3
  },
  {
   "metadata": {},
   "cell_type": "markdown",
   "source": "Updating state variables is an essential operation. Users can access and modify these data through the ``State.value`` attribute. For example, accessing a state variable:",
   "id": "330fafcd49aa2712"
  },
  {
   "metadata": {
    "ExecuteTime": {
     "end_time": "2024-11-22T03:31:37.922347Z",
     "start_time": "2024-11-22T03:31:37.919560Z"
    }
   },
   "cell_type": "code",
   "source": "example.value",
   "id": "558f8e729e2ccdb",
   "outputs": [
    {
     "data": {
      "text/plain": [
       "Array([1., 1., 1., 1., 1., 1., 1., 1., 1., 1.], dtype=float32)"
      ]
     },
     "execution_count": 4,
     "metadata": {},
     "output_type": "execute_result"
    }
   ],
   "execution_count": 4
  },
  {
   "metadata": {},
   "cell_type": "markdown",
   "source": "You can see that the returned value is the array we initially passed in. Next, we can modify this array using an assignment operation:",
   "id": "9ae08aa2c5b3864"
  },
  {
   "metadata": {
    "ExecuteTime": {
     "end_time": "2024-11-22T03:31:38.034895Z",
     "start_time": "2024-11-22T03:31:37.923821Z"
    }
   },
   "cell_type": "code",
   "source": [
    "example.value = bst.random.random(3)\n",
    "\n",
    "example"
   ],
   "id": "de54d47f46b09325",
   "outputs": [
    {
     "data": {
      "text/plain": [
       "State(\n",
       "  value=Array([0.60104334, 0.10154414, 0.8442615 ], dtype=float32)\n",
       ")"
      ]
     },
     "execution_count": 5,
     "metadata": {},
     "output_type": "execute_result"
    }
   ],
   "execution_count": 5
  },
  {
   "metadata": {},
   "cell_type": "markdown",
   "source": [
    "From the output, we can see that the data within the ``State`` object has been successfully modified. The data in a ``State`` object is mutable, meaning users can update the values of state variables at any point during program execution. This feature is crucial for dynamical brain modeling, where state variables often change over time.\n",
    "\n",
    "Core Features of State Syntax:\n",
    "- Encapsulation of mutable variables: All quantities that need to change are encapsulated within ``State`` objects, making it easier for users to track and debug model states.\n",
    "- Immutability of non-state variables: Variables that are not encapsulated in ``State`` objects are immutable and cannot be modified after program compilation.\n",
    "\n",
    "Important Notes:\n",
    "1.\tStatic Data in JIT Compilation: Any data not marked as a state variable will be treated as static during JIT compilation. Modifying static data in a JIT-compiled environment has no effect.\n",
    "2.  Constraints on Modifying ``State`` Data: Updating the data within a ``State`` object via the ``value`` attribute is subject to certain conditions. The assigned data must have the same type and shape as the original data. Otherwise, an error will be raised."
   ],
   "id": "9d29f342a73eb2ee"
  },
  {
   "metadata": {
    "ExecuteTime": {
     "end_time": "2024-11-22T03:31:38.052930Z",
     "start_time": "2024-11-22T03:31:38.035799Z"
    }
   },
   "cell_type": "code",
   "source": [
    "state = bst.ShortTermState(jnp.zeros((2, 3)))\n",
    "\n",
    "with bst.check_state_value_tree():\n",
    "    state.value = jnp.zeros((2, 3))\n",
    "\n",
    "    try:\n",
    "        state.value = (jnp.zeros((2, 3)), jnp.zeros((2, 3)))\n",
    "    except Exception as e:\n",
    "        print(e)"
   ],
   "id": "4159d20ade4f2bdb",
   "outputs": [
    {
     "name": "stdout",
     "output_type": "stream",
     "text": [
      "The given value PyTreeDef((*, *)) does not match with the origin tree structure PyTreeDef(*).\n"
     ]
    }
   ],
   "execution_count": 6
  },
  {
   "metadata": {},
   "cell_type": "markdown",
   "source": [
    "## 2. Subclasses of ``State``\n",
    "\n",
    "``BrainState`` provides several subclasses of ``State``, allowing users to select the most suitable one based on their needs. Below, we will explain the usage of four subclasses: ``ShortTermState``, ``LongTermState``, ``HiddenState``, and ``ParamState``.\n",
    "\n",
    "> Note: The subclasses of ``State`` are designed for better management of state variables. While there are no functional differences between these subclasses at the code implementation level, they help users distinguish between different types of state variables in their models. Users can choose the appropriate subclass based on their specific requirements.\n",
    "\n",
    "### 2.1 ``ShortTermState``\n",
    "\n",
    "``ShortTermState`` is a subclass of ``State`` designed to encapsulate short-term state variables in models. The data in a ``ShortTermState`` object is updated during every simulation iteration. Users can use ``ShortTermState`` objects to define short-term state variables in their models, such as a neuron’s last spike time (last_spike_time).\n",
    "\n",
    "These state variables primarily capture instantaneous states in the model. They evolve over time but do not exhibit direct temporal dependencies, which is why they are referred to as short-term state variables."
   ],
   "id": "6fc49d593597132"
  },
  {
   "metadata": {
    "ExecuteTime": {
     "end_time": "2024-11-22T03:31:38.097074Z",
     "start_time": "2024-11-22T03:31:38.053558Z"
    }
   },
   "cell_type": "code",
   "source": [
    "# Example\n",
    "short_term_state = bst.ShortTermState(jnp.ones(5))\n",
    "\n",
    "# In Neuron model, we can use ShortTermState to record the last spike time of neuron\n",
    "t_last_spike = bst.ShortTermState((bst.init.param(bst.init.Constant(-1e7 * bu.ms), sizes=(10,))))\n",
    "t_last_spike"
   ],
   "id": "abcfc3b1a9aba883",
   "outputs": [
    {
     "data": {
      "text/plain": [
       "ShortTermState(\n",
       "  value=ArrayImpl([-10000000., -10000000., -10000000., -10000000., -10000000.,\n",
       "             -10000000., -10000000., -10000000., -10000000., -10000000.],\n",
       "            dtype=float32) * msecond\n",
       ")"
      ]
     },
     "execution_count": 7,
     "metadata": {},
     "output_type": "execute_result"
    }
   ],
   "execution_count": 7
  },
  {
   "metadata": {},
   "cell_type": "markdown",
   "source": [
    "### 2.2 ``LongTermState``\n",
    "\n",
    "``LongTermState`` is a subclass of ``State`` used to encapsulate long-term state variables in models. The data in a ``LongTermState`` object is updated during every simulation iteration but is retained between iterations. This means long-term state variables preserve historical information over time, where previous state values influence subsequent iterations.\n",
    "\n",
    "Users can use ``LongTermState`` objects to define long-term state variables in their models. For example, when calculating a moving average, the average value and variance can be defined as long-term state variables."
   ],
   "id": "ab7a845cfa4313bb"
  },
  {
   "metadata": {
    "ExecuteTime": {
     "end_time": "2024-11-22T03:31:38.100570Z",
     "start_time": "2024-11-22T03:31:38.097753Z"
    }
   },
   "cell_type": "code",
   "source": [
    "# Example\n",
    "long_term_state = bst.LongTermState(jnp.ones(5))\n",
    "\n",
    "# We can use LongTermState to record the running mean of a variable\n",
    "running_mean = bst.LongTermState(jnp.zeros(5))\n",
    "running_mean"
   ],
   "id": "c5e750e5fe2970c6",
   "outputs": [
    {
     "data": {
      "text/plain": [
       "LongTermState(\n",
       "  value=Array([0., 0., 0., 0., 0.], dtype=float32)\n",
       ")"
      ]
     },
     "execution_count": 8,
     "metadata": {},
     "output_type": "execute_result"
    }
   ],
   "execution_count": 8
  },
  {
   "metadata": {},
   "cell_type": "markdown",
   "source": [
    "### 2.3 ``HiddenState``\n",
    "\n",
    "``HiddenState`` is a subclass of ``State`` designed to encapsulate hidden state variables in models. Similar to ``LongTermState``, the data in a ``HiddenState`` object is updated during every simulation iteration and retained between iterations. Its usage is identical to that of ``LongTermState``.\n",
    "\n",
    "Users can define hidden state variables in their models using ``HiddenState`` objects. Examples include a neuron’s membrane potential (``V``), synaptic conductance (``g``), and postsynaptic current (``I``)."
   ],
   "id": "1ca2fb96e9d2ab44"
  },
  {
   "metadata": {
    "ExecuteTime": {
     "end_time": "2024-11-22T03:31:38.105597Z",
     "start_time": "2024-11-22T03:31:38.101173Z"
    }
   },
   "cell_type": "code",
   "source": [
    "# Example\n",
    "hidden_state = bst.HiddenState(jnp.ones(5))\n",
    "\n",
    "# In Neuron model, we can use HiddenState to record the membrane potential of neuron\n",
    "V = bst.HiddenState((bst.init.param(bst.init.Constant(-70. * bu.mV), sizes=(10,))))\n",
    "V"
   ],
   "id": "262fab72c5c82aa7",
   "outputs": [
    {
     "data": {
      "text/plain": [
       "HiddenState(\n",
       "  value=ArrayImpl([-70., -70., -70., -70., -70., -70., -70., -70., -70., -70.],\n",
       "            dtype=float32) * mvolt\n",
       ")"
      ]
     },
     "execution_count": 9,
     "metadata": {},
     "output_type": "execute_result"
    }
   ],
   "execution_count": 9
  },
  {
   "metadata": {},
   "cell_type": "markdown",
   "source": [
    "### 2.4 ``ParamState``\n",
    "\n",
    "``ParamState`` is a subclass of ``State`` used to encapsulate trainable parameters in a model. ``ParamState`` objects are primarily used to define parameters in trainable models, such as neural network weights (``w``) and biases (``b``). Users can define parameters in their models using ``ParamState`` objects."
   ],
   "id": "5f6b3f851b90f38f"
  },
  {
   "metadata": {
    "ExecuteTime": {
     "end_time": "2024-11-22T03:31:38.119893Z",
     "start_time": "2024-11-22T03:31:38.106226Z"
    }
   },
   "cell_type": "code",
   "source": [
    "# Example\n",
    "param_state = bst.ParamState(jnp.ones(5))\n",
    "\n",
    "# In Neural Network model, we can use ParamState to define the weight of the network\n",
    "weight = bst.ParamState((bst.init.param(bst.init.Constant(0.1), sizes=(10, 10), batch_size=2)))\n",
    "weight"
   ],
   "id": "3a292069f5b42b73",
   "outputs": [
    {
     "data": {
      "text/plain": [
       "ParamState(\n",
       "  value=Array([[[0.1, 0.1, 0.1, 0.1, 0.1, 0.1, 0.1, 0.1, 0.1, 0.1],\n",
       "          [0.1, 0.1, 0.1, 0.1, 0.1, 0.1, 0.1, 0.1, 0.1, 0.1],\n",
       "          [0.1, 0.1, 0.1, 0.1, 0.1, 0.1, 0.1, 0.1, 0.1, 0.1],\n",
       "          [0.1, 0.1, 0.1, 0.1, 0.1, 0.1, 0.1, 0.1, 0.1, 0.1],\n",
       "          [0.1, 0.1, 0.1, 0.1, 0.1, 0.1, 0.1, 0.1, 0.1, 0.1],\n",
       "          [0.1, 0.1, 0.1, 0.1, 0.1, 0.1, 0.1, 0.1, 0.1, 0.1],\n",
       "          [0.1, 0.1, 0.1, 0.1, 0.1, 0.1, 0.1, 0.1, 0.1, 0.1],\n",
       "          [0.1, 0.1, 0.1, 0.1, 0.1, 0.1, 0.1, 0.1, 0.1, 0.1],\n",
       "          [0.1, 0.1, 0.1, 0.1, 0.1, 0.1, 0.1, 0.1, 0.1, 0.1],\n",
       "          [0.1, 0.1, 0.1, 0.1, 0.1, 0.1, 0.1, 0.1, 0.1, 0.1]],\n",
       "  \n",
       "         [[0.1, 0.1, 0.1, 0.1, 0.1, 0.1, 0.1, 0.1, 0.1, 0.1],\n",
       "          [0.1, 0.1, 0.1, 0.1, 0.1, 0.1, 0.1, 0.1, 0.1, 0.1],\n",
       "          [0.1, 0.1, 0.1, 0.1, 0.1, 0.1, 0.1, 0.1, 0.1, 0.1],\n",
       "          [0.1, 0.1, 0.1, 0.1, 0.1, 0.1, 0.1, 0.1, 0.1, 0.1],\n",
       "          [0.1, 0.1, 0.1, 0.1, 0.1, 0.1, 0.1, 0.1, 0.1, 0.1],\n",
       "          [0.1, 0.1, 0.1, 0.1, 0.1, 0.1, 0.1, 0.1, 0.1, 0.1],\n",
       "          [0.1, 0.1, 0.1, 0.1, 0.1, 0.1, 0.1, 0.1, 0.1, 0.1],\n",
       "          [0.1, 0.1, 0.1, 0.1, 0.1, 0.1, 0.1, 0.1, 0.1, 0.1],\n",
       "          [0.1, 0.1, 0.1, 0.1, 0.1, 0.1, 0.1, 0.1, 0.1, 0.1],\n",
       "          [0.1, 0.1, 0.1, 0.1, 0.1, 0.1, 0.1, 0.1, 0.1, 0.1]]],      dtype=float32)\n",
       ")"
      ]
     },
     "execution_count": 10,
     "metadata": {},
     "output_type": "execute_result"
    }
   ],
   "execution_count": 10
  },
  {
   "metadata": {},
   "cell_type": "markdown",
   "source": "It is important to emphasize once again that users can directly use the ``State`` object if they choose not to use the four subclasses: ``ShortTermState``, ``LongTermState``, ``HiddenState``, and ``ParamState``. The primary purpose of these subclasses is to help users better manage state variables in the model and distinguish between different types of state variables.",
   "id": "f0ca902ce6213c27"
  },
  {
   "metadata": {},
   "cell_type": "markdown",
   "source": [
    "## 3. Using ``StateTraceStack``\n",
    "\n",
    "``StateTraceStack`` is an important tool in ``BrainState`` for tracking ``State`` objects used within a program. Since ``BrainState`` treats all ``State`` objects as intermediate variables during program compilation, there is no global space to store all ``State`` instances. Instead, the ``State`` objects used within a function are managed and stored temporarily, and they are released once the function execution ends.\n",
    "\n",
    "Given this, how can we determine which ``State`` objects are used in a specific segment of code? ``StateTraceStack`` offers an excellent solution. Users can utilize ``StateTraceStack`` to view the ``State`` objects used in a program, enabling centralized management of these states.\n",
    "\n",
    "``StateTraceStack`` can be used as a context manager. Here’s an example: Suppose we define a linear layer, and during the execution of the layer’s call, we use ``StateTraceStack`` to record the ``State`` information. We can then output the read or modified State information through different functions."
   ],
   "id": "a7c738bf3d3cb1ea"
  },
  {
   "metadata": {
    "ExecuteTime": {
     "end_time": "2024-11-22T03:31:38.232175Z",
     "start_time": "2024-11-22T03:31:38.120552Z"
    }
   },
   "cell_type": "code",
   "source": [
    "class Linear(bst.graph.Node):\n",
    "    def __init__(self, din: int, dout: int):\n",
    "        self.din, self.dout = din, dout\n",
    "        self.w = bst.ParamState(bst.random.rand(din, dout))\n",
    "        self.b = bst.ParamState(jnp.zeros((dout,)))\n",
    "        self.y = bst.HiddenState(jnp.zeros((dout,)))\n",
    "\n",
    "    def __call__(self, x):\n",
    "        self.y.value = x @ self.w.value + self.b.value\n",
    "        return self.y.value\n",
    "    \n",
    "model = Linear(2, 5)\n",
    "\n",
    "with bst.StateTraceStack() as stack:\n",
    "    model(bst.random.rand(2))\n",
    "    states_to_be_read = [st for st in stack.get_read_states()]\n",
    "    states_values_to_be_read = [st for st in stack.get_read_state_values()] \n",
    "    states_to_be_written = [st for st in stack.get_write_states()]\n",
    "    states_values_to_be_written = [st for st in stack.get_write_state_values()]"
   ],
   "id": "7073382edc49a0aa",
   "outputs": [],
   "execution_count": 11
  },
  {
   "metadata": {},
   "cell_type": "markdown",
   "source": [
    "We can use four methods of ``StateTraceStack``: ``get_read_states``, ``get_read_state_values``, ``get_write_states``, and ``get_write_state_values`` to retrieve the ``State`` objects used in the program. This allows us to better track the ``State`` objects used in the program, facilitating centralized management of these ``State`` objects.\n",
    "\n",
    "First, the ``get_read_states`` method returns the State objects that are read during program execution:"
   ],
   "id": "93f47f34ffb76a62"
  },
  {
   "metadata": {
    "ExecuteTime": {
     "end_time": "2024-11-22T03:31:38.235747Z",
     "start_time": "2024-11-22T03:31:38.233007Z"
    }
   },
   "cell_type": "code",
   "source": "states_to_be_read",
   "id": "fb38926d3d364535",
   "outputs": [
    {
     "data": {
      "text/plain": [
       "[ParamState(\n",
       "   value=Array([[0.9668573 , 0.1006695 , 0.9782733 , 0.27754605, 0.80369806],\n",
       "          [0.7398459 , 0.9566997 , 0.7566273 , 0.67029047, 0.99584246]],      dtype=float32)\n",
       " ),\n",
       " ParamState(\n",
       "   value=Array([0., 0., 0., 0., 0.], dtype=float32)\n",
       " )]"
      ]
     },
     "execution_count": 12,
     "metadata": {},
     "output_type": "execute_result"
    }
   ],
   "execution_count": 12
  },
  {
   "metadata": {},
   "cell_type": "markdown",
   "source": "Next, the ``get_read_state_values`` method returns the ``values`` stored in the ``State`` objects that were read during program execution:",
   "id": "4c067cf96070b1df"
  },
  {
   "metadata": {
    "ExecuteTime": {
     "end_time": "2024-11-22T03:31:38.238983Z",
     "start_time": "2024-11-22T03:31:38.236578Z"
    }
   },
   "cell_type": "code",
   "source": "states_values_to_be_read",
   "id": "94edd9f967f2e750",
   "outputs": [
    {
     "data": {
      "text/plain": [
       "[Array([[0.9668573 , 0.1006695 , 0.9782733 , 0.27754605, 0.80369806],\n",
       "        [0.7398459 , 0.9566997 , 0.7566273 , 0.67029047, 0.99584246]],      dtype=float32),\n",
       " Array([0., 0., 0., 0., 0.], dtype=float32)]"
      ]
     },
     "execution_count": 13,
     "metadata": {},
     "output_type": "execute_result"
    }
   ],
   "execution_count": 13
  },
  {
   "metadata": {},
   "cell_type": "markdown",
   "source": "The ``get_write_states`` method returns the ``State`` objects that were written to during program execution:",
   "id": "80b614592563bc21"
  },
  {
   "metadata": {
    "ExecuteTime": {
     "end_time": "2024-11-22T03:31:38.243895Z",
     "start_time": "2024-11-22T03:31:38.241276Z"
    }
   },
   "cell_type": "code",
   "source": "states_to_be_written",
   "id": "7bc150b0c2937665",
   "outputs": [
    {
     "data": {
      "text/plain": [
       "[RandomState([2432438218  117352541]),\n",
       " HiddenState(\n",
       "   value=Array([1.0690502, 0.3903293, 1.0842247, 0.452125 , 1.0094457], dtype=float32)\n",
       " )]"
      ]
     },
     "execution_count": 14,
     "metadata": {},
     "output_type": "execute_result"
    }
   ],
   "execution_count": 14
  },
  {
   "metadata": {},
   "cell_type": "markdown",
   "source": "The ``get_write_state_values`` method returns the values stored in the ``State`` objects that were written to during program execution:",
   "id": "9ab51d5aed3f6dfc"
  },
  {
   "metadata": {
    "ExecuteTime": {
     "end_time": "2024-11-22T03:31:38.247165Z",
     "start_time": "2024-11-22T03:31:38.244815Z"
    }
   },
   "cell_type": "code",
   "source": "states_values_to_be_written",
   "id": "72286fdbc886337a",
   "outputs": [
    {
     "data": {
      "text/plain": [
       "[Array([2432438218,  117352541], dtype=uint32),\n",
       " Array([1.0690502, 0.3903293, 1.0842247, 0.452125 , 1.0094457], dtype=float32)]"
      ]
     },
     "execution_count": 15,
     "metadata": {},
     "output_type": "execute_result"
    }
   ],
   "execution_count": 15
  }
 ],
 "metadata": {
  "kernelspec": {
   "display_name": "Python 3",
   "language": "python",
   "name": "python3"
  },
  "language_info": {
   "codemirror_mode": {
    "name": "ipython",
    "version": 2
   },
   "file_extension": ".py",
   "mimetype": "text/x-python",
   "name": "python",
   "nbconvert_exporter": "python",
   "pygments_lexer": "ipython2",
   "version": "2.7.6"
  }
 },
 "nbformat": 4,
 "nbformat_minor": 5
}
