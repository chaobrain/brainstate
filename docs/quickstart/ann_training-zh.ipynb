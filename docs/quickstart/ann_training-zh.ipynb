{
 "cells": [
  {
   "cell_type": "markdown",
   "id": "3e91a13480dd82aa",
   "metadata": {
    "collapsed": false
   },
   "source": [
    "# 训练人工神经网络"
   ]
  },
  {
   "cell_type": "markdown",
   "id": "98b8e8f3",
   "metadata": {},
   "source": [
    "近年来，人工神经网络蓬勃发展，在神经科学研究中也扮演重要角色。brainstate作为面向脑动力学建模的高性能计算框架，也支持人工神经网络训练，便于神经动力学模型和人工神经网络的对接。"
   ]
  },
  {
   "cell_type": "code",
   "execution_count": 1,
   "id": "6d512371",
   "metadata": {},
   "outputs": [
    {
     "name": "stderr",
     "output_type": "stream",
     "text": [
      "An NVIDIA GPU may be present on this machine, but a CUDA-enabled jaxlib is not installed. Falling back to cpu.\n",
      "/home/lyumuyang/miniconda3/envs/py311/lib/python3.11/site-packages/tqdm/auto.py:21: TqdmWarning: IProgress not found. Please update jupyter and ipywidgets. See https://ipywidgets.readthedocs.io/en/stable/user_install.html\n",
      "  from .autonotebook import tqdm as notebook_tqdm\n"
     ]
    }
   ],
   "source": [
    "import jax\n",
    "import jax.numpy as jnp\n",
    "import matplotlib.pyplot as plt\n",
    "import numpy as np\n",
    "import optax\n",
    "\n",
    "import brainstate as bst"
   ]
  },
  {
   "cell_type": "code",
   "execution_count": 2,
   "id": "fd228991",
   "metadata": {},
   "outputs": [
    {
     "data": {
      "text/plain": [
       "'0.1.0'"
      ]
     },
     "execution_count": 2,
     "metadata": {},
     "output_type": "execute_result"
    }
   ],
   "source": [
    "bst.__version__"
   ]
  },
  {
   "cell_type": "markdown",
   "id": "9889df14",
   "metadata": {},
   "source": [
    "## 准备数据集"
   ]
  },
  {
   "cell_type": "code",
   "execution_count": 3,
   "id": "01e96ac0",
   "metadata": {},
   "outputs": [],
   "source": [
    "X = np.linspace(0, 1, 100)[:, None]\n",
    "Y = 0.8 * X ** 2 + 0.1 + np.random.normal(0, 0.1, size=X.shape)"
   ]
  },
  {
   "cell_type": "code",
   "execution_count": 4,
   "id": "4815c6f3",
   "metadata": {},
   "outputs": [],
   "source": [
    "def dataset(batch_size):\n",
    "  while True:\n",
    "    idx = np.random.choice(len(X), size=batch_size)\n",
    "    yield X[idx], Y[idx]"
   ]
  },
  {
   "cell_type": "markdown",
   "id": "8ba1b50a",
   "metadata": {},
   "source": [
    "## 人工神经网络模块类的定义\n",
    "在定义人工神经网络模块时，模块需要继承基类 ``brainstate.nn.Module``。\n",
    "\n",
    "模型中所有需要改变的量都需封装在 ``State`` 对象中。其中，需要在训练中更新的模型参数需封装在``ParamState``（是``State`` 的子类）对象中。\n",
    "\n",
    "定义人工神经网络类，需要在类方法``__init__()``中定义网络中的层（注意要首先初始化基类``super().__init__()``）；需要在类方法``__call__()``中定义网络前向传播的方法。"
   ]
  },
  {
   "cell_type": "code",
   "execution_count": 5,
   "id": "cea8b5d5",
   "metadata": {},
   "outputs": [],
   "source": [
    "class Linear(bst.nn.Module):\n",
    "  def __init__(self, din: int, dout: int):\n",
    "    super().__init__()\n",
    "    self.w = bst.ParamState(bst.random.rand(din, dout))\n",
    "    self.b = bst.ParamState(jnp.zeros((dout,)))\n",
    "\n",
    "  def __call__(self, x):\n",
    "    return x @ self.w.value + self.b.value"
   ]
  },
  {
   "cell_type": "code",
   "execution_count": 6,
   "id": "8e541917",
   "metadata": {},
   "outputs": [],
   "source": [
    "class Count(bst.State):\n",
    "  pass"
   ]
  },
  {
   "cell_type": "code",
   "execution_count": 7,
   "id": "f9445bd8",
   "metadata": {},
   "outputs": [],
   "source": [
    "class MLP(bst.nn.Module):\n",
    "  def __init__(self, din, dhidden, dout):\n",
    "    super().__init__()\n",
    "    self.count = Count(jnp.array(0))\n",
    "    self.linear1 = Linear(din, dhidden)\n",
    "    self.linear2 = Linear(dhidden, dout)\n",
    "\n",
    "  def __call__(self, x):\n",
    "    self.count.value += 1\n",
    "    x = self.linear1(x)\n",
    "    x = jax.nn.relu(x)\n",
    "    x = self.linear2(x)\n",
    "    return x"
   ]
  },
  {
   "cell_type": "code",
   "execution_count": 8,
   "id": "97aefeaa",
   "metadata": {},
   "outputs": [],
   "source": [
    "model = MLP(din=1, dhidden=32, dout=1)"
   ]
  },
  {
   "cell_type": "markdown",
   "id": "d7edf945",
   "metadata": {},
   "source": [
    "## 优化器设置\n",
    "``brainstate.optim``提供了各种各样的优化器可供选择。\n",
    "\n",
    "优化器实例化时，需要传入模型中计划使用此优化器更新的``State``实例。\n",
    "\n",
    "此处用``brainstate.nn.Module.states()``收集了该模型中所有网络节点和子节点的``State``，并且限制了所收集``State``的类型为``brainstate.ParamState``（在此例的模型中，``State``实例还有``Count``类，而这并非是需要此优化器更新的，因此需要加以类型限制）。"
   ]
  },
  {
   "cell_type": "code",
   "execution_count": 9,
   "id": "e8dd079f",
   "metadata": {},
   "outputs": [],
   "source": [
    "optimizer = bst.optim.OptaxOptimizer(model.states(bst.ParamState), optax.sgd(1e-3))"
   ]
  },
  {
   "cell_type": "markdown",
   "id": "0bbbfad2",
   "metadata": {},
   "source": [
    "## 模型训练\n",
    "模型训练时，使用``brainstate.augment.grad``函数来计算梯度，需要传入损失函数和需计算梯度的参数``State``。\n",
    "\n",
    "然后将梯度通过``update()``传给先前定义好的优化器，进行更新。\n",
    "\n",
    "使用``brainstate.compile.jit``函数装饰单步训练函数，使之可以即时编译，提高计算效率和性能。"
   ]
  },
  {
   "cell_type": "code",
   "execution_count": 10,
   "id": "99272b18",
   "metadata": {},
   "outputs": [],
   "source": [
    "@bst.compile.jit\n",
    "def train_step(batch):\n",
    "  x, y = batch\n",
    "\n",
    "  def loss_fn():\n",
    "    return jnp.mean((y - model(x)) ** 2)\n",
    "\n",
    "  grads = bst.augment.grad(loss_fn, model.states(bst.ParamState))()\n",
    "  optimizer.update(grads)"
   ]
  },
  {
   "cell_type": "markdown",
   "id": "e8c2dfe0",
   "metadata": {},
   "source": [
    "## 模型测试\n",
    "使用``brainstate.compile.jit``函数装饰单步测试函数，使之可以即时编译，提高计算效率和性能。"
   ]
  },
  {
   "cell_type": "code",
   "execution_count": 11,
   "id": "7456afa1",
   "metadata": {},
   "outputs": [],
   "source": [
    "@bst.compile.jit\n",
    "def test_step(batch):\n",
    "  x, y = batch\n",
    "  y_pred = model(x)\n",
    "  loss = jnp.mean((y - y_pred) ** 2)\n",
    "  return {'loss': loss}"
   ]
  },
  {
   "cell_type": "markdown",
   "id": "a550e569",
   "metadata": {},
   "source": [
    "## 训练进行"
   ]
  },
  {
   "cell_type": "code",
   "execution_count": 12,
   "id": "eae5f682",
   "metadata": {},
   "outputs": [
    {
     "name": "stdout",
     "output_type": "stream",
     "text": [
      "step: 0, loss: 29.513227462768555\n",
      "step: 1000, loss: 0.08835460245609283\n",
      "step: 2000, loss: 0.027202898636460304\n",
      "step: 3000, loss: 0.015465355478227139\n",
      "step: 4000, loss: 0.012763087637722492\n",
      "step: 5000, loss: 0.01192516554147005\n",
      "step: 6000, loss: 0.011579394340515137\n",
      "step: 7000, loss: 0.011381025426089764\n",
      "step: 8000, loss: 0.01126654352992773\n",
      "step: 9000, loss: 0.011209072545170784\n",
      "times called: 10010\n"
     ]
    }
   ],
   "source": [
    "total_steps = 10_000\n",
    "for step, batch in enumerate(dataset(32)):\n",
    "  train_step(batch)\n",
    "\n",
    "  if step % 1000 == 0:\n",
    "    logs = test_step((X, Y))\n",
    "    print(f\"step: {step}, loss: {logs['loss']}\")\n",
    "\n",
    "  if step >= total_steps - 1:\n",
    "    break\n",
    "\n",
    "print('times called:', model.count.value)\n",
    "\n",
    "y_pred = model(X)"
   ]
  },
  {
   "cell_type": "markdown",
   "id": "190a94fc",
   "metadata": {},
   "source": [
    "## 可视化"
   ]
  },
  {
   "cell_type": "code",
   "execution_count": 13,
   "id": "6eb79981",
   "metadata": {},
   "outputs": [
    {
     "data": {
      "image/png": "[encoded data removed]",
      "text/plain": [
       "<Figure size 640x480 with 1 Axes>"
      ]
     },
     "metadata": {},
     "output_type": "display_data"
    }
   ],
   "source": [
    "plt.scatter(X, Y, color='blue')\n",
    "plt.plot(X, y_pred, color='black')\n",
    "plt.show()"
   ]
  }
 ],
 "metadata": {
  "kernelspec": {
   "display_name": "Python 3",
   "language": "python",
   "name": "python3"
  },
  "language_info": {
   "codemirror_mode": {
    "name": "ipython",
    "version": 3
   },
   "file_extension": ".py",
   "mimetype": "text/x-python",
   "name": "python",
   "nbconvert_exporter": "python",
   "pygments_lexer": "ipython3",
   "version": "3.11.10"
  }
 },
 "nbformat": 4,
 "nbformat_minor": 5
}
