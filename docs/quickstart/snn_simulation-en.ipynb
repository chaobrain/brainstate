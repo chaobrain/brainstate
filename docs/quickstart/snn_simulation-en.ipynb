{
 "cells": [
  {
   "cell_type": "markdown",
   "source": [
    "# Simulating Spiking Neural Networks"
   ],
   "metadata": {
    "collapsed": false
   },
   "id": "b78f6e1b6cb0dada"
  }
 ],
 "metadata": {
  "kernelspec": {
   "display_name": "Python 3",
   "language": "python",
   "name": "python3"
  },
  "language_info": {
   "codemirror_mode": {
    "name": "ipython",
    "version": 2
   },
   "file_extension": ".py",
   "mimetype": "text/x-python",
   "name": "python",
   "nbconvert_exporter": "python",
   "pygments_lexer": "ipython2",
   "version": "2.7.6"
  }
 },
 "nbformat": 4,
 "nbformat_minor": 5
}
