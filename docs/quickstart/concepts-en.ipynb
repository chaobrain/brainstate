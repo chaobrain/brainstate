{
 "cells": [
  {
   "cell_type": "markdown",
   "source": [
    "# Key Concepts\n",
    "\n",
    "This section provides a brief introduction to some of the key concepts of the ``BrainState`` framework."
   ],
   "metadata": {
    "collapsed": false
   },
   "id": "2880d52052c4a9d4"
  },
  {
   "cell_type": "markdown",
   "source": [
    "``BrainState`` is a high-performance computing framework dedicated to brain dynamics modelling, built on top of [JAX](https://github.com/jax-ml/jax). It provides neuroscience researchers, computational neuroscientists, and brain-like computing partitioner with a complete toolchain for building, optimising, and deploying neural network models of all kinds. It integrates modern hardware acceleration, automatic differentiation, event-driven computation, and other advanced features designed for neural networks, especially Spiking Neural Networks (SNNs). The following tutorials will introduce its core features and usage scenarios to help you get started and understand how to build and optimise brain dynamics models with BrainState. "
   ],
   "metadata": {
    "collapsed": false
   },
   "id": "3d60555bec9e4eab"
  },
  {
   "cell_type": "markdown",
   "source": [],
   "metadata": {
    "collapsed": false
   },
   "id": "f1a8630b34c771ae"
  }
 ],
 "metadata": {
  "kernelspec": {
   "display_name": "Python 3",
   "language": "python",
   "name": "python3"
  },
  "language_info": {
   "codemirror_mode": {
    "name": "ipython",
    "version": 2
   },
   "file_extension": ".py",
   "mimetype": "text/x-python",
   "name": "python",
   "nbconvert_exporter": "python",
   "pygments_lexer": "ipython2",
   "version": "2.7.6"
  }
 },
 "nbformat": 4,
 "nbformat_minor": 5
}
