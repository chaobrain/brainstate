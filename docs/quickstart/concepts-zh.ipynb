{
 "cells": [
  {
   "cell_type": "markdown",
   "source": [
    "# 关键概念\n",
    "\n",
    "欢迎来到``brainstate``的世界！\n",
    "\n",
    "本节简要介绍了 ``BrainState`` 框架的一些关键概念。"
   ],
   "metadata": {
    "collapsed": false
   },
   "id": "20446b507b9c681b"
  },
  {
   "cell_type": "markdown",
   "source": [
    "``BrainState`` 是一个专门面向脑动力学建模的高性能计算框架，基于[JAX](https://github.com/jax-ml/jax) 构建。它为神经科学研究人员、计算神经科学工作者、以及类脑计算研究者提供了一套完整的工具链，用于构建、优化和部署各类神经网络模型。它整合了现代硬件加速、自动微分、事件驱动计算等先进特性，专为神经网络尤其是脉冲神经网络（Spiking Neural Networks, SNN）设计。以下教程将详细介绍其核心功能及其使用场景，帮助您快速上手并理解如何使用 BrainState 构建和优化脑动力学模型。\n"
   ],
   "metadata": {
    "collapsed": false
   },
   "id": "cb43866b836a8b8a"
  },
  {
   "cell_type": "code",
   "source": [
    "import jax.numpy as jnp\n",
    "\n",
    "import brainstate"
   ],
   "metadata": {
    "collapsed": false,
    "ExecuteTime": {
     "end_time": "2025-05-11T02:47:17.528300Z",
     "start_time": "2025-05-11T02:47:17.514017Z"
    }
   },
   "id": "fa2449916dde0242",
   "outputs": [],
   "execution_count": 17
  },
  {
   "cell_type": "markdown",
   "source": [
    "## 核心功能概览\n",
    "\n",
    "``BrainState`` 的主要功能包括以下几个部分：\n",
    "\n",
    "- **程序编译**： 支持通过 [State](../apis/brainstate.rst) 语法进行程序[编译](../apis/compile.rst)，可在 CPU、GPU、TPU 等不同硬件设备上部署计算模型。\n",
    "- **程序功能增强**： 提供 [PyGraph](../apis/graph.rst) 语法的[增强](../apis/augment.rst)功能，通过自动微分、批处理等机制简化构建复杂计算模型的过程。\n",
    "- **事件驱动计算**： 支持基于 [事件驱动计算](../apis/event.rst) 的算子优化，大幅提升脉冲神经网络的效率和可扩展性。\n",
    "- **其它附加功能**： 包括随机数生成、梯度代理、模型参数管理等多个便捷的辅助工具，方便用户进行模型搭建。\n",
    "\n",
    "接下来，我们将逐项深入探讨这些功能的使用方法和优化策略。"
   ],
   "metadata": {
    "collapsed": false
   },
   "id": "658543214f8e7a1"
  },
  {
   "cell_type": "markdown",
   "source": [
    "## 1. ``State`` 语法\n",
    "\n",
    "JAX 的程序编写方式通常是通过函数式编程实现，但对于脑动力学模型等复杂计算任务，这种方式可能显得不够直观。``BrainState`` 提供了 ``State`` 语法，一种高度抽象的接口，帮助用户更直观地定义和管理计算状态。``State`` 语法的核心特性包括：\n",
    "\n",
    "- 所有需要改变的量都被封装在 ``State`` 对象中，方便用户追踪和调试模型状态。\n",
    "- 其它没有被 ``State`` 封装的变量都是不可变的，在程序编译后不能再被修改。brainstate中提供的编译函数可以在[``brainstate.compile`` 模块](../apis/compile.rst)中查看。\n",
    "\n",
    "这意味着，在BrainState中，所有需要改变的变量都应该被封装在 ``State`` 对象中，以确保程序的正确性和可维护性。"
   ],
   "metadata": {
    "collapsed": false
   },
   "id": "ba49135ccc0f2636"
  },
  {
   "cell_type": "markdown",
   "source": [
    "``State`` 可以有不同的子类，比如，在brainstate中，``ParamState`` 是 ``State`` 的一个子类，用于封装模型参数；``RandomState`` 是 ``State`` 的另一个子类，用于封装随机数生成器的状态。用户可以轻松扩展自己的 ``State`` 子类，以满足不同的需求。比如："
   ],
   "metadata": {
    "collapsed": false
   },
   "id": "9dabe76a0f2d13f5"
  },
  {
   "cell_type": "code",
   "source": [
    "class Counter(brainstate.State):\n",
    "    pass"
   ],
   "metadata": {
    "collapsed": false,
    "ExecuteTime": {
     "end_time": "2025-05-11T02:47:17.575679Z",
     "start_time": "2025-05-11T02:47:17.561236Z"
    }
   },
   "id": "21d22fe7a277b359",
   "outputs": [],
   "execution_count": 18
  },
  {
   "cell_type": "markdown",
   "source": [
    "在上面的例子中，通过继承 ``State`` 类，我们定义了一个 ``Counter`` 类，它可以用于封装计数器的状态。这种方式使得用户可以更灵活地定义和管理模型的状态，提高了代码的可读性和可维护性。"
   ],
   "metadata": {
    "collapsed": false
   },
   "id": "94d300dc86bd7057"
  },
  {
   "cell_type": "markdown",
   "source": [
    "``State`` 可以wrap任意的Python数据，比如整数、浮点数、数组、``jax.Array``等，以及封装在字典或者数组中的上述任意Python数据。用户可以通过 ``State.value`` 属性来访问和修改这些数据。比如："
   ],
   "metadata": {
    "collapsed": false
   },
   "id": "195891cca5a74d74"
  },
  {
   "cell_type": "code",
   "source": [
    "example = brainstate.State(jnp.ones(3))\n",
    "\n",
    "example"
   ],
   "metadata": {
    "collapsed": false,
    "ExecuteTime": {
     "end_time": "2025-05-11T02:47:17.622600Z",
     "start_time": "2025-05-11T02:47:17.609982Z"
    }
   },
   "id": "6ab51f0fa8600046",
   "outputs": [
    {
     "data": {
      "text/plain": [
       "State(\n",
       "  value=ShapedArray(float32[3])\n",
       ")"
      ]
     },
     "execution_count": 19,
     "metadata": {},
     "output_type": "execute_result"
    }
   ],
   "execution_count": 19
  },
  {
   "cell_type": "code",
   "source": [
    "example.value = brainstate.random.random(3)\n",
    "\n",
    "example"
   ],
   "metadata": {
    "collapsed": false,
    "ExecuteTime": {
     "end_time": "2025-05-11T02:47:17.746513Z",
     "start_time": "2025-05-11T02:47:17.732218Z"
    }
   },
   "id": "ce7d5018f4c2b9f5",
   "outputs": [
    {
     "data": {
      "text/plain": [
       "State(\n",
       "  value=ShapedArray(float32[3])\n",
       ")"
      ]
     },
     "execution_count": 20,
     "metadata": {},
     "output_type": "execute_result"
    }
   ],
   "execution_count": 20
  },
  {
   "cell_type": "markdown",
   "source": [
    "``State`` 支持任意 [PyTree](https://jax.readthedocs.io/en/latest/working-with-pytrees.html)，这意味着用户可以将任意的数据结构封装在 ``State`` 对象中，方便地进行状态管理和计算。"
   ],
   "metadata": {
    "collapsed": false
   },
   "id": "7687449b610b2af5"
  },
  {
   "cell_type": "code",
   "source": [
    "example2 = brainstate.State({'a': jnp.ones(3), 'b': jnp.zeros(4)})\n",
    "\n",
    "example2"
   ],
   "metadata": {
    "collapsed": false,
    "ExecuteTime": {
     "end_time": "2025-05-11T02:47:17.842157Z",
     "start_time": "2025-05-11T02:47:17.829743Z"
    }
   },
   "id": "3ffabca9f186b50b",
   "outputs": [
    {
     "data": {
      "text/plain": [
       "State(\n",
       "  value={\n",
       "    'a': ShapedArray(float32[3]),\n",
       "    'b': ShapedArray(float32[4])\n",
       "  }\n",
       ")"
      ]
     },
     "execution_count": 21,
     "metadata": {},
     "output_type": "execute_result"
    }
   ],
   "execution_count": 21
  },
  {
   "cell_type": "markdown",
   "source": [
    "## 2. ``PyGraph`` 语法\n",
    "\n",
    "在 JAX 中，pytree（Python tree）是一种通用的数据结构，用于灵活地表示嵌套的、树状的 Python 容器。它可以包含诸如列表、元组、字典等多种容器，同时还能够嵌套不同类型的数据结构，如 NumPy 数组、JAX 数组或自定义对象。这种灵活性使得 pytree 在数据处理和模型构建中非常有用，但在科学计算的复杂场景下，它的表达能力可能受到限制。\n",
    "\n",
    "在许多科学计算中，我们常常需要定义复杂的计算图，这些图可能包括循环引用、嵌套结构以及动态生成的计算流程，而这些情况是 pytree 结构所难以表达的。为了应对这一挑战，``brainstate`` 提供了 ``PyGraph`` 数据结构，它为用户提供了一种更直观和灵活的方式来定义和操作 Python 中各种模块化对象交织的复杂计算模型。\n",
    "\n",
    "``PyGraph`` 的设计来自于 Flax 的 [nnx模块](https://flax.readthedocs.io/)，并在此基础上进行了扩展和优化，使其适用于 ``brainstate`` 的``State``索引、管理和操作。``PyGraph`` 由 ``brainstate.graph.Node`` 作为基础子节点构成，这些节点可以形成有向无环图（DAG），支持节点之间的循环引用，使得构建复杂计算流程变得更加自然。\n",
    "\n",
    "以下是一个简单的代码示例。"
   ],
   "metadata": {
    "collapsed": false
   },
   "id": "2d7ac708b49565a7"
  },
  {
   "cell_type": "code",
   "source": [
    "class Linear(brainstate.graph.Node):\n",
    "    def __init__(self, din: int, dout: int):\n",
    "        self.din, self.dout = din, dout\n",
    "        self.w = brainstate.ParamState(brainstate.random.rand(din, dout))\n",
    "        self.b = brainstate.ParamState(jnp.zeros((dout,)))\n",
    "\n",
    "    def __call__(self, x):\n",
    "        return x @ self.w.value + self.b.value"
   ],
   "metadata": {
    "collapsed": false,
    "ExecuteTime": {
     "end_time": "2025-05-11T02:47:17.968117Z",
     "start_time": "2025-05-11T02:47:17.959093Z"
    }
   },
   "id": "7fdb9a9bf4df7716",
   "outputs": [],
   "execution_count": 22
  },
  {
   "cell_type": "code",
   "source": [
    "model = Linear(2, 5)\n",
    "\n",
    "model"
   ],
   "metadata": {
    "collapsed": false,
    "ExecuteTime": {
     "end_time": "2025-05-11T02:47:18.061137Z",
     "start_time": "2025-05-11T02:47:18.046356Z"
    }
   },
   "id": "e52915d18ccbae88",
   "outputs": [
    {
     "data": {
      "text/plain": [
       "Linear(\n",
       "  din=2,\n",
       "  dout=5,\n",
       "  w=ParamState(\n",
       "    value=ShapedArray(float32[2,5])\n",
       "  ),\n",
       "  b=ParamState(\n",
       "    value=ShapedArray(float32[5])\n",
       "  )\n",
       ")"
      ]
     },
     "execution_count": 23,
     "metadata": {},
     "output_type": "execute_result"
    }
   ],
   "execution_count": 23
  },
  {
   "cell_type": "markdown",
   "source": [
    "我们可以在模型中添加一个自引用形成循环图。即便如此，PyGraph 依然能正确处理这一自引用。"
   ],
   "metadata": {
    "collapsed": false
   },
   "id": "969ba6491ecc848c"
  },
  {
   "cell_type": "code",
   "source": [
    "model.self = model\n",
    "\n",
    "model"
   ],
   "metadata": {
    "collapsed": false,
    "ExecuteTime": {
     "end_time": "2025-05-11T02:47:18.124763Z",
     "start_time": "2025-05-11T02:47:18.113085Z"
    }
   },
   "id": "dfe262f29d709da9",
   "outputs": [
    {
     "data": {
      "text/plain": [
       "Linear(\n",
       "  din=2,\n",
       "  dout=5,\n",
       "  w=ParamState(\n",
       "    value=ShapedArray(float32[2,5])\n",
       "  ),\n",
       "  b=ParamState(\n",
       "    value=ShapedArray(float32[5])\n",
       "  ),\n",
       "  self=Linear(...)\n",
       ")"
      ]
     },
     "execution_count": 24,
     "metadata": {},
     "output_type": "execute_result"
    }
   ],
   "execution_count": 24
  },
  {
   "cell_type": "markdown",
   "source": [
    "``brainstate.graph.Node``可以在嵌套结构中自由组合，包括任何（嵌套）pytree 类型，例如list、dict、tuple等等。以下是一个MLP的程序示例。"
   ],
   "metadata": {
    "collapsed": false
   },
   "id": "ed105b893e9a2e12"
  },
  {
   "cell_type": "code",
   "source": [
    "class MLP(brainstate.graph.Node):\n",
    "    def __init__(self, din: int, dmid: int, dout: int, n_layer: int = 3):\n",
    "        self.input = brainstate.nn.Linear(din, dmid)\n",
    "        self.layers = [brainstate.nn.Linear(dmid, dmid) for _ in range(n_layer)]\n",
    "        self.output = brainstate.nn.Linear(dmid, dout)\n",
    "\n",
    "    def __call__(self, x):\n",
    "        x = brainstate.functional.relu(self.input(x))\n",
    "        for layer in self.layers:\n",
    "            x = brainstate.functional.relu(layer(x))\n",
    "        return self.output(x)\n",
    "\n",
    "\n",
    "model = MLP(2, 1, 3)\n",
    "\n",
    "model"
   ],
   "metadata": {
    "collapsed": false,
    "ExecuteTime": {
     "end_time": "2025-05-11T02:47:18.305020Z",
     "start_time": "2025-05-11T02:47:18.219742Z"
    }
   },
   "id": "2bff1f4d81602551",
   "outputs": [
    {
     "data": {
      "text/plain": [
       "MLP(\n",
       "  input=Linear(\n",
       "    in_size=(2,),\n",
       "    out_size=(1,),\n",
       "    w_mask=None,\n",
       "    weight=ParamState(\n",
       "      value={\n",
       "        'bias': ShapedArray(float32[1]),\n",
       "        'weight': ShapedArray(float32[2,1])\n",
       "      }\n",
       "    )\n",
       "  ),\n",
       "  layers=[\n",
       "    Linear(\n",
       "      in_size=(1,),\n",
       "      out_size=(1,),\n",
       "      w_mask=None,\n",
       "      weight=ParamState(\n",
       "        value={\n",
       "          'bias': ShapedArray(float32[1]),\n",
       "          'weight': ShapedArray(float32[1,1])\n",
       "        }\n",
       "      )\n",
       "    ),\n",
       "    Linear(\n",
       "      in_size=(1,),\n",
       "      out_size=(1,),\n",
       "      w_mask=None,\n",
       "      weight=ParamState(\n",
       "        value={\n",
       "          'bias': ShapedArray(float32[1]),\n",
       "          'weight': ShapedArray(float32[1,1])\n",
       "        }\n",
       "      )\n",
       "    ),\n",
       "    Linear(\n",
       "      in_size=(1,),\n",
       "      out_size=(1,),\n",
       "      w_mask=None,\n",
       "      weight=ParamState(\n",
       "        value={\n",
       "          'bias': ShapedArray(float32[1]),\n",
       "          'weight': ShapedArray(float32[1,1])\n",
       "        }\n",
       "      )\n",
       "    )\n",
       "  ],\n",
       "  output=Linear(\n",
       "    in_size=(1,),\n",
       "    out_size=(3,),\n",
       "    w_mask=None,\n",
       "    weight=ParamState(\n",
       "      value={\n",
       "        'bias': ShapedArray(float32[3]),\n",
       "        'weight': ShapedArray(float32[1,3])\n",
       "      }\n",
       "    )\n",
       "  )\n",
       ")"
      ]
     },
     "execution_count": 25,
     "metadata": {},
     "output_type": "execute_result"
    }
   ],
   "execution_count": 25
  },
  {
   "cell_type": "markdown",
   "source": [
    "``brainstate.graph`` 模块还提供了一系列强大的工具，用于构建和操作 ``PyGraph``，包括节点的创建、连接、计算、更新等功能。这些工具允许用户以模块化的方式构建计算图，轻松地管理计算流程，从而提升模型的可读性和可维护性。例如，用户可以通过简单的 API 来添加新节点、定义节点间的依赖关系、以及动态更新节点的状态。此外，``PyGraph`` 还支持对计算图的结构化表征，有助于用户直观理解计算流程的结构与运行机制。\n",
    "\n",
    "比如，``brainstate.graph.states`` 可以轻松获取模型中涵盖的所有``State``示例："
   ],
   "metadata": {
    "collapsed": false
   },
   "id": "a95c757f15b4ffc2"
  },
  {
   "cell_type": "code",
   "source": [
    "states = brainstate.graph.states(model)\n",
    "\n",
    "states"
   ],
   "metadata": {
    "collapsed": false,
    "ExecuteTime": {
     "end_time": "2025-05-11T02:47:18.351333Z",
     "start_time": "2025-05-11T02:47:18.338325Z"
    }
   },
   "id": "c9579ae9f7a2d384",
   "outputs": [
    {
     "data": {
      "text/plain": [
       "{\n",
       "  ('input', 'weight'): ParamState(\n",
       "    value={\n",
       "      'bias': ShapedArray(float32[1]),\n",
       "      'weight': ShapedArray(float32[2,1])\n",
       "    }\n",
       "  ),\n",
       "  ('layers', 0, 'weight'): ParamState(\n",
       "    value={\n",
       "      'bias': ShapedArray(float32[1]),\n",
       "      'weight': ShapedArray(float32[1,1])\n",
       "    }\n",
       "  ),\n",
       "  ('layers', 1, 'weight'): ParamState(\n",
       "    value={\n",
       "      'bias': ShapedArray(float32[1]),\n",
       "      'weight': ShapedArray(float32[1,1])\n",
       "    }\n",
       "  ),\n",
       "  ('layers', 2, 'weight'): ParamState(\n",
       "    value={\n",
       "      'bias': ShapedArray(float32[1]),\n",
       "      'weight': ShapedArray(float32[1,1])\n",
       "    }\n",
       "  ),\n",
       "  ('output', 'weight'): ParamState(\n",
       "    value={\n",
       "      'bias': ShapedArray(float32[3]),\n",
       "      'weight': ShapedArray(float32[1,3])\n",
       "    }\n",
       "  )\n",
       "}"
      ]
     },
     "execution_count": 26,
     "metadata": {},
     "output_type": "execute_result"
    }
   ],
   "execution_count": 26
  },
  {
   "cell_type": "code",
   "source": [
    "states.to_nest()"
   ],
   "metadata": {
    "collapsed": false,
    "ExecuteTime": {
     "end_time": "2025-05-11T02:47:18.437631Z",
     "start_time": "2025-05-11T02:47:18.427129Z"
    }
   },
   "id": "58bfb7edaaae3223",
   "outputs": [
    {
     "data": {
      "text/plain": [
       "{\n",
       "  'input': {\n",
       "    'weight': ParamState(\n",
       "      value={\n",
       "        'bias': ShapedArray(float32[1]),\n",
       "        'weight': ShapedArray(float32[2,1])\n",
       "      }\n",
       "    )\n",
       "  },\n",
       "  'layers': {\n",
       "    0: {\n",
       "      'weight': ParamState(\n",
       "        value={\n",
       "          'bias': ShapedArray(float32[1]),\n",
       "          'weight': ShapedArray(float32[1,1])\n",
       "        }\n",
       "      )\n",
       "    },\n",
       "    1: {\n",
       "      'weight': ParamState(\n",
       "        value={\n",
       "          'bias': ShapedArray(float32[1]),\n",
       "          'weight': ShapedArray(float32[1,1])\n",
       "        }\n",
       "      )\n",
       "    },\n",
       "    2: {\n",
       "      'weight': ParamState(\n",
       "        value={\n",
       "          'bias': ShapedArray(float32[1]),\n",
       "          'weight': ShapedArray(float32[1,1])\n",
       "        }\n",
       "      )\n",
       "    }\n",
       "  },\n",
       "  'output': {\n",
       "    'weight': ParamState(\n",
       "      value={\n",
       "        'bias': ShapedArray(float32[3]),\n",
       "        'weight': ShapedArray(float32[1,3])\n",
       "      }\n",
       "    )\n",
       "  }\n",
       "}"
      ]
     },
     "execution_count": 27,
     "metadata": {},
     "output_type": "execute_result"
    }
   ],
   "execution_count": 27
  },
  {
   "cell_type": "markdown",
   "source": [
    "比如，``brainstate.graph.nodes`` 可以轻松获取模型中涵盖的所有``Node``示例："
   ],
   "metadata": {
    "collapsed": false
   },
   "id": "1b410a10e0ca53e6"
  },
  {
   "cell_type": "code",
   "source": [
    "nodes = brainstate.graph.nodes(model)\n",
    "\n",
    "nodes"
   ],
   "metadata": {
    "collapsed": false,
    "ExecuteTime": {
     "end_time": "2025-05-11T02:47:18.534875Z",
     "start_time": "2025-05-11T02:47:18.521193Z"
    }
   },
   "id": "d5323bcb8f30c64b",
   "outputs": [
    {
     "data": {
      "text/plain": [
       "{\n",
       "  ('input',): Linear(\n",
       "    in_size=(2,),\n",
       "    out_size=(1,),\n",
       "    w_mask=None,\n",
       "    weight=ParamState(\n",
       "      value={\n",
       "        'bias': ShapedArray(float32[1]),\n",
       "        'weight': ShapedArray(float32[2,1])\n",
       "      }\n",
       "    )\n",
       "  ),\n",
       "  ('layers', 0): Linear(\n",
       "    in_size=(1,),\n",
       "    out_size=(1,),\n",
       "    w_mask=None,\n",
       "    weight=ParamState(\n",
       "      value={\n",
       "        'bias': ShapedArray(float32[1]),\n",
       "        'weight': ShapedArray(float32[1,1])\n",
       "      }\n",
       "    )\n",
       "  ),\n",
       "  ('layers', 1): Linear(\n",
       "    in_size=(1,),\n",
       "    out_size=(1,),\n",
       "    w_mask=None,\n",
       "    weight=ParamState(\n",
       "      value={\n",
       "        'bias': ShapedArray(float32[1]),\n",
       "        'weight': ShapedArray(float32[1,1])\n",
       "      }\n",
       "    )\n",
       "  ),\n",
       "  ('layers', 2): Linear(\n",
       "    in_size=(1,),\n",
       "    out_size=(1,),\n",
       "    w_mask=None,\n",
       "    weight=ParamState(\n",
       "      value={\n",
       "        'bias': ShapedArray(float32[1]),\n",
       "        'weight': ShapedArray(float32[1,1])\n",
       "      }\n",
       "    )\n",
       "  ),\n",
       "  ('output',): Linear(\n",
       "    in_size=(1,),\n",
       "    out_size=(3,),\n",
       "    w_mask=None,\n",
       "    weight=ParamState(\n",
       "      value={\n",
       "        'bias': ShapedArray(float32[3]),\n",
       "        'weight': ShapedArray(float32[1,3])\n",
       "      }\n",
       "    )\n",
       "  ),\n",
       "  (): MLP(\n",
       "    input=Linear(...),\n",
       "    layers=[\n",
       "      Linear(...),\n",
       "      Linear(...),\n",
       "      Linear(...)\n",
       "    ],\n",
       "    output=Linear(...)\n",
       "  )\n",
       "}"
      ]
     },
     "execution_count": 28,
     "metadata": {},
     "output_type": "execute_result"
    }
   ],
   "execution_count": 28
  },
  {
   "cell_type": "markdown",
   "source": [
    "总的来说，``PyGraph`` 语法为科学计算中的复杂模型提供了强有力的支持，使用户能够更高效地构建、管理和优化计算图，从而推动脑动力学建模的研究和应用。"
   ],
   "metadata": {
    "collapsed": false
   },
   "id": "f588516ac46b937b"
  },
  {
   "cell_type": "markdown",
   "source": [
    "## 3. 程序编译\n",
    "\n",
    "在高性能计算领域，硬件加速是提升计算效率的关键，而 ``BrainState`` 通过 ``State`` 语法实现了跨硬件的编译部署。``State`` 提供了一套高度抽象的接口，帮助用户编写一次代码便能生成程序中间表示（IR），并在不同硬件上进行编译和优化。\n",
    "\n",
    "``brainstate``中提供的编译支持主要集成在 [``brainstate.compile`` 模块](../apis/compile.rst) 中。这些编译APIs囊括了一系列语法功能，包括：\n",
    "\n",
    "- 条件语句： 支持 if-else 逻辑，方便用户根据不同条件执行不同的计算流程。\n",
    "- 循环语句： 支持 for 循环，方便用户重复执行相同的计算操作。\n",
    "- while 语句： 支持 while 循环，方便用户根据条件重复执行计算操作。\n",
    "- 即时编译： 支持 JIT 即时编译，提高计算效率和性能。\n",
    "\n",
    "brainstate编译的一大特色是，它只对``State``感知：在程序运行过程中，只要遇到一个``State``实例，就会将其编译进计算图，然后在不同硬件上运行。这种编译方式使得用户能够任意定义复杂的程序，而编译器会根据程序的实际运行分支进行针对性的优化，以此极大提高计算效率。同时，只对``State``感知的编译模式还使得用户能够更灵活地表达程序逻辑，而不用在意``PyGraph``、``PyTree``等概念的限制，从而彻底释放编程的灵活性。\n",
    "\n",
    "以下是一个简单的编译示例："
   ],
   "metadata": {
    "collapsed": false
   },
   "id": "aa2d0da774f3bfbd"
  },
  {
   "cell_type": "code",
   "source": [
    "a = brainstate.State(1.)\n",
    "\n",
    "\n",
    "def add(i):\n",
    "    a.value += 1.\n",
    "\n",
    "\n",
    "brainstate.compile.for_loop(add, jnp.arange(10))\n",
    "\n",
    "print(a.value)"
   ],
   "metadata": {
    "collapsed": false,
    "ExecuteTime": {
     "end_time": "2025-05-11T02:47:18.608010Z",
     "start_time": "2025-05-11T02:47:18.572887Z"
    }
   },
   "id": "1c4dc5d218bf015c",
   "outputs": [
    {
     "name": "stdout",
     "output_type": "stream",
     "text": [
      "11.0\n"
     ]
    }
   ],
   "execution_count": 29
  },
  {
   "cell_type": "markdown",
   "source": [
    "在这个例子中，我们定义了一个简单的 for 循环，每次循环都会将 a 的值加 1。通过调用 bst.compile.for_loop 函数，我们将这个循环编译成计算图，并在 JAX 上运行。"
   ],
   "metadata": {
    "collapsed": false
   },
   "id": "6775b68fa9bebfc8"
  },
  {
   "cell_type": "markdown",
   "source": [
    "brainstate编译的另一个特色是，它能嵌套地调用无论是JAX提供的函数式的编译函数还是brainstate内置的State感知的编译函数。中间步骤生成或利用的State变量将只会是局部变量，在整个程序中将被优化掉。这种特性使得程序内存占用更小，运行速度更快。\n",
    "\n",
    "以下是一个简单的编译示例："
   ],
   "metadata": {
    "collapsed": false
   },
   "id": "aab15cb6b874dd4b"
  },
  {
   "cell_type": "code",
   "source": [
    "b = brainstate.State(0.)\n",
    "\n",
    "\n",
    "def add(i):\n",
    "    c = brainstate.State(0.)\n",
    "\n",
    "    def cond(j):\n",
    "        return j <= i\n",
    "\n",
    "    def body(j):\n",
    "        c.value += 1.\n",
    "        return j + 1\n",
    "\n",
    "    brainstate.compile.while_loop(cond, body, 0.)\n",
    "\n",
    "    b.value += c.value\n",
    "\n",
    "\n",
    "brainstate.compile.for_loop(add, jnp.arange(10))\n",
    "\n",
    "print(b.value)"
   ],
   "metadata": {
    "collapsed": false,
    "ExecuteTime": {
     "end_time": "2025-05-11T02:47:18.689815Z",
     "start_time": "2025-05-11T02:47:18.649286Z"
    }
   },
   "id": "18219752d0b214a8",
   "outputs": [
    {
     "name": "stdout",
     "output_type": "stream",
     "text": [
      "55.0\n"
     ]
    }
   ],
   "execution_count": 30
  },
  {
   "cell_type": "markdown",
   "source": [
    "值得注意的是，brainstate 编译也支持使用 JAX 的调试工具进行调试。例如，用户可以通过调用 ``jax.debug.print`` 函数，打印出程序中间状态的值，方便调试和优化程序。以下示例是针对上面程序的一个调试输出。但更多关于 JAX 调试功能的信息，可以参考[JAX 调试文档](https://jax.readthedocs.io/en/latest/debugging/index.html)。"
   ],
   "metadata": {
    "collapsed": false
   },
   "id": "49ab55e617e896b"
  },
  {
   "cell_type": "code",
   "source": [
    "import jax\n",
    "\n",
    "b = brainstate.State(0.)\n",
    "\n",
    "\n",
    "def add(i):\n",
    "    c = brainstate.State(0.)\n",
    "\n",
    "    def cond(j):\n",
    "        return j <= i\n",
    "\n",
    "    def body(j):\n",
    "        c.value += 1.\n",
    "        return j + 1\n",
    "\n",
    "    brainstate.compile.while_loop(cond, body, 0.)\n",
    "\n",
    "    b.value += c.value\n",
    "    jax.debug.print('b = {b}, c = {c}', b=b.value, c=c.value)\n",
    "\n",
    "\n",
    "brainstate.compile.for_loop(add, jnp.arange(10))"
   ],
   "metadata": {
    "collapsed": false,
    "ExecuteTime": {
     "end_time": "2025-05-11T02:47:18.788690Z",
     "start_time": "2025-05-11T02:47:18.748125Z"
    }
   },
   "id": "ccb93a0f4687ae57",
   "outputs": [
    {
     "name": "stdout",
     "output_type": "stream",
     "text": [
      "b = 1.0, c = 1.0\n",
      "b = 3.0, c = 2.0\n",
      "b = 6.0, c = 3.0\n",
      "b = 10.0, c = 4.0\n",
      "b = 15.0, c = 5.0\n",
      "b = 21.0, c = 6.0\n",
      "b = 28.0, c = 7.0\n",
      "b = 36.0, c = 8.0\n",
      "b = 45.0, c = 9.0\n",
      "b = 55.0, c = 10.0\n"
     ]
    }
   ],
   "execution_count": 31
  },
  {
   "cell_type": "markdown",
   "source": [
    "brainstate还支持对不同硬件的编译。用户可以通过更改参数，将模型部署到不同的硬件上，包括 CPU、GPU 和 TPU。用户只需要在程序最开始调用：\n",
    "\n",
    "```python\n",
    "brainstate.environ.set(platform='cpu')  # CPU backend\n",
    "\n",
    "brainstate.environ.set(platform='gpu')  # GPU backend\n",
    "\n",
    "brainstate.environ.set(platform='tpu')  # TPU backend\n",
    "```\n",
    "\n",
    "或者使用jax的语法：\n",
    "\n",
    "```python\n",
    "jax.config.update('jax_platform_name', 'cpu')  # CPU backend\n",
    "\n",
    "jax.config.update('jax_platform_name', 'gpu')  # GPU backend\n",
    "\n",
    "jax.config.update('jax_platform_name', 'tpu')  # TPU backend\n",
    "```\n",
    "\n",
    "这种灵活的编译方式使得用户能够更好地利用不同硬件的优势，提高计算效率和性能。"
   ],
   "metadata": {
    "collapsed": false
   },
   "id": "28e2e7015d3cdf9b"
  },
  {
   "cell_type": "markdown",
   "source": [
    "## 4. 程序功能增强\n",
    "\n",
    "brainstate还提供了一系列功能增强的转换。比如，虽然程序定义时只是前向推理，但是通过``grad``等自动微分转换，我们可以轻松地获得额外的梯度信息。这种功能增强的转换使得用户能够更方便地构建和优化复杂的计算模型。\n",
    "\n",
    "但是，程序的功能增强需要提前知道程序的结构，需要已知我们需要增强的目标。因此，这就要求用户在编译之前就要知道程序的结构。为了这个目的，我们可以使用``PyGraph``语法，方便用户定义和管理计算模型。\n",
    "\n",
    "``PyGraph``提供的关于``State``和图表示的各种操作和管理，极大地降低了我们构建各种复杂的程序功能增强转换的复杂度。brainstate中提供的已知的功能增强转换包括：\n",
    "\n",
    "- 自动微分：自动求导的功能对模型优化至关重要，尤其在反向传播和梯度下降算法中。\n",
    "- 批处理：支持大规模数据的批处理，有助于显著提升模型的训练速度和推理效率。\n",
    "- 多设备并行：支持多设备并行计算，有助于提高模型的计算效率和性能。"
   ],
   "metadata": {
    "collapsed": false
   },
   "id": "aac0398927cef3c3"
  },
  {
   "cell_type": "markdown",
   "source": [
    "以下是一个简单的自动微分示例："
   ],
   "metadata": {
    "collapsed": false
   },
   "id": "9b299277f7f10cc8"
  },
  {
   "cell_type": "code",
   "source": [
    "# <input, output> pair\n",
    "x = jnp.ones((1, 2))\n",
    "y = jnp.ones((1, 3))\n",
    "\n",
    "# model\n",
    "model = brainstate.nn.Linear(2, 3)\n",
    "\n",
    "\n",
    "# loss function\n",
    "def loss_fn(x, y):\n",
    "    return jnp.mean((y - model(x)) ** 2)\n",
    "\n",
    "\n",
    "prev_loss = loss_fn(x, y)\n",
    "\n",
    "# gradients\n",
    "weights = model.states()\n",
    "grads = brainstate.augment.grad(loss_fn, weights)(x, y)\n",
    "\n",
    "# SGD update\n",
    "for key, grad in grads.items():\n",
    "    updates = jax.tree.map(lambda p, g: p - 0.1 * g, weights[key].value, grad)\n",
    "    weights[key].value = updates\n",
    "\n",
    "# loss evaluation\n",
    "assert loss_fn(x, y) < prev_loss"
   ],
   "metadata": {
    "collapsed": false,
    "ExecuteTime": {
     "end_time": "2025-05-11T02:47:18.870087Z",
     "start_time": "2025-05-11T02:47:18.843074Z"
    }
   },
   "id": "cbd425ba81c7c8a2",
   "outputs": [],
   "execution_count": 32
  },
  {
   "cell_type": "markdown",
   "source": [
    "在上面的例子中，我们定义了一个简单的线性模型，然后计算了模型的损失函数。通过调用 ``bst.augment.grad`` 函数，我们可以轻松地获取模型的梯度信息，并利用梯度下降算法对模型参数进行更新。但是，这种自动微分的功能增强转换，需要我们提前已知需要求梯度的参数是哪些，因此我们使用了 ``brainstate.graph.states`` 函数来获取模型中的所有 ``State`` 实例。"
   ],
   "metadata": {
    "collapsed": false
   },
   "id": "5a07e30936c15a2"
  },
  {
   "cell_type": "markdown",
   "source": [
    "总的来说，程序功能增强转换为用户提供了一种更方便、更高效的方式来构建和优化计算模型。通过充分利用这些功能，用户能够更快地实现模型的训练和推理，提高模型的性能和效率。更多关于功能增强的转换，可以参考[程序功能增强教程](../tutorials/program_augmentation-zh.ipynb)。"
   ],
   "metadata": {
    "collapsed": false
   },
   "id": "36f71e3c7b7f0d80"
  },
  {
   "cell_type": "markdown",
   "source": [
    "## 5. 其它辅助功能\n",
    "\n",
    "除了上述核心功能外，BrainState 还提供了许多辅助功能，帮助用户更便捷地进行模型构建和优化。这些功能包括但不限于：\n",
    "\n",
    "- 随机数生成： 在模拟随机性或处理随机变量时可以快速生成分布不同的随机数。\n",
    "- 参数管理： 提供简单的接口来初始化、存储和更新模型参数，适用于复杂的模型结构和多层网络。\n",
    "- 调试工具： 帮助用户在模型开发过程中监控各层的状态和计算结果，便于发现潜在问题。"
   ],
   "metadata": {
    "collapsed": false
   },
   "id": "943184f6e6241be7"
  },
  {
   "cell_type": "markdown",
   "source": [
    "## 总结\n",
    "\n",
    "BrainState 是一个功能强大的脑动力学建模框架，提供了跨硬件编译、计算模型增强、事件驱动计算和丰富的辅助工具。对于从事神经科学、认知建模和 SNN 开发的用户来说，BrainState 提供了丰富的模块化功能，支持用户快速构建、优化和部署高效的脑动力学模型。\n",
    "\n",
    "通过充分理解和利用以上功能，您可以轻松创建和优化适用于不同研究任务和硬件平台的高效计算模型。"
   ],
   "metadata": {
    "collapsed": false
   },
   "id": "5f0d1171923e73e2"
  },
  {
   "cell_type": "markdown",
   "source": [],
   "metadata": {
    "collapsed": false
   },
   "id": "f1a8630b34c771ae"
  }
 ],
 "metadata": {
  "kernelspec": {
   "display_name": "Python 3",
   "language": "python",
   "name": "python3"
  },
  "language_info": {
   "codemirror_mode": {
    "name": "ipython",
    "version": 2
   },
   "file_extension": ".py",
   "mimetype": "text/x-python",
   "name": "python",
   "nbconvert_exporter": "python",
   "pygments_lexer": "ipython2",
   "version": "2.7.6"
  }
 },
 "nbformat": 4,
 "nbformat_minor": 5
}
