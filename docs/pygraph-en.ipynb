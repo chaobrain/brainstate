{
 "cells": [
  {
   "cell_type": "markdown",
   "source": [
    "# Introduction to `pygraph`\n",
    "\n",
    "In JAX, powerful function transformations are applicable to pytree data structures -- such as dictionaries, lists, tuples, and other tree-like forms. Leveraging pytree, JAX enables efficient automatic differentiation, vectorization, and parallelization. However, many practical applications, particularly complex physical systems and neural network models, are better suited to graph representations rather than simple tree structures. To address this need, the `brainstate` library introduces the `pygraph` representation, which enhances JAX function transformations for graph data structures.\n",
    "\n",
    "## What is `pygraph`?\n",
    "\n",
    "`pygraph` is a specialized data structure within `brainstate` designed to facilitate JAX transformations for graph-based models. Unlike conventional tree structures, graphs can articulate a broader range of node relationships and dependencies, making them ideal for more intricate model architectures. In scenarios where a model's state relies on the interactions among multiple nodes, graph structures offer enhanced flexibility in representation.\n",
    "\n",
    "The `pygraph` module utilizes `brainstate.graph.Node` as its foundational element, constructing graph structures by defining relationships (edges) between nodes. Each node can hold arbitrary pytree array data or nested `pygraph` substructures, promoting a more adaptable and modular approach to graph construction.\n",
    "\n",
    "We can think of `brainstate.graph.Node` as a container class, where its attributes denote its leaf nodes. These containers can reference one another, thereby facilitating the creation of complex graph structures.\n"
   ],
   "metadata": {
    "collapsed": false
   },
   "id": "7d3704a195b988cc"
  },
  {
   "cell_type": "code",
   "outputs": [],
   "source": [
    "import jax\n",
    "import jax.numpy as jnp\n",
    "\n",
    "import brainstate"
   ],
   "metadata": {
    "collapsed": false,
    "ExecuteTime": {
     "end_time": "2024-11-03T12:32:56.781211Z",
     "start_time": "2024-11-03T12:32:55.956755Z"
    }
   },
   "id": "ca00be5c51b57fb7",
   "execution_count": 1
  },
  {
   "cell_type": "code",
   "outputs": [],
   "source": [
    "class A(brainstate.graph.Node):\n",
    "    def __init__(self):\n",
    "        self.w = brainstate.random.rand(2, 3)\n",
    "        self.b = brainstate.ShortTermState(brainstate.random.rand(3))"
   ],
   "metadata": {
    "collapsed": false,
    "ExecuteTime": {
     "end_time": "2024-11-03T12:32:56.786424Z",
     "start_time": "2024-11-03T12:32:56.782739Z"
    }
   },
   "id": "a03b9d16356d520a",
   "execution_count": 2
  },
  {
   "cell_type": "markdown",
   "source": [
    "In the code above, we define a class `A` that inherits from `brainstate.graph.Node`. Within the class's initialization function, we define two attributes, `w` and `b`, which represent a randomly generated 2x3 matrix and a randomly generated array of length 3, respectively. Both of these data structures are JAX pytree structures.\n",
    "\n",
    "It is noteworthy that `brainstate.graph.Node` allows us to create cyclic references. For example, "
   ],
   "metadata": {
    "collapsed": false
   },
   "id": "41e6fec77880895f"
  },
  {
   "cell_type": "code",
   "outputs": [],
   "source": [
    "a = A()\n",
    "a.self = a"
   ],
   "metadata": {
    "collapsed": false,
    "ExecuteTime": {
     "end_time": "2024-11-03T12:32:57.082613Z",
     "start_time": "2024-11-03T12:32:56.786424Z"
    }
   },
   "id": "a367ccac6420152a",
   "execution_count": 3
  },
  {
   "cell_type": "markdown",
   "source": [
    "We set the `self` attribute of `a` to `a`, thereby creating a cyclic reference. This type of referencing is not permitted in tree structures, but it is valid in graph structures. Such cyclic references can be used to represent complex model architectures, such as the recurrent connections in recurrent neural networks. Through this flexible referencing method, we can more naturally express the dynamic relationships between nodes in neural networks."
   ],
   "metadata": {
    "collapsed": false
   },
   "id": "b38289e0eb62404b"
  },
  {
   "cell_type": "code",
   "outputs": [
    {
     "data": {
      "text/plain": "NodeDef(\n  type=A,\n  index=0,\n  attributes=('b', 'self', 'w'),\n  subgraphs={\n    'self': NodeRef(\n      type=A,\n      index=0\n    )\n  },\n  static_fields={\n    'w': Array([[0.10448933, 0.59558105, 0.7708304 ],\n           [0.54522824, 0.79741836, 0.8664371 ]], dtype=float32)\n  },\n  leaves={\n    'b': NodeRef(\n      type=ShortTermState,\n      index=1\n    )\n  },\n  metadata=(<class '__main__.A'>,),\n  index_mapping=None\n)"
     },
     "execution_count": 4,
     "metadata": {},
     "output_type": "execute_result"
    }
   ],
   "source": [
    "# inspect the \"graphdef\" of a\n",
    "\n",
    "brainstate.graph.graphdef(a)"
   ],
   "metadata": {
    "collapsed": false,
    "ExecuteTime": {
     "end_time": "2024-11-03T12:32:57.089823Z",
     "start_time": "2024-11-03T12:32:57.083622Z"
    }
   },
   "id": "25e3abd7bcf58825",
   "execution_count": 4
  },
  {
   "cell_type": "markdown",
   "source": [
    "## Overview of `brainstate.graph.Node`\n",
    "\n",
    "`brainstate.graph.Node` is the foundational class in `pygraph`, defining the structure and behavior of each node within the graph. The **attributes** of each node represent its leaf nodes and can accommodate any JAX array or other transformable data types. The **methods** associated with each node facilitate operations for manipulating, updating, and transforming the data contained within.\n",
    "\n",
    "In `brainstate`, any neural network module subclass `brainstate.graph.Node`, allowing for the flexible construction of various neural network architecture. This design ensures excellent scalability while fully harnessing the powerful computational capabilities provided by JAX. For instance, we can easily define a simple linear layer module:"
   ],
   "metadata": {
    "collapsed": false
   },
   "id": "29a7101010f3d392"
  },
  {
   "cell_type": "code",
   "outputs": [],
   "source": [
    "class MLP(brainstate.graph.Node):\n",
    "    def __init__(self):\n",
    "        self.l1 = brainstate.nn.Linear(2, 3)\n",
    "        self.l2 = brainstate.nn.Linear(3, 4)\n",
    "        self.l3 = brainstate.nn.Linear(4, 5)\n",
    "        self.st = brainstate.ShortTermState(brainstate.random.rand(5))"
   ],
   "metadata": {
    "collapsed": false,
    "ExecuteTime": {
     "end_time": "2024-11-03T12:32:57.097312Z",
     "start_time": "2024-11-03T12:32:57.090339Z"
    }
   },
   "id": "8c7455b1bc4fe194",
   "execution_count": 5
  },
  {
   "cell_type": "markdown",
   "source": [
    "Nodes can be created and manipulated using the following attributes and methods:\n",
    "\n",
    "- **Data Storage**: Each `brainstate.graph.Node` can store any JAX arrays or other transformable data types within its *attributes*.\n",
    "\n",
    "- **Node Connections**: The *attributes* of a `brainstate.graph.Node` can reference other `brainstate.graph.Node` instances, establishing complex dependency graphs -- as illustrated by the three linear layer modules within the `MLP` class above.\n",
    "\n",
    "- **Attributes and Their Paths**: Every `brainstate.graph.Node` includes a unique path for retrieval and transformation. This path aids in identifying and accessing nodes within complex structures, representing the node's position within the hierarchical nesting of the graph.\n",
    "\n",
    "For instance, we can view the leaf data points in the `MLP` graph using the following code:"
   ],
   "metadata": {
    "collapsed": false
   },
   "id": "c6ac0c8419ef118c"
  },
  {
   "cell_type": "code",
   "outputs": [
    {
     "name": "stdout",
     "output_type": "stream",
     "text": [
      "('l1', '_in_size', 0) 2\n",
      "('l1', '_out_size', 0) 3\n",
      "('l1', 'weight') ParamState\n",
      "('l2', '_in_size', 0) 3\n",
      "('l2', '_out_size', 0) 4\n",
      "('l2', 'weight') ParamState\n",
      "('l3', '_in_size', 0) 4\n",
      "('l3', '_out_size', 0) 5\n",
      "('l3', 'weight') ParamState\n",
      "('st',) ShortTermState\n"
     ]
    }
   ],
   "source": [
    "mlp = MLP()\n",
    "\n",
    "for path, leaf in brainstate.graph.iter_leaf(mlp):\n",
    "    print(path, leaf.__class__.__name__ if isinstance(leaf, brainstate.State) else leaf)"
   ],
   "metadata": {
    "collapsed": false,
    "ExecuteTime": {
     "end_time": "2024-11-03T12:32:57.785061Z",
     "start_time": "2024-11-03T12:32:57.098321Z"
    }
   },
   "id": "f4770424a681726",
   "execution_count": 6
  },
  {
   "cell_type": "markdown",
   "source": [
    "\n",
    "We can also view all nodes in the `MLP` graph using the following code:\n"
   ],
   "metadata": {
    "collapsed": false
   },
   "id": "d9052d3e307f0c19"
  },
  {
   "cell_type": "code",
   "outputs": [
    {
     "name": "stdout",
     "output_type": "stream",
     "text": [
      "('l1',) Linear\n",
      "('l2',) Linear\n",
      "('l3',) Linear\n",
      "() MLP\n"
     ]
    }
   ],
   "source": [
    "for path, node in brainstate.graph.iter_node(mlp):\n",
    "    print(path, node.__class__.__name__)"
   ],
   "metadata": {
    "collapsed": false,
    "ExecuteTime": {
     "end_time": "2024-11-03T12:32:57.789821Z",
     "start_time": "2024-11-03T12:32:57.786071Z"
    }
   },
   "id": "ba61ba7f7092f38c",
   "execution_count": 7
  },
  {
   "cell_type": "markdown",
   "source": [
    "\n",
    "## Common Functions in `pygraph`\n",
    "\n",
    "`brainstate` provides numerous utilities for operating on `pygraph`, which can be found in the [`brainstate.graph` module](../apis/graph.rst).\n",
    "\n",
    "Overall, the commonly used functions in `pygraph` can be categorized into the following types:\n",
    "\n",
    "- **Graph Structure Operations**: Functions for constructing and retrieving graph structures, including:\n",
    "    - `brainstate.graph.graphdef`: View the graph structure\n",
    "    - `brainstate.graph.iter_node`: Iterate through all child nodes in the graph structure\n",
    "    - `brainstate.graph.iter_leaf`: Traverse all data points in the graph structure\n",
    "    - `brainstate.graph.nodes`: View all nodes in the graph structure\n",
    "    - `brainstate.graph.states`: View all `State` instances in the graph structure\n",
    "\n",
    "- **Graph Structure Transformations**: Functions for transforming and manipulating graph structures, including:\n",
    "    - `brainstate.graph.treefy_states`: Convert all `State` instances in the graph structure to pytree\n",
    "    - `brainstate.graph.clone`: Copy the graph structure\n",
    "    - `brainstate.graph.treefy_split`: Split the graph structure into a `graphdef` and a pytree representation of `State`\n",
    "    - `brainstate.graph.treefy_merge`: Merge the `graphdef` and pytree representation of `State` into a graph structure\n",
    "    - `brainstate.graph.flatten`: Flatten the graph structure into collections of `graphdef` and `State`\n",
    "    - `brainstate.graph.unflatten`: Restore the flattened graph structure to its original form\n",
    "\n",
    "- **Graph Structure Modifications**: Functions for modifying and updating graph structures, including:\n",
    "    - `brainstate.graph.pop_states`: Remove `State` instances from the graph structure that meet certain conditions (see the `filter` protocol section below)\n",
    "    - `brainstate.graph.update_states`: Update `State` instances in the graph structure that meet certain conditions\n",
    "\n",
    "- **Graph Structure Conversions**: Functions for converting between pygraph and pytree data structures, including:\n",
    "    - `brainstate.graph.graph_to_tree`: Convert a graph structure to a pytree\n",
    "    - `brainstate.graph.tree_to_graph`: Convert a pytree to a graph structure\n",
    "\n",
    "These functions provide developers with a rich set of tools to achieve flexibility and efficiency when constructing and manipulating graph structures.\n"
   ],
   "metadata": {
    "collapsed": false
   },
   "id": "9864ccc709d4936c"
  },
  {
   "cell_type": "markdown",
   "source": [
    "After introducing the fundamental concepts and commonly used functions of `pygraph`, we will demonstrate how to use the `pygraph` module to construct and manipulate graph structures through a simple example."
   ],
   "metadata": {
    "collapsed": false
   },
   "id": "d1b5de1c237879bf"
  },
  {
   "cell_type": "code",
   "outputs": [],
   "source": [
    "# Splitting the graph structure into `graphdef` and `treefy_states`\n",
    "\n",
    "graphdef, tree_states = brainstate.graph.treefy_split(mlp)"
   ],
   "metadata": {
    "collapsed": false,
    "ExecuteTime": {
     "end_time": "2024-11-03T12:32:57.794370Z",
     "start_time": "2024-11-03T12:32:57.790832Z"
    }
   },
   "id": "90a0e0e60af6cf67",
   "execution_count": 8
  },
  {
   "cell_type": "code",
   "outputs": [
    {
     "data": {
      "text/plain": "NodeDef(\n  type=MLP,\n  index=0,\n  attributes=('l1', 'l2', 'l3', 'st'),\n  subgraphs={\n    'l1': NodeDef(\n      type=Linear,\n      index=1,\n      attributes=('_in_size', '_name', '_out_size', 'w_mask', 'weight'),\n      subgraphs={\n        '_in_size': NodeDef(\n          type=PytreeType,\n          index=-1,\n          attributes=(0,),\n          subgraphs={},\n          static_fields={\n            0: 2\n          },\n          leaves={},\n          metadata=PyTreeDef((*,)),\n          index_mapping=None\n        ),\n        '_name': NodeDef(\n          type=PytreeType,\n          index=-1,\n          attributes=(),\n          subgraphs={},\n          static_fields={},\n          leaves={},\n          metadata=PyTreeDef(None),\n          index_mapping=None\n        ),\n        '_out_size': NodeDef(\n          type=PytreeType,\n          index=-1,\n          attributes=(0,),\n          subgraphs={},\n          static_fields={\n            0: 3\n          },\n          leaves={},\n          metadata=PyTreeDef((*,)),\n          index_mapping=None\n        ),\n        'w_mask': NodeDef(\n          type=PytreeType,\n          index=-1,\n          attributes=(),\n          subgraphs={},\n          static_fields={},\n          leaves={},\n          metadata=PyTreeDef(None),\n          index_mapping=None\n        )\n      },\n      static_fields={},\n      leaves={\n        'weight': NodeRef(\n          type=ParamState,\n          index=2\n        )\n      },\n      metadata=(<class 'brainstate.nn.Linear'>,),\n      index_mapping=None\n    ),\n    'l2': NodeDef(\n      type=Linear,\n      index=3,\n      attributes=('_in_size', '_name', '_out_size', 'w_mask', 'weight'),\n      subgraphs={\n        '_in_size': NodeDef(\n          type=PytreeType,\n          index=-1,\n          attributes=(0,),\n          subgraphs={},\n          static_fields={\n            0: 3\n          },\n          leaves={},\n          metadata=PyTreeDef((*,)),\n          index_mapping=None\n        ),\n        '_name': NodeDef(\n          type=PytreeType,\n          index=-1,\n          attributes=(),\n          subgraphs={},\n          static_fields={},\n          leaves={},\n          metadata=PyTreeDef(None),\n          index_mapping=None\n        ),\n        '_out_size': NodeDef(\n          type=PytreeType,\n          index=-1,\n          attributes=(0,),\n          subgraphs={},\n          static_fields={\n            0: 4\n          },\n          leaves={},\n          metadata=PyTreeDef((*,)),\n          index_mapping=None\n        ),\n        'w_mask': NodeDef(\n          type=PytreeType,\n          index=-1,\n          attributes=(),\n          subgraphs={},\n          static_fields={},\n          leaves={},\n          metadata=PyTreeDef(None),\n          index_mapping=None\n        )\n      },\n      static_fields={},\n      leaves={\n        'weight': NodeRef(\n          type=ParamState,\n          index=4\n        )\n      },\n      metadata=(<class 'brainstate.nn.Linear'>,),\n      index_mapping=None\n    ),\n    'l3': NodeDef(\n      type=Linear,\n      index=5,\n      attributes=('_in_size', '_name', '_out_size', 'w_mask', 'weight'),\n      subgraphs={\n        '_in_size': NodeDef(\n          type=PytreeType,\n          index=-1,\n          attributes=(0,),\n          subgraphs={},\n          static_fields={\n            0: 4\n          },\n          leaves={},\n          metadata=PyTreeDef((*,)),\n          index_mapping=None\n        ),\n        '_name': NodeDef(\n          type=PytreeType,\n          index=-1,\n          attributes=(),\n          subgraphs={},\n          static_fields={},\n          leaves={},\n          metadata=PyTreeDef(None),\n          index_mapping=None\n        ),\n        '_out_size': NodeDef(\n          type=PytreeType,\n          index=-1,\n          attributes=(0,),\n          subgraphs={},\n          static_fields={\n            0: 5\n          },\n          leaves={},\n          metadata=PyTreeDef((*,)),\n          index_mapping=None\n        ),\n        'w_mask': NodeDef(\n          type=PytreeType,\n          index=-1,\n          attributes=(),\n          subgraphs={},\n          static_fields={},\n          leaves={},\n          metadata=PyTreeDef(None),\n          index_mapping=None\n        )\n      },\n      static_fields={},\n      leaves={\n        'weight': NodeRef(\n          type=ParamState,\n          index=6\n        )\n      },\n      metadata=(<class 'brainstate.nn.Linear'>,),\n      index_mapping=None\n    )\n  },\n  static_fields={},\n  leaves={\n    'st': NodeRef(\n      type=ShortTermState,\n      index=7\n    )\n  },\n  metadata=(<class '__main__.MLP'>,),\n  index_mapping=None\n)"
     },
     "execution_count": 9,
     "metadata": {},
     "output_type": "execute_result"
    }
   ],
   "source": [
    "graphdef"
   ],
   "metadata": {
    "collapsed": false,
    "ExecuteTime": {
     "end_time": "2024-11-03T12:32:57.800327Z",
     "start_time": "2024-11-03T12:32:57.795387Z"
    }
   },
   "id": "90e9dc14b457f2af",
   "execution_count": 9
  },
  {
   "cell_type": "code",
   "outputs": [
    {
     "data": {
      "text/plain": "NestedDict({\n  'l1': {\n    'weight': TreefyState(\n      type=ParamState,\n      value={'weight': Array([[-0.3659619 , -0.31125584,  1.0778427 ],\n             [-0.5968006 , -0.5051795 ,  0.16640717]], dtype=float32), 'bias': Array([0., 0., 0.], dtype=float32)},\n      tag=None\n    )\n  },\n  'l2': {\n    'weight': TreefyState(\n      type=ParamState,\n      value={'weight': Array([[-0.4297514 ,  0.94077504,  1.7989075 , -0.22609374],\n             [ 0.06556923,  0.91115445,  1.1170839 , -0.18267009],\n             [ 1.8066524 ,  0.7256765 ,  0.63550776,  0.01369484]],      dtype=float32), 'bias': Array([0., 0., 0., 0.], dtype=float32)},\n      tag=None\n    )\n  },\n  'l3': {\n    'weight': TreefyState(\n      type=ParamState,\n      value={'weight': Array([[-0.10035516,  0.04431533, -0.4407376 ,  0.26091304,  0.5030924 ],\n             [-0.18698277,  0.7434753 , -0.5017731 ,  0.17899655,  0.9103125 ],\n             [ 0.18539658, -0.1383301 , -0.47763184, -0.11584222,  0.0445422 ],\n             [-0.42667952, -1.1309302 ,  0.42836535,  0.8008316 , -0.88662344]],      dtype=float32), 'bias': Array([0., 0., 0., 0., 0.], dtype=float32)},\n      tag=None\n    )\n  },\n  'st': TreefyState(\n    type=ShortTermState,\n    value=Array([0.9339858 , 0.55950487, 0.22667873, 0.16428697, 0.20077193],      dtype=float32),\n    tag=None\n  )\n})"
     },
     "execution_count": 10,
     "metadata": {},
     "output_type": "execute_result"
    }
   ],
   "source": [
    "tree_states"
   ],
   "metadata": {
    "collapsed": false,
    "ExecuteTime": {
     "end_time": "2024-11-03T12:32:57.807727Z",
     "start_time": "2024-11-03T12:32:57.800327Z"
    }
   },
   "id": "b4f2185e6dfab618",
   "execution_count": 10
  },
  {
   "cell_type": "code",
   "outputs": [
    {
     "data": {
      "text/plain": "MLP(\n  l1=Linear(\n    in_size=(2,),\n    out_size=(3,),\n    w_mask=None,\n    weight=ParamState(\n      value={'weight': Array([[-0.3659619 , -0.31125584,  1.0778427 ],\n             [-0.5968006 , -0.5051795 ,  0.16640717]], dtype=float32), 'bias': Array([0., 0., 0.], dtype=float32)}\n    )\n  ),\n  l2=Linear(\n    in_size=(3,),\n    out_size=(4,),\n    w_mask=None,\n    weight=ParamState(\n      value={'weight': Array([[-0.4297514 ,  0.94077504,  1.7989075 , -0.22609374],\n             [ 0.06556923,  0.91115445,  1.1170839 , -0.18267009],\n             [ 1.8066524 ,  0.7256765 ,  0.63550776,  0.01369484]],      dtype=float32), 'bias': Array([0., 0., 0., 0.], dtype=float32)}\n    )\n  ),\n  l3=Linear(\n    in_size=(4,),\n    out_size=(5,),\n    w_mask=None,\n    weight=ParamState(\n      value={'weight': Array([[-0.10035516,  0.04431533, -0.4407376 ,  0.26091304,  0.5030924 ],\n             [-0.18698277,  0.7434753 , -0.5017731 ,  0.17899655,  0.9103125 ],\n             [ 0.18539658, -0.1383301 , -0.47763184, -0.11584222,  0.0445422 ],\n             [-0.42667952, -1.1309302 ,  0.42836535,  0.8008316 , -0.88662344]],      dtype=float32), 'bias': Array([0., 0., 0., 0., 0.], dtype=float32)}\n    )\n  ),\n  st=ShortTermState(\n    value=Array([0.9339858 , 0.55950487, 0.22667873, 0.16428697, 0.20077193],      dtype=float32)\n  )\n)"
     },
     "execution_count": 11,
     "metadata": {},
     "output_type": "execute_result"
    }
   ],
   "source": [
    "# Merging the `graphdef` structure and `treefy_states`\n",
    "\n",
    "mlp2 = brainstate.graph.treefy_merge(graphdef, tree_states)\n",
    "\n",
    "mlp2"
   ],
   "metadata": {
    "collapsed": false,
    "ExecuteTime": {
     "end_time": "2024-11-03T12:32:57.814849Z",
     "start_time": "2024-11-03T12:32:57.808736Z"
    }
   },
   "id": "e0b9ed78a6263179",
   "execution_count": 11
  },
  {
   "cell_type": "code",
   "outputs": [
    {
     "data": {
      "text/plain": "FlattedDict({\n  ('l1', 'weight'): ParamState(\n    value={'weight': Array([[-0.3659619 , -0.31125584,  1.0778427 ],\n           [-0.5968006 , -0.5051795 ,  0.16640717]], dtype=float32), 'bias': Array([0., 0., 0.], dtype=float32)}\n  ),\n  ('l2', 'weight'): ParamState(\n    value={'weight': Array([[-0.4297514 ,  0.94077504,  1.7989075 , -0.22609374],\n           [ 0.06556923,  0.91115445,  1.1170839 , -0.18267009],\n           [ 1.8066524 ,  0.7256765 ,  0.63550776,  0.01369484]],      dtype=float32), 'bias': Array([0., 0., 0., 0.], dtype=float32)}\n  ),\n  ('l3', 'weight'): ParamState(\n    value={'weight': Array([[-0.10035516,  0.04431533, -0.4407376 ,  0.26091304,  0.5030924 ],\n           [-0.18698277,  0.7434753 , -0.5017731 ,  0.17899655,  0.9103125 ],\n           [ 0.18539658, -0.1383301 , -0.47763184, -0.11584222,  0.0445422 ],\n           [-0.42667952, -1.1309302 ,  0.42836535,  0.8008316 , -0.88662344]],      dtype=float32), 'bias': Array([0., 0., 0., 0., 0.], dtype=float32)}\n  ),\n  ('st',): ShortTermState(\n    value=Array([0.9339858 , 0.55950487, 0.22667873, 0.16428697, 0.20077193],      dtype=float32)\n  )\n})"
     },
     "execution_count": 12,
     "metadata": {},
     "output_type": "execute_result"
    }
   ],
   "source": [
    "# Viewing all `states` in the graph structure\n",
    "\n",
    "states = brainstate.graph.states(mlp2)\n",
    "\n",
    "states"
   ],
   "metadata": {
    "collapsed": false,
    "ExecuteTime": {
     "end_time": "2024-11-03T12:32:57.821756Z",
     "start_time": "2024-11-03T12:32:57.816250Z"
    }
   },
   "id": "37d479434358ab3f",
   "execution_count": 12
  },
  {
   "cell_type": "markdown",
   "source": [
    "It is noteworthy that most graph operation functions for retrieving `State` instances support the inclusion of a series of `filter` functions to select `State` instances that meet certain conditions. For example, to filter out all `ShortTermState` instances, you can use the following code:"
   ],
   "metadata": {
    "collapsed": false
   },
   "id": "3401b0965f9d1844"
  },
  {
   "cell_type": "code",
   "outputs": [
    {
     "data": {
      "text/plain": "FlattedDict({\n  ('st',): ShortTermState(\n    value=Array([0.9339858 , 0.55950487, 0.22667873, 0.16428697, 0.20077193],      dtype=float32)\n  )\n})"
     },
     "execution_count": 13,
     "metadata": {},
     "output_type": "execute_result"
    }
   ],
   "source": [
    "short_term_states = brainstate.graph.states(mlp2, brainstate.ShortTermState)\n",
    "\n",
    "short_term_states"
   ],
   "metadata": {
    "collapsed": false,
    "ExecuteTime": {
     "end_time": "2024-11-03T12:32:57.827308Z",
     "start_time": "2024-11-03T12:32:57.822974Z"
    }
   },
   "id": "1ef54aa6a47625de",
   "execution_count": 13
  },
  {
   "cell_type": "markdown",
   "source": [
    "## `filter` Filter Syntax\n",
    "\n",
    "In general, a `filter` has the following function form:\n",
    "\n",
    "```python\n",
    "def predicate(path: tuple[Key, ...], value: Any) -> bool:\n",
    "    ...\n",
    "```\n",
    "\n",
    "Here, `Key` is a hashable and comparable data type (often a string), `path` is a tuple of `Key` representing the nested structure corresponding to `value`, and `value` is the value at that path. If the value should be included in the `filter`, the function returns `True`; otherwise, it returns `False`.\n",
    "\n",
    "For example, we can define a `filter` function to select all `ParamState` instances:"
   ],
   "metadata": {
    "collapsed": false
   },
   "id": "80cbbbb2ee3e0585"
  },
  {
   "cell_type": "code",
   "outputs": [
    {
     "name": "stdout",
     "output_type": "stream",
     "text": [
      "is_param((), bst.ParamState(0.)) = True\n"
     ]
    }
   ],
   "source": [
    "def is_param(path, value) -> bool:\n",
    "    return isinstance(value, brainstate.ParamState)\n",
    "\n",
    "\n",
    "print(f'{is_param((), brainstate.ParamState(0.)) = }')"
   ],
   "metadata": {
    "collapsed": false,
    "ExecuteTime": {
     "end_time": "2024-11-03T12:32:57.832752Z",
     "start_time": "2024-11-03T12:32:57.829314Z"
    }
   },
   "id": "ac9d8ad2e5f50752",
   "execution_count": 14
  },
  {
   "cell_type": "markdown",
   "source": [
    "However, to simplify the creation of `filter` functions, `brainstate` provides a small domain-specific language (DSL). This allows users to pass types, boolean values, ellipses, tuples/lists, etc., which are internally converted into the corresponding predicates, tuples, or lists.\n",
    "\n",
    "| Literal | Callable Object | Description |\n",
    "|---------|------------------|-------------|\n",
    "| `...` or `True` | `Everything()` | Matches all values |\n",
    "| `None` or `False` | `Nothing()` | Matches no values |\n",
    "| `type` | `OfType(type)` | Matches instances of type `type`, or values with a `type` attribute of `type` |\n",
    "| | `PathContains(key)` | Matches values whose associated `path` contains the specified `key` |\n",
    "| `'{filter}'` <span style=\"color:gray\">str</span> | `WithTag('{filter}')` | Matches values with a string `tag` attribute equal to `'{filter}'`. Used by `RngKey` and `RngCount`. |\n",
    "| `(*filters)` <span style=\"color:gray\">tuple</span> or `[*filters]` <span style=\"color:gray\">list</span> | `Any(*filters)` | Matches values satisfying any of the internal `filters` |\n",
    "| | `All(*filters)` | Matches values satisfying all of the internal `filters` |\n",
    "| | `Not(filter)` | Matches values that do not satisfy the internal `filter` |\n",
    "\n",
    "For example, we can use the `filter` DSL to define a filter that selects all `ParamState` instances and other remaining `State` instances:"
   ],
   "metadata": {
    "collapsed": false
   },
   "id": "a034a931ed907443"
  },
  {
   "cell_type": "code",
   "outputs": [
    {
     "data": {
      "text/plain": "FlattedDict({\n  ('l1', 'weight'): ParamState(\n    value={'weight': Array([[-0.3659619 , -0.31125584,  1.0778427 ],\n           [-0.5968006 , -0.5051795 ,  0.16640717]], dtype=float32), 'bias': Array([0., 0., 0.], dtype=float32)}\n  ),\n  ('l2', 'weight'): ParamState(\n    value={'weight': Array([[-0.4297514 ,  0.94077504,  1.7989075 , -0.22609374],\n           [ 0.06556923,  0.91115445,  1.1170839 , -0.18267009],\n           [ 1.8066524 ,  0.7256765 ,  0.63550776,  0.01369484]],      dtype=float32), 'bias': Array([0., 0., 0., 0.], dtype=float32)}\n  ),\n  ('l3', 'weight'): ParamState(\n    value={'weight': Array([[-0.10035516,  0.04431533, -0.4407376 ,  0.26091304,  0.5030924 ],\n           [-0.18698277,  0.7434753 , -0.5017731 ,  0.17899655,  0.9103125 ],\n           [ 0.18539658, -0.1383301 , -0.47763184, -0.11584222,  0.0445422 ],\n           [-0.42667952, -1.1309302 ,  0.42836535,  0.8008316 , -0.88662344]],      dtype=float32), 'bias': Array([0., 0., 0., 0., 0.], dtype=float32)}\n  )\n})"
     },
     "execution_count": 15,
     "metadata": {},
     "output_type": "execute_result"
    }
   ],
   "source": [
    "params, others = brainstate.graph.states(mlp, brainstate.ParamState, ...)\n",
    "\n",
    "params"
   ],
   "metadata": {
    "collapsed": false,
    "ExecuteTime": {
     "end_time": "2024-11-03T12:32:57.839079Z",
     "start_time": "2024-11-03T12:32:57.834110Z"
    }
   },
   "id": "57f5d8e740ce7a2f",
   "execution_count": 15
  },
  {
   "cell_type": "code",
   "outputs": [
    {
     "data": {
      "text/plain": "FlattedDict({\n  ('st',): ShortTermState(\n    value=Array([0.9339858 , 0.55950487, 0.22667873, 0.16428697, 0.20077193],      dtype=float32)\n  )\n})"
     },
     "execution_count": 16,
     "metadata": {},
     "output_type": "execute_result"
    }
   ],
   "source": [
    "others"
   ],
   "metadata": {
    "collapsed": false,
    "ExecuteTime": {
     "end_time": "2024-11-03T12:32:57.844017Z",
     "start_time": "2024-11-03T12:32:57.840314Z"
    }
   },
   "id": "e0a01331717175b5",
   "execution_count": 16
  },
  {
   "cell_type": "markdown",
   "source": [
    "## Conversion Between `pygraph` and `pytree`\n",
    "\n",
    "The `brainstate` library offers a set of functions for converting between `pygraph` and `pytree`, available in the [`brainstate.graph` module](../apis/graph.rst). Here, we highlight two commonly used functions:\n",
    "\n",
    "- **`brainstate.graph.treefy_split`**: This function separates the graph structure into its `graphdef` and `TreefyState` instances which are all compatiable with pytree. It allows users to convert all `State` instances in the graph to pytree format while retaining additional node information.\n",
    "\n",
    "- **`brainstate.graph.treefy_merge`**: This function merge the `graphdef` structure and `TreefyState` instances back into a unified graph. It enables the conversion of a pytree back into a graph structure while preserving other node information from the pytree.\n",
    "\n",
    "These functions provide users with the flexibility to seamlessly convert between graph structures and pytree, enhancing the convenience of utilizing JAX's function transformation capabilities -- especially in complex model architectures.\n",
    "\n",
    "We can demonstrate the usage of these functions with the following code:"
   ],
   "metadata": {
    "collapsed": false
   },
   "id": "1d28a603b489af6f"
  },
  {
   "cell_type": "code",
   "outputs": [],
   "source": [
    "class Linear(brainstate.nn.Module):\n",
    "    def __init__(self, din: int, dout: int):\n",
    "        super().__init__()\n",
    "        self.w = brainstate.ParamState(brainstate.random.rand(din, dout))\n",
    "        self.b = brainstate.ParamState(jnp.zeros((dout,)))\n",
    "\n",
    "    def __call__(self, x):\n",
    "        return x @ self.w.value + self.b.value\n",
    "\n",
    "\n",
    "class Count(brainstate.State):\n",
    "    pass\n",
    "\n",
    "\n",
    "class MLP(brainstate.graph.Node):\n",
    "    def __init__(self, din, dhidden, dout):\n",
    "        self.count = Count(jnp.array(0))\n",
    "        self.linear1 = Linear(din, dhidden)\n",
    "        self.linear2 = Linear(dhidden, dout)\n",
    "\n",
    "    def __call__(self, x):\n",
    "        self.count.value += 1\n",
    "        x = self.linear1(x)\n",
    "        x = jax.nn.relu(x)\n",
    "        x = self.linear2(x)\n",
    "        return x"
   ],
   "metadata": {
    "collapsed": false,
    "ExecuteTime": {
     "end_time": "2024-11-03T12:32:57.850410Z",
     "start_time": "2024-11-03T12:32:57.845024Z"
    }
   },
   "id": "ce242c693608df99",
   "execution_count": 17
  },
  {
   "cell_type": "markdown",
   "source": [
    "In the code above, we defined a simple multilayer perceptron model called `MLP`, which consists of two linear layer modules `Linear` and a counter `Count`. We can view the graph structure of this model using the following code:"
   ],
   "metadata": {
    "collapsed": false
   },
   "id": "8b87750ccaa3fc41"
  },
  {
   "cell_type": "code",
   "outputs": [
    {
     "data": {
      "text/plain": "NestedDict({\n  'linear1': {\n    'b': TreefyState(\n      type=ParamState,\n      value=Array([0., 0., 0., 0., 0., 0., 0., 0., 0., 0., 0., 0., 0., 0., 0., 0., 0.,\n             0., 0., 0., 0., 0., 0., 0., 0., 0., 0., 0., 0., 0., 0., 0.],      dtype=float32),\n      tag=None\n    ),\n    'w': TreefyState(\n      type=ParamState,\n      value=Array([[0.67475975, 0.14342582, 0.09279215, 0.7912407 , 0.6412649 ,\n              0.35310984, 0.6024835 , 0.7732656 , 0.6344428 , 0.3745495 ,\n              0.11568654, 0.39982736, 0.92343414, 0.78210616, 0.6987963 ,\n              0.68683803, 0.18834102, 0.3003025 , 0.87177503, 0.37622106,\n              0.12652314, 0.9734528 , 0.31582916, 0.89584935, 0.05520368,\n              0.6700369 , 0.31894362, 0.16256857, 0.8334037 , 0.8421583 ,\n              0.1473298 , 0.92530775]], dtype=float32),\n      tag=None\n    )\n  },\n  'linear2': {\n    'b': TreefyState(\n      type=ParamState,\n      value=Array([0.], dtype=float32),\n      tag=None\n    ),\n    'w': TreefyState(\n      type=ParamState,\n      value=Array([[0.163131  ],\n             [0.27443647],\n             [0.61769795],\n             [0.41846454],\n             [0.8121586 ],\n             [0.08275509],\n             [0.8606405 ],\n             [0.1795013 ],\n             [0.6858747 ],\n             [0.51875293],\n             [0.8106003 ],\n             [0.3395425 ],\n             [0.47189462],\n             [0.330006  ],\n             [0.5524888 ],\n             [0.4054451 ],\n             [0.13302314],\n             [0.189188  ],\n             [0.7546388 ],\n             [0.79293215],\n             [0.8991835 ],\n             [0.83495355],\n             [0.2938329 ],\n             [0.78679574],\n             [0.11671972],\n             [0.89856327],\n             [0.40951777],\n             [0.09036434],\n             [0.8695228 ],\n             [0.6215534 ],\n             [0.3668506 ],\n             [0.94515693]], dtype=float32),\n      tag=None\n    )\n  }\n})"
     },
     "execution_count": 18,
     "metadata": {},
     "output_type": "execute_result"
    }
   ],
   "source": [
    "model = MLP(1, 32, 1)\n",
    "\n",
    "graphdef, params_, counts_ = brainstate.graph.treefy_split(MLP(din=1, dhidden=32, dout=1), brainstate.ParamState, Count)\n",
    "\n",
    "params_"
   ],
   "metadata": {
    "collapsed": false,
    "ExecuteTime": {
     "end_time": "2024-11-03T12:32:58.026792Z",
     "start_time": "2024-11-03T12:32:57.850410Z"
    }
   },
   "id": "363ac78aa02b62ed",
   "execution_count": 18
  },
  {
   "cell_type": "code",
   "outputs": [
    {
     "data": {
      "text/plain": "NestedDict({\n  'count': TreefyState(\n    type=Count,\n    value=Array(0, dtype=int32, weak_type=True),\n    tag=None\n  )\n})"
     },
     "execution_count": 19,
     "metadata": {},
     "output_type": "execute_result"
    }
   ],
   "source": [
    "counts_"
   ],
   "metadata": {
    "collapsed": false,
    "ExecuteTime": {
     "end_time": "2024-11-03T12:32:58.033540Z",
     "start_time": "2024-11-03T12:32:58.026792Z"
    }
   },
   "id": "3c3065faa4c6854e",
   "execution_count": 19
  },
  {
   "cell_type": "markdown",
   "source": [
    "## `pygraph` and JAX Transformations\n",
    "\n",
    "After converting `pygraph` to `pytree`, we can utilize JAX's function transformation capabilities to operate on it. For example, we can use JAX's `jit` function to compile the `MLP` model, use the `grad` function for automatic differentiation, and use the `vmap` function for batching operations, among others. These functions enable users to perform efficient computational operations on complex model structures with greater convenience.\n",
    "\n",
    "First, we define a simple dataset:"
   ],
   "metadata": {
    "collapsed": false
   },
   "id": "1afc66cb15816c4f"
  },
  {
   "cell_type": "code",
   "outputs": [],
   "source": [
    "X = jnp.linspace(0, 1, 100)[:, None]\n",
    "Y = 0.8 * X ** 2 + 0.1 + brainstate.random.normal(0, 0.1, size=X.shape)\n",
    "\n",
    "\n",
    "def dataset(batch_size):\n",
    "    while True:\n",
    "        idx = brainstate.random.choice(len(X), size=batch_size)\n",
    "        yield X[idx], Y[idx]"
   ],
   "metadata": {
    "collapsed": false,
    "ExecuteTime": {
     "end_time": "2024-11-03T12:32:58.225096Z",
     "start_time": "2024-11-03T12:32:58.034694Z"
    }
   },
   "id": "a5f6ace31b6bdc53",
   "execution_count": 20
  },
  {
   "cell_type": "markdown",
   "source": [
    "Next, we use the `jax.jit` function to compile the `MLP` model and apply the `jax.grad` function for automatic differentiation:"
   ],
   "metadata": {
    "collapsed": false
   },
   "id": "6cef2d59efc1c662"
  },
  {
   "cell_type": "code",
   "outputs": [],
   "source": [
    "@jax.jit\n",
    "def train_step(params, counts, batch):\n",
    "    x, y = batch\n",
    "\n",
    "    def loss_fn(params):\n",
    "        model = brainstate.graph.treefy_merge(graphdef, params, counts)\n",
    "        y_pred = model(x)\n",
    "        new_counts = brainstate.graph.treefy_states(model, Count)\n",
    "        loss = jnp.mean((y - y_pred) ** 2)\n",
    "        return loss, new_counts\n",
    "\n",
    "    grad, counts = jax.grad(loss_fn, has_aux=True)(params)\n",
    "    #                          |-------- sgd ---------|\n",
    "    params = jax.tree.map(lambda w, g: w - 0.1 * g, params, grad)\n",
    "\n",
    "    return params, counts"
   ],
   "metadata": {
    "collapsed": false,
    "ExecuteTime": {
     "end_time": "2024-11-03T12:32:58.230985Z",
     "start_time": "2024-11-03T12:32:58.226105Z"
    }
   },
   "id": "75b9f1a6b616d988",
   "execution_count": 21
  },
  {
   "cell_type": "markdown",
   "source": [
    "We will define a test function to compute the loss of the model:"
   ],
   "metadata": {
    "collapsed": false
   },
   "id": "96a6edb02e0e63e5"
  },
  {
   "cell_type": "code",
   "outputs": [],
   "source": [
    "@jax.jit\n",
    "def test_step(params, counts, batch):\n",
    "    x, y = batch\n",
    "    model = brainstate.graph.treefy_merge(graphdef, params, counts)\n",
    "    y_pred = model(x)\n",
    "    loss = jnp.mean((y - y_pred) ** 2)\n",
    "    return {'loss': loss}"
   ],
   "metadata": {
    "collapsed": false,
    "ExecuteTime": {
     "end_time": "2024-11-03T12:32:58.237379Z",
     "start_time": "2024-11-03T12:32:58.232519Z"
    }
   },
   "id": "acc3e21e53c47ff3",
   "execution_count": 22
  },
  {
   "cell_type": "markdown",
   "source": [
    "Next, let’s begin training the model:"
   ],
   "metadata": {
    "collapsed": false
   },
   "id": "e296a0432a2bc1d0"
  },
  {
   "cell_type": "code",
   "outputs": [
    {
     "name": "stdout",
     "output_type": "stream",
     "text": [
      "step: 0, loss: 2.275761365890503\n",
      "step: 1000, loss: 0.06494982540607452\n",
      "step: 2000, loss: 0.06554042547941208\n",
      "step: 3000, loss: 0.064922995865345\n",
      "step: 4000, loss: 0.0650036633014679\n",
      "step: 5000, loss: 0.06494753062725067\n",
      "step: 6000, loss: 0.06509506702423096\n",
      "step: 7000, loss: 0.06508783996105194\n",
      "step: 8000, loss: 0.06492926180362701\n",
      "step: 9000, loss: 0.06513587385416031\n"
     ]
    }
   ],
   "source": [
    "total_steps = 10_000\n",
    "for step, batch in enumerate(dataset(32)):\n",
    "    params_, counts_ = train_step(params_, counts_, batch)\n",
    "\n",
    "    if step % 1000 == 0:\n",
    "        logs = test_step(params_, counts_, (X, Y))\n",
    "        print(f\"step: {step}, loss: {logs['loss']}\")\n",
    "\n",
    "    if step >= total_steps - 1:\n",
    "        break"
   ],
   "metadata": {
    "collapsed": false,
    "ExecuteTime": {
     "end_time": "2024-11-03T12:33:07.319444Z",
     "start_time": "2024-11-03T12:32:58.238385Z"
    }
   },
   "id": "97d9b2cfd30ceef8",
   "execution_count": 23
  },
  {
   "cell_type": "markdown",
   "source": [
    "Finally, we restore the model and check the number of times it has been called:"
   ],
   "metadata": {
    "collapsed": false
   },
   "id": "86c4ff01fe3234d1"
  },
  {
   "cell_type": "code",
   "outputs": [
    {
     "name": "stdout",
     "output_type": "stream",
     "text": [
      "times called: 10000\n"
     ]
    }
   ],
   "source": [
    "model = brainstate.graph.treefy_merge(graphdef, params_, counts_)\n",
    "print('times called:', model.count.value)"
   ],
   "metadata": {
    "collapsed": false,
    "ExecuteTime": {
     "end_time": "2024-11-03T12:33:07.324758Z",
     "start_time": "2024-11-03T12:33:07.320453Z"
    }
   },
   "id": "a979d83f2e1841b1",
   "execution_count": 24
  },
  {
   "cell_type": "markdown",
   "source": [
    "Finally, we can use the trained model to make predictions on the data and view the prediction results:"
   ],
   "metadata": {
    "collapsed": false
   },
   "id": "8307e6bcbe1e76f1"
  },
  {
   "cell_type": "code",
   "outputs": [
    {
     "data": {
      "text/plain": "<Figure size 640x480 with 1 Axes>",
      "image/png": "[encoded data removed]"
     },
     "metadata": {},
     "output_type": "display_data"
    }
   ],
   "source": [
    "y_pred = model(X)\n",
    "\n",
    "import matplotlib.pyplot as plt\n",
    "\n",
    "plt.scatter(X, Y, color='blue')\n",
    "plt.plot(X, y_pred, color='black')\n",
    "plt.show()"
   ],
   "metadata": {
    "collapsed": false,
    "ExecuteTime": {
     "end_time": "2024-11-03T12:33:08.138535Z",
     "start_time": "2024-11-03T12:33:07.326080Z"
    }
   },
   "id": "135557b9d86e776c",
   "execution_count": 25
  },
  {
   "cell_type": "markdown",
   "source": [
    "## Summary\n",
    "\n",
    "`PyGraph` is a data structure specifically designed in the `brainstate` library to provide JAX function transformation support for complex graph structures. Its core value lies in:\n",
    "\n",
    "1. **Flexible Expression of Graph Structures**\n",
    "   - Compared to traditional tree structures (pytree), graph structures can represent more complex node relationships and dependencies.\n",
    "   - Supports cyclic references, making it suitable for expressing complex model structures.\n",
    "   - Nodes can contain arbitrary pytree array data or subgraph structures.\n",
    "\n",
    "2. **Seamless Integration with the JAX Ecosystem**\n",
    "   - Supports JAX's core functionalities, including automatic differentiation, vectorization, and parallelization.\n",
    "   - Provides a mechanism for converting between graph structures and pytree.\n",
    "   - Natively supports JAX function transformations such as `vmap` and `grad`.\n",
    "\n",
    "We hope that `PyGraph`, with its flexible structural design and powerful functionality, effectively addresses the technical challenges in building complex models."
   ],
   "metadata": {
    "collapsed": false
   },
   "id": "bb04ea610848576d"
  }
 ],
 "metadata": {
  "kernelspec": {
   "display_name": "Python 3",
   "language": "python",
   "name": "python3"
  },
  "language_info": {
   "codemirror_mode": {
    "name": "ipython",
    "version": 2
   },
   "file_extension": ".py",
   "mimetype": "text/x-python",
   "name": "python",
   "nbconvert_exporter": "python",
   "pygments_lexer": "ipython2",
   "version": "2.7.6"
  }
 },
 "nbformat": 4,
 "nbformat_minor": 5
}
