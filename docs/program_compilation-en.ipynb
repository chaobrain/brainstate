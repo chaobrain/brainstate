{
 "cells": [
  {
   "cell_type": "markdown",
   "source": [
    "# Program Compilation\n",
    "\n",
    "``BrainState`` enables cross-hardware compilation and deployment through ``brainstate.compile``, allowing Python code to be transformed into an intermediate representation (IR) and subsequently compiled and optimized for various hardware platforms (CPU, GPU and TPU).\n",
    "\n",
    "The compilation provided in ``BrainState`` is primarily integrated into ``brainstate.compile``. These compilation APIs encompass a range of syntactic functionalities, including:\n",
    "\t1.\tJust-in-Time Compilation (JIT): Supports JIT compilation to enhance computational efficiency and performance.\n",
    "\t2.\tConditional Statements: Enables if-else logic, allowing users to execute different computational processes based on varying conditions.\n",
    "\t3.\tLoop Statements: Supports for and while loops, enabling users to execute repetitive computational operations conveniently.\n",
    "\n",
    "The JAX framework itself offers highly practical transformation methods to optimize program performance ([Transformations](https://jax.readthedocs.io/en/latest/key-concepts.html#transformations)). Typically, JAX transformations operate on ``jax.Arrays`` within ``pytrees`` and adhere to value semantics. A significant portion of the computations in BrainPy relies on JAX. JAX provides Python programs with excellent transformations, including differentiation, vectorization, parallelization, and JIT compilation. However, JAX’s transformations are function-based rather than state-based. This means JAX cannot optimize ``State`` objects, as they are dynamically generated at runtime.\n",
    "\n",
    "To address this limitation, BrainPy introduces ``brainstate.compile``, which compiles ``State`` objects into computational graphs, enabling their optimization. These compilation extensions enhance JAX transformations, allowing ``State`` objects to be passed into and out of transformations.\n",
    "\n",
    "One of the key features of ``BrainState``’s compilation approach is its state-awareness: during program execution, any encountered ``State`` instance is compiled into the computational graph and executed on various hardware platforms. This compilation strategy empowers users to define arbitrarily complex programs, with the compiler optimizing based on actual runtime branches. This significantly improves computational efficiency. Moreover, the state-aware compilation model allows users to express program logic more flexibly without being constrained by concepts like `PyGraph` or ``PyTree``, thereby unlocking greater programming versatility.\n",
    "\n",
    "Below, we will delve into the specific usage of ``brainstate.compile``.\n"
   ],
   "metadata": {
    "collapsed": false
   },
   "id": "fe231b015e54d50d"
  },
  {
   "metadata": {
    "ExecuteTime": {
     "end_time": "2024-11-22T03:14:34.651865Z",
     "start_time": "2024-11-22T03:14:30.736969Z"
    }
   },
   "cell_type": "code",
   "source": [
    "import jax.numpy as jnp\n",
    "import jax\n",
    "import brainstate"
   ],
   "id": "6a2c4d007431be1",
   "outputs": [],
   "execution_count": 1
  },
  {
   "metadata": {},
   "cell_type": "markdown",
   "source": [
    "## Just-in-Time Compilation (JIT)\n",
    "\n",
    "``brainstate.compile`` supports JIT compilation, enhancing computational efficiency and performance. Users can leverage ``brainstate.compile.jit`` to compile functions just-in-time for improved execution efficiency. Here is an example:"
   ],
   "id": "7ab491a81cbac168"
  },
  {
   "metadata": {
    "ExecuteTime": {
     "end_time": "2024-11-22T03:14:34.937771Z",
     "start_time": "2024-11-22T03:14:34.653291Z"
    }
   },
   "cell_type": "code",
   "source": [
    "a = brainstate.State(brainstate.random.randn(10))\n",
    "\n",
    "@brainstate.compile.jit\n",
    "def fun1(inp):\n",
    "    a.value += inp\n",
    "\n",
    "    b = brainstate.State(brainstate.random.randn(1))\n",
    "\n",
    "    def inner_fun(x):\n",
    "        b.value += x\n",
    "\n",
    "    brainstate.compile.for_loop(inner_fun, brainstate.random.randn(100))\n",
    "\n",
    "    return a.value + b.value\n",
    "\n",
    "x = brainstate.random.randn(10)\n",
    "print(fun1(x))\n",
    "key = fun1.stateful_fun.get_arg_cache_key(x)\n",
    "fun1.stateful_fun.get_states(key)"
   ],
   "id": "c1809ce10f90f20e",
   "outputs": [
    {
     "name": "stdout",
     "output_type": "stream",
     "text": [
      "[ 6.094308   6.739417  11.3118305 12.238316   9.976001   9.109862\n",
      "  9.419138  10.82519   11.687967   7.8044806]\n"
     ]
    },
    {
     "data": {
      "text/plain": [
       "(State(\n",
       "   value=Array([-3.4689972 , -2.8238876 ,  1.7485251 ,  2.6750102 ,  0.41269594,\n",
       "          -0.45344275, -0.14416695,  1.2618849 ,  2.1246629 , -1.7588243 ],      dtype=float32)\n",
       " ),\n",
       " RandomState([1043340322 1926620362]))"
      ]
     },
     "execution_count": 2,
     "metadata": {},
     "output_type": "execute_result"
    }
   ],
   "execution_count": 2
  },
  {
   "metadata": {},
   "cell_type": "markdown",
   "source": [
    "In the code above, we define a function ``fun1``, which takes an input ``inp`` and performs operations on a ``State`` variable within the function. Inside the function, we define an inner function ``inner_fun`` and manipulate another ``State`` variable within it. At the end of ``fun1``, we return the sum of the two ``State`` variables.\n",
    "\n",
    "Finally, we call the ``fun1`` function with a random input ``x``. After the function call, we use ``fun1.stateful_fun.get_arg_cache_key`` to retrieve the cache key for the function call and ``fun1.stateful_fun.get_states`` to get all the ``State`` variables used in the function call. Notably, the local state variable ``b`` inside the function is not cached; it is optimized out during the computational graph construction. As a result, only the external variable ``a`` and the random state variable ``RandomState`` are cached, which helps reduce memory usage and improve computational efficiency.\n",
    "\n",
    "It is important to note that ``brainstate.compile.jit`` generates a cache. Therefore, when the function is called multiple times, the cache is only generated during the first call, and subsequent calls directly use the cached version. If recompilation is needed, the cache can be cleared using ``fun1.stateful_fun.clear_cache()``."
   ],
   "id": "671cd0db29029013"
  },
  {
   "metadata": {},
   "cell_type": "markdown",
   "source": [
    "## Conditional Statements\n",
    "\n",
    "``brainstate.compile`` supports conditional statements, enabling users to execute different computational flows based on varying conditions. It provides three functions for compiling conditional statements: ``brainstate.compile.cond``, ``brainstate.compile.switch``, and ``brainstate.compile.if_else``. Below, we explore the usage of these functions one by one.\n",
    "\n",
    "### Using ``brainstate.compile.cond``\n",
    "\n",
    "The usage of ``brainstate.compile.cond`` is as follows:"
   ],
   "id": "92766c51a4f08b76"
  },
  {
   "metadata": {
    "ExecuteTime": {
     "end_time": "2024-11-22T03:14:35.149947Z",
     "start_time": "2024-11-22T03:14:34.938404Z"
    }
   },
   "cell_type": "code",
   "source": [
    "st1 = brainstate.State(brainstate.random.rand(10))\n",
    "st2 = brainstate.State(brainstate.random.rand(2))\n",
    "st3 = brainstate.State(brainstate.random.rand(5))\n",
    "st4 = brainstate.State(brainstate.random.rand(2, 10))\n",
    "\n",
    "def true_fun(x):\n",
    "    st1.value = st2.value @ st4.value + x\n",
    "\n",
    "def false_fun(x):\n",
    "    st3.value = (st3.value + 1.) * x\n",
    "\n",
    "brainstate.compile.cond(True, true_fun, false_fun, 2.)"
   ],
   "id": "be35dd0a5ed6d0f3",
   "outputs": [],
   "execution_count": 3
  },
  {
   "metadata": {},
   "cell_type": "markdown",
   "source": [
    "If the parameter types are correct, the semantics of ``cond()`` are equivalent to Python’s implementation, where ``pred`` must be of scalar type.\n",
    "\n",
    "### Using ``brainstate.compile.switch``\n",
    "\n",
    "Next, here is the usage of ``brainstate.compile.switch``:"
   ],
   "id": "22ef423dfc481207"
  },
  {
   "metadata": {
    "ExecuteTime": {
     "end_time": "2024-11-22T03:14:35.190359Z",
     "start_time": "2024-11-22T03:14:35.151123Z"
    }
   },
   "cell_type": "code",
   "source": [
    "branches = [jax.lax.add, jax.lax.mul]\n",
    "\n",
    "def cfun(x):\n",
    "    return brainstate.compile.switch(x, branches, x, x)\n",
    "\n",
    "print(cfun(2), cfun(-1))"
   ],
   "id": "d8c1f1a049664e20",
   "outputs": [
    {
     "name": "stdout",
     "output_type": "stream",
     "text": [
      "4 -2\n"
     ]
    }
   ],
   "execution_count": 4
  },
  {
   "metadata": {},
   "cell_type": "markdown",
   "source": [
    "In the code above, we define a function ``cfun`` that takes an input ``x`` and selects different branch functions based on the value of ``x``. At the end of the function, we return the results of the computations from the two branch functions. After calling the function with inputs ``2`` and ``-1``, we can see that the function chooses different branch functions for computation based on the input value.\n",
    "\n",
    "### Using ``brainstate.compile.if_else``\n",
    "\n",
    "The usage of ``brainstate.compile.if_else`` is as follows:"
   ],
   "id": "e14f3d034f786bd5"
  },
  {
   "metadata": {
    "ExecuteTime": {
     "end_time": "2024-11-22T03:14:35.479651Z",
     "start_time": "2024-11-22T03:14:35.191437Z"
    }
   },
   "cell_type": "code",
   "source": [
    "def f(a):\n",
    "    return brainstate.compile.ifelse(conditions=[a < 0,\n",
    "                                                 a >= 0 and a < 2,\n",
    "                                                 a >= 2 and a < 5,\n",
    "                                                 a >= 5 and a < 10,\n",
    "                                                 a >= 10],\n",
    "                                     branches=[lambda: 1,\n",
    "                                        lambda: 2,\n",
    "                                        lambda: 3,\n",
    "                                        lambda: 4,\n",
    "                                        lambda: 5])\n",
    "\n",
    "assert f(3) == 3\n",
    "assert f(1) == 2\n",
    "assert f(-1) == 1"
   ],
   "id": "66b7eaf11766be24",
   "outputs": [],
   "execution_count": 5
  },
  {
   "metadata": {},
   "cell_type": "markdown",
   "source": [
    "In the code above, we define a function ``f`` that takes an input ``a`` and selects different branch functions based on the value of ``a``. At the end of the function, we return the computation result of the selected branch function. After calling the function with inputs ``3``, ``1``, and ``-1``, we observe that the function selects different branch functions for computation based on the input value.\n",
    "\n",
    "It is important to note that conditional statements do not have caching functionality. Each time the function is re-executed, it needs to be recompiled. Therefore, if the function will be called multiple times, it is recommended to use ``brainstate.compile.jit`` for just-in-time compilation."
   ],
   "id": "1fadb3a9c153e9a7"
  },
  {
   "metadata": {},
   "cell_type": "markdown",
   "source": [
    "## Loop Statements\n",
    "\n",
    "``brainstate.compile`` supports for loops, allowing users to repeatedly execute the same computational operations. It provides two compilation functions for loop statements: ``brainstate.compile.for_loop`` and ``brainstate.compile.while_loop``. Below, we will explore the usage of these two loop statements.\n",
    "\n",
    "### ``Using brainstate.compile.for_loop``\n",
    "\n",
    "The usage of ``brainstate.compile.for_loop`` is as follows:"
   ],
   "id": "3b3ce7f3289d0df3"
  },
  {
   "metadata": {
    "ExecuteTime": {
     "end_time": "2024-11-22T03:14:35.514979Z",
     "start_time": "2024-11-22T03:14:35.480263Z"
    }
   },
   "cell_type": "code",
   "source": [
    "a = brainstate.ShortTermState(0.)\n",
    "b = brainstate.ShortTermState(0.)\n",
    "\n",
    "def f(i):\n",
    "    a.value += (1 + b.value)\n",
    "    return a.value\n",
    "\n",
    "n_iter = 10\n",
    "ops = jnp.arange(n_iter)\n",
    "r = brainstate.compile.for_loop(f, ops)\n",
    "\n",
    "print(a)\n",
    "print(b)"
   ],
   "id": "2cd590ade4b05ecb",
   "outputs": [
    {
     "name": "stdout",
     "output_type": "stream",
     "text": [
      "ShortTermState(\n",
      "  value=Array(10., dtype=float32, weak_type=True)\n",
      ")\n",
      "ShortTermState(\n",
      "  value=0.0\n",
      ")\n"
     ]
    }
   ],
   "execution_count": 6
  },
  {
   "metadata": {},
   "cell_type": "markdown",
   "source": [
    "In the code above, we define a function ``f`` that takes an input ``i`` and performs operations on a ``State`` variable within the function. At the end of the function, we return the value of the ``State`` variable ``a``. After calling the function with an array ``jnp.arange(n_iter)``, the function is executed in a loop ``n_iter`` times. Following the function call, we print the values of the ``State`` variables ``a`` and ``b``. It can be observed that the value of ``a`` is computed as ``a.value + n_iter * (1 + b.value)``.\n",
    "\n",
    "### Using ``brainstate.compile.while_loop``\n",
    "\n",
    "The usage of ``brainstate.compile.while_loop`` is as follows:"
   ],
   "id": "740277cfc157c244"
  },
  {
   "metadata": {
    "ExecuteTime": {
     "end_time": "2024-11-22T03:14:35.531078Z",
     "start_time": "2024-11-22T03:14:35.515703Z"
    }
   },
   "cell_type": "code",
   "source": [
    "a = brainstate.State(1.)\n",
    "b = brainstate.State(20.)\n",
    "\n",
    "def cond(x):\n",
    "    return a.value < b.value\n",
    "\n",
    "def body(x):\n",
    "    a.value += x\n",
    "    return x\n",
    "\n",
    "r = brainstate.compile.while_loop(cond, body, 1.)\n",
    "\n",
    "print(a.value, b.value, r)"
   ],
   "id": "8a58f7e0fbd6a399",
   "outputs": [
    {
     "name": "stdout",
     "output_type": "stream",
     "text": [
      "20.0 20.0 1.0\n"
     ]
    }
   ],
   "execution_count": 7
  },
  {
   "metadata": {},
   "cell_type": "markdown",
   "source": [
    "In addition to the two loop statements mentioned earlier, another commonly used loop statement is brainstate.compile.scan. Its Python version can be understood as:\n",
    "```python\n",
    "def scan(f, init, xs, length=None):\n",
    "    if xs is None:\n",
    "        xs = [None] * length\n",
    "    carry = init\n",
    "    ys = []\n",
    "    for x in xs:\n",
    "        carry, y = f(carry, x)\n",
    "        ys.append(y)\n",
    "    return carry, np.stack(ys)\n",
    "```\n",
    "\n",
    "Differences from the Python Version\n",
    "1.\tSupport for ``Pytrees``: Unlike the Python version, both ``xs`` and ``ys`` in ``scan()`` can be arbitrary ``pytree`` values. This allows for simultaneously scanning multiple arrays and producing multiple output arrays. ``None`` is a special case, representing an empty ``pytree``.\n",
    "2.  Lowered to WhileOp: Unlike the Python version, ``scan()`` is a JAX primitive that can be lowered to a single ``WhileOp``. This makes it particularly useful for reducing JIT compilation time. Native Python loop structures within a ``jit()`` function are typically unrolled, leading to a significant increase in XLA computations.\n",
    "\n",
    "It is also important to note that loop statements, including ``scan()``, do not have caching functionality. Each time the function is re-executed, it needs to be recompiled. Therefore, if the function will be called multiple times, it is recommended to use ``brainstate.compile.jit`` for just-in-time compilation."
   ],
   "id": "d2c1ebfb4188f772"
  },
  {
   "metadata": {},
   "cell_type": "markdown",
   "source": [
    "## Nested Usage of Program Compilation\n",
    "\n",
    "A unique feature of ``BrainState`` compilation is its ability to nest calls to both JAX’s function-based compilation functions and ``BrainState``’s built-in state-aware compilation functions. Any ``State`` variables generated or utilized in intermediate steps will only exist as local variables and will be optimized out throughout the program. This characteristic results in lower memory usage and faster execution. Here’s an example:"
   ],
   "id": "99d146907ae08b3a"
  },
  {
   "metadata": {
    "ExecuteTime": {
     "end_time": "2024-11-22T03:14:35.556881Z",
     "start_time": "2024-11-22T03:14:35.531903Z"
    }
   },
   "cell_type": "code",
   "source": [
    "b = brainstate.State(0.)\n",
    "\n",
    "\n",
    "def add(i):\n",
    "    c = brainstate.State(0.)\n",
    "\n",
    "    def cond(j):\n",
    "        return j <= i\n",
    "\n",
    "    def body(j):\n",
    "        c.value += 1.\n",
    "        return j + 1\n",
    "\n",
    "    brainstate.compile.while_loop(cond, body, 0.)\n",
    "\n",
    "    b.value += c.value\n",
    "\n",
    "\n",
    "brainstate.compile.for_loop(add, jnp.arange(10))\n",
    "\n",
    "print(b.value)"
   ],
   "id": "3f423d8229fe3215",
   "outputs": [
    {
     "name": "stdout",
     "output_type": "stream",
     "text": [
      "55.0\n"
     ]
    }
   ],
   "execution_count": 8
  },
  {
   "metadata": {},
   "cell_type": "markdown",
   "source": [
    "In the program above, we define a function ``add``, which internally calls ``while_loop`` within a loop. Inside the ``while_loop``, we define a local variable ``c`` and perform cumulative additions to it during the loop. Throughout the program, ``c`` remains a local variable and is not cached during compilation. This nested calling approach makes the program more flexible while ensuring optimal performance.\n",
    "\n",
    "It is worth noting that JAX transformations can also be nested with ``BrainState``‘s compilation functions, allowing for better utilization of JAX’s optimization capabilities. Since ``BrainState`` compilation functions are state-aware, they introduce a small compilation overhead. This overhead, though minimal, might make them slightly slower than JAX transformations. Therefore, in practice, choosing the appropriate compilation function depends on the specific requirements of the application."
   ],
   "id": "6027045c64438267"
  }
 ],
 "metadata": {
  "kernelspec": {
   "display_name": "Python 3",
   "language": "python",
   "name": "python3"
  },
  "language_info": {
   "codemirror_mode": {
    "name": "ipython",
    "version": 2
   },
   "file_extension": ".py",
   "mimetype": "text/x-python",
   "name": "python",
   "nbconvert_exporter": "python",
   "pygments_lexer": "ipython2",
   "version": "2.7.6"
  }
 },
 "nbformat": 4,
 "nbformat_minor": 5
}
