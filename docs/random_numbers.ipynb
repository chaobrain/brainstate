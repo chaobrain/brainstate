{
 "cells": [
  {
   "cell_type": "markdown",
   "source": [
    "# Random Number Generation"
   ],
   "metadata": {
    "collapsed": false
   },
   "id": "230760979d82fbcd"
  },
  {
   "cell_type": "markdown",
   "source": [
    "The ``brainstate.random`` module implements pseudo-random number generators (PRNGs or RNGs, for short) with the ability to draw samples from a variety of probability distributions. In general, the syntax of random number generation of ``brainstate.random`` is the same as ``numpy.random`` module. "
   ],
   "metadata": {
    "collapsed": false
   },
   "id": "dddfe7fd11b460f7"
  },
  {
   "cell_type": "code",
   "source": [
    "import brainstate\n",
    "import jax.numpy as jnp"
   ],
   "metadata": {
    "collapsed": false,
    "ExecuteTime": {
     "end_time": "2025-10-07T12:47:32.897452Z",
     "start_time": "2025-10-07T12:47:32.893945Z"
    }
   },
   "id": "7724835268dc9f6",
   "outputs": [],
   "execution_count": 19
  },
  {
   "cell_type": "markdown",
   "source": [
    "## API Overview\n",
    "\n",
    "The ``brainstate.random`` module provides a wide range of functions for random number generation and sampling from probability distributions. Here is an overview of the main categories of functions available in the module:\n",
    "\n",
    "| Category          | API Functions                                                              |\n",
    "|-------------------|----------------------------------------------------------------------------|\n",
    "| Random Sampling   | `rand`, `randn`, `randint`, `choice`                                       |\n",
    "| Distributions     | `normal`, `uniform`, `binomial`, `poisson`, `beta`, `gamma`, `exponential` |\n",
    "| Random Functions  | `shuffle`, `permutation`                                                   |\n",
    "| Random Generators | `RandomState`                                                              |\n",
    "\n",
    "\n",
    "In essence, all random functions that are available in the `brainstate.random` module comes from the built-in functions of ``RandomState`` class. ``RandomState`` is a type of ``brainstate.State`` that is used to generate random numbers. all random functions are utilizing the ``DEFAULT`` instance of ``RandomState``."
   ],
   "metadata": {
    "collapsed": false
   },
   "id": "ff4331f95839e85e"
  },
  {
   "cell_type": "code",
   "source": "brainstate.random.DEFAULT",
   "metadata": {
    "collapsed": false,
    "ExecuteTime": {
     "end_time": "2025-10-07T12:47:32.918659Z",
     "start_time": "2025-10-07T12:47:32.913912Z"
    }
   },
   "id": "6a3746e719381c04",
   "outputs": [
    {
     "data": {
      "text/plain": [
       "RandomState([ 0 42])"
      ]
     },
     "execution_count": 20,
     "metadata": {},
     "output_type": "execute_result"
    }
   ],
   "execution_count": 20
  },
  {
   "cell_type": "markdown",
   "source": [
    "## Random Sampling\n",
    "\n",
    "The `brainstate.random` module provides several functions for generating random samples from different distributions. Some of the key functions include:\n",
    "\n",
    "- **rand**: Generates random samples from a uniform distribution over [0, 1).\n",
    "- **randn**: Generates random samples from a standard normal distribution.\n",
    "- **randint**: Generates random integers from a specified range.\n",
    "- **choice**: Generates a random sample from a given 1-D array.\n",
    "- **shuffle**: Shuffles the contents of a given array in place."
   ],
   "metadata": {
    "collapsed": false
   },
   "id": "f4a13411b1c9cfa2"
  },
  {
   "cell_type": "code",
   "source": [
    "# Generate 5 random samples from a uniform distribution over [0, 1)\n",
    "samples = brainstate.random.rand(5)\n",
    "print(\"Uniform samples:\", samples)"
   ],
   "metadata": {
    "collapsed": false,
    "ExecuteTime": {
     "end_time": "2025-10-07T12:47:32.954211Z",
     "start_time": "2025-10-07T12:47:32.947846Z"
    }
   },
   "id": "3bdf5c4c909f4e3e",
   "outputs": [
    {
     "name": "stdout",
     "output_type": "stream",
     "text": [
      "Uniform samples: [0.72766423 0.78786755 0.18169427 0.26263022 0.11072934]\n"
     ]
    }
   ],
   "execution_count": 21
  },
  {
   "cell_type": "code",
   "source": [
    "# Generate 5 random samples from a standard normal distribution\n",
    "normal_samples = brainstate.random.randn(5)\n",
    "print(\"Normal samples:\", normal_samples)"
   ],
   "metadata": {
    "collapsed": false,
    "ExecuteTime": {
     "end_time": "2025-10-07T12:47:32.994731Z",
     "start_time": "2025-10-07T12:47:32.989762Z"
    }
   },
   "id": "938ca61e0dc053ce",
   "outputs": [
    {
     "name": "stdout",
     "output_type": "stream",
     "text": [
      "Normal samples: [-0.21089035 -1.3627948  -0.04500385 -1.1536394   1.9141139 ]\n"
     ]
    }
   ],
   "execution_count": 22
  },
  {
   "cell_type": "code",
   "source": [
    "# Generate 5 random integers between 0 and 10\n",
    "int_samples = brainstate.random.randint(0, 10, 5)\n",
    "print(\"Integer samples:\", int_samples)"
   ],
   "metadata": {
    "collapsed": false,
    "ExecuteTime": {
     "end_time": "2025-10-07T12:47:33.023640Z",
     "start_time": "2025-10-07T12:47:33.017775Z"
    }
   },
   "id": "93592d115567567a",
   "outputs": [
    {
     "name": "stdout",
     "output_type": "stream",
     "text": [
      "Integer samples: [0 2 0 0 8]\n"
     ]
    }
   ],
   "execution_count": 23
  },
  {
   "cell_type": "code",
   "source": [
    "# Generate a random sample from a given 1-D array\n",
    "array = [1, 2, 3, 4, 5]\n",
    "choice_sample = brainstate.random.choice(array, 3)\n",
    "print(\"Choice samples:\", choice_sample)"
   ],
   "metadata": {
    "collapsed": false,
    "ExecuteTime": {
     "end_time": "2025-10-07T12:47:33.048614Z",
     "start_time": "2025-10-07T12:47:33.039741Z"
    }
   },
   "id": "589aa4e95bf0ab87",
   "outputs": [
    {
     "name": "stdout",
     "output_type": "stream",
     "text": [
      "Choice samples: [4 4 4]\n"
     ]
    }
   ],
   "execution_count": 24
  },
  {
   "cell_type": "code",
   "source": [
    "# Shuffle the contents of the array\n",
    "array = brainstate.random.shuffle(jnp.asarray(array))\n",
    "print(\"Shuffled array:\", array)"
   ],
   "metadata": {
    "collapsed": false,
    "ExecuteTime": {
     "end_time": "2025-10-07T12:47:33.072306Z",
     "start_time": "2025-10-07T12:47:33.064621Z"
    }
   },
   "id": "a1b5ceb209d46dfe",
   "outputs": [
    {
     "name": "stdout",
     "output_type": "stream",
     "text": [
      "Shuffled array: [5 3 4 1 2]\n"
     ]
    }
   ],
   "execution_count": 25
  },
  {
   "cell_type": "markdown",
   "source": [
    "## Distributions\n",
    "\n",
    "The `brainstate.random` module provides functions for generating random samples from a variety of probability distributions. Some of the key functions include:\n",
    "\n",
    "- **normal**: Draws samples from a normal (Gaussian) distribution.\n",
    "- **uniform**: Draws samples from a uniform distribution.\n",
    "- **binomial**: Draws samples from a binomial distribution.\n",
    "- **poisson**: Draws samples from a Poisson distribution.\n",
    "- **beta**: Draws samples from a beta distribution.\n",
    "- **gamma**: Draws samples from a gamma distribution.\n",
    "- **exponential**: Draws samples from an exponential distribution.\n"
   ],
   "metadata": {
    "collapsed": false
   },
   "id": "f574683a3cf8bd24"
  },
  {
   "cell_type": "code",
   "source": [
    "# Generate 5 samples from a normal distribution with mean 0 and standard deviation 1\n",
    "normal_dist_samples = brainstate.random.normal(0, 1, 5)\n",
    "print(\"Normal distribution samples:\", normal_dist_samples)"
   ],
   "metadata": {
    "collapsed": false,
    "ExecuteTime": {
     "end_time": "2025-10-07T12:47:33.101984Z",
     "start_time": "2025-10-07T12:47:33.096867Z"
    }
   },
   "id": "2a4016c97e9ec69f",
   "outputs": [
    {
     "name": "stdout",
     "output_type": "stream",
     "text": [
      "Normal distribution samples: [ 0.8162971  -1.0413978  -0.09381925  1.2889506  -0.8274624 ]\n"
     ]
    }
   ],
   "execution_count": 26
  },
  {
   "cell_type": "code",
   "source": [
    "# Generate 5 samples from a uniform distribution between 0 and 1\n",
    "uniform_dist_samples = brainstate.random.uniform(0, 1, 5)\n",
    "print(\"Uniform distribution samples:\", uniform_dist_samples)"
   ],
   "metadata": {
    "collapsed": false,
    "ExecuteTime": {
     "end_time": "2025-10-07T12:47:33.128301Z",
     "start_time": "2025-10-07T12:47:33.122441Z"
    }
   },
   "id": "ad42cfc68efeb896",
   "outputs": [
    {
     "name": "stdout",
     "output_type": "stream",
     "text": [
      "Uniform distribution samples: [0.15170193 0.3750403  0.9790039  0.7155137  0.607615  ]\n"
     ]
    }
   ],
   "execution_count": 27
  },
  {
   "cell_type": "code",
   "source": [
    "# Generate 5 samples from a binomial distribution with n=10 and p=0.5\n",
    "binomial_dist_samples = brainstate.random.binomial(10, 0.5, 5)\n",
    "print(\"Binomial distribution samples:\", binomial_dist_samples)"
   ],
   "metadata": {
    "collapsed": false,
    "ExecuteTime": {
     "end_time": "2025-10-07T12:47:33.171024Z",
     "start_time": "2025-10-07T12:47:33.147045Z"
    }
   },
   "id": "22e71b4dd19744a2",
   "outputs": [
    {
     "name": "stdout",
     "output_type": "stream",
     "text": [
      "Binomial distribution samples: [5 5 3 5 3]\n"
     ]
    }
   ],
   "execution_count": 28
  },
  {
   "cell_type": "code",
   "source": [
    "# Generate 5 samples from a Poisson distribution with lambda=3\n",
    "poisson_dist_samples = brainstate.random.poisson(3, 5)\n",
    "print(\"Poisson distribution samples:\", poisson_dist_samples)"
   ],
   "metadata": {
    "collapsed": false,
    "ExecuteTime": {
     "end_time": "2025-10-07T12:47:33.188054Z",
     "start_time": "2025-10-07T12:47:33.182301Z"
    }
   },
   "id": "df476ddc47d413a9",
   "outputs": [
    {
     "name": "stdout",
     "output_type": "stream",
     "text": [
      "Poisson distribution samples: [4 3 3 2 4]\n"
     ]
    }
   ],
   "execution_count": 29
  },
  {
   "cell_type": "markdown",
   "source": [
    "## Random Seed Control\n",
    "\n",
    "The `brainstate.random` module provides functions for controlling the random number generator's seed and internal random keys. Some of the key functions include:\n",
    "\n",
    "- **seed**: Seeds the random number generator.\n",
    "- **set_key**: Sets the internal random key of the random number generator."
   ],
   "metadata": {
    "collapsed": false
   },
   "id": "e2ea95814094fa4a"
  },
  {
   "cell_type": "code",
   "source": [
    "# Seed the random number generator\n",
    "brainstate.random.seed(42)"
   ],
   "metadata": {
    "collapsed": false,
    "ExecuteTime": {
     "end_time": "2025-10-07T12:47:33.210904Z",
     "start_time": "2025-10-07T12:47:33.206672Z"
    }
   },
   "id": "5480509c4a1c58b1",
   "outputs": [],
   "execution_count": 30
  },
  {
   "cell_type": "code",
   "source": [
    "# Get the internal state of the random number generator\n",
    "state = brainstate.random.get_key()\n",
    "print(\"Random generator key:\", state)"
   ],
   "metadata": {
    "collapsed": false,
    "ExecuteTime": {
     "end_time": "2025-10-07T12:47:33.261277Z",
     "start_time": "2025-10-07T12:47:33.257226Z"
    }
   },
   "id": "27dc45c891e1bb31",
   "outputs": [
    {
     "name": "stdout",
     "output_type": "stream",
     "text": [
      "Random generator key: [ 0 42]\n"
     ]
    }
   ],
   "execution_count": 31
  },
  {
   "cell_type": "code",
   "source": [
    "# Set the internal state of the random number generator\n",
    "brainstate.random.set_key(state)"
   ],
   "metadata": {
    "collapsed": false,
    "ExecuteTime": {
     "end_time": "2025-10-07T12:47:33.291754Z",
     "start_time": "2025-10-07T12:47:33.288627Z"
    }
   },
   "id": "df9f1b1a891a8113",
   "outputs": [],
   "execution_count": 32
  },
  {
   "cell_type": "markdown",
   "source": [
    "## Random Generators\n",
    "\n",
    "The `brainstate.random` module provides a `RandomState` class that can be used to create custom random number generators with their own internal state. This can be useful when you need to generate random numbers in a reproducible manner across different runs of your program. \n",
    "\n",
    "Our RNGs are deterministic sequences and can be reproduced by specifying a seed integer to derive its initial state. The seed can be any integer value, and the same seed will always produce the same sequence of random numbers.\n",
    "\n",
    "Here is an example of how to create a custom random number generator using the `RandomState` class:"
   ],
   "metadata": {
    "collapsed": false
   },
   "id": "891ef892ae243f2d"
  },
  {
   "cell_type": "code",
   "source": [
    "# Create a custom random number generator\n",
    "custom_rng = brainstate.random.RandomState(42)"
   ],
   "metadata": {
    "collapsed": false,
    "ExecuteTime": {
     "end_time": "2025-10-07T12:47:33.327107Z",
     "start_time": "2025-10-07T12:47:33.322813Z"
    }
   },
   "id": "cf8892d7a4a23211",
   "outputs": [],
   "execution_count": 33
  },
  {
   "cell_type": "code",
   "source": [
    "# Generate random samples using the custom random number generator\n",
    "samples = custom_rng.randn(5)\n",
    "print(\"Custom random samples:\", samples)"
   ],
   "metadata": {
    "collapsed": false,
    "ExecuteTime": {
     "end_time": "2025-10-07T12:47:33.341127Z",
     "start_time": "2025-10-07T12:47:33.335755Z"
    }
   },
   "id": "64ebd13e567cc95d",
   "outputs": [
    {
     "name": "stdout",
     "output_type": "stream",
     "text": [
      "Custom random samples: [ 0.60576403  0.7990441  -0.908927   -0.63525754 -1.2226585 ]\n"
     ]
    }
   ],
   "execution_count": 34
  },
  {
   "cell_type": "code",
   "source": [
    "# Seed the custom random number generator\n",
    "custom_rng.seed(123)"
   ],
   "metadata": {
    "collapsed": false,
    "ExecuteTime": {
     "end_time": "2025-10-07T12:47:33.361418Z",
     "start_time": "2025-10-07T12:47:33.357766Z"
    }
   },
   "id": "9c1f8d3c3a5a1fe",
   "outputs": [],
   "execution_count": 35
  },
  {
   "cell_type": "code",
   "source": [
    "# Generate random samples using the custom random number generator after seeding\n",
    "samples = custom_rng.randn(5)\n",
    "print(\"Custom random samples after seeding:\", samples)"
   ],
   "metadata": {
    "collapsed": false,
    "ExecuteTime": {
     "end_time": "2025-10-07T12:47:33.389611Z",
     "start_time": "2025-10-07T12:47:33.384634Z"
    }
   },
   "id": "a3b5f187004a1dc9",
   "outputs": [
    {
     "name": "stdout",
     "output_type": "stream",
     "text": [
      "Custom random samples after seeding: [-0.7828054  -1.5373377  -0.5513038  -0.02385257  1.164293  ]\n"
     ]
    }
   ],
   "execution_count": 36
  }
 ],
 "metadata": {
  "kernelspec": {
   "display_name": "Python 3",
   "language": "python",
   "name": "python3"
  },
  "language_info": {
   "codemirror_mode": {
    "name": "ipython",
    "version": 2
   },
   "file_extension": ".py",
   "mimetype": "text/x-python",
   "name": "python",
   "nbconvert_exporter": "python",
   "pygments_lexer": "ipython2",
   "version": "2.7.6"
  }
 },
 "nbformat": 4,
 "nbformat_minor": 5
}
