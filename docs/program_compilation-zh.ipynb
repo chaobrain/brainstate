{
 "cells": [
  {
   "cell_type": "markdown",
   "source": [
    "# 程序编译\n",
    "\n",
    "``BrainState`` 通过 ``brainstate.compile`` 实现了跨硬件的编译部署，可以将Python代码转换为程序中间表示（IR），并在不同硬件上进行编译和优化。\n",
    "\n",
    "``brainstate``中提供的编译支持主要集成在``brainstate.compile``中。这些编译APIs囊括了一系列语法功能，包括：\n",
    "\n",
    "- 即时编译： 支持 JIT 即时编译，提高计算效率和性能。\n",
    "- 条件语句： 支持 if-else 逻辑，方便用户根据不同条件执行不同的计算流程。\n",
    "- 循环语句： 支持 for，while 循环，方便用户重复执行相同的计算操作。\n",
    "\n",
    "JAX框架本身提供了非常实用的转换方法（[Transformations](https://jax.readthedocs.io/en/latest/key-concepts.html#transformations)）来优化程序的性能。一般来说，JAX 转换在 ``jax.Arrays`` 的 ``pytrees`` 上运行，并遵循值语义。BrainPy 中的大部分计算都依赖于 JAX。JAX 为 Python 程序提供了出色的变换，包括微分、向量化、并行化和即时编译。然而，JAX 的转换是基于函数的，而不是基于状态的。这意味着，JAX 无法对``State``进行优化，因为``State``是在运行时动态生成的。为了解决这个问题，BrainPy 提供了 ``brainstate.compile``，它可以将``State``编译为计算图，从而实现对``State``的优化，这些编译集扩展了 JAX 转换，允许 ``State`` 对象传入和传出转换。\n",
    "\n",
    "brainstate编译的一大特色是，它只对``State``感知：在程序运行过程中，只要遇到一个``State``实例，就会将其编译进计算图，然后在不同硬件上运行。这种编译方式使得用户能够任意定义复杂的程序，而编译器会根据程序的实际运行分支进行针对性的优化，以此极大提高计算效率。同时，只对``State``感知的编译模式还使得用户能够更灵活地表达程序逻辑，而不用在意``PyGraph``、``PyTree``等概念的限制，从而彻底释放编程的灵活性。下面我们将介绍``brainstate.compile``的具体用法。\n"
   ],
   "metadata": {
    "collapsed": false
   },
   "id": "2e590ee96f9cc252"
  },
  {
   "metadata": {
    "ExecuteTime": {
     "end_time": "2024-11-10T14:11:48.424962Z",
     "start_time": "2024-11-10T14:11:48.419431Z"
    }
   },
   "cell_type": "code",
   "source": [
    "import jax.numpy as jnp\n",
    "import jax\n",
    "import brainstate"
   ],
   "id": "fd2a99cfbcdf4d01",
   "outputs": [],
   "execution_count": 9
  },
  {
   "metadata": {},
   "cell_type": "markdown",
   "source": [
    "## 即时编译\n",
    "``brainstate.compile`` 支持 JIT 即时编译，提高计算效率和性能。用户可以使用``brainstate.compile.jit``对函数进行即时编译，以提高计算效率。下面是一个例子："
   ],
   "id": "a77f27aa2a7d9d24"
  },
  {
   "metadata": {
    "ExecuteTime": {
     "end_time": "2024-11-10T13:46:17.972379Z",
     "start_time": "2024-11-10T13:46:17.775157Z"
    }
   },
   "cell_type": "code",
   "source": [
    "a = brainstate.State(brainstate.random.randn(10))\n",
    "\n",
    "@brainstate.compile.jit\n",
    "def fun1(inp):\n",
    "    a.value += inp\n",
    "\n",
    "    b = brainstate.State(brainstate.random.randn(1))\n",
    "\n",
    "    def inner_fun(x):\n",
    "        b.value += x\n",
    "\n",
    "    brainstate.compile.for_loop(inner_fun, brainstate.random.randn(100))\n",
    "\n",
    "    return a.value + b.value\n",
    "\n",
    "x = brainstate.random.randn(10)\n",
    "print(fun1(x))\n",
    "key = fun1.stateful_fun.get_arg_cache_key(x)\n",
    "fun1.stateful_fun.get_states(key)"
   ],
   "id": "b165d79cc936f6b",
   "outputs": [
    {
     "name": "stdout",
     "output_type": "stream",
     "text": [
      "[1.9970131 1.8363075 1.2407477 3.2610366 2.4621444 0.8094802 3.0505526\n",
      " 3.3499    0.5930283 1.8049405]\n"
     ]
    },
    {
     "data": {
      "text/plain": [
       "(State(\n",
       "   value=Array([-0.47143596, -0.63214153, -1.2277014 ,  0.79258746, -0.00630462,\n",
       "          -1.6589689 ,  0.5821035 ,  0.88145095, -1.8754208 , -0.6635086 ],      dtype=float32)\n",
       " ),\n",
       " RandomState([1811064066  170626415]))"
      ]
     },
     "execution_count": 5,
     "metadata": {},
     "output_type": "execute_result"
    }
   ],
   "execution_count": 5
  },
  {
   "metadata": {},
   "cell_type": "markdown",
   "source": [
    "在上述代码中，我们定义了一个函数``fun1``，它接受一个输入``inp``，并在函数内部对``State``变量进行操作。在函数内部，我们定义了一个内部函数``inner_fun``，并在内部函数中对另一个``State``变量进行操作。在函数的最后，我们返回了两个``State``变量的和。在函数的最后，我们调用了``fun1``函数，并传入了一个随机的输入``x``。在函数调用之后，我们通过``fun1.stateful_fun.get_arg_cache_key``获取了函数调用的缓存键，并通过``fun1.stateful_fun.get_states``获取了函数调用的所有``State``变量。可以发现函数内部的局部状态变量`b`并没有被缓存，在构建计算图时会被优化掉。因此，只有定义在外部的`a`和随机数`RandomState`会被缓存，这样可以减少内存占用，提高计算效率。\n",
    "\n",
    "需要特别注意的是，``brainstat.compile.jit`` 是会产生缓存的，因此被调用多次时，只有第一次会产生缓存，后续调用会直接使用缓存。如果需要重新编译，可以使用``fun1.stateful_fun.clear_cache()``清除缓存。"
   ],
   "id": "68b1ff3c9ccb8d9b"
  },
  {
   "metadata": {},
   "cell_type": "markdown",
   "source": [
    "## 条件语句\n",
    "``brainstate.compile`` 支持条件语句，用户可以根据不同的条件执行不同的计算流程。这里我们提供了``brainstate.compile.cond``，``brainstate.compile.switch``和``brainstate.compile.if_else``三种条件语句的编译函数。我们依次来看一下这三种条件语句的用法。\n",
    "\n",
    "首先是``brainstate.compile.cond``，它的用法如下："
   ],
   "id": "6e8c7923cb9f2ade"
  },
  {
   "metadata": {
    "ExecuteTime": {
     "end_time": "2024-11-10T14:03:23.671893Z",
     "start_time": "2024-11-10T14:03:23.609649Z"
    }
   },
   "cell_type": "code",
   "source": [
    "st1 = brainstate.State(brainstate.random.rand(10))\n",
    "st2 = brainstate.State(brainstate.random.rand(2))\n",
    "st3 = brainstate.State(brainstate.random.rand(5))\n",
    "st4 = brainstate.State(brainstate.random.rand(2, 10))\n",
    "\n",
    "def true_fun(x):\n",
    "    st1.value = st2.value @ st4.value + x\n",
    "\n",
    "def false_fun(x):\n",
    "    st3.value = (st3.value + 1.) * x\n",
    "\n",
    "brainstate.compile.cond(True, true_fun, false_fun, 2.)"
   ],
   "id": "5e421d1e36a70616",
   "outputs": [],
   "execution_count": 8
  },
  {
   "metadata": {},
   "cell_type": "markdown",
   "source": [
    "如果参数类型正确，``cond()`` 的语义与 Python 的实现相当，其中 ``pred`` 必须是标量类型。\n",
    "\n",
    "其次是``brainstate.compile.switch``，它的用法如下："
   ],
   "id": "7f18922e4217f7af"
  },
  {
   "metadata": {
    "ExecuteTime": {
     "end_time": "2024-11-10T14:13:38.070185Z",
     "start_time": "2024-11-10T14:13:37.994612Z"
    }
   },
   "cell_type": "code",
   "source": [
    "branches = [jax.lax.add, jax.lax.mul]\n",
    "\n",
    "def cfun(x):\n",
    "    return brainstate.compile.switch(x, branches, x, x)\n",
    "\n",
    "print(cfun(2), cfun(-1))"
   ],
   "id": "45518cbb9ef93139",
   "outputs": [
    {
     "name": "stdout",
     "output_type": "stream",
     "text": [
      "4 -2\n"
     ]
    }
   ],
   "execution_count": 12
  },
  {
   "metadata": {},
   "cell_type": "markdown",
   "source": [
    "在上面的代码中，我们定义了一个函数``cfun``，它接受一个输入``x``，并根据``x``的值选择不同的分支函数。在函数的最后，我们返回了两个分支函数的计算结果。在函数调用之后，我们分别传入了``2``和``-1``两个输入，可以发现函数会根据输入的值选择不同的分支函数进行计算。\n",
    "\n",
    "最后是``brainstate.compile.if_else``，它的用法如下："
   ],
   "id": "7c4a2c4ecd75adac"
  },
  {
   "metadata": {
    "ExecuteTime": {
     "end_time": "2024-11-10T14:14:52.109407Z",
     "start_time": "2024-11-10T14:14:51.789540Z"
    }
   },
   "cell_type": "code",
   "source": [
    "def f(a):\n",
    "    return brainstate.compile.ifelse(conditions=[a < 0,\n",
    "                                                 a >= 0 and a < 2,\n",
    "                                                 a >= 2 and a < 5,\n",
    "                                                 a >= 5 and a < 10,\n",
    "                                                 a >= 10],\n",
    "                                     branches=[lambda: 1,\n",
    "                                        lambda: 2,\n",
    "                                        lambda: 3,\n",
    "                                        lambda: 4,\n",
    "                                        lambda: 5])\n",
    "\n",
    "assert f(3) == 3\n",
    "assert f(1) == 2\n",
    "assert f(-1) == 1"
   ],
   "id": "bcb2e87624f8278d",
   "outputs": [],
   "execution_count": 13
  },
  {
   "metadata": {},
   "cell_type": "markdown",
   "source": [
    "在上面的代码中，我们定义了一个函数``f``，它接受一个输入``a``，并根据``a``的值选择不同的分支函数。在函数的最后，我们返回了选择的分支函数的计算结果。在函数调用之后，我们分别传入了``3``、``1``和``-1``三个输入，可以发现函数会根据输入的值选择不同的分支函数进行计算。\n",
    "\n",
    "特别需要注意的是，条件语句并没有缓存的功能，每一次重新运行该函数都会需要重新编译一次。因此，如果需要多次调用，建议使用``brainstate.compile.jit``对函数进行即时编译。"
   ],
   "id": "18453f4c94fa5e77"
  },
  {
   "metadata": {},
   "cell_type": "markdown",
   "source": [
    "## 循环语句\n",
    "``brainstate.compile`` 支持for循环，用户可以重复执行相同的计算操作。这里我们提供了``brainstate.compile.for_loop``和``brainstate.compile.while_loop``两种循环语句的编译函数。我们依次来看一下这两种循环语句的用法。\n",
    "\n",
    "首先是``brainstate.compile.for_loop``，它的用法如下："
   ],
   "id": "1a60cfadccf30fb9"
  },
  {
   "metadata": {
    "ExecuteTime": {
     "end_time": "2024-11-10T14:22:11.037816Z",
     "start_time": "2024-11-10T14:22:10.992846Z"
    }
   },
   "cell_type": "code",
   "source": [
    "a = brainstate.ShortTermState(0.)\n",
    "b = brainstate.ShortTermState(0.)\n",
    "\n",
    "def f(i):\n",
    "    a.value += (1 + b.value)\n",
    "    return a.value\n",
    "\n",
    "n_iter = 10\n",
    "ops = jnp.arange(n_iter)\n",
    "r = brainstate.compile.for_loop(f, ops)\n",
    "\n",
    "print(a)\n",
    "print(b)"
   ],
   "id": "a8353fa19e435e1f",
   "outputs": [
    {
     "name": "stdout",
     "output_type": "stream",
     "text": [
      "ShortTermState(\n",
      "  value=Array(10., dtype=float32, weak_type=True)\n",
      ")\n",
      "ShortTermState(\n",
      "  value=0.0\n",
      ")\n"
     ]
    }
   ],
   "execution_count": 14
  },
  {
   "metadata": {},
   "cell_type": "markdown",
   "source": [
    "在上面的代码中，我们定义了一个函数``f``，它接受一个输入``i``，并在函数内部对``State``变量进行操作。在函数的最后，我们返回了``State``变量``a``的值。在函数调用之后，我们传入了一个``jnp.arange(n_iter)``的数组，这样函数会被循环调用``n_iter``次。在函数调用之后，我们打印了``State``变量``a``和``b``的值，可以发现``State``变量``a``的值是``a.value + n_iter * (1 + b.value)``。\n",
    "\n",
    "``brainstate.compile.while_loop``的用法如下："
   ],
   "id": "b2e695ea64560eaf"
  },
  {
   "metadata": {
    "ExecuteTime": {
     "end_time": "2024-11-10T14:23:18.218821Z",
     "start_time": "2024-11-10T14:23:18.163468Z"
    }
   },
   "cell_type": "code",
   "source": [
    "a = brainstate.State(1.)\n",
    "b = brainstate.State(20.)\n",
    "\n",
    "def cond(x):\n",
    "    return a.value < b.value\n",
    "\n",
    "def body(x):\n",
    "    a.value += x\n",
    "    return x\n",
    "\n",
    "r = brainstate.compile.while_loop(cond, body, 1.)\n",
    "\n",
    "print(a.value, b.value, r)"
   ],
   "id": "4e8a3c0a4c9b1eaf",
   "outputs": [
    {
     "name": "stdout",
     "output_type": "stream",
     "text": [
      "20.0 20.0 1.0\n"
     ]
    }
   ],
   "execution_count": 15
  },
  {
   "metadata": {},
   "cell_type": "markdown",
   "source": [
    "除了这两种循环语句，另一种较为常用的循环语句为``brainstate.compile.scan``，它的Python版本可以理解为：\n",
    "```python\n",
    "def scan(f, init, xs, length=None):\n",
    "  if xs is None:\n",
    "    xs = [None] * length\n",
    "  carry = init\n",
    "  ys = []\n",
    "  for x in xs:\n",
    "    carry, y = f(carry, x)\n",
    "    ys.append(y)\n",
    "  return carry, np.stack(ys)\n",
    "```\n",
    "\n",
    "与 Python 版本不同的是，`xs` 和 `ys` 都可以是任意的 `pytree` 值，因此可以同时扫描多个数组，并产生多个输出数组。`None` 实际上是一个特例，因为它代表一个空的 `pytree`。\n",
    "\n",
    "另外，与 Python 版本不同的是，`scan()` 是一个 JAX 基元，可以降低到单个 `WhileOp`。这使得它在减少 JIT 编译函数的编译时间方面非常有用，因为 `jit()` 函数中的原生 Python 循环结构会被展开，从而导致大量的 XLA 计算。\n",
    "\n",
    "最后还需要提醒的是，循环语句并没有缓存的功能，每一次重新运行该函数都会需要重新编译一次。因此，如果需要多次调用，建议使用``brainstate.compile.jit``对函数进行即时编译。"
   ],
   "id": "83b28e01ebde7e6f"
  },
  {
   "metadata": {},
   "cell_type": "markdown",
   "source": [
    "## 程序编译的嵌套使用\n",
    "``BrainState``编译的另一个特色是，它能嵌套地调用无论是``JAX``提供的函数式的编译函数还是``BrainState``内置的``State``感知的编译函数。中间步骤生成或利用的``State``变量将只会是局部变量，在整个程序中将被优化掉。这种特性使得程序内存占用更小，运行速度更快。下面是一个例子："
   ],
   "id": "abbefb1012f07f5e"
  },
  {
   "metadata": {
    "ExecuteTime": {
     "end_time": "2024-11-10T13:38:23.456783Z",
     "start_time": "2024-11-10T13:38:23.357377Z"
    }
   },
   "cell_type": "code",
   "source": [
    "b = brainstate.State(0.)\n",
    "\n",
    "\n",
    "def add(i):\n",
    "    c = brainstate.State(0.)\n",
    "\n",
    "    def cond(j):\n",
    "        return j <= i\n",
    "\n",
    "    def body(j):\n",
    "        c.value += 1.\n",
    "        return j + 1\n",
    "\n",
    "    brainstate.compile.while_loop(cond, body, 0.)\n",
    "\n",
    "    b.value += c.value\n",
    "\n",
    "\n",
    "brainstate.compile.for_loop(add, jnp.arange(10))\n",
    "\n",
    "print(b.value)"
   ],
   "id": "a095d1d09c5095ff",
   "outputs": [
    {
     "name": "stdout",
     "output_type": "stream",
     "text": [
      "55.0\n"
     ]
    }
   ],
   "execution_count": 2
  },
  {
   "metadata": {},
   "cell_type": "markdown",
   "source": "在上面的程序中，我们定义了一个函数``add``，它会在循环中调用``while_loop``。在``while_loop``中，我们定义了一个局部变量``c``，并在循环中对其进行累加。在整个程序中，``c``只是一个局部变量，在编译过程中不会被缓存。这种嵌套调用的方式使得程序更加灵活，同时也能够保证程序的性能。值得注意的是，JAX所提供的转换也可以与``BrainState``的编译函数嵌套使用，这样可以更好地发挥JAX的优化能力。由于``BrainState``的编译函数需要对``State``进行感知，这些编译函数本身存在一定的编译开销（虽然很小），比起JAX的转换函数可能会慢一些，因此在实际使用中需要根据实际情况选择合适的编译函数。",
   "id": "7cff897973c92972"
  }
 ],
 "metadata": {
  "kernelspec": {
   "display_name": "Python 3",
   "language": "python",
   "name": "python3"
  },
  "language_info": {
   "codemirror_mode": {
    "name": "ipython",
    "version": 2
   },
   "file_extension": ".py",
   "mimetype": "text/x-python",
   "name": "python",
   "nbconvert_exporter": "python",
   "pygments_lexer": "ipython2",
   "version": "2.7.6"
  }
 },
 "nbformat": 4,
 "nbformat_minor": 5
}
