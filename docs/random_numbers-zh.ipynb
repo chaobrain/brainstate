{
 "cells": [
  {
   "cell_type": "markdown",
   "id": "ccb44b69f014661a",
   "metadata": {
    "collapsed": false
   },
   "source": [
    "# 随机数生成"
   ]
  },
  {
   "cell_type": "markdown",
   "id": "0c8711bb",
   "metadata": {},
   "source": [
    "``brainstate.random`` 模块实现了伪随机数生成器（PRNGs 或 RNGs），能够从多种概率分布中抽取样本。通常，``brainstate.random`` 的随机数生成语法与 ``numpy.random`` 模块相同。"
   ]
  },
  {
   "cell_type": "code",
   "id": "291be32f",
   "metadata": {
    "ExecuteTime": {
     "end_time": "2025-10-07T12:47:23.284492Z",
     "start_time": "2025-10-07T12:47:21.347788Z"
    }
   },
   "source": [
    "import brainstate\n",
    "import jax.numpy as jnp"
   ],
   "outputs": [],
   "execution_count": 1
  },
  {
   "cell_type": "markdown",
   "id": "83abfbd5",
   "metadata": {},
   "source": [
    "## API 概览\n",
    "\n",
    "``brainstate.random`` 模块提供了广泛的函数，用于随机数生成和从概率分布中采样。以下是模块中可用函数的主要类别概览：\n",
    "\n",
    "| 类别              | API 函数                                                                 |\n",
    "|-------------------|-------------------------------------------------------------------------|\n",
    "| 随机采样          | `rand`, `randn`, `randint`, `choice`                                    |\n",
    "| 分布              | `normal`, `uniform`, `binomial`, `poisson`, `beta`, `gamma`, `exponential` |\n",
    "| 随机函数          | `shuffle`, `permutation`                                                |\n",
    "| 随机生成器        | `RandomState`                                                           |\n",
    "\n",
    "本质上，``brainstate.random`` 模块中所有可用的随机函数都来自 ``RandomState`` 类的内置函数。``RandomState`` 是一种 ``brainstate.State``，用于生成随机数。所有随机函数都利用了 ``RandomState`` 的 ``DEFAULT`` 实例。"
   ]
  },
  {
   "cell_type": "code",
   "id": "13439631",
   "metadata": {
    "ExecuteTime": {
     "end_time": "2025-10-07T12:47:23.318826Z",
     "start_time": "2025-10-07T12:47:23.309147Z"
    }
   },
   "source": "brainstate.random.DEFAULT",
   "outputs": [
    {
     "data": {
      "text/plain": [
       "RandomState([9280 5225])"
      ]
     },
     "execution_count": 2,
     "metadata": {},
     "output_type": "execute_result"
    }
   ],
   "execution_count": 2
  },
  {
   "cell_type": "markdown",
   "id": "16f9c69c",
   "metadata": {},
   "source": [
    "## 随机采样\n",
    "\n",
    "``brainstate.random`` 模块提供了多个函数，用于从不同分布生成随机样本。一些关键函数包括：\n",
    "\n",
    "- **rand**: 从均匀分布 [0, 1) 生成随机样本。\n",
    "- **randn**: 从标准正态分布生成随机样本。\n",
    "- **randint**: 从指定范围内生成随机整数。\n",
    "- **choice**: 从给定的 1-D 数组生成随机样本。\n",
    "- **shuffle**: 就地打乱给定数组的内容。"
   ]
  },
  {
   "cell_type": "code",
   "id": "5a057763",
   "metadata": {
    "ExecuteTime": {
     "end_time": "2025-10-07T12:47:23.657867Z",
     "start_time": "2025-10-07T12:47:23.354506Z"
    }
   },
   "source": [
    "# 从均匀分布[0, 1)中生成5个随机样本\n",
    "samples = brainstate.random.rand(5)\n",
    "print(\"均匀分布[0, 1)抽样:\", samples)"
   ],
   "outputs": [
    {
     "name": "stdout",
     "output_type": "stream",
     "text": [
      "均匀分布[0, 1)抽样: [0.15419054 0.07317972 0.84085286 0.6426531  0.9235401 ]\n"
     ]
    }
   ],
   "execution_count": 3
  },
  {
   "cell_type": "code",
   "id": "d1683ccd",
   "metadata": {
    "ExecuteTime": {
     "end_time": "2025-10-07T12:47:23.824955Z",
     "start_time": "2025-10-07T12:47:23.687429Z"
    }
   },
   "source": [
    "# 从标准正态分布生成5个随机样本\n",
    "normal_samples = brainstate.random.randn(5)\n",
    "print(\"标准正态分布抽样:\", normal_samples)"
   ],
   "outputs": [
    {
     "name": "stdout",
     "output_type": "stream",
     "text": [
      "标准正态分布抽样: [ 0.4462299  -0.4047457  -1.3175857  -0.33336282  1.9256743 ]\n"
     ]
    }
   ],
   "execution_count": 4
  },
  {
   "cell_type": "code",
   "id": "4d079f81",
   "metadata": {
    "ExecuteTime": {
     "end_time": "2025-10-07T12:47:24.028941Z",
     "start_time": "2025-10-07T12:47:23.831726Z"
    }
   },
   "source": [
    "# 从指定的均值和标准差生成5个随机样本\n",
    "int_samples = brainstate.random.randint(0, 10, 5)\n",
    "print(\"随机整数抽样:\", int_samples)"
   ],
   "outputs": [
    {
     "name": "stdout",
     "output_type": "stream",
     "text": [
      "随机整数抽样: [6 4 6 9 4]\n"
     ]
    }
   ],
   "execution_count": 5
  },
  {
   "cell_type": "code",
   "id": "f5a198b5",
   "metadata": {
    "ExecuteTime": {
     "end_time": "2025-10-07T12:47:24.237108Z",
     "start_time": "2025-10-07T12:47:24.036145Z"
    }
   },
   "source": [
    "# 从指定的均值和标准差生成5个随机样本\n",
    "array = [1, 2, 3, 4, 5]\n",
    "choice_sample = brainstate.random.choice(array, 3)\n",
    "print(\"给定数组抽样:\", choice_sample)"
   ],
   "outputs": [
    {
     "name": "stdout",
     "output_type": "stream",
     "text": [
      "给定数组抽样: [4 1 2]\n"
     ]
    }
   ],
   "execution_count": 6
  },
  {
   "cell_type": "code",
   "id": "e61f72bd",
   "metadata": {
    "ExecuteTime": {
     "end_time": "2025-10-07T12:47:24.391433Z",
     "start_time": "2025-10-07T12:47:24.257699Z"
    }
   },
   "source": [
    "# 从指定的均值和标准差生成5个随机样本\n",
    "array = brainstate.random.shuffle(jnp.asarray(array))\n",
    "print(\"打乱数组:\", array)"
   ],
   "outputs": [
    {
     "name": "stdout",
     "output_type": "stream",
     "text": [
      "打乱数组: [4 5 3 2 1]\n"
     ]
    }
   ],
   "execution_count": 7
  },
  {
   "cell_type": "markdown",
   "id": "c95c954b",
   "metadata": {},
   "source": [
    "## 分布\n",
    "\n",
    "``brainstate.random`` 模块提供了从多种概率分布生成随机样本的函数。一些关键函数包括：\n",
    "\n",
    "- **normal**: 从正态（高斯）分布中抽取样本。\n",
    "- **uniform**: 从均匀分布中抽取样本。\n",
    "- **binomial**: 从二项分布中抽取样本。\n",
    "- **poisson**: 从泊松分布中抽取样本。\n",
    "- **beta**: 从贝塔分布中抽取样本。\n",
    "- **gamma**: 从伽马分布中抽取样本。\n",
    "- **exponential**: 从指数分布中抽取样本。"
   ]
  },
  {
   "cell_type": "code",
   "id": "48d12a4d",
   "metadata": {
    "ExecuteTime": {
     "end_time": "2025-10-07T12:47:24.462692Z",
     "start_time": "2025-10-07T12:47:24.409713Z"
    }
   },
   "source": [
    "# 从指定的均值0和标准差1的正态分布生成5个随机样本\n",
    "normal_dist_samples = brainstate.random.normal(0, 1, 5)\n",
    "print(\"正态分布中抽样:\", normal_dist_samples)"
   ],
   "outputs": [
    {
     "name": "stdout",
     "output_type": "stream",
     "text": [
      "正态分布中抽样: [0.00957181 0.39320737 1.542941   0.5535539  0.548003  ]\n"
     ]
    }
   ],
   "execution_count": 8
  },
  {
   "cell_type": "code",
   "id": "5f7d7cc2",
   "metadata": {
    "ExecuteTime": {
     "end_time": "2025-10-07T12:47:24.565850Z",
     "start_time": "2025-10-07T12:47:24.469402Z"
    }
   },
   "source": [
    "# 从0到1的均匀分布中生成5个随机样本\n",
    "uniform_dist_samples = brainstate.random.uniform(0, 1, 5)\n",
    "print(\"均匀分布抽样:\", uniform_dist_samples)"
   ],
   "outputs": [
    {
     "name": "stdout",
     "output_type": "stream",
     "text": [
      "均匀分布抽样: [0.4152168  0.2437743  0.88642967 0.4468012  0.42726004]\n"
     ]
    }
   ],
   "execution_count": 9
  },
  {
   "cell_type": "code",
   "id": "bab82842",
   "metadata": {
    "ExecuteTime": {
     "end_time": "2025-10-07T12:47:25.130826Z",
     "start_time": "2025-10-07T12:47:24.571496Z"
    }
   },
   "source": [
    "# 从指定的n=10和p=0.5的二项分布中生成5个样本\n",
    "# Generate 5 samples from a binomial distribution with n=10 and p=0.5\n",
    "binomial_dist_samples = brainstate.random.binomial(10, 0.5, 5)\n",
    "print(\"二项分布抽样:\", binomial_dist_samples)"
   ],
   "outputs": [
    {
     "name": "stdout",
     "output_type": "stream",
     "text": [
      "二项分布抽样: [2 6 2 8 5]\n"
     ]
    }
   ],
   "execution_count": 10
  },
  {
   "cell_type": "code",
   "id": "dc6ea3eb",
   "metadata": {
    "ExecuteTime": {
     "end_time": "2025-10-07T12:47:25.501272Z",
     "start_time": "2025-10-07T12:47:25.150943Z"
    }
   },
   "source": [
    "# 从指定的lambda=3的泊松分布中生成5个样本\n",
    "poisson_dist_samples = brainstate.random.poisson(3, 5)\n",
    "print(\"泊松分布抽样:\", poisson_dist_samples)"
   ],
   "outputs": [
    {
     "name": "stdout",
     "output_type": "stream",
     "text": [
      "泊松分布抽样: [1 4 0 4 2]\n"
     ]
    }
   ],
   "execution_count": 11
  },
  {
   "cell_type": "markdown",
   "id": "756b93ca",
   "metadata": {},
   "source": [
    "## 随机种子控制\n",
    "\n",
    "``brainstate.random`` 模块提供了控制随机数生成器的种子和内部随机键的函数。一些关键函数包括：\n",
    "\n",
    "- **seed**: 设置随机数生成器的种子。\n",
    "- **set_key**: 设置随机数生成器的内部随机键。"
   ]
  },
  {
   "cell_type": "code",
   "id": "33ba4f6d",
   "metadata": {
    "ExecuteTime": {
     "end_time": "2025-10-07T12:47:25.542753Z",
     "start_time": "2025-10-07T12:47:25.507791Z"
    }
   },
   "source": [
    "# 为随机数生成器设置种子\n",
    "brainstate.random.seed(42)"
   ],
   "outputs": [],
   "execution_count": 12
  },
  {
   "cell_type": "code",
   "id": "e6280781",
   "metadata": {
    "ExecuteTime": {
     "end_time": "2025-10-07T12:47:25.551672Z",
     "start_time": "2025-10-07T12:47:25.547905Z"
    }
   },
   "source": [
    "# 获取随机数生成器的内部状态\n",
    "state = brainstate.random.get_key()\n",
    "print(\"随机数生成器的状态:\", state)"
   ],
   "outputs": [
    {
     "name": "stdout",
     "output_type": "stream",
     "text": [
      "随机数生成器的状态: [ 0 42]\n"
     ]
    }
   ],
   "execution_count": 13
  },
  {
   "cell_type": "code",
   "id": "3d5f0ad0",
   "metadata": {
    "ExecuteTime": {
     "end_time": "2025-10-07T12:47:25.560644Z",
     "start_time": "2025-10-07T12:47:25.557487Z"
    }
   },
   "source": [
    "# 为随机数生成器设置内部状态\n",
    "brainstate.random.set_key(state)"
   ],
   "outputs": [],
   "execution_count": 14
  },
  {
   "cell_type": "markdown",
   "id": "5070cc11",
   "metadata": {},
   "source": [
    "## 随机生成器\n",
    "\n",
    "``brainstate.random`` 模块提供了一个 `RandomState` 类，可用于创建具有自己内部状态的自定义随机数生成器。当你需要在程序的不同运行中以可重复的方式生成随机数时，这非常有用。\n",
    "\n",
    "我们的随机数生成器是确定性序列，可以通过指定种子整数来推导其初始状态。种子可以是任何整数值，相同的种子将始终生成相同的随机数序列。\n",
    "\n",
    "以下是如何使用 `RandomState` 类创建自定义随机数生成器的示例："
   ]
  },
  {
   "cell_type": "code",
   "id": "d6498959",
   "metadata": {
    "ExecuteTime": {
     "end_time": "2025-10-07T12:47:25.577535Z",
     "start_time": "2025-10-07T12:47:25.573082Z"
    }
   },
   "source": [
    "# 创建一个自定义的随机数生成器\n",
    "custom_rng = brainstate.random.RandomState(42)"
   ],
   "outputs": [],
   "execution_count": 15
  },
  {
   "cell_type": "code",
   "id": "e048816f",
   "metadata": {
    "ExecuteTime": {
     "end_time": "2025-10-07T12:47:25.591954Z",
     "start_time": "2025-10-07T12:47:25.585436Z"
    }
   },
   "source": [
    "# 从自定义的随机数生成器中生成随机样本\n",
    "samples = custom_rng.randn(5)\n",
    "print(\"自定义随机抽样:\", samples)"
   ],
   "outputs": [
    {
     "name": "stdout",
     "output_type": "stream",
     "text": [
      "自定义随机抽样: [ 0.60576403  0.7990441  -0.908927   -0.63525754 -1.2226585 ]\n"
     ]
    }
   ],
   "execution_count": 16
  },
  {
   "cell_type": "code",
   "id": "0fb0a1d8",
   "metadata": {
    "ExecuteTime": {
     "end_time": "2025-10-07T12:47:25.605350Z",
     "start_time": "2025-10-07T12:47:25.601633Z"
    }
   },
   "source": [
    "# 为自定义的随机数生成器设置种子\n",
    "custom_rng.seed(123)"
   ],
   "outputs": [],
   "execution_count": 17
  },
  {
   "cell_type": "code",
   "id": "9541884e",
   "metadata": {
    "ExecuteTime": {
     "end_time": "2025-10-07T12:47:25.637017Z",
     "start_time": "2025-10-07T12:47:25.629933Z"
    }
   },
   "source": [
    "# 从设定好种子的随机数生成器中生成随机样本\n",
    "samples = custom_rng.randn(5)\n",
    "print(\"设置好种子后的自定义随机抽样:\", samples)"
   ],
   "outputs": [
    {
     "name": "stdout",
     "output_type": "stream",
     "text": [
      "设置好种子后的自定义随机抽样: [-0.7828054  -1.5373377  -0.5513038  -0.02385257  1.164293  ]\n"
     ]
    }
   ],
   "execution_count": 18
  }
 ],
 "metadata": {
  "kernelspec": {
   "display_name": "brainpy-dev",
   "language": "python",
   "name": "python3"
  },
  "language_info": {
   "codemirror_mode": {
    "name": "ipython",
    "version": 3
   },
   "file_extension": ".py",
   "mimetype": "text/x-python",
   "name": "python",
   "nbconvert_exporter": "python",
   "pygments_lexer": "ipython3",
   "version": "3.10.13"
  }
 },
 "nbformat": 4,
 "nbformat_minor": 5
}
